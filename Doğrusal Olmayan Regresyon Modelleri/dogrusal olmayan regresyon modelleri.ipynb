{
 "cells": [
  {
   "cell_type": "code",
   "execution_count": 28,
   "id": "402ade23-46b4-44cc-aeee-aa182647ea81",
   "metadata": {},
   "outputs": [],
   "source": [
    "import numpy as np\n",
    "import pandas as pd\n",
    "from sklearn.model_selection import train_test_split, GridSearchCV\n",
    "from sklearn.metrics import mean_squared_error,r2_score\n",
    "import matplotlib.pyplot as plt\n",
    "from sklearn.preprocessing import scale \n",
    "from sklearn.preprocessing import StandardScaler\n",
    "from sklearn import model_selection\n",
    "from sklearn.linear_model import LinearRegression\n",
    "from sklearn.tree import DecisionTreeRegressor\n",
    "from sklearn.neighbors import KNeighborsRegressor\n",
    "from sklearn.neural_network import MLPRegressor\n",
    "from sklearn.ensemble import RandomForestRegressor\n",
    "from sklearn.ensemble import GradientBoostingRegressor\n",
    "from sklearn import neighbors \n",
    "from sklearn.svm import SVR"
   ]
  },
  {
   "cell_type": "code",
   "execution_count": 29,
   "id": "b06f96cc-423c-4e49-b78c-e68ed21db94c",
   "metadata": {},
   "outputs": [],
   "source": [
    "from warnings import filterwarnings\n",
    "filterwarnings('ignore')"
   ]
  },
  {
   "cell_type": "markdown",
   "id": "f29914ef-569a-4697-9a3a-3a9f15d960d2",
   "metadata": {},
   "source": [
    "# KNN"
   ]
  },
  {
   "cell_type": "code",
   "execution_count": 8,
   "id": "dbe02636-d033-42e0-bd1f-a2b959988352",
   "metadata": {},
   "outputs": [],
   "source": [
    "df = pd.read_csv(\"Hitters.csv\")\n",
    "df = df.dropna()\n",
    "dms = pd.get_dummies(df[['League','Division','NewLeague']])\n",
    "y = df[\"Salary\"]\n",
    "X_ = df.drop(['Salary','League','Division','NewLeague'],axis=1).astype('float64')\n",
    "X = pd.concat([X_,dms[['League_N','Division_W','NewLeague_N']]],axis=1)\n",
    "X_train,X_test,y_train,y_test = train_test_split(X,\n",
    "                                                  y,\n",
    "                                                  test_size=0.25,\n",
    "                                                  random_state=42)"
   ]
  },
  {
   "cell_type": "code",
   "execution_count": 9,
   "id": "aff90f8f-828e-41a4-bd99-5bba6ac658cb",
   "metadata": {},
   "outputs": [
    {
     "data": {
      "text/html": [
       "<div>\n",
       "<style scoped>\n",
       "    .dataframe tbody tr th:only-of-type {\n",
       "        vertical-align: middle;\n",
       "    }\n",
       "\n",
       "    .dataframe tbody tr th {\n",
       "        vertical-align: top;\n",
       "    }\n",
       "\n",
       "    .dataframe thead th {\n",
       "        text-align: right;\n",
       "    }\n",
       "</style>\n",
       "<table border=\"1\" class=\"dataframe\">\n",
       "  <thead>\n",
       "    <tr style=\"text-align: right;\">\n",
       "      <th></th>\n",
       "      <th>AtBat</th>\n",
       "      <th>Hits</th>\n",
       "      <th>HmRun</th>\n",
       "      <th>Runs</th>\n",
       "      <th>RBI</th>\n",
       "      <th>Walks</th>\n",
       "      <th>Years</th>\n",
       "      <th>CAtBat</th>\n",
       "      <th>CHits</th>\n",
       "      <th>CHmRun</th>\n",
       "      <th>CRuns</th>\n",
       "      <th>CRBI</th>\n",
       "      <th>CWalks</th>\n",
       "      <th>PutOuts</th>\n",
       "      <th>Assists</th>\n",
       "      <th>Errors</th>\n",
       "      <th>League_N</th>\n",
       "      <th>Division_W</th>\n",
       "      <th>NewLeague_N</th>\n",
       "    </tr>\n",
       "  </thead>\n",
       "  <tbody>\n",
       "    <tr>\n",
       "      <th>183</th>\n",
       "      <td>328.0</td>\n",
       "      <td>91.0</td>\n",
       "      <td>12.0</td>\n",
       "      <td>51.0</td>\n",
       "      <td>43.0</td>\n",
       "      <td>33.0</td>\n",
       "      <td>2.0</td>\n",
       "      <td>342.0</td>\n",
       "      <td>94.0</td>\n",
       "      <td>12.0</td>\n",
       "      <td>51.0</td>\n",
       "      <td>44.0</td>\n",
       "      <td>33.0</td>\n",
       "      <td>145.0</td>\n",
       "      <td>59.0</td>\n",
       "      <td>8.0</td>\n",
       "      <td>1</td>\n",
       "      <td>0</td>\n",
       "      <td>1</td>\n",
       "    </tr>\n",
       "    <tr>\n",
       "      <th>229</th>\n",
       "      <td>514.0</td>\n",
       "      <td>144.0</td>\n",
       "      <td>0.0</td>\n",
       "      <td>67.0</td>\n",
       "      <td>54.0</td>\n",
       "      <td>79.0</td>\n",
       "      <td>9.0</td>\n",
       "      <td>4739.0</td>\n",
       "      <td>1169.0</td>\n",
       "      <td>13.0</td>\n",
       "      <td>583.0</td>\n",
       "      <td>374.0</td>\n",
       "      <td>528.0</td>\n",
       "      <td>229.0</td>\n",
       "      <td>453.0</td>\n",
       "      <td>15.0</td>\n",
       "      <td>1</td>\n",
       "      <td>0</td>\n",
       "      <td>1</td>\n",
       "    </tr>\n",
       "    <tr>\n",
       "      <th>286</th>\n",
       "      <td>593.0</td>\n",
       "      <td>152.0</td>\n",
       "      <td>23.0</td>\n",
       "      <td>69.0</td>\n",
       "      <td>75.0</td>\n",
       "      <td>53.0</td>\n",
       "      <td>6.0</td>\n",
       "      <td>2765.0</td>\n",
       "      <td>686.0</td>\n",
       "      <td>133.0</td>\n",
       "      <td>369.0</td>\n",
       "      <td>384.0</td>\n",
       "      <td>321.0</td>\n",
       "      <td>315.0</td>\n",
       "      <td>10.0</td>\n",
       "      <td>6.0</td>\n",
       "      <td>0</td>\n",
       "      <td>1</td>\n",
       "      <td>0</td>\n",
       "    </tr>\n",
       "    <tr>\n",
       "      <th>102</th>\n",
       "      <td>233.0</td>\n",
       "      <td>49.0</td>\n",
       "      <td>2.0</td>\n",
       "      <td>41.0</td>\n",
       "      <td>23.0</td>\n",
       "      <td>18.0</td>\n",
       "      <td>8.0</td>\n",
       "      <td>1350.0</td>\n",
       "      <td>336.0</td>\n",
       "      <td>7.0</td>\n",
       "      <td>166.0</td>\n",
       "      <td>122.0</td>\n",
       "      <td>106.0</td>\n",
       "      <td>102.0</td>\n",
       "      <td>132.0</td>\n",
       "      <td>10.0</td>\n",
       "      <td>0</td>\n",
       "      <td>0</td>\n",
       "      <td>0</td>\n",
       "    </tr>\n",
       "    <tr>\n",
       "      <th>153</th>\n",
       "      <td>341.0</td>\n",
       "      <td>95.0</td>\n",
       "      <td>6.0</td>\n",
       "      <td>48.0</td>\n",
       "      <td>42.0</td>\n",
       "      <td>20.0</td>\n",
       "      <td>10.0</td>\n",
       "      <td>2964.0</td>\n",
       "      <td>808.0</td>\n",
       "      <td>81.0</td>\n",
       "      <td>379.0</td>\n",
       "      <td>428.0</td>\n",
       "      <td>221.0</td>\n",
       "      <td>158.0</td>\n",
       "      <td>4.0</td>\n",
       "      <td>5.0</td>\n",
       "      <td>1</td>\n",
       "      <td>1</td>\n",
       "      <td>1</td>\n",
       "    </tr>\n",
       "  </tbody>\n",
       "</table>\n",
       "</div>"
      ],
      "text/plain": [
       "     AtBat   Hits  HmRun  Runs   RBI  Walks  Years  CAtBat   CHits  CHmRun  \\\n",
       "183  328.0   91.0   12.0  51.0  43.0   33.0    2.0   342.0    94.0    12.0   \n",
       "229  514.0  144.0    0.0  67.0  54.0   79.0    9.0  4739.0  1169.0    13.0   \n",
       "286  593.0  152.0   23.0  69.0  75.0   53.0    6.0  2765.0   686.0   133.0   \n",
       "102  233.0   49.0    2.0  41.0  23.0   18.0    8.0  1350.0   336.0     7.0   \n",
       "153  341.0   95.0    6.0  48.0  42.0   20.0   10.0  2964.0   808.0    81.0   \n",
       "\n",
       "     CRuns   CRBI  CWalks  PutOuts  Assists  Errors  League_N  Division_W  \\\n",
       "183   51.0   44.0    33.0    145.0     59.0     8.0         1           0   \n",
       "229  583.0  374.0   528.0    229.0    453.0    15.0         1           0   \n",
       "286  369.0  384.0   321.0    315.0     10.0     6.0         0           1   \n",
       "102  166.0  122.0   106.0    102.0    132.0    10.0         0           0   \n",
       "153  379.0  428.0   221.0    158.0      4.0     5.0         1           1   \n",
       "\n",
       "     NewLeague_N  \n",
       "183            1  \n",
       "229            1  \n",
       "286            0  \n",
       "102            0  \n",
       "153            1  "
      ]
     },
     "execution_count": 9,
     "metadata": {},
     "output_type": "execute_result"
    }
   ],
   "source": [
    "X_train.head()"
   ]
  },
  {
   "cell_type": "markdown",
   "id": "620f0ce0-2aba-4bc2-8883-dc0bd3ebf508",
   "metadata": {},
   "source": [
    "## Model"
   ]
  },
  {
   "cell_type": "code",
   "execution_count": 11,
   "id": "2257c718-8891-4ab2-ba53-815b55350dc7",
   "metadata": {},
   "outputs": [],
   "source": [
    "knn_model = KNeighborsRegressor().fit(X_train, y_train)"
   ]
  },
  {
   "cell_type": "code",
   "execution_count": 12,
   "id": "2fab51d7-bdb6-4af6-a9c7-6e095e5c963e",
   "metadata": {},
   "outputs": [
    {
     "data": {
      "text/plain": [
       "KNeighborsRegressor()"
      ]
     },
     "execution_count": 12,
     "metadata": {},
     "output_type": "execute_result"
    }
   ],
   "source": [
    "knn_model"
   ]
  },
  {
   "cell_type": "code",
   "execution_count": 13,
   "id": "57f21562-37b7-439b-9f15-21272b11269a",
   "metadata": {},
   "outputs": [
    {
     "data": {
      "text/plain": [
       "5"
      ]
     },
     "execution_count": 13,
     "metadata": {},
     "output_type": "execute_result"
    }
   ],
   "source": [
    "knn_model.n_neighbors"
   ]
  },
  {
   "cell_type": "code",
   "execution_count": 14,
   "id": "2a1c8ca4-9eed-43f6-bd12-ad8b2762d51e",
   "metadata": {},
   "outputs": [
    {
     "data": {
      "text/plain": [
       "'minkowski'"
      ]
     },
     "execution_count": 14,
     "metadata": {},
     "output_type": "execute_result"
    }
   ],
   "source": [
    "knn_model.metric"
   ]
  },
  {
   "cell_type": "markdown",
   "id": "48601918-d4ab-48dd-8228-5af8d2308e1d",
   "metadata": {},
   "source": [
    "## Tahmin"
   ]
  },
  {
   "cell_type": "code",
   "execution_count": 15,
   "id": "493f35b9-5e7c-4d26-b6d0-997d64656613",
   "metadata": {},
   "outputs": [
    {
     "data": {
      "text/plain": [
       "array([ 510.3334,  808.3334,  772.5   ,  125.5   , 1005.    ])"
      ]
     },
     "execution_count": 15,
     "metadata": {},
     "output_type": "execute_result"
    }
   ],
   "source": [
    "knn_model.predict(X_test)[0:5]"
   ]
  },
  {
   "cell_type": "code",
   "execution_count": 16,
   "id": "d7a0fb03-5d94-4935-8e7e-14a25a5b7309",
   "metadata": {},
   "outputs": [],
   "source": [
    "y_pred = knn_model.predict(X_test)"
   ]
  },
  {
   "cell_type": "code",
   "execution_count": 17,
   "id": "49ca45c6-2e83-49f1-a1a4-847a871cb5bc",
   "metadata": {
    "collapsed": true,
    "jupyter": {
     "outputs_hidden": true
    },
    "tags": []
   },
   "outputs": [
    {
     "data": {
      "text/plain": [
       "array([ 510.3334,  808.3334,  772.5   ,  125.5   , 1005.    ,  325.5   ,\n",
       "        216.5   ,  101.5   ,  982.    ,  886.6666,  590.    ,  901.6666,\n",
       "        831.6666,  157.5   ,  393.    , 1005.    ,  735.5   ,   97.    ,\n",
       "        884.4   ,  302.    ,  450.    ,  817.6666,  832.6666,  392.3334,\n",
       "        528.    ,   81.6   ,  735.    ,  470.    ,  722.5   ,  101.    ,\n",
       "         90.5   ,   74.6   ,  748.3334,  217.    ,  280.5334, 1044.5   ,\n",
       "        955.    ,  232.    ,   78.6   ,  529.    ,   77.6   ,  106.5   ,\n",
       "        516.6666,  593.6666, 1005.    ,  649.1666,  715.    ,  101.5   ,\n",
       "        134.5   ,  810.    ,  743.    ,  521.3334,  664.3334,  195.    ,\n",
       "        102.4   ,  728.5   ,  488.    ,  962.5   ,  230.8334, 1040.    ,\n",
       "        885.    ,  542.    ,  720.4   ,  571.    ,  735.    ,   81.6   ])"
      ]
     },
     "execution_count": 17,
     "metadata": {},
     "output_type": "execute_result"
    }
   ],
   "source": [
    "y_pred"
   ]
  },
  {
   "cell_type": "code",
   "execution_count": 18,
   "id": "70cf6ada-e54f-4704-a99f-ec52c1fe460d",
   "metadata": {},
   "outputs": [
    {
     "data": {
      "text/plain": [
       "426.6570764525201"
      ]
     },
     "execution_count": 18,
     "metadata": {},
     "output_type": "execute_result"
    }
   ],
   "source": [
    "np.sqrt(mean_squared_error(y_test,y_pred))"
   ]
  },
  {
   "cell_type": "markdown",
   "id": "fbebaf95-0d57-4a5b-bf86-71b31920998c",
   "metadata": {},
   "source": [
    "## Model Tuning"
   ]
  },
  {
   "cell_type": "code",
   "execution_count": 24,
   "id": "360f5ce1-dcc0-429a-8d84-7b33f93216ad",
   "metadata": {},
   "outputs": [],
   "source": [
    "# el yordamıyla"
   ]
  },
  {
   "cell_type": "code",
   "execution_count": 23,
   "id": "dd46eda5-5709-4b56-9909-bfba1292d782",
   "metadata": {},
   "outputs": [
    {
     "name": "stdout",
     "output_type": "stream",
     "text": [
      "k= 1 için RMSE değeri 455.03925390751965\n",
      "k= 2 için RMSE değeri 415.99629571490965\n",
      "k= 3 için RMSE değeri 420.6765370082348\n",
      "k= 4 için RMSE değeri 428.8564674588792\n",
      "k= 5 için RMSE değeri 426.6570764525201\n",
      "k= 6 için RMSE değeri 423.5071669008732\n",
      "k= 7 için RMSE değeri 414.9361222421057\n",
      "k= 8 için RMSE değeri 413.7094731463598\n",
      "k= 9 için RMSE değeri 417.84419990871265\n",
      "k= 10 için RMSE değeri 421.6252180741266\n"
     ]
    }
   ],
   "source": [
    "RMSE = []\n",
    "\n",
    "for k in range(10):\n",
    "    k = k+1\n",
    "    knn_model = KNeighborsRegressor(n_neighbors = k).fit(X_train, y_train)\n",
    "    y_pred = knn_model.predict(X_test)\n",
    "    rmse = np.sqrt(mean_squared_error(y_test,y_pred))\n",
    "    RMSE.append(rmse)\n",
    "    print(\"k=\",k,\"için RMSE değeri\",rmse)"
   ]
  },
  {
   "cell_type": "code",
   "execution_count": 25,
   "id": "0ef76dbd-ea2b-4a74-ad89-803bf21db3fa",
   "metadata": {},
   "outputs": [],
   "source": [
    "#GridSearchCV"
   ]
  },
  {
   "cell_type": "code",
   "execution_count": 26,
   "id": "673d0e2f-4ce0-46f5-bc5b-e5c47c51b415",
   "metadata": {},
   "outputs": [],
   "source": [
    "knn_params = {\"n_neighbors\":np.arange(1,30,1)}"
   ]
  },
  {
   "cell_type": "code",
   "execution_count": 27,
   "id": "ebe128c7-76a2-4ac1-bed3-18adb234a33e",
   "metadata": {},
   "outputs": [],
   "source": [
    "knn = KNeighborsRegressor()"
   ]
  },
  {
   "cell_type": "code",
   "execution_count": 28,
   "id": "2e1572a7-5606-4b79-a9a6-53f125d0ad29",
   "metadata": {},
   "outputs": [],
   "source": [
    "knn_cv_model = GridSearchCV(knn,knn_params,cv=10).fit(X_train,y_train)"
   ]
  },
  {
   "cell_type": "code",
   "execution_count": 31,
   "id": "cc242cc0-f4a2-4589-bd1d-192b5d04f489",
   "metadata": {},
   "outputs": [
    {
     "data": {
      "text/plain": [
       "{'n_neighbors': 8}"
      ]
     },
     "execution_count": 31,
     "metadata": {},
     "output_type": "execute_result"
    }
   ],
   "source": [
    "knn_cv_model.best_params_ #optimum parametre"
   ]
  },
  {
   "cell_type": "code",
   "execution_count": 32,
   "id": "5d2b9f0f-1aaa-4bd9-a347-1ad9e61f94c6",
   "metadata": {},
   "outputs": [],
   "source": [
    "#final modeli"
   ]
  },
  {
   "cell_type": "code",
   "execution_count": 33,
   "id": "d683a45a-1d21-48f7-ab5c-7e89e5bf30e4",
   "metadata": {},
   "outputs": [],
   "source": [
    "knn_tuned = KNeighborsRegressor(n_neighbors = knn_cv_model.best_params_[\"n_neighbors\"]).fit(X_train,y_train)"
   ]
  },
  {
   "cell_type": "code",
   "execution_count": 34,
   "id": "fa7dc6b1-7c02-4a76-8a57-e6ab12e7fa06",
   "metadata": {},
   "outputs": [],
   "source": [
    "y_pred = knn_tuned.predict(X_test)"
   ]
  },
  {
   "cell_type": "code",
   "execution_count": 35,
   "id": "92f40f53-4bff-461d-a3e4-67029109d89c",
   "metadata": {},
   "outputs": [
    {
     "data": {
      "text/plain": [
       "413.7094731463598"
      ]
     },
     "execution_count": 35,
     "metadata": {},
     "output_type": "execute_result"
    }
   ],
   "source": [
    "np.sqrt(mean_squared_error(y_test,y_pred))"
   ]
  },
  {
   "cell_type": "markdown",
   "id": "49231f49-7faf-4013-aebc-3b99336b8bfb",
   "metadata": {},
   "source": [
    "# Destek Vektör Regresyonu (Support Vector Regression)"
   ]
  },
  {
   "cell_type": "code",
   "execution_count": 3,
   "id": "1931a4f5-e4f5-4fe5-b56c-addcf85fa9d4",
   "metadata": {},
   "outputs": [],
   "source": [
    "df = pd.read_csv(\"Hitters.csv\")\n",
    "df = df.dropna()\n",
    "dms = pd.get_dummies(df[['League','Division','NewLeague']])\n",
    "y = df[\"Salary\"]\n",
    "X_ = df.drop(['Salary','League','Division','NewLeague'],axis=1).astype('float64')\n",
    "X = pd.concat([X_,dms[['League_N','Division_W','NewLeague_N']]],axis=1)\n",
    "X_train,X_test,y_train,y_test = train_test_split(X,\n",
    "                                                  y,\n",
    "                                                  test_size=0.25,\n",
    "                                                  random_state=42)"
   ]
  },
  {
   "cell_type": "markdown",
   "id": "9656a340-14bd-460a-9392-f3a8c4fe28af",
   "metadata": {},
   "source": [
    "### Model & Tahmin"
   ]
  },
  {
   "cell_type": "code",
   "execution_count": 4,
   "id": "0ff70216-bcb1-45ea-995a-ab244ac9ca72",
   "metadata": {},
   "outputs": [
    {
     "name": "stderr",
     "output_type": "stream",
     "text": [
      "C:\\Users\\Lenovo\\anaconda3\\lib\\site-packages\\sklearn\\utils\\validation.py:70: FutureWarning: Pass kernel=linear as keyword args. From version 1.0 (renaming of 0.25) passing these as positional arguments will result in an error\n",
      "  warnings.warn(f\"Pass {args_msg} as keyword args. From version \"\n"
     ]
    }
   ],
   "source": [
    "svr_model = SVR(\"linear\").fit(X_train,y_train)"
   ]
  },
  {
   "cell_type": "code",
   "execution_count": 5,
   "id": "145b4578-2279-41d2-b2a8-8566806a8bfe",
   "metadata": {},
   "outputs": [
    {
     "data": {
      "text/plain": [
       "SVR(kernel='linear')"
      ]
     },
     "execution_count": 5,
     "metadata": {},
     "output_type": "execute_result"
    }
   ],
   "source": [
    "svr_model"
   ]
  },
  {
   "cell_type": "code",
   "execution_count": 7,
   "id": "ae4e9c46-a95e-4fbb-9b2e-8bd6f0eb0ba0",
   "metadata": {},
   "outputs": [
    {
     "data": {
      "text/plain": [
       "array([219.32622627, 702.43039317, 623.20559641, 153.77538484,\n",
       "       463.15191157])"
      ]
     },
     "execution_count": 7,
     "metadata": {},
     "output_type": "execute_result"
    }
   ],
   "source": [
    "svr_model.predict(X_train)[0:5]"
   ]
  },
  {
   "cell_type": "code",
   "execution_count": 8,
   "id": "cab36fe4-6e31-4a3e-b66d-123e18c15cd4",
   "metadata": {},
   "outputs": [
    {
     "data": {
      "text/plain": [
       "array([679.14754919, 633.72883529, 925.68639938, 270.28464317,\n",
       "       530.26659421])"
      ]
     },
     "execution_count": 8,
     "metadata": {},
     "output_type": "execute_result"
    }
   ],
   "source": [
    "svr_model.predict(X_test)[0:5]"
   ]
  },
  {
   "cell_type": "code",
   "execution_count": 11,
   "id": "a61cc0c1-ab0d-4ea5-b3f9-a1ec3014ebe6",
   "metadata": {},
   "outputs": [
    {
     "data": {
      "text/plain": [
       "array([-80.15196063])"
      ]
     },
     "execution_count": 11,
     "metadata": {},
     "output_type": "execute_result"
    }
   ],
   "source": [
    "svr_model.intercept_"
   ]
  },
  {
   "cell_type": "code",
   "execution_count": 12,
   "id": "3709981d-7935-482b-ab34-c5cbff23c14d",
   "metadata": {},
   "outputs": [
    {
     "data": {
      "text/plain": [
       "array([[ -1.2183904 ,   6.09602978,  -3.67574533,   0.14217072,\n",
       "          0.51435925,   1.28388992,  12.55922527,  -0.08693754,\n",
       "          0.46597185,   2.98259931,   0.52944513,  -0.79820793,\n",
       "         -0.16015531,   0.30872795,   0.28842348,  -1.79560066,\n",
       "          6.41868986, -10.74313785,   1.33374319]])"
      ]
     },
     "execution_count": 12,
     "metadata": {},
     "output_type": "execute_result"
    }
   ],
   "source": [
    "svr_model.coef_"
   ]
  },
  {
   "cell_type": "code",
   "execution_count": 14,
   "id": "67152ec6-0ab0-42f7-96e4-adf5d1f69345",
   "metadata": {},
   "outputs": [
    {
     "data": {
      "text/plain": [
       "370.0408415795005"
      ]
     },
     "execution_count": 14,
     "metadata": {},
     "output_type": "execute_result"
    }
   ],
   "source": [
    "#ilkel test hatası\n",
    "y_pred = svr_model.predict(X_test)\n",
    "np.sqrt(mean_squared_error(y_test,y_pred))"
   ]
  },
  {
   "cell_type": "markdown",
   "id": "191c770d-7e92-47e4-9667-40f9cdfdd4e0",
   "metadata": {},
   "source": [
    "### Model Tuning"
   ]
  },
  {
   "cell_type": "code",
   "execution_count": 15,
   "id": "287251af-a226-4675-bd21-e0104a4f7e99",
   "metadata": {},
   "outputs": [
    {
     "name": "stderr",
     "output_type": "stream",
     "text": [
      "C:\\Users\\Lenovo\\anaconda3\\lib\\site-packages\\sklearn\\utils\\validation.py:70: FutureWarning: Pass kernel=linear as keyword args. From version 1.0 (renaming of 0.25) passing these as positional arguments will result in an error\n",
      "  warnings.warn(f\"Pass {args_msg} as keyword args. From version \"\n"
     ]
    }
   ],
   "source": [
    "svr_model = SVR(\"linear\")"
   ]
  },
  {
   "cell_type": "code",
   "execution_count": 15,
   "id": "19094d15-73cb-497b-bdf6-8b8ded8f1027",
   "metadata": {},
   "outputs": [
    {
     "name": "stderr",
     "output_type": "stream",
     "text": [
      "C:\\Users\\Lenovo\\anaconda3\\lib\\site-packages\\sklearn\\utils\\validation.py:70: FutureWarning: Pass kernel=linear as keyword args. From version 1.0 (renaming of 0.25) passing these as positional arguments will result in an error\n",
      "  warnings.warn(f\"Pass {args_msg} as keyword args. From version \"\n"
     ]
    }
   ],
   "source": [
    "svr_model = SVR(\"linear\")"
   ]
  },
  {
   "cell_type": "code",
   "execution_count": 16,
   "id": "3ed3f0b4-48e0-4077-b73f-98ef9a6d2e5d",
   "metadata": {},
   "outputs": [],
   "source": [
    "svr_params = {\"C\":[0.1,0.5,1,3]}"
   ]
  },
  {
   "cell_type": "code",
   "execution_count": 18,
   "id": "a8c39a04-4e61-4862-af31-2a5cb777a6e9",
   "metadata": {},
   "outputs": [],
   "source": [
    "svr_cv_model = GridSearchCV(svr_model,svr_params,cv=5).fit(X_train,y_train)"
   ]
  },
  {
   "cell_type": "code",
   "execution_count": 21,
   "id": "8cd619c2-6f74-45e5-99b9-628ff2581366",
   "metadata": {},
   "outputs": [
    {
     "data": {
      "text/plain": [
       "{'C': 0.5}"
      ]
     },
     "execution_count": 21,
     "metadata": {},
     "output_type": "execute_result"
    }
   ],
   "source": [
    "svr_cv_model.best_params_"
   ]
  },
  {
   "cell_type": "code",
   "execution_count": 23,
   "id": "518699a9-90d0-4532-9396-b1e3f51d77a0",
   "metadata": {},
   "outputs": [
    {
     "name": "stderr",
     "output_type": "stream",
     "text": [
      "C:\\Users\\Lenovo\\anaconda3\\lib\\site-packages\\sklearn\\utils\\validation.py:70: FutureWarning: Pass kernel=linear as keyword args. From version 1.0 (renaming of 0.25) passing these as positional arguments will result in an error\n",
      "  warnings.warn(f\"Pass {args_msg} as keyword args. From version \"\n"
     ]
    }
   ],
   "source": [
    "#final modeli \n",
    "svr_tuned = SVR(\"linear\", C = 0.5).fit(X_train,y_train)"
   ]
  },
  {
   "cell_type": "code",
   "execution_count": 24,
   "id": "c205592e-6aaf-4d9e-ab87-9078a7d68a2e",
   "metadata": {},
   "outputs": [],
   "source": [
    "y_pred=svr_tuned.predict(X_test)"
   ]
  },
  {
   "cell_type": "code",
   "execution_count": 25,
   "id": "3ade959b-67fa-40ea-8bc3-5862db7ed37d",
   "metadata": {},
   "outputs": [
    {
     "data": {
      "text/plain": [
       "367.98747616655294"
      ]
     },
     "execution_count": 25,
     "metadata": {},
     "output_type": "execute_result"
    }
   ],
   "source": [
    "np.sqrt(mean_squared_error(y_test,y_pred))"
   ]
  },
  {
   "cell_type": "markdown",
   "id": "d7506f68-d9ab-4881-9f88-86b9c7afed5b",
   "metadata": {},
   "source": [
    "# Yapay Sinir Ağları"
   ]
  },
  {
   "cell_type": "code",
   "execution_count": 333,
   "id": "c3e27e65-6d6e-43f8-b9d3-639f3dfa8f34",
   "metadata": {},
   "outputs": [],
   "source": [
    "df = pd.read_csv(\"Hitters.csv\")\n",
    "df = df.dropna()\n",
    "dms = pd.get_dummies(df[['League','Division','NewLeague']])\n",
    "y = df[\"Salary\"]\n",
    "X_ = df.drop(['Salary','League','Division','NewLeague'],axis=1).astype('float64')\n",
    "X = pd.concat([X_,dms[['League_N','Division_W','NewLeague_N']]],axis=1)\n",
    "X_train,X_test,y_train,y_test = train_test_split(X,\n",
    "                                                  y,\n",
    "                                                  test_size=0.25,\n",
    "                                                  random_state=42)"
   ]
  },
  {
   "cell_type": "markdown",
   "id": "98f58b54-5746-400a-8d2a-0c8c2ebb7b15",
   "metadata": {},
   "source": [
    "### Model & Tahmin"
   ]
  },
  {
   "cell_type": "code",
   "execution_count": 334,
   "id": "2f90a9f8-23d4-43a1-a786-e13e915a0cfc",
   "metadata": {},
   "outputs": [],
   "source": [
    "scaler = StandardScaler()"
   ]
  },
  {
   "cell_type": "code",
   "execution_count": 335,
   "id": "b549953d-1e79-4dfe-abb5-9dfd894d657c",
   "metadata": {},
   "outputs": [],
   "source": [
    "scaler.fit(X_train)\n",
    "X_train_scaled = scaler.transform(X_train)"
   ]
  },
  {
   "cell_type": "code",
   "execution_count": 336,
   "id": "5370f215-0684-47a4-933b-09092d20dd2b",
   "metadata": {},
   "outputs": [],
   "source": [
    "scaler.fit(X_test)\n",
    "y_test_scaled = scaler.transform(X_test)"
   ]
  },
  {
   "cell_type": "code",
   "execution_count": 337,
   "id": "210a0746-d61e-4945-a932-c10353dcc5db",
   "metadata": {},
   "outputs": [],
   "source": [
    "mlp_model = MLPRegressor().fit(X_train_scaled,y_train)"
   ]
  },
  {
   "cell_type": "code",
   "execution_count": 338,
   "id": "fa98e3ab-0731-4594-9267-0a90d52964a4",
   "metadata": {},
   "outputs": [
    {
     "data": {
      "text/plain": [
       "MLPRegressor()"
      ]
     },
     "execution_count": 338,
     "metadata": {},
     "output_type": "execute_result"
    }
   ],
   "source": [
    "mlp_model"
   ]
  },
  {
   "cell_type": "code",
   "execution_count": 339,
   "id": "fec42d8e-a4cf-4d0e-a02f-e4b5f7595c33",
   "metadata": {},
   "outputs": [],
   "source": [
    "#ilkel test hatası\n",
    "y_pred = mlp_model.predict(X_test_scaled)"
   ]
  },
  {
   "cell_type": "code",
   "execution_count": 340,
   "id": "8dc0f56b-06cf-47d0-9403-556574a46deb",
   "metadata": {},
   "outputs": [
    {
     "data": {
      "text/plain": [
       "660.3779954800793"
      ]
     },
     "execution_count": 340,
     "metadata": {},
     "output_type": "execute_result"
    }
   ],
   "source": [
    "np.sqrt(mean_squared_error(y_test,y_pred))"
   ]
  },
  {
   "cell_type": "markdown",
   "id": "31c9270b-368c-40ae-a9a6-88621814786e",
   "metadata": {},
   "source": [
    "### Model Tuning"
   ]
  },
  {
   "cell_type": "code",
   "execution_count": 342,
   "id": "48179cbf-1744-4c31-aaae-38f989884b49",
   "metadata": {},
   "outputs": [],
   "source": [
    "mlp_params = {\"alpha\":[0.1,0.01,0.02,0.001,0.0001],\n",
    "             \"hidden_layer_sizes\": [(10,12), (5,5,10), (25,30,40)]\n",
    "             }"
   ]
  },
  {
   "cell_type": "code",
   "execution_count": 343,
   "id": "7a73aa11-e64c-4a1a-954b-ba04b0be7799",
   "metadata": {},
   "outputs": [
    {
     "name": "stdout",
     "output_type": "stream",
     "text": [
      "Fitting 10 folds for each of 15 candidates, totalling 150 fits\n"
     ]
    }
   ],
   "source": [
    "mlp_cv_model = GridSearchCV(mlp_model,mlp_params,cv=10,verbose=2,n_jobs=-1).fit(X_train_scaled,y_train)"
   ]
  },
  {
   "cell_type": "code",
   "execution_count": 344,
   "id": "f38add32-2c11-4857-9263-5a54bbf6105c",
   "metadata": {},
   "outputs": [
    {
     "data": {
      "text/plain": [
       "{'alpha': 0.0001, 'hidden_layer_sizes': (25, 30, 40)}"
      ]
     },
     "execution_count": 344,
     "metadata": {},
     "output_type": "execute_result"
    }
   ],
   "source": [
    "mlp_cv_model.best_params_"
   ]
  },
  {
   "cell_type": "code",
   "execution_count": 69,
   "id": "9d0c4a3a-7562-4ef6-be4b-8919a5836e5b",
   "metadata": {},
   "outputs": [],
   "source": [
    "#final modeli "
   ]
  },
  {
   "cell_type": "code",
   "execution_count": 73,
   "id": "44941e07-c5fd-44f8-8eff-81c2da2f6ee6",
   "metadata": {},
   "outputs": [],
   "source": [
    "mlp_tuned = MLPRegressor(alpha=0.1,hidden_layer_sizes=(100,100)).fit(X_train_scaled,y_train)"
   ]
  },
  {
   "cell_type": "code",
   "execution_count": 74,
   "id": "f67f509a-5c0f-49ce-914d-0b44c50733aa",
   "metadata": {},
   "outputs": [],
   "source": [
    "y_pred = mlp_tuned.predict(X_test_scaled)"
   ]
  },
  {
   "cell_type": "code",
   "execution_count": 78,
   "id": "5a62a40d-26c2-406b-8373-de153b58bf9f",
   "metadata": {},
   "outputs": [
    {
     "data": {
      "text/plain": [
       "360.5819837900549"
      ]
     },
     "execution_count": 78,
     "metadata": {},
     "output_type": "execute_result"
    }
   ],
   "source": [
    "np.sqrt(mean_squared_error(y_test,y_pred))"
   ]
  },
  {
   "cell_type": "markdown",
   "id": "5b5be350-5c7f-4e76-a79d-cb99042b3db1",
   "metadata": {},
   "source": [
    "# Classification and Regression Tree (CART)"
   ]
  },
  {
   "cell_type": "code",
   "execution_count": 136,
   "id": "3996da69-e6c4-4d1f-8cc7-2ae46b7056cd",
   "metadata": {},
   "outputs": [],
   "source": [
    "df = pd.read_csv(\"Hitters.csv\")\n",
    "df = df.dropna()\n",
    "dms = pd.get_dummies(df[['League','Division','NewLeague']])\n",
    "y = df[\"Salary\"]\n",
    "X_ = df.drop(['Salary','League','Division','NewLeague'],axis=1).astype('float64')\n",
    "X = pd.concat([X_,dms[['League_N','Division_W','NewLeague_N']]],axis=1)\n",
    "X_train,X_test,y_train,y_test = train_test_split(X,\n",
    "                                                  y,\n",
    "                                                  test_size=0.25,\n",
    "                                                  random_state=42)"
   ]
  },
  {
   "cell_type": "code",
   "execution_count": 137,
   "id": "e06b6808-1dfa-4642-ab15-a448a587d3e3",
   "metadata": {},
   "outputs": [],
   "source": [
    "X_train = pd.DataFrame(X_train[\"Hits\"])\n",
    "X_test = pd.DataFrame(X_test[\"Hits\"])"
   ]
  },
  {
   "cell_type": "markdown",
   "id": "2ad4fe18-af34-4b7c-93df-8061575e72f1",
   "metadata": {},
   "source": [
    "### Model & Tahmin"
   ]
  },
  {
   "cell_type": "code",
   "execution_count": 138,
   "id": "694fb11a-da60-4702-89f7-5e83a0cd1173",
   "metadata": {},
   "outputs": [],
   "source": [
    "cart_model = DecisionTreeRegressor(max_leaf_nodes= 10)    #max_leaf_nodes dal sayısını "
   ]
  },
  {
   "cell_type": "code",
   "execution_count": 139,
   "id": "454a3b05-889f-4373-b20e-4c7faf29e63e",
   "metadata": {},
   "outputs": [
    {
     "data": {
      "text/plain": [
       "DecisionTreeRegressor(max_leaf_nodes=10)"
      ]
     },
     "execution_count": 139,
     "metadata": {},
     "output_type": "execute_result"
    }
   ],
   "source": [
    "cart_model.fit(X_train,y_train)"
   ]
  },
  {
   "cell_type": "code",
   "execution_count": 140,
   "id": "2fabb5ab-bf19-4552-bb3f-e70d7c4b3c74",
   "metadata": {},
   "outputs": [
    {
     "data": {
      "text/plain": [
       "Text(0, 0.5, 'Maaş(Salary)')"
      ]
     },
     "execution_count": 140,
     "metadata": {},
     "output_type": "execute_result"
    },
    {
     "data": {
      "image/png": "[encoded data removed]",
      "text/plain": [
       "<Figure size 432x288 with 1 Axes>"
      ]
     },
     "metadata": {
      "needs_background": "light"
     },
     "output_type": "display_data"
    }
   ],
   "source": [
    "X_grid = np.arange(min(np.array(X_train)),max(np.array(X_train)),0.01)\n",
    "X_grid = X_grid.reshape((len(X_grid),1))\n",
    "\n",
    "plt.scatter(X_train,y_train,color='red')\n",
    "\n",
    "plt.plot(X_grid, cart_model.predict(X_grid),color='blue')\n",
    "\n",
    "plt.title(\"CART REGRESYON AĞACI\")\n",
    "plt.xlabel(\"Atış Sayısı(Hits)\")\n",
    "plt.ylabel(\"Maaş(Salary)\")"
   ]
  },
  {
   "cell_type": "code",
   "execution_count": 141,
   "id": "372f3ece-3a61-44de-98e0-a3a460fd01ac",
   "metadata": {},
   "outputs": [],
   "source": [
    "#tek değişkenli tahmin"
   ]
  },
  {
   "cell_type": "code",
   "execution_count": 142,
   "id": "621d8a5a-3171-47b2-b6e8-393da274284c",
   "metadata": {},
   "outputs": [
    {
     "data": {
      "text/plain": [
       "array([621.96792308, 958.61111111, 621.96792308, 345.20115517,\n",
       "       345.20115517])"
      ]
     },
     "execution_count": 142,
     "metadata": {},
     "output_type": "execute_result"
    }
   ],
   "source": [
    "cart_model.predict(X_test)[0:5]"
   ]
  },
  {
   "cell_type": "code",
   "execution_count": 143,
   "id": "3d741dcf-5596-4f72-b7cc-1b37423224e2",
   "metadata": {},
   "outputs": [],
   "source": [
    "y_pred = cart_model.predict(X_test)"
   ]
  },
  {
   "cell_type": "code",
   "execution_count": 144,
   "id": "da6e7534-6b5f-4c7d-bb63-dd64bbfcc1a2",
   "metadata": {},
   "outputs": [
    {
     "data": {
      "text/plain": [
       "486.34593105235456"
      ]
     },
     "execution_count": 144,
     "metadata": {},
     "output_type": "execute_result"
    }
   ],
   "source": [
    "np.sqrt(mean_squared_error(y_test,y_pred))"
   ]
  },
  {
   "cell_type": "code",
   "execution_count": 145,
   "id": "3095a366-9c51-4df9-963c-72f638dc4695",
   "metadata": {},
   "outputs": [],
   "source": [
    "# tüm değişkemler"
   ]
  },
  {
   "cell_type": "code",
   "execution_count": 152,
   "id": "4dee0ba0-c0d6-4fcb-8ddd-cff4bf5cfbb9",
   "metadata": {},
   "outputs": [],
   "source": [
    "df = pd.read_csv(\"Hitters.csv\")\n",
    "df = df.dropna()\n",
    "dms = pd.get_dummies(df[['League','Division','NewLeague']])\n",
    "y = df[\"Salary\"]\n",
    "X_ = df.drop(['Salary','League','Division','NewLeague'],axis=1).astype('float64')\n",
    "X = pd.concat([X_,dms[['League_N','Division_W','NewLeague_N']]],axis=1)\n",
    "X_train,X_test,y_train,y_test = train_test_split(X,\n",
    "                                                  y,\n",
    "                                                  test_size=0.25,\n",
    "                                                  random_state=42)"
   ]
  },
  {
   "cell_type": "code",
   "execution_count": 153,
   "id": "d2c0354c-ea96-46d6-a9b6-0ab2d9c62f17",
   "metadata": {},
   "outputs": [],
   "source": [
    "cart_model = DecisionTreeRegressor().fit(X_train,y_train) "
   ]
  },
  {
   "cell_type": "code",
   "execution_count": 154,
   "id": "2e33ea39-7b77-474f-b6a2-a2056b809a58",
   "metadata": {},
   "outputs": [],
   "source": [
    "y_pred = cart_model.predict(X_test)"
   ]
  },
  {
   "cell_type": "code",
   "execution_count": 155,
   "id": "cb93b226-e8a2-45ce-b44b-078567cabc32",
   "metadata": {},
   "outputs": [
    {
     "data": {
      "text/plain": [
       "460.1452624804937"
      ]
     },
     "execution_count": 155,
     "metadata": {},
     "output_type": "execute_result"
    }
   ],
   "source": [
    "np.sqrt(mean_squared_error(y_test,y_pred))"
   ]
  },
  {
   "cell_type": "markdown",
   "id": "7970acad-97d3-447c-8f11-58d04242845c",
   "metadata": {},
   "source": [
    "### Model Tuning"
   ]
  },
  {
   "cell_type": "code",
   "execution_count": 159,
   "id": "c18e4799-44fa-4e4c-937a-91fc3d572f7d",
   "metadata": {},
   "outputs": [
    {
     "data": {
      "text/plain": [
       "451.17410565681547"
      ]
     },
     "execution_count": 159,
     "metadata": {},
     "output_type": "execute_result"
    }
   ],
   "source": [
    "cart_model = DecisionTreeRegressor().fit(X_train,y_train) \n",
    "y_pred = cart_model.predict(X_test)\n",
    "np.sqrt(mean_squared_error(y_test,y_pred))"
   ]
  },
  {
   "cell_type": "code",
   "execution_count": 160,
   "id": "e3e80586-7720-4fe9-835f-8b666d9f2a69",
   "metadata": {
    "collapsed": true,
    "jupyter": {
     "outputs_hidden": true
    },
    "tags": []
   },
   "outputs": [
    {
     "data": {
      "text/plain": [
       "\u001b[1;31mType:\u001b[0m        DecisionTreeRegressor\n",
       "\u001b[1;31mString form:\u001b[0m DecisionTreeRegressor()\n",
       "\u001b[1;31mFile:\u001b[0m        c:\\users\\lenovo\\anaconda3\\lib\\site-packages\\sklearn\\tree\\_classes.py\n",
       "\u001b[1;31mDocstring:\u001b[0m  \n",
       "A decision tree regressor.\n",
       "\n",
       "Read more in the :ref:`User Guide <tree>`.\n",
       "\n",
       "Parameters\n",
       "----------\n",
       "criterion : {\"mse\", \"friedman_mse\", \"mae\", \"poisson\"}, default=\"mse\"\n",
       "    The function to measure the quality of a split. Supported criteria\n",
       "    are \"mse\" for the mean squared error, which is equal to variance\n",
       "    reduction as feature selection criterion and minimizes the L2 loss\n",
       "    using the mean of each terminal node, \"friedman_mse\", which uses mean\n",
       "    squared error with Friedman's improvement score for potential splits,\n",
       "    \"mae\" for the mean absolute error, which minimizes the L1 loss using\n",
       "    the median of each terminal node, and \"poisson\" which uses reduction in\n",
       "    Poisson deviance to find splits.\n",
       "\n",
       "    .. versionadded:: 0.18\n",
       "       Mean Absolute Error (MAE) criterion.\n",
       "\n",
       "    .. versionadded:: 0.24\n",
       "        Poisson deviance criterion.\n",
       "\n",
       "splitter : {\"best\", \"random\"}, default=\"best\"\n",
       "    The strategy used to choose the split at each node. Supported\n",
       "    strategies are \"best\" to choose the best split and \"random\" to choose\n",
       "    the best random split.\n",
       "\n",
       "max_depth : int, default=None\n",
       "    The maximum depth of the tree. If None, then nodes are expanded until\n",
       "    all leaves are pure or until all leaves contain less than\n",
       "    min_samples_split samples.\n",
       "\n",
       "min_samples_split : int or float, default=2\n",
       "    The minimum number of samples required to split an internal node:\n",
       "\n",
       "    - If int, then consider `min_samples_split` as the minimum number.\n",
       "    - If float, then `min_samples_split` is a fraction and\n",
       "      `ceil(min_samples_split * n_samples)` are the minimum\n",
       "      number of samples for each split.\n",
       "\n",
       "    .. versionchanged:: 0.18\n",
       "       Added float values for fractions.\n",
       "\n",
       "min_samples_leaf : int or float, default=1\n",
       "    The minimum number of samples required to be at a leaf node.\n",
       "    A split point at any depth will only be considered if it leaves at\n",
       "    least ``min_samples_leaf`` training samples in each of the left and\n",
       "    right branches.  This may have the effect of smoothing the model,\n",
       "    especially in regression.\n",
       "\n",
       "    - If int, then consider `min_samples_leaf` as the minimum number.\n",
       "    - If float, then `min_samples_leaf` is a fraction and\n",
       "      `ceil(min_samples_leaf * n_samples)` are the minimum\n",
       "      number of samples for each node.\n",
       "\n",
       "    .. versionchanged:: 0.18\n",
       "       Added float values for fractions.\n",
       "\n",
       "min_weight_fraction_leaf : float, default=0.0\n",
       "    The minimum weighted fraction of the sum total of weights (of all\n",
       "    the input samples) required to be at a leaf node. Samples have\n",
       "    equal weight when sample_weight is not provided.\n",
       "\n",
       "max_features : int, float or {\"auto\", \"sqrt\", \"log2\"}, default=None\n",
       "    The number of features to consider when looking for the best split:\n",
       "\n",
       "    - If int, then consider `max_features` features at each split.\n",
       "    - If float, then `max_features` is a fraction and\n",
       "      `int(max_features * n_features)` features are considered at each\n",
       "      split.\n",
       "    - If \"auto\", then `max_features=n_features`.\n",
       "    - If \"sqrt\", then `max_features=sqrt(n_features)`.\n",
       "    - If \"log2\", then `max_features=log2(n_features)`.\n",
       "    - If None, then `max_features=n_features`.\n",
       "\n",
       "    Note: the search for a split does not stop until at least one\n",
       "    valid partition of the node samples is found, even if it requires to\n",
       "    effectively inspect more than ``max_features`` features.\n",
       "\n",
       "random_state : int, RandomState instance or None, default=None\n",
       "    Controls the randomness of the estimator. The features are always\n",
       "    randomly permuted at each split, even if ``splitter`` is set to\n",
       "    ``\"best\"``. When ``max_features < n_features``, the algorithm will\n",
       "    select ``max_features`` at random at each split before finding the best\n",
       "    split among them. But the best found split may vary across different\n",
       "    runs, even if ``max_features=n_features``. That is the case, if the\n",
       "    improvement of the criterion is identical for several splits and one\n",
       "    split has to be selected at random. To obtain a deterministic behaviour\n",
       "    during fitting, ``random_state`` has to be fixed to an integer.\n",
       "    See :term:`Glossary <random_state>` for details.\n",
       "\n",
       "max_leaf_nodes : int, default=None\n",
       "    Grow a tree with ``max_leaf_nodes`` in best-first fashion.\n",
       "    Best nodes are defined as relative reduction in impurity.\n",
       "    If None then unlimited number of leaf nodes.\n",
       "\n",
       "min_impurity_decrease : float, default=0.0\n",
       "    A node will be split if this split induces a decrease of the impurity\n",
       "    greater than or equal to this value.\n",
       "\n",
       "    The weighted impurity decrease equation is the following::\n",
       "\n",
       "        N_t / N * (impurity - N_t_R / N_t * right_impurity\n",
       "                            - N_t_L / N_t * left_impurity)\n",
       "\n",
       "    where ``N`` is the total number of samples, ``N_t`` is the number of\n",
       "    samples at the current node, ``N_t_L`` is the number of samples in the\n",
       "    left child, and ``N_t_R`` is the number of samples in the right child.\n",
       "\n",
       "    ``N``, ``N_t``, ``N_t_R`` and ``N_t_L`` all refer to the weighted sum,\n",
       "    if ``sample_weight`` is passed.\n",
       "\n",
       "    .. versionadded:: 0.19\n",
       "\n",
       "min_impurity_split : float, default=0\n",
       "    Threshold for early stopping in tree growth. A node will split\n",
       "    if its impurity is above the threshold, otherwise it is a leaf.\n",
       "\n",
       "    .. deprecated:: 0.19\n",
       "       ``min_impurity_split`` has been deprecated in favor of\n",
       "       ``min_impurity_decrease`` in 0.19. The default value of\n",
       "       ``min_impurity_split`` has changed from 1e-7 to 0 in 0.23 and it\n",
       "       will be removed in 1.0 (renaming of 0.25).\n",
       "       Use ``min_impurity_decrease`` instead.\n",
       "\n",
       "ccp_alpha : non-negative float, default=0.0\n",
       "    Complexity parameter used for Minimal Cost-Complexity Pruning. The\n",
       "    subtree with the largest cost complexity that is smaller than\n",
       "    ``ccp_alpha`` will be chosen. By default, no pruning is performed. See\n",
       "    :ref:`minimal_cost_complexity_pruning` for details.\n",
       "\n",
       "    .. versionadded:: 0.22\n",
       "\n",
       "Attributes\n",
       "----------\n",
       "feature_importances_ : ndarray of shape (n_features,)\n",
       "    The feature importances.\n",
       "    The higher, the more important the feature.\n",
       "    The importance of a feature is computed as the\n",
       "    (normalized) total reduction of the criterion brought\n",
       "    by that feature. It is also known as the Gini importance [4]_.\n",
       "\n",
       "    Warning: impurity-based feature importances can be misleading for\n",
       "    high cardinality features (many unique values). See\n",
       "    :func:`sklearn.inspection.permutation_importance` as an alternative.\n",
       "\n",
       "max_features_ : int\n",
       "    The inferred value of max_features.\n",
       "\n",
       "n_features_ : int\n",
       "    The number of features when ``fit`` is performed.\n",
       "\n",
       "n_outputs_ : int\n",
       "    The number of outputs when ``fit`` is performed.\n",
       "\n",
       "tree_ : Tree instance\n",
       "    The underlying Tree object. Please refer to\n",
       "    ``help(sklearn.tree._tree.Tree)`` for attributes of Tree object and\n",
       "    :ref:`sphx_glr_auto_examples_tree_plot_unveil_tree_structure.py`\n",
       "    for basic usage of these attributes.\n",
       "\n",
       "See Also\n",
       "--------\n",
       "DecisionTreeClassifier : A decision tree classifier.\n",
       "\n",
       "Notes\n",
       "-----\n",
       "The default values for the parameters controlling the size of the trees\n",
       "(e.g. ``max_depth``, ``min_samples_leaf``, etc.) lead to fully grown and\n",
       "unpruned trees which can potentially be very large on some data sets. To\n",
       "reduce memory consumption, the complexity and size of the trees should be\n",
       "controlled by setting those parameter values.\n",
       "\n",
       "References\n",
       "----------\n",
       "\n",
       ".. [1] https://en.wikipedia.org/wiki/Decision_tree_learning\n",
       "\n",
       ".. [2] L. Breiman, J. Friedman, R. Olshen, and C. Stone, \"Classification\n",
       "       and Regression Trees\", Wadsworth, Belmont, CA, 1984.\n",
       "\n",
       ".. [3] T. Hastie, R. Tibshirani and J. Friedman. \"Elements of Statistical\n",
       "       Learning\", Springer, 2009.\n",
       "\n",
       ".. [4] L. Breiman, and A. Cutler, \"Random Forests\",\n",
       "       https://www.stat.berkeley.edu/~breiman/RandomForests/cc_home.htm\n",
       "\n",
       "Examples\n",
       "--------\n",
       ">>> from sklearn.datasets import load_diabetes\n",
       ">>> from sklearn.model_selection import cross_val_score\n",
       ">>> from sklearn.tree import DecisionTreeRegressor\n",
       ">>> X, y = load_diabetes(return_X_y=True)\n",
       ">>> regressor = DecisionTreeRegressor(random_state=0)\n",
       ">>> cross_val_score(regressor, X, y, cv=10)\n",
       "...                    # doctest: +SKIP\n",
       "...\n",
       "array([-0.39..., -0.46...,  0.02...,  0.06..., -0.50...,\n",
       "       0.16...,  0.11..., -0.73..., -0.30..., -0.00...])\n"
      ]
     },
     "metadata": {},
     "output_type": "display_data"
    }
   ],
   "source": [
    "?cart_model"
   ]
  },
  {
   "cell_type": "code",
   "execution_count": 161,
   "id": "f64d433d-c32b-4f8f-ade2-a30b786c458d",
   "metadata": {},
   "outputs": [],
   "source": [
    "cart_params  = {\"max_depth\":[2,3,4,5,10,20],\n",
    "                \"min_samples_split\":[2,10,5,30,50,100]\n",
    "               }"
   ]
  },
  {
   "cell_type": "code",
   "execution_count": 162,
   "id": "f9935c1b-46cc-49b9-97ac-c3b74b7c76f9",
   "metadata": {},
   "outputs": [],
   "source": [
    "cart_model = DecisionTreeRegressor()"
   ]
  },
  {
   "cell_type": "code",
   "execution_count": 163,
   "id": "377be889-ec24-4cea-926f-1265eadd73de",
   "metadata": {},
   "outputs": [],
   "source": [
    "cart_cv_model = GridSearchCV(cart_model,cart_params,cv=10).fit(X_train,y_train)"
   ]
  },
  {
   "cell_type": "code",
   "execution_count": 164,
   "id": "1e2a5e83-632a-4761-a9e8-5eb0fb97bb02",
   "metadata": {},
   "outputs": [
    {
     "data": {
      "text/plain": [
       "{'max_depth': 4, 'min_samples_split': 50}"
      ]
     },
     "execution_count": 164,
     "metadata": {},
     "output_type": "execute_result"
    }
   ],
   "source": [
    "cart_cv_model.best_params_"
   ]
  },
  {
   "cell_type": "code",
   "execution_count": 165,
   "id": "dddca458-8828-448a-82a4-8511b687aa20",
   "metadata": {},
   "outputs": [],
   "source": [
    "##final modeli"
   ]
  },
  {
   "cell_type": "code",
   "execution_count": 167,
   "id": "1aa840f5-b7c5-4c42-8581-0ff076eac953",
   "metadata": {},
   "outputs": [],
   "source": [
    "cart_tuned = DecisionTreeRegressor(max_depth= 4, min_samples_split = 50).fit(X_train,y_train)"
   ]
  },
  {
   "cell_type": "code",
   "execution_count": 168,
   "id": "d538f95d-7c79-4d45-9101-34ddb2065e38",
   "metadata": {},
   "outputs": [
    {
     "data": {
      "text/plain": [
       "361.0876906511434"
      ]
     },
     "execution_count": 168,
     "metadata": {},
     "output_type": "execute_result"
    }
   ],
   "source": [
    "y_pred = cart_tuned.predict(X_test)\n",
    "np.sqrt(mean_squared_error(y_test,y_pred))"
   ]
  },
  {
   "cell_type": "markdown",
   "id": "e0654dcd-860d-464b-be37-92f78b755803",
   "metadata": {},
   "source": [
    "# Random Forest "
   ]
  },
  {
   "cell_type": "code",
   "execution_count": 213,
   "id": "5908dbfb-994e-4b4a-83cd-311e4f944c29",
   "metadata": {},
   "outputs": [],
   "source": [
    "df = pd.read_csv(\"Hitters.csv\")\n",
    "df = df.dropna()\n",
    "dms = pd.get_dummies(df[['League','Division','NewLeague']])\n",
    "y = df[\"Salary\"]\n",
    "X_ = df.drop(['Salary','League','Division','NewLeague'],axis=1).astype('float64')\n",
    "X = pd.concat([X_,dms[['League_N','Division_W','NewLeague_N']]],axis=1)\n",
    "X_train,X_test,y_train,y_test = train_test_split(X,\n",
    "                                                  y,\n",
    "                                                  test_size=0.25,\n",
    "                                                  random_state=42)"
   ]
  },
  {
   "cell_type": "markdown",
   "id": "c5a867ca-3979-4c44-9801-b6492c1144c1",
   "metadata": {},
   "source": [
    "### Model & Tahmin"
   ]
  },
  {
   "cell_type": "code",
   "execution_count": 214,
   "id": "63b19e3e-97df-461f-a28b-a002692be341",
   "metadata": {},
   "outputs": [],
   "source": [
    "rf_model = RandomForestRegressor(random_state=42).fit(X_train,y_train)"
   ]
  },
  {
   "cell_type": "code",
   "execution_count": 215,
   "id": "274a99f4-dd44-4ec4-81fb-bb970dc19b51",
   "metadata": {},
   "outputs": [],
   "source": [
    "y_pred = rf_model.predict(X_test)"
   ]
  },
  {
   "cell_type": "code",
   "execution_count": 216,
   "id": "0f380331-205e-4f20-87d9-8c5a1fd0be6d",
   "metadata": {},
   "outputs": [
    {
     "data": {
      "text/plain": [
       "344.8191624908484"
      ]
     },
     "execution_count": 216,
     "metadata": {},
     "output_type": "execute_result"
    }
   ],
   "source": [
    "np.sqrt(mean_squared_error(y_test,y_pred))"
   ]
  },
  {
   "cell_type": "markdown",
   "id": "1072fbcd-7417-4549-b85e-6a4d88db757c",
   "metadata": {},
   "source": [
    "### Model Tuning"
   ]
  },
  {
   "cell_type": "code",
   "execution_count": 182,
   "id": "b27f6f67-a5fc-40c6-84a2-7fd7034b6e4d",
   "metadata": {},
   "outputs": [],
   "source": [
    "rf_params = {\"max_depth\":[5,8,10],\n",
    "            \"max_features\":[2,5,10],\n",
    "            \"n_estimators\":[200,500,1000,2000],\n",
    "            \"min_samples_split\":[2,10,80,100]}"
   ]
  },
  {
   "cell_type": "code",
   "execution_count": 183,
   "id": "00b8ea45-8ec1-423b-b151-26f2f543c7ea",
   "metadata": {},
   "outputs": [
    {
     "name": "stdout",
     "output_type": "stream",
     "text": [
      "Fitting 10 folds for each of 144 candidates, totalling 1440 fits\n"
     ]
    }
   ],
   "source": [
    "rf_cv_model = GridSearchCV(rf_model,rf_params,cv=10,n_jobs=-1,verbose=2).fit(X_train,y_train)"
   ]
  },
  {
   "cell_type": "code",
   "execution_count": 184,
   "id": "89f14776-b23f-4324-b702-3acc2284529a",
   "metadata": {},
   "outputs": [
    {
     "data": {
      "text/plain": [
       "{'max_depth': 8,\n",
       " 'max_features': 2,\n",
       " 'min_samples_split': 2,\n",
       " 'n_estimators': 200}"
      ]
     },
     "execution_count": 184,
     "metadata": {},
     "output_type": "execute_result"
    }
   ],
   "source": [
    "rf_cv_model.best_params_"
   ]
  },
  {
   "cell_type": "code",
   "execution_count": 192,
   "id": "2c3b2817-cfea-4fcb-a6b4-c64795492d4c",
   "metadata": {},
   "outputs": [],
   "source": [
    "#final modeli\n",
    "rf_tuned = RandomForestRegressor(random_state=42,max_depth= 8,max_features= 2,min_samples_split = 2,n_estimators= 200).fit(X_train,y_train)"
   ]
  },
  {
   "cell_type": "code",
   "execution_count": 193,
   "id": "69841d06-f388-468f-b9bf-746206edeff3",
   "metadata": {},
   "outputs": [],
   "source": [
    "y_pred = rf_tuned.predict(X_test)"
   ]
  },
  {
   "cell_type": "code",
   "execution_count": 194,
   "id": "240e8b0a-e2d6-428c-b583-d272578b6b57",
   "metadata": {},
   "outputs": [
    {
     "data": {
      "text/plain": [
       "349.1649379391149"
      ]
     },
     "execution_count": 194,
     "metadata": {},
     "output_type": "execute_result"
    }
   ],
   "source": [
    "np.sqrt(mean_squared_error(y_test,y_pred))"
   ]
  },
  {
   "cell_type": "markdown",
   "id": "a0e0f306-6394-4b17-8ec8-0ff9d256f786",
   "metadata": {},
   "source": [
    "### Değişken Önem Düzeyi"
   ]
  },
  {
   "cell_type": "code",
   "execution_count": 218,
   "id": "0732255b-ade3-4d94-8a09-b7dc4c37c25a",
   "metadata": {},
   "outputs": [
    {
     "data": {
      "image/png": "[encoded data removed]",
      "text/plain": [
       "<Figure size 432x288 with 1 Axes>"
      ]
     },
     "metadata": {
      "needs_background": "light"
     },
     "output_type": "display_data"
    }
   ],
   "source": [
    "Importance = pd.DataFrame({\"Importance\":rf_tuned.feature_importances_*100},\n",
    "                         index = X_train.columns)\n",
    "\n",
    "Importance.sort_values(by = \"Importance\",\n",
    "                       axis = 0,\n",
    "                       ascending = True).plot(kind = \"barh\",\n",
    "                                            color=\"r\",)\n",
    "plt.xlabel(\"Variable Importance\")\n",
    "plt.gca().legend_ = None"
   ]
  },
  {
   "cell_type": "markdown",
   "id": "eee27f3b-43e6-46cf-8ec2-8865b5e343ed",
   "metadata": {},
   "source": [
    "# Gradient Boosting Machines"
   ]
  },
  {
   "cell_type": "code",
   "execution_count": 219,
   "id": "3aab2892-4f99-4185-b89b-fedd8752c27d",
   "metadata": {},
   "outputs": [],
   "source": [
    "df = pd.read_csv(\"Hitters.csv\")\n",
    "df = df.dropna()\n",
    "dms = pd.get_dummies(df[['League','Division','NewLeague']])\n",
    "y = df[\"Salary\"]\n",
    "X_ = df.drop(['Salary','League','Division','NewLeague'],axis=1).astype('float64')\n",
    "X = pd.concat([X_,dms[['League_N','Division_W','NewLeague_N']]],axis=1)\n",
    "X_train,X_test,y_train,y_test = train_test_split(X,\n",
    "                                                  y,\n",
    "                                                  test_size=0.25,\n",
    "                                                  random_state=42)"
   ]
  },
  {
   "cell_type": "markdown",
   "id": "a6de6656-5427-44ac-addf-160c88161b2e",
   "metadata": {},
   "source": [
    "### Model & Tahmin"
   ]
  },
  {
   "cell_type": "code",
   "execution_count": 224,
   "id": "bb823344-805a-4a98-9367-4f0ff1ebf860",
   "metadata": {},
   "outputs": [],
   "source": [
    "gbm_model = GradientBoostingRegressor().fit(X_train,y_train)"
   ]
  },
  {
   "cell_type": "code",
   "execution_count": 225,
   "id": "a535a7c6-14f3-488e-91e5-e3a948e8acac",
   "metadata": {},
   "outputs": [],
   "source": [
    "y_pred = gbm_model.predict(X_test)"
   ]
  },
  {
   "cell_type": "code",
   "execution_count": 226,
   "id": "eb168e06-8aea-4fe7-960e-dc39073e478e",
   "metadata": {},
   "outputs": [
    {
     "data": {
      "text/plain": [
       "347.69615143773854"
      ]
     },
     "execution_count": 226,
     "metadata": {},
     "output_type": "execute_result"
    }
   ],
   "source": [
    "np.sqrt(mean_squared_error(y_test,y_pred))"
   ]
  },
  {
   "cell_type": "markdown",
   "id": "d82fba9f-39b5-41b6-bca6-cc496408d584",
   "metadata": {},
   "source": [
    "### Model Tuning"
   ]
  },
  {
   "cell_type": "code",
   "execution_count": 230,
   "id": "7532c98d-9fa0-4e1d-89ac-efcc73821682",
   "metadata": {},
   "outputs": [],
   "source": [
    "gbm_model = GradientBoostingRegressor().fit(X_train,y_train)"
   ]
  },
  {
   "cell_type": "code",
   "execution_count": 229,
   "id": "c0caa14f-e159-4cb1-a859-42ffe6f2376c",
   "metadata": {},
   "outputs": [
    {
     "data": {
      "text/plain": [
       "GradientBoostingRegressor()"
      ]
     },
     "execution_count": 229,
     "metadata": {},
     "output_type": "execute_result"
    }
   ],
   "source": [
    "gbm_model"
   ]
  },
  {
   "cell_type": "code",
   "execution_count": 232,
   "id": "b31e4e9a-71ae-437e-a6be-6046031f9bce",
   "metadata": {},
   "outputs": [],
   "source": [
    "gbm_params = { \"learning_rate\": [0.001,0.1,0.01],\n",
    "              \"max_depth\":[3,5,8],\n",
    "              \"n_estimators\":[100,200,500],\n",
    "              \"subsample\":[1,0.5,0.8],\n",
    "              \"loss\":[\"ls\",\"lad\",\"quantile\"]\n",
    "}"
   ]
  },
  {
   "cell_type": "code",
   "execution_count": 233,
   "id": "a05d6e24-80af-4dc8-b195-90f7f37deaa6",
   "metadata": {},
   "outputs": [],
   "source": [
    "gbm_model = GradientBoostingRegressor().fit(X_train,y_train)"
   ]
  },
  {
   "cell_type": "code",
   "execution_count": 234,
   "id": "daa8edc3-e23a-4e55-bb8f-cd0e602afc34",
   "metadata": {},
   "outputs": [
    {
     "name": "stdout",
     "output_type": "stream",
     "text": [
      "Fitting 10 folds for each of 243 candidates, totalling 2430 fits\n"
     ]
    }
   ],
   "source": [
    "gbm_cv_model = GridSearchCV(gbm_model,gbm_params,cv=10,n_jobs=-1,verbose=2).fit(X_train,y_train)"
   ]
  },
  {
   "cell_type": "code",
   "execution_count": 235,
   "id": "9fbec202-071d-412c-a2aa-0f1dde689345",
   "metadata": {},
   "outputs": [
    {
     "data": {
      "text/plain": [
       "{'learning_rate': 0.01,\n",
       " 'loss': 'lad',\n",
       " 'max_depth': 3,\n",
       " 'n_estimators': 500,\n",
       " 'subsample': 0.8}"
      ]
     },
     "execution_count": 235,
     "metadata": {},
     "output_type": "execute_result"
    }
   ],
   "source": [
    "gbm_cv_model.best_params_"
   ]
  },
  {
   "cell_type": "code",
   "execution_count": 236,
   "id": "92a6e5e4-05dc-457b-9f63-5efa9368a33b",
   "metadata": {},
   "outputs": [],
   "source": [
    "gbm_tuned = GradientBoostingRegressor(learning_rate=0.01, loss=\"lad\",max_depth=3,n_estimators=500,subsample=0.8).fit(X_train,y_train)"
   ]
  },
  {
   "cell_type": "code",
   "execution_count": 237,
   "id": "a3280fb2-d99e-45d3-b776-c03fbd31a2ff",
   "metadata": {},
   "outputs": [],
   "source": [
    "y_pred = gbm_tuned.predict(X_test)"
   ]
  },
  {
   "cell_type": "code",
   "execution_count": 238,
   "id": "82feb240-989c-4869-8ba0-4ed3a043c329",
   "metadata": {},
   "outputs": [
    {
     "data": {
      "text/plain": [
       "323.10374042978714"
      ]
     },
     "execution_count": 238,
     "metadata": {},
     "output_type": "execute_result"
    }
   ],
   "source": [
    "np.sqrt(mean_squared_error(y_test,y_pred))"
   ]
  },
  {
   "cell_type": "code",
   "execution_count": 239,
   "id": "7f8ac26a-f4e3-4419-8c05-b224eb982798",
   "metadata": {},
   "outputs": [
    {
     "data": {
      "image/png": "[encoded data removed]",
      "text/plain": [
       "<Figure size 432x288 with 1 Axes>"
      ]
     },
     "metadata": {
      "needs_background": "light"
     },
     "output_type": "display_data"
    }
   ],
   "source": [
    "Importance = pd.DataFrame({\"Importance\":gbm_tuned.feature_importances_*100},\n",
    "                         index = X_train.columns)\n",
    "\n",
    "Importance.sort_values(by = \"Importance\",\n",
    "                       axis = 0,\n",
    "                       ascending = True).plot(kind = \"barh\",\n",
    "                                            color=\"r\",)\n",
    "plt.xlabel(\"Variable Importance\")\n",
    "plt.gca().legend_ = None"
   ]
  },
  {
   "cell_type": "markdown",
   "id": "e04ed76b-72d2-41bd-833b-e804ebef8612",
   "metadata": {},
   "source": [
    "# XGBoost"
   ]
  },
  {
   "cell_type": "code",
   "execution_count": 240,
   "id": "65707440-852d-48ab-aa31-74853840c880",
   "metadata": {},
   "outputs": [],
   "source": [
    "df = pd.read_csv(\"Hitters.csv\")\n",
    "df = df.dropna()\n",
    "dms = pd.get_dummies(df[['League','Division','NewLeague']])\n",
    "y = df[\"Salary\"]\n",
    "X_ = df.drop(['Salary','League','Division','NewLeague'],axis=1).astype('float64')\n",
    "X = pd.concat([X_,dms[['League_N','Division_W','NewLeague_N']]],axis=1)\n",
    "X_train,X_test,y_train,y_test = train_test_split(X,\n",
    "                                                  y,\n",
    "                                                  test_size=0.25,\n",
    "                                                  random_state=42)"
   ]
  },
  {
   "cell_type": "markdown",
   "id": "59beeb07-f9ac-4c57-b3e2-c9d5b80b1450",
   "metadata": {},
   "source": [
    "### Model & Tahmin"
   ]
  },
  {
   "cell_type": "code",
   "execution_count": 241,
   "id": "b9c126cc-5235-47be-9ec4-6ad23446f828",
   "metadata": {},
   "outputs": [
    {
     "name": "stdout",
     "output_type": "stream",
     "text": [
      "Collecting xgboost\n",
      "  Downloading xgboost-1.5.0-py3-none-win_amd64.whl (106.6 MB)\n",
      "Requirement already satisfied: numpy in c:\\users\\lenovo\\anaconda3\\lib\\site-packages (from xgboost) (1.20.1)\n",
      "Requirement already satisfied: scipy in c:\\users\\lenovo\\anaconda3\\lib\\site-packages (from xgboost) (1.6.2)\n",
      "Installing collected packages: xgboost\n",
      "Successfully installed xgboost-1.5.0\n"
     ]
    }
   ],
   "source": [
    "!pip install xgboost"
   ]
  },
  {
   "cell_type": "code",
   "execution_count": 242,
   "id": "41b1ad67-390e-47b1-9cdf-1e38ccc71b05",
   "metadata": {},
   "outputs": [],
   "source": [
    "import xgboost "
   ]
  },
  {
   "cell_type": "code",
   "execution_count": 243,
   "id": "06d6cbfb-7892-4162-893e-d86924c5df12",
   "metadata": {},
   "outputs": [],
   "source": [
    "from xgboost import XGBRegressor"
   ]
  },
  {
   "cell_type": "code",
   "execution_count": 244,
   "id": "60fb5b09-5979-426b-8806-65462cd1cdbc",
   "metadata": {},
   "outputs": [],
   "source": [
    "xgb_model = XGBRegressor().fit(X_train,y_train)"
   ]
  },
  {
   "cell_type": "code",
   "execution_count": 245,
   "id": "379bf62c-7273-429d-860a-ceb5d0e0ca58",
   "metadata": {},
   "outputs": [],
   "source": [
    "y_pred = xgb_model.predict(X_test)"
   ]
  },
  {
   "cell_type": "code",
   "execution_count": 247,
   "id": "03766ba8-95ec-4b08-ac9b-30f35e3c4c24",
   "metadata": {},
   "outputs": [
    {
     "data": {
      "text/plain": [
       "355.46515176059927"
      ]
     },
     "execution_count": 247,
     "metadata": {},
     "output_type": "execute_result"
    }
   ],
   "source": [
    "np.sqrt(mean_squared_error(y_test,y_pred))"
   ]
  },
  {
   "cell_type": "markdown",
   "id": "4cabb2dc-8e50-4d93-b06b-0acc38c138dc",
   "metadata": {},
   "source": [
    "### Model Tuning"
   ]
  },
  {
   "cell_type": "code",
   "execution_count": 248,
   "id": "f6cefc0c-2e8b-4239-8b73-774459cf1517",
   "metadata": {},
   "outputs": [],
   "source": [
    "xgb_model = XGBRegressor().fit(X_train,y_train)"
   ]
  },
  {
   "cell_type": "code",
   "execution_count": 250,
   "id": "2f49e7b4-9b4d-4481-8ce1-15a22c96a4eb",
   "metadata": {},
   "outputs": [],
   "source": [
    "xgb_params = {\"learning_rate\": [0.1,0.01,0.7],\n",
    "              \"max_depth\":[2,3,4,5,8],\n",
    "              \"n_estimators\":[100,200,500,1000],\n",
    "              \"colsample_bytree\":[0.4,0.7,1]}"
   ]
  },
  {
   "cell_type": "code",
   "execution_count": 251,
   "id": "e125c0f2-ec22-45d9-ad68-67091b5aecb8",
   "metadata": {},
   "outputs": [
    {
     "name": "stdout",
     "output_type": "stream",
     "text": [
      "Fitting 10 folds for each of 180 candidates, totalling 1800 fits\n"
     ]
    }
   ],
   "source": [
    "xgb_cv_model = GridSearchCV(xgb_model,xgb_params,cv=10,n_jobs=-1,verbose=2).fit(X_train,y_train)"
   ]
  },
  {
   "cell_type": "code",
   "execution_count": 252,
   "id": "e45a70fd-e554-4cdc-82a7-d3d7d801741e",
   "metadata": {},
   "outputs": [
    {
     "data": {
      "text/plain": [
       "{'colsample_bytree': 0.4,\n",
       " 'learning_rate': 0.1,\n",
       " 'max_depth': 2,\n",
       " 'n_estimators': 1000}"
      ]
     },
     "execution_count": 252,
     "metadata": {},
     "output_type": "execute_result"
    }
   ],
   "source": [
    "xgb_cv_model.best_params_"
   ]
  },
  {
   "cell_type": "code",
   "execution_count": 266,
   "id": "dcb8b16d-5613-42a7-b997-4a8811225619",
   "metadata": {},
   "outputs": [],
   "source": [
    "xgb_tuned = XGBRegressor(colsample_bytree=0.4,learning_rate=0.5,max_depth=2,n_estimators=1000).fit(X_train,y_train)"
   ]
  },
  {
   "cell_type": "code",
   "execution_count": 267,
   "id": "1524b85d-00ff-4f1b-953b-6fcfbe59800a",
   "metadata": {},
   "outputs": [],
   "source": [
    "y_pred = xgb_tuned.predict(X_test)"
   ]
  },
  {
   "cell_type": "code",
   "execution_count": 268,
   "id": "adcfe539-2eeb-4afa-a9fe-7accf5f3f73a",
   "metadata": {},
   "outputs": [
    {
     "data": {
      "text/plain": [
       "340.73584644949307"
      ]
     },
     "execution_count": 268,
     "metadata": {},
     "output_type": "execute_result"
    }
   ],
   "source": [
    "np.sqrt(mean_squared_error(y_test,y_pred))"
   ]
  },
  {
   "cell_type": "markdown",
   "id": "688f0738-215b-478e-93d6-2effb16300da",
   "metadata": {},
   "source": [
    "# Light GBM"
   ]
  },
  {
   "cell_type": "code",
   "execution_count": 269,
   "id": "15ea5aa2-666a-49c0-a916-67596ac8d544",
   "metadata": {},
   "outputs": [],
   "source": [
    "df = pd.read_csv(\"Hitters.csv\")\n",
    "df = df.dropna()\n",
    "dms = pd.get_dummies(df[['League','Division','NewLeague']])\n",
    "y = df[\"Salary\"]\n",
    "X_ = df.drop(['Salary','League','Division','NewLeague'],axis=1).astype('float64')\n",
    "X = pd.concat([X_,dms[['League_N','Division_W','NewLeague_N']]],axis=1)\n",
    "X_train,X_test,y_train,y_test = train_test_split(X,\n",
    "                                                  y,\n",
    "                                                  test_size=0.25,\n",
    "                                                  random_state=42)"
   ]
  },
  {
   "cell_type": "markdown",
   "id": "02071047-0525-419e-b264-5ccc5c991900",
   "metadata": {},
   "source": [
    "### Model & Tahmin"
   ]
  },
  {
   "cell_type": "code",
   "execution_count": 271,
   "id": "0f747597-aec0-424c-947d-c59d54b138c8",
   "metadata": {
    "collapsed": true,
    "jupyter": {
     "outputs_hidden": true
    },
    "tags": []
   },
   "outputs": [
    {
     "name": "stdout",
     "output_type": "stream",
     "text": [
      "Collecting lightgbm\n",
      "  Downloading lightgbm-3.3.1-py3-none-win_amd64.whl (1.0 MB)\n",
      "Requirement already satisfied: wheel in c:\\users\\lenovo\\anaconda3\\lib\\site-packages (from lightgbm) (0.36.2)\n",
      "Requirement already satisfied: scikit-learn!=0.22.0 in c:\\users\\lenovo\\anaconda3\\lib\\site-packages (from lightgbm) (0.24.1)\n",
      "Requirement already satisfied: numpy in c:\\users\\lenovo\\anaconda3\\lib\\site-packages (from lightgbm) (1.20.1)\n",
      "Requirement already satisfied: scipy in c:\\users\\lenovo\\anaconda3\\lib\\site-packages (from lightgbm) (1.6.2)\n",
      "Requirement already satisfied: joblib>=0.11 in c:\\users\\lenovo\\anaconda3\\lib\\site-packages (from scikit-learn!=0.22.0->lightgbm) (1.0.1)\n",
      "Requirement already satisfied: threadpoolctl>=2.0.0 in c:\\users\\lenovo\\anaconda3\\lib\\site-packages (from scikit-learn!=0.22.0->lightgbm) (2.1.0)\n",
      "Installing collected packages: lightgbm\n",
      "Successfully installed lightgbm-3.3.1\n"
     ]
    }
   ],
   "source": [
    "!pip install lightgbm"
   ]
  },
  {
   "cell_type": "code",
   "execution_count": 274,
   "id": "36c04619-4330-48a8-8c9f-6b1f727abea8",
   "metadata": {},
   "outputs": [],
   "source": [
    "from lightgbm import LGBMRegressor"
   ]
  },
  {
   "cell_type": "code",
   "execution_count": 275,
   "id": "caa56ec1-0d2b-4ce7-a3e1-9e1d7448acba",
   "metadata": {},
   "outputs": [],
   "source": [
    "lgbm_model = LGBMRegressor().fit(X_train,y_train)"
   ]
  },
  {
   "cell_type": "code",
   "execution_count": 276,
   "id": "8a4d17e2-66eb-4989-8f80-8c368f4ffc15",
   "metadata": {},
   "outputs": [],
   "source": [
    "y_pred = lgbm_model.predict(X_test)"
   ]
  },
  {
   "cell_type": "code",
   "execution_count": 278,
   "id": "0f03abf1-f63b-489a-abaa-688fb30d7605",
   "metadata": {},
   "outputs": [
    {
     "data": {
      "text/plain": [
       "363.8712087611089"
      ]
     },
     "execution_count": 278,
     "metadata": {},
     "output_type": "execute_result"
    }
   ],
   "source": [
    "np.sqrt(mean_squared_error(y_test,y_pred))"
   ]
  },
  {
   "cell_type": "markdown",
   "id": "9b65d3a8-4d74-451b-9c25-4d585358d6b9",
   "metadata": {},
   "source": [
    "### Model Tuning"
   ]
  },
  {
   "cell_type": "code",
   "execution_count": 279,
   "id": "165e531e-4cb7-4eef-b104-cfa3fbca3449",
   "metadata": {},
   "outputs": [],
   "source": [
    "lgbm_model = LGBMRegressor().fit(X_train,y_train)"
   ]
  },
  {
   "cell_type": "code",
   "execution_count": 280,
   "id": "338a1f85-23b3-4b81-9627-856ae8b0445d",
   "metadata": {},
   "outputs": [],
   "source": [
    "lgbm_params = {\"learning_rate\":[0.01,0.1,0.5,1],\n",
    "               \"n_estimators\":[20,40,100,200,500,1000],\n",
    "               \"max_depth\":[1,2,3,4,5,6,7,8,9,10] }"
   ]
  },
  {
   "cell_type": "code",
   "execution_count": 281,
   "id": "f42fcd54-9e19-45e6-be95-6a221f282273",
   "metadata": {},
   "outputs": [
    {
     "name": "stdout",
     "output_type": "stream",
     "text": [
      "Fitting 10 folds for each of 240 candidates, totalling 2400 fits\n"
     ]
    }
   ],
   "source": [
    "lgbm_cv_model = GridSearchCV(lgbm_model,lgbm_params,cv=10,n_jobs=-1,verbose=2).fit(X_train,y_train)"
   ]
  },
  {
   "cell_type": "code",
   "execution_count": 282,
   "id": "96820ad6-af00-46de-b32a-0a8aaa97506b",
   "metadata": {},
   "outputs": [
    {
     "data": {
      "text/plain": [
       "{'learning_rate': 0.1, 'max_depth': 6, 'n_estimators': 20}"
      ]
     },
     "execution_count": 282,
     "metadata": {},
     "output_type": "execute_result"
    }
   ],
   "source": [
    "lgbm_cv_model.best_params_"
   ]
  },
  {
   "cell_type": "code",
   "execution_count": 283,
   "id": "7074c127-c391-418a-a2df-315bb8c7f52c",
   "metadata": {},
   "outputs": [],
   "source": [
    "lgbm_tuned = LGBMRegressor(learning_rate = 0.1, max_depth = 6, n_estimators = 20).fit(X_train,y_train)"
   ]
  },
  {
   "cell_type": "code",
   "execution_count": 284,
   "id": "f633b2a0-10f8-4c9c-9712-084e5c5adb0b",
   "metadata": {},
   "outputs": [],
   "source": [
    "y_pred = lgbm_tuned.predict(X_test)"
   ]
  },
  {
   "cell_type": "code",
   "execution_count": 285,
   "id": "44ed5010-254f-4bcb-a32b-6d9c7c73c73d",
   "metadata": {},
   "outputs": [
    {
     "data": {
      "text/plain": [
       "371.5044868943621"
      ]
     },
     "execution_count": 285,
     "metadata": {},
     "output_type": "execute_result"
    }
   ],
   "source": [
    "np.sqrt(mean_squared_error(y_test,y_pred))"
   ]
  },
  {
   "cell_type": "markdown",
   "id": "767d5fa4-795d-4b58-85e5-8e1b3c76126a",
   "metadata": {},
   "source": [
    "# CatBoost"
   ]
  },
  {
   "cell_type": "code",
   "execution_count": 286,
   "id": "dd3fbd27-584d-446e-9cff-bf315d579b5e",
   "metadata": {},
   "outputs": [],
   "source": [
    "df = pd.read_csv(\"Hitters.csv\")\n",
    "df = df.dropna()\n",
    "dms = pd.get_dummies(df[['League','Division','NewLeague']])\n",
    "y = df[\"Salary\"]\n",
    "X_ = df.drop(['Salary','League','Division','NewLeague'],axis=1).astype('float64')\n",
    "X = pd.concat([X_,dms[['League_N','Division_W','NewLeague_N']]],axis=1)\n",
    "X_train,X_test,y_train,y_test = train_test_split(X,\n",
    "                                                  y,\n",
    "                                                  test_size=0.25,\n",
    "                                                  random_state=42)"
   ]
  },
  {
   "cell_type": "markdown",
   "id": "62319ce0-99ac-44a4-a22c-5369431976bf",
   "metadata": {},
   "source": [
    "### Model ve Tahmin"
   ]
  },
  {
   "cell_type": "code",
   "execution_count": 287,
   "id": "74b7f7f5-05fa-4be5-8826-719c6d2da876",
   "metadata": {
    "collapsed": true,
    "jupyter": {
     "outputs_hidden": true
    },
    "tags": []
   },
   "outputs": [
    {
     "name": "stdout",
     "output_type": "stream",
     "text": [
      "Collecting catboost\n",
      "  Downloading catboost-1.0.3-cp38-none-win_amd64.whl (77.4 MB)\n",
      "Collecting graphviz\n",
      "  Downloading graphviz-0.18-py3-none-any.whl (38 kB)\n",
      "Requirement already satisfied: pandas>=0.24.0 in c:\\users\\lenovo\\anaconda3\\lib\\site-packages (from catboost) (1.2.4)\n",
      "Collecting plotly\n",
      "  Downloading plotly-5.3.1-py2.py3-none-any.whl (23.9 MB)\n",
      "Requirement already satisfied: scipy in c:\\users\\lenovo\\anaconda3\\lib\\site-packages (from catboost) (1.6.2)\n",
      "Requirement already satisfied: matplotlib in c:\\users\\lenovo\\anaconda3\\lib\\site-packages (from catboost) (3.3.4)\n",
      "Requirement already satisfied: six in c:\\users\\lenovo\\anaconda3\\lib\\site-packages (from catboost) (1.15.0)\n",
      "Requirement already satisfied: numpy>=1.16.0 in c:\\users\\lenovo\\anaconda3\\lib\\site-packages (from catboost) (1.20.1)\n",
      "Requirement already satisfied: pytz>=2017.3 in c:\\users\\lenovo\\anaconda3\\lib\\site-packages (from pandas>=0.24.0->catboost) (2021.1)\n",
      "Requirement already satisfied: python-dateutil>=2.7.3 in c:\\users\\lenovo\\anaconda3\\lib\\site-packages (from pandas>=0.24.0->catboost) (2.8.1)\n",
      "Requirement already satisfied: cycler>=0.10 in c:\\users\\lenovo\\anaconda3\\lib\\site-packages (from matplotlib->catboost) (0.10.0)\n",
      "Requirement already satisfied: pillow>=6.2.0 in c:\\users\\lenovo\\anaconda3\\lib\\site-packages (from matplotlib->catboost) (8.2.0)\n",
      "Requirement already satisfied: pyparsing!=2.0.4,!=2.1.2,!=2.1.6,>=2.0.3 in c:\\users\\lenovo\\anaconda3\\lib\\site-packages (from matplotlib->catboost) (2.4.7)\n",
      "Requirement already satisfied: kiwisolver>=1.0.1 in c:\\users\\lenovo\\anaconda3\\lib\\site-packages (from matplotlib->catboost) (1.3.1)\n",
      "Collecting tenacity>=6.2.0\n",
      "  Downloading tenacity-8.0.1-py3-none-any.whl (24 kB)\n",
      "Installing collected packages: tenacity, plotly, graphviz, catboost\n",
      "Successfully installed catboost-1.0.3 graphviz-0.18 plotly-5.3.1 tenacity-8.0.1\n"
     ]
    }
   ],
   "source": [
    "!pip install catboost"
   ]
  },
  {
   "cell_type": "code",
   "execution_count": 288,
   "id": "79baf02e-e27e-4c5a-b99f-bb273dbe687f",
   "metadata": {},
   "outputs": [],
   "source": [
    "from catboost import CatBoostRegressor"
   ]
  },
  {
   "cell_type": "code",
   "execution_count": 290,
   "id": "c1917dd8-eb25-47e7-8408-6a94e1e8babf",
   "metadata": {
    "collapsed": true,
    "jupyter": {
     "outputs_hidden": true
    },
    "tags": []
   },
   "outputs": [
    {
     "name": "stdout",
     "output_type": "stream",
     "text": [
      "Learning rate set to 0.031674\n",
      "0:\tlearn: 437.6430699\ttotal: 3.36ms\tremaining: 3.35s\n",
      "1:\tlearn: 431.3923642\ttotal: 7.01ms\tremaining: 3.5s\n",
      "2:\tlearn: 424.8820360\ttotal: 10.2ms\tremaining: 3.39s\n",
      "3:\tlearn: 418.2514904\ttotal: 13.2ms\tremaining: 3.28s\n",
      "4:\tlearn: 412.6394021\ttotal: 16.2ms\tremaining: 3.22s\n",
      "5:\tlearn: 406.6247020\ttotal: 19.4ms\tremaining: 3.22s\n",
      "6:\tlearn: 400.5321206\ttotal: 23.2ms\tremaining: 3.29s\n",
      "7:\tlearn: 394.6683437\ttotal: 26.4ms\tremaining: 3.27s\n",
      "8:\tlearn: 388.2496484\ttotal: 29.1ms\tremaining: 3.2s\n",
      "9:\tlearn: 382.9448842\ttotal: 31.8ms\tremaining: 3.14s\n",
      "10:\tlearn: 377.2600080\ttotal: 35.1ms\tremaining: 3.16s\n",
      "11:\tlearn: 372.4829606\ttotal: 38.9ms\tremaining: 3.2s\n",
      "12:\tlearn: 366.6823437\ttotal: 42.1ms\tremaining: 3.19s\n",
      "13:\tlearn: 362.6076230\ttotal: 46.2ms\tremaining: 3.25s\n",
      "14:\tlearn: 358.0107745\ttotal: 49.1ms\tremaining: 3.22s\n",
      "15:\tlearn: 353.2802665\ttotal: 53.4ms\tremaining: 3.28s\n",
      "16:\tlearn: 348.5646265\ttotal: 56.4ms\tremaining: 3.26s\n",
      "17:\tlearn: 343.6407912\ttotal: 59.6ms\tremaining: 3.25s\n",
      "18:\tlearn: 339.2363847\ttotal: 62.7ms\tremaining: 3.23s\n",
      "19:\tlearn: 334.3431252\ttotal: 65.7ms\tremaining: 3.22s\n",
      "20:\tlearn: 330.3247028\ttotal: 69.4ms\tremaining: 3.23s\n",
      "21:\tlearn: 326.6118334\ttotal: 72.6ms\tremaining: 3.23s\n",
      "22:\tlearn: 322.7759981\ttotal: 75.5ms\tremaining: 3.21s\n",
      "23:\tlearn: 318.9511822\ttotal: 78.9ms\tremaining: 3.21s\n",
      "24:\tlearn: 315.4216253\ttotal: 82.5ms\tremaining: 3.22s\n",
      "25:\tlearn: 311.3551377\ttotal: 86ms\tremaining: 3.22s\n",
      "26:\tlearn: 308.1492371\ttotal: 89.1ms\tremaining: 3.21s\n",
      "27:\tlearn: 304.7284729\ttotal: 92.8ms\tremaining: 3.22s\n",
      "28:\tlearn: 301.3893204\ttotal: 96.3ms\tremaining: 3.22s\n",
      "29:\tlearn: 298.2080758\ttotal: 101ms\tremaining: 3.25s\n",
      "30:\tlearn: 295.6878398\ttotal: 103ms\tremaining: 3.23s\n",
      "31:\tlearn: 292.3912243\ttotal: 107ms\tremaining: 3.23s\n",
      "32:\tlearn: 289.6345744\ttotal: 115ms\tremaining: 3.38s\n",
      "33:\tlearn: 287.2158711\ttotal: 119ms\tremaining: 3.38s\n",
      "34:\tlearn: 284.3879081\ttotal: 122ms\tremaining: 3.37s\n",
      "35:\tlearn: 281.7994818\ttotal: 125ms\tremaining: 3.35s\n",
      "36:\tlearn: 279.2028261\ttotal: 129ms\tremaining: 3.35s\n",
      "37:\tlearn: 276.5821160\ttotal: 134ms\tremaining: 3.4s\n",
      "38:\tlearn: 273.8890894\ttotal: 137ms\tremaining: 3.38s\n",
      "39:\tlearn: 271.1681677\ttotal: 140ms\tremaining: 3.36s\n",
      "40:\tlearn: 269.0159531\ttotal: 143ms\tremaining: 3.35s\n",
      "41:\tlearn: 266.3601804\ttotal: 147ms\tremaining: 3.35s\n",
      "42:\tlearn: 263.8608958\ttotal: 150ms\tremaining: 3.33s\n",
      "43:\tlearn: 261.1405566\ttotal: 153ms\tremaining: 3.32s\n",
      "44:\tlearn: 258.9314736\ttotal: 156ms\tremaining: 3.31s\n",
      "45:\tlearn: 256.3885577\ttotal: 160ms\tremaining: 3.32s\n",
      "46:\tlearn: 254.2857349\ttotal: 163ms\tremaining: 3.31s\n",
      "47:\tlearn: 252.2347121\ttotal: 167ms\tremaining: 3.31s\n",
      "48:\tlearn: 250.1779367\ttotal: 170ms\tremaining: 3.31s\n",
      "49:\tlearn: 248.2687430\ttotal: 175ms\tremaining: 3.32s\n",
      "50:\tlearn: 246.3685582\ttotal: 178ms\tremaining: 3.3s\n",
      "51:\tlearn: 244.8719988\ttotal: 181ms\tremaining: 3.3s\n",
      "52:\tlearn: 242.7348892\ttotal: 184ms\tremaining: 3.29s\n",
      "53:\tlearn: 241.1611112\ttotal: 187ms\tremaining: 3.28s\n",
      "54:\tlearn: 239.4819462\ttotal: 191ms\tremaining: 3.28s\n",
      "55:\tlearn: 237.3877895\ttotal: 194ms\tremaining: 3.27s\n",
      "56:\tlearn: 235.7619262\ttotal: 197ms\tremaining: 3.27s\n",
      "57:\tlearn: 233.9604804\ttotal: 202ms\tremaining: 3.29s\n",
      "58:\tlearn: 232.4948011\ttotal: 207ms\tremaining: 3.3s\n",
      "59:\tlearn: 230.6283304\ttotal: 210ms\tremaining: 3.29s\n",
      "60:\tlearn: 228.9920307\ttotal: 213ms\tremaining: 3.27s\n",
      "61:\tlearn: 227.5197637\ttotal: 216ms\tremaining: 3.26s\n",
      "62:\tlearn: 226.0561213\ttotal: 219ms\tremaining: 3.25s\n",
      "63:\tlearn: 224.3484762\ttotal: 222ms\tremaining: 3.25s\n",
      "64:\tlearn: 223.0652023\ttotal: 225ms\tremaining: 3.23s\n",
      "65:\tlearn: 221.6608069\ttotal: 227ms\tremaining: 3.21s\n",
      "66:\tlearn: 220.2445284\ttotal: 229ms\tremaining: 3.19s\n",
      "67:\tlearn: 219.0044262\ttotal: 232ms\tremaining: 3.18s\n",
      "68:\tlearn: 217.4624313\ttotal: 235ms\tremaining: 3.17s\n",
      "69:\tlearn: 216.0502248\ttotal: 238ms\tremaining: 3.16s\n",
      "70:\tlearn: 214.5361705\ttotal: 240ms\tremaining: 3.14s\n",
      "71:\tlearn: 213.1812509\ttotal: 242ms\tremaining: 3.12s\n",
      "72:\tlearn: 211.7399390\ttotal: 245ms\tremaining: 3.11s\n",
      "73:\tlearn: 210.5557639\ttotal: 247ms\tremaining: 3.09s\n",
      "74:\tlearn: 209.4242283\ttotal: 250ms\tremaining: 3.08s\n",
      "75:\tlearn: 208.4366109\ttotal: 252ms\tremaining: 3.07s\n",
      "76:\tlearn: 207.4514860\ttotal: 255ms\tremaining: 3.05s\n",
      "77:\tlearn: 206.1912213\ttotal: 257ms\tremaining: 3.04s\n",
      "78:\tlearn: 205.2585316\ttotal: 259ms\tremaining: 3.02s\n",
      "79:\tlearn: 203.8747879\ttotal: 262ms\tremaining: 3.02s\n",
      "80:\tlearn: 202.5993031\ttotal: 266ms\tremaining: 3.01s\n",
      "81:\tlearn: 201.4719061\ttotal: 269ms\tremaining: 3.01s\n",
      "82:\tlearn: 200.2871874\ttotal: 272ms\tremaining: 3s\n",
      "83:\tlearn: 199.1074683\ttotal: 275ms\tremaining: 3s\n",
      "84:\tlearn: 197.8511342\ttotal: 278ms\tremaining: 3s\n",
      "85:\tlearn: 196.8788042\ttotal: 282ms\tremaining: 3s\n",
      "86:\tlearn: 195.9815130\ttotal: 285ms\tremaining: 2.99s\n",
      "87:\tlearn: 195.0807956\ttotal: 288ms\tremaining: 2.99s\n",
      "88:\tlearn: 193.9775466\ttotal: 291ms\tremaining: 2.98s\n",
      "89:\tlearn: 192.8810426\ttotal: 294ms\tremaining: 2.98s\n",
      "90:\tlearn: 192.5363626\ttotal: 298ms\tremaining: 2.98s\n",
      "91:\tlearn: 191.3259849\ttotal: 301ms\tremaining: 2.97s\n",
      "92:\tlearn: 190.3650025\ttotal: 304ms\tremaining: 2.96s\n",
      "93:\tlearn: 189.3255643\ttotal: 307ms\tremaining: 2.96s\n",
      "94:\tlearn: 188.2433480\ttotal: 309ms\tremaining: 2.94s\n",
      "95:\tlearn: 187.2786096\ttotal: 312ms\tremaining: 2.94s\n",
      "96:\tlearn: 186.1284681\ttotal: 315ms\tremaining: 2.93s\n",
      "97:\tlearn: 185.0190872\ttotal: 317ms\tremaining: 2.92s\n",
      "98:\tlearn: 184.2888024\ttotal: 320ms\tremaining: 2.91s\n",
      "99:\tlearn: 183.3111217\ttotal: 323ms\tremaining: 2.91s\n",
      "100:\tlearn: 182.2519940\ttotal: 325ms\tremaining: 2.9s\n",
      "101:\tlearn: 181.0186200\ttotal: 329ms\tremaining: 2.89s\n",
      "102:\tlearn: 179.9672344\ttotal: 331ms\tremaining: 2.88s\n",
      "103:\tlearn: 178.9776753\ttotal: 334ms\tremaining: 2.87s\n",
      "104:\tlearn: 178.2445101\ttotal: 336ms\tremaining: 2.86s\n",
      "105:\tlearn: 177.4055906\ttotal: 339ms\tremaining: 2.86s\n",
      "106:\tlearn: 176.2405445\ttotal: 344ms\tremaining: 2.87s\n",
      "107:\tlearn: 175.1813091\ttotal: 347ms\tremaining: 2.87s\n",
      "108:\tlearn: 174.5537682\ttotal: 351ms\tremaining: 2.87s\n",
      "109:\tlearn: 173.8231890\ttotal: 354ms\tremaining: 2.87s\n",
      "110:\tlearn: 172.9324461\ttotal: 359ms\tremaining: 2.87s\n",
      "111:\tlearn: 172.0019421\ttotal: 362ms\tremaining: 2.87s\n",
      "112:\tlearn: 171.2945678\ttotal: 365ms\tremaining: 2.86s\n",
      "113:\tlearn: 170.4815313\ttotal: 368ms\tremaining: 2.86s\n",
      "114:\tlearn: 169.9491294\ttotal: 371ms\tremaining: 2.86s\n",
      "115:\tlearn: 169.2483859\ttotal: 376ms\tremaining: 2.87s\n",
      "116:\tlearn: 168.7342383\ttotal: 379ms\tremaining: 2.86s\n",
      "117:\tlearn: 168.1837140\ttotal: 382ms\tremaining: 2.85s\n",
      "118:\tlearn: 167.1222358\ttotal: 384ms\tremaining: 2.84s\n",
      "119:\tlearn: 166.3472734\ttotal: 386ms\tremaining: 2.83s\n",
      "120:\tlearn: 165.5330342\ttotal: 390ms\tremaining: 2.84s\n",
      "121:\tlearn: 164.8476246\ttotal: 393ms\tremaining: 2.83s\n",
      "122:\tlearn: 164.2399797\ttotal: 395ms\tremaining: 2.82s\n",
      "123:\tlearn: 164.0121571\ttotal: 398ms\tremaining: 2.81s\n",
      "124:\tlearn: 162.9794212\ttotal: 400ms\tremaining: 2.8s\n",
      "125:\tlearn: 162.2095741\ttotal: 402ms\tremaining: 2.79s\n",
      "126:\tlearn: 161.1695920\ttotal: 405ms\tremaining: 2.78s\n",
      "127:\tlearn: 160.3516612\ttotal: 407ms\tremaining: 2.77s\n",
      "128:\tlearn: 159.1596356\ttotal: 409ms\tremaining: 2.76s\n",
      "129:\tlearn: 158.5354394\ttotal: 411ms\tremaining: 2.75s\n",
      "130:\tlearn: 157.5922383\ttotal: 413ms\tremaining: 2.74s\n",
      "131:\tlearn: 156.9689796\ttotal: 415ms\tremaining: 2.73s\n",
      "132:\tlearn: 156.4170623\ttotal: 417ms\tremaining: 2.72s\n",
      "133:\tlearn: 156.1222595\ttotal: 422ms\tremaining: 2.73s\n",
      "134:\tlearn: 155.5996569\ttotal: 424ms\tremaining: 2.72s\n",
      "135:\tlearn: 154.8990155\ttotal: 426ms\tremaining: 2.71s\n",
      "136:\tlearn: 154.3704896\ttotal: 428ms\tremaining: 2.7s\n",
      "137:\tlearn: 153.8560012\ttotal: 430ms\tremaining: 2.69s\n",
      "138:\tlearn: 153.2399938\ttotal: 432ms\tremaining: 2.68s\n",
      "139:\tlearn: 152.2142414\ttotal: 435ms\tremaining: 2.67s\n",
      "140:\tlearn: 151.5976950\ttotal: 437ms\tremaining: 2.66s\n",
      "141:\tlearn: 151.4426506\ttotal: 439ms\tremaining: 2.65s\n",
      "142:\tlearn: 150.8467135\ttotal: 441ms\tremaining: 2.64s\n",
      "143:\tlearn: 150.0175883\ttotal: 443ms\tremaining: 2.63s\n",
      "144:\tlearn: 149.6327647\ttotal: 445ms\tremaining: 2.62s\n",
      "145:\tlearn: 148.9265718\ttotal: 447ms\tremaining: 2.62s\n",
      "146:\tlearn: 148.4460764\ttotal: 450ms\tremaining: 2.61s\n",
      "147:\tlearn: 147.8108318\ttotal: 452ms\tremaining: 2.6s\n",
      "148:\tlearn: 147.2766525\ttotal: 454ms\tremaining: 2.59s\n",
      "149:\tlearn: 146.8537279\ttotal: 456ms\tremaining: 2.58s\n",
      "150:\tlearn: 146.0227438\ttotal: 458ms\tremaining: 2.57s\n",
      "151:\tlearn: 145.5603059\ttotal: 460ms\tremaining: 2.56s\n",
      "152:\tlearn: 145.0318400\ttotal: 462ms\tremaining: 2.56s\n",
      "153:\tlearn: 144.6082188\ttotal: 465ms\tremaining: 2.55s\n",
      "154:\tlearn: 144.2070501\ttotal: 467ms\tremaining: 2.54s\n",
      "155:\tlearn: 143.8060676\ttotal: 469ms\tremaining: 2.54s\n",
      "156:\tlearn: 143.3819707\ttotal: 471ms\tremaining: 2.53s\n",
      "157:\tlearn: 143.0764402\ttotal: 473ms\tremaining: 2.52s\n",
      "158:\tlearn: 142.4609449\ttotal: 475ms\tremaining: 2.51s\n",
      "159:\tlearn: 142.3321970\ttotal: 477ms\tremaining: 2.5s\n",
      "160:\tlearn: 141.9044208\ttotal: 480ms\tremaining: 2.5s\n",
      "161:\tlearn: 141.4544471\ttotal: 482ms\tremaining: 2.49s\n",
      "162:\tlearn: 140.9391569\ttotal: 484ms\tremaining: 2.48s\n",
      "163:\tlearn: 140.3413557\ttotal: 486ms\tremaining: 2.48s\n",
      "164:\tlearn: 139.7992277\ttotal: 488ms\tremaining: 2.47s\n",
      "165:\tlearn: 139.3139418\ttotal: 490ms\tremaining: 2.46s\n",
      "166:\tlearn: 139.1617594\ttotal: 492ms\tremaining: 2.45s\n",
      "167:\tlearn: 138.8837397\ttotal: 495ms\tremaining: 2.45s\n",
      "168:\tlearn: 138.6951410\ttotal: 498ms\tremaining: 2.45s\n",
      "169:\tlearn: 138.0167618\ttotal: 500ms\tremaining: 2.44s\n",
      "170:\tlearn: 137.7020324\ttotal: 503ms\tremaining: 2.44s\n",
      "171:\tlearn: 137.1976478\ttotal: 505ms\tremaining: 2.43s\n",
      "172:\tlearn: 136.6670434\ttotal: 508ms\tremaining: 2.43s\n",
      "173:\tlearn: 136.4670074\ttotal: 512ms\tremaining: 2.43s\n",
      "174:\tlearn: 136.0663779\ttotal: 516ms\tremaining: 2.43s\n",
      "175:\tlearn: 135.9542221\ttotal: 519ms\tremaining: 2.43s\n",
      "176:\tlearn: 135.6178437\ttotal: 523ms\tremaining: 2.43s\n",
      "177:\tlearn: 134.6062854\ttotal: 527ms\tremaining: 2.43s\n",
      "178:\tlearn: 134.5063344\ttotal: 528ms\tremaining: 2.42s\n",
      "179:\tlearn: 133.9371247\ttotal: 532ms\tremaining: 2.42s\n",
      "180:\tlearn: 133.8431589\ttotal: 533ms\tremaining: 2.41s\n",
      "181:\tlearn: 133.4293648\ttotal: 540ms\tremaining: 2.42s\n",
      "182:\tlearn: 133.2065999\ttotal: 545ms\tremaining: 2.43s\n",
      "183:\tlearn: 132.9235113\ttotal: 551ms\tremaining: 2.44s\n",
      "184:\tlearn: 132.6695944\ttotal: 556ms\tremaining: 2.45s\n",
      "185:\tlearn: 132.3135234\ttotal: 558ms\tremaining: 2.44s\n",
      "186:\tlearn: 132.2233433\ttotal: 560ms\tremaining: 2.43s\n",
      "187:\tlearn: 132.0628764\ttotal: 562ms\tremaining: 2.43s\n",
      "188:\tlearn: 131.8624217\ttotal: 565ms\tremaining: 2.42s\n",
      "189:\tlearn: 131.3846390\ttotal: 567ms\tremaining: 2.42s\n",
      "190:\tlearn: 131.0638781\ttotal: 570ms\tremaining: 2.41s\n",
      "191:\tlearn: 130.4721276\ttotal: 573ms\tremaining: 2.41s\n",
      "192:\tlearn: 129.9910319\ttotal: 575ms\tremaining: 2.4s\n",
      "193:\tlearn: 129.7074214\ttotal: 578ms\tremaining: 2.4s\n",
      "194:\tlearn: 129.0491404\ttotal: 580ms\tremaining: 2.4s\n",
      "195:\tlearn: 128.6928621\ttotal: 584ms\tremaining: 2.4s\n",
      "196:\tlearn: 128.5117514\ttotal: 587ms\tremaining: 2.39s\n",
      "197:\tlearn: 128.4035709\ttotal: 590ms\tremaining: 2.39s\n",
      "198:\tlearn: 127.9924182\ttotal: 592ms\tremaining: 2.38s\n",
      "199:\tlearn: 127.7690317\ttotal: 595ms\tremaining: 2.38s\n",
      "200:\tlearn: 127.6252249\ttotal: 598ms\tremaining: 2.38s\n",
      "201:\tlearn: 127.4951417\ttotal: 602ms\tremaining: 2.38s\n",
      "202:\tlearn: 127.0315349\ttotal: 604ms\tremaining: 2.37s\n",
      "203:\tlearn: 126.7791475\ttotal: 607ms\tremaining: 2.37s\n",
      "204:\tlearn: 126.4903107\ttotal: 609ms\tremaining: 2.36s\n",
      "205:\tlearn: 126.0664803\ttotal: 611ms\tremaining: 2.36s\n",
      "206:\tlearn: 125.3934071\ttotal: 615ms\tremaining: 2.36s\n",
      "207:\tlearn: 125.0899622\ttotal: 618ms\tremaining: 2.35s\n",
      "208:\tlearn: 124.7757310\ttotal: 621ms\tremaining: 2.35s\n",
      "209:\tlearn: 124.5475960\ttotal: 623ms\tremaining: 2.34s\n",
      "210:\tlearn: 124.1962887\ttotal: 625ms\tremaining: 2.34s\n",
      "211:\tlearn: 123.9686937\ttotal: 627ms\tremaining: 2.33s\n",
      "212:\tlearn: 123.0280048\ttotal: 630ms\tremaining: 2.33s\n",
      "213:\tlearn: 122.5447141\ttotal: 633ms\tremaining: 2.33s\n",
      "214:\tlearn: 122.1785305\ttotal: 635ms\tremaining: 2.32s\n",
      "215:\tlearn: 121.4403560\ttotal: 638ms\tremaining: 2.31s\n",
      "216:\tlearn: 120.8269584\ttotal: 641ms\tremaining: 2.31s\n",
      "217:\tlearn: 120.2399329\ttotal: 644ms\tremaining: 2.31s\n",
      "218:\tlearn: 119.4852557\ttotal: 647ms\tremaining: 2.31s\n",
      "219:\tlearn: 119.2094151\ttotal: 649ms\tremaining: 2.3s\n",
      "220:\tlearn: 119.0417229\ttotal: 652ms\tremaining: 2.3s\n",
      "221:\tlearn: 118.9557915\ttotal: 654ms\tremaining: 2.29s\n",
      "222:\tlearn: 118.3082421\ttotal: 656ms\tremaining: 2.29s\n",
      "223:\tlearn: 117.7364211\ttotal: 660ms\tremaining: 2.29s\n",
      "224:\tlearn: 117.6324235\ttotal: 662ms\tremaining: 2.28s\n",
      "225:\tlearn: 117.2879743\ttotal: 665ms\tremaining: 2.27s\n",
      "226:\tlearn: 117.0422612\ttotal: 667ms\tremaining: 2.27s\n",
      "227:\tlearn: 116.8001379\ttotal: 670ms\tremaining: 2.27s\n",
      "228:\tlearn: 116.4854978\ttotal: 672ms\tremaining: 2.26s\n",
      "229:\tlearn: 115.7559740\ttotal: 676ms\tremaining: 2.26s\n",
      "230:\tlearn: 115.1896271\ttotal: 681ms\tremaining: 2.27s\n",
      "231:\tlearn: 114.9666291\ttotal: 685ms\tremaining: 2.27s\n",
      "232:\tlearn: 114.1239318\ttotal: 688ms\tremaining: 2.27s\n",
      "233:\tlearn: 113.9964466\ttotal: 693ms\tremaining: 2.27s\n",
      "234:\tlearn: 113.8912592\ttotal: 697ms\tremaining: 2.27s\n",
      "235:\tlearn: 113.4606970\ttotal: 700ms\tremaining: 2.27s\n",
      "236:\tlearn: 113.0958922\ttotal: 703ms\tremaining: 2.26s\n",
      "237:\tlearn: 113.0091361\ttotal: 708ms\tremaining: 2.27s\n",
      "238:\tlearn: 112.7657197\ttotal: 712ms\tremaining: 2.27s\n",
      "239:\tlearn: 112.2315070\ttotal: 716ms\tremaining: 2.27s\n",
      "240:\tlearn: 111.9507125\ttotal: 719ms\tremaining: 2.26s\n",
      "241:\tlearn: 111.7384492\ttotal: 725ms\tremaining: 2.27s\n",
      "242:\tlearn: 111.0693763\ttotal: 728ms\tremaining: 2.27s\n",
      "243:\tlearn: 110.3499926\ttotal: 731ms\tremaining: 2.26s\n",
      "244:\tlearn: 110.2316231\ttotal: 737ms\tremaining: 2.27s\n",
      "245:\tlearn: 109.6985998\ttotal: 740ms\tremaining: 2.27s\n",
      "246:\tlearn: 109.4279824\ttotal: 743ms\tremaining: 2.27s\n",
      "247:\tlearn: 109.1466762\ttotal: 746ms\tremaining: 2.26s\n",
      "248:\tlearn: 108.9628542\ttotal: 748ms\tremaining: 2.26s\n",
      "249:\tlearn: 108.7268676\ttotal: 752ms\tremaining: 2.25s\n",
      "250:\tlearn: 108.0921190\ttotal: 754ms\tremaining: 2.25s\n",
      "251:\tlearn: 107.6167844\ttotal: 757ms\tremaining: 2.25s\n",
      "252:\tlearn: 106.9716563\ttotal: 759ms\tremaining: 2.24s\n",
      "253:\tlearn: 106.4272485\ttotal: 762ms\tremaining: 2.24s\n",
      "254:\tlearn: 106.2032614\ttotal: 764ms\tremaining: 2.23s\n",
      "255:\tlearn: 105.5756794\ttotal: 768ms\tremaining: 2.23s\n",
      "256:\tlearn: 105.4918649\ttotal: 770ms\tremaining: 2.23s\n",
      "257:\tlearn: 105.2466976\ttotal: 773ms\tremaining: 2.22s\n",
      "258:\tlearn: 105.0461428\ttotal: 775ms\tremaining: 2.22s\n",
      "259:\tlearn: 104.5887628\ttotal: 777ms\tremaining: 2.21s\n",
      "260:\tlearn: 104.1305873\ttotal: 780ms\tremaining: 2.21s\n",
      "261:\tlearn: 103.5527158\ttotal: 782ms\tremaining: 2.2s\n",
      "262:\tlearn: 103.0334823\ttotal: 784ms\tremaining: 2.2s\n",
      "263:\tlearn: 102.6732388\ttotal: 786ms\tremaining: 2.19s\n",
      "264:\tlearn: 102.4678728\ttotal: 789ms\tremaining: 2.19s\n",
      "265:\tlearn: 101.9608852\ttotal: 791ms\tremaining: 2.18s\n",
      "266:\tlearn: 101.4449668\ttotal: 793ms\tremaining: 2.18s\n",
      "267:\tlearn: 100.9647899\ttotal: 795ms\tremaining: 2.17s\n",
      "268:\tlearn: 100.4376357\ttotal: 798ms\tremaining: 2.17s\n",
      "269:\tlearn: 100.1038322\ttotal: 800ms\tremaining: 2.16s\n",
      "270:\tlearn: 99.8991183\ttotal: 802ms\tremaining: 2.16s\n",
      "271:\tlearn: 99.4016031\ttotal: 803ms\tremaining: 2.15s\n",
      "272:\tlearn: 98.9231252\ttotal: 806ms\tremaining: 2.15s\n",
      "273:\tlearn: 98.5734863\ttotal: 808ms\tremaining: 2.14s\n",
      "274:\tlearn: 98.3333355\ttotal: 810ms\tremaining: 2.13s\n",
      "275:\tlearn: 97.9164082\ttotal: 813ms\tremaining: 2.13s\n",
      "276:\tlearn: 97.3911203\ttotal: 815ms\tremaining: 2.13s\n",
      "277:\tlearn: 96.9317789\ttotal: 817ms\tremaining: 2.12s\n",
      "278:\tlearn: 96.6243997\ttotal: 819ms\tremaining: 2.12s\n",
      "279:\tlearn: 96.3288821\ttotal: 821ms\tremaining: 2.11s\n",
      "280:\tlearn: 95.8579534\ttotal: 823ms\tremaining: 2.11s\n",
      "281:\tlearn: 95.4136026\ttotal: 825ms\tremaining: 2.1s\n",
      "282:\tlearn: 95.3442077\ttotal: 829ms\tremaining: 2.1s\n",
      "283:\tlearn: 95.1166584\ttotal: 831ms\tremaining: 2.09s\n",
      "284:\tlearn: 94.8017360\ttotal: 833ms\tremaining: 2.09s\n",
      "285:\tlearn: 94.5863908\ttotal: 835ms\tremaining: 2.08s\n",
      "286:\tlearn: 94.4111694\ttotal: 837ms\tremaining: 2.08s\n",
      "287:\tlearn: 94.2678024\ttotal: 839ms\tremaining: 2.07s\n",
      "288:\tlearn: 93.7753419\ttotal: 841ms\tremaining: 2.07s\n",
      "289:\tlearn: 93.3772710\ttotal: 843ms\tremaining: 2.06s\n",
      "290:\tlearn: 92.8750904\ttotal: 845ms\tremaining: 2.06s\n",
      "291:\tlearn: 92.6654794\ttotal: 847ms\tremaining: 2.05s\n",
      "292:\tlearn: 92.2659876\ttotal: 850ms\tremaining: 2.05s\n",
      "293:\tlearn: 92.0282495\ttotal: 853ms\tremaining: 2.05s\n",
      "294:\tlearn: 91.8288855\ttotal: 855ms\tremaining: 2.04s\n",
      "295:\tlearn: 91.6752612\ttotal: 858ms\tremaining: 2.04s\n",
      "296:\tlearn: 91.2561883\ttotal: 861ms\tremaining: 2.04s\n",
      "297:\tlearn: 91.0227123\ttotal: 864ms\tremaining: 2.03s\n",
      "298:\tlearn: 90.8392142\ttotal: 866ms\tremaining: 2.03s\n",
      "299:\tlearn: 90.6853014\ttotal: 869ms\tremaining: 2.03s\n",
      "300:\tlearn: 90.5986761\ttotal: 873ms\tremaining: 2.03s\n",
      "301:\tlearn: 90.2180036\ttotal: 875ms\tremaining: 2.02s\n",
      "302:\tlearn: 89.8313622\ttotal: 878ms\tremaining: 2.02s\n",
      "303:\tlearn: 89.6872837\ttotal: 880ms\tremaining: 2.02s\n",
      "304:\tlearn: 89.3853276\ttotal: 883ms\tremaining: 2.01s\n",
      "305:\tlearn: 88.9459206\ttotal: 885ms\tremaining: 2.01s\n",
      "306:\tlearn: 88.7258770\ttotal: 888ms\tremaining: 2s\n",
      "307:\tlearn: 88.5374358\ttotal: 893ms\tremaining: 2s\n",
      "308:\tlearn: 88.0624447\ttotal: 897ms\tremaining: 2s\n",
      "309:\tlearn: 87.7942692\ttotal: 900ms\tremaining: 2s\n",
      "310:\tlearn: 87.6354184\ttotal: 904ms\tremaining: 2s\n",
      "311:\tlearn: 87.4879486\ttotal: 907ms\tremaining: 2s\n",
      "312:\tlearn: 87.0294739\ttotal: 909ms\tremaining: 2s\n",
      "313:\tlearn: 86.6746221\ttotal: 912ms\tremaining: 1.99s\n",
      "314:\tlearn: 86.2792146\ttotal: 914ms\tremaining: 1.99s\n",
      "315:\tlearn: 86.2127070\ttotal: 918ms\tremaining: 1.99s\n",
      "316:\tlearn: 86.1507368\ttotal: 920ms\tremaining: 1.98s\n",
      "317:\tlearn: 85.7089141\ttotal: 922ms\tremaining: 1.98s\n",
      "318:\tlearn: 85.6035137\ttotal: 925ms\tremaining: 1.97s\n",
      "319:\tlearn: 85.3587988\ttotal: 928ms\tremaining: 1.97s\n",
      "320:\tlearn: 84.9660906\ttotal: 930ms\tremaining: 1.97s\n",
      "321:\tlearn: 84.5474713\ttotal: 934ms\tremaining: 1.97s\n",
      "322:\tlearn: 84.1996852\ttotal: 936ms\tremaining: 1.96s\n",
      "323:\tlearn: 84.0654282\ttotal: 939ms\tremaining: 1.96s\n",
      "324:\tlearn: 83.7937327\ttotal: 941ms\tremaining: 1.95s\n",
      "325:\tlearn: 83.5064288\ttotal: 944ms\tremaining: 1.95s\n",
      "326:\tlearn: 83.3997655\ttotal: 946ms\tremaining: 1.95s\n",
      "327:\tlearn: 83.2958622\ttotal: 949ms\tremaining: 1.94s\n",
      "328:\tlearn: 82.9877578\ttotal: 952ms\tremaining: 1.94s\n",
      "329:\tlearn: 82.6286638\ttotal: 954ms\tremaining: 1.94s\n",
      "330:\tlearn: 82.2827132\ttotal: 956ms\tremaining: 1.93s\n",
      "331:\tlearn: 82.0895251\ttotal: 958ms\tremaining: 1.93s\n",
      "332:\tlearn: 82.0130649\ttotal: 960ms\tremaining: 1.92s\n",
      "333:\tlearn: 81.6771734\ttotal: 963ms\tremaining: 1.92s\n",
      "334:\tlearn: 81.3519124\ttotal: 965ms\tremaining: 1.91s\n",
      "335:\tlearn: 81.0170326\ttotal: 967ms\tremaining: 1.91s\n",
      "336:\tlearn: 80.6917886\ttotal: 969ms\tremaining: 1.91s\n",
      "337:\tlearn: 80.3455177\ttotal: 971ms\tremaining: 1.9s\n",
      "338:\tlearn: 80.0260727\ttotal: 973ms\tremaining: 1.9s\n",
      "339:\tlearn: 79.9154748\ttotal: 975ms\tremaining: 1.89s\n",
      "340:\tlearn: 79.7813079\ttotal: 978ms\tremaining: 1.89s\n",
      "341:\tlearn: 79.3513293\ttotal: 980ms\tremaining: 1.88s\n",
      "342:\tlearn: 78.8666019\ttotal: 982ms\tremaining: 1.88s\n",
      "343:\tlearn: 78.7959013\ttotal: 984ms\tremaining: 1.88s\n",
      "344:\tlearn: 78.7081334\ttotal: 986ms\tremaining: 1.87s\n",
      "345:\tlearn: 78.3354931\ttotal: 988ms\tremaining: 1.87s\n",
      "346:\tlearn: 77.9475067\ttotal: 990ms\tremaining: 1.86s\n",
      "347:\tlearn: 77.8910420\ttotal: 993ms\tremaining: 1.86s\n",
      "348:\tlearn: 77.5461672\ttotal: 995ms\tremaining: 1.85s\n",
      "349:\tlearn: 77.3717101\ttotal: 997ms\tremaining: 1.85s\n",
      "350:\tlearn: 77.0729657\ttotal: 999ms\tremaining: 1.85s\n",
      "351:\tlearn: 76.7699287\ttotal: 1s\tremaining: 1.84s\n",
      "352:\tlearn: 76.6029759\ttotal: 1s\tremaining: 1.84s\n",
      "353:\tlearn: 76.1642615\ttotal: 1s\tremaining: 1.83s\n",
      "354:\tlearn: 76.1202523\ttotal: 1.01s\tremaining: 1.83s\n",
      "355:\tlearn: 75.9487132\ttotal: 1.01s\tremaining: 1.83s\n",
      "356:\tlearn: 75.6748479\ttotal: 1.01s\tremaining: 1.82s\n",
      "357:\tlearn: 75.4290864\ttotal: 1.01s\tremaining: 1.82s\n",
      "358:\tlearn: 75.0463849\ttotal: 1.01s\tremaining: 1.81s\n",
      "359:\tlearn: 74.9902381\ttotal: 1.02s\tremaining: 1.81s\n",
      "360:\tlearn: 74.5243875\ttotal: 1.02s\tremaining: 1.81s\n",
      "361:\tlearn: 74.1913065\ttotal: 1.02s\tremaining: 1.8s\n",
      "362:\tlearn: 73.8413359\ttotal: 1.03s\tremaining: 1.8s\n",
      "363:\tlearn: 73.7602119\ttotal: 1.03s\tremaining: 1.8s\n",
      "364:\tlearn: 73.3278135\ttotal: 1.03s\tremaining: 1.79s\n",
      "365:\tlearn: 72.9524336\ttotal: 1.03s\tremaining: 1.79s\n",
      "366:\tlearn: 72.6791856\ttotal: 1.04s\tremaining: 1.79s\n",
      "367:\tlearn: 72.4333577\ttotal: 1.04s\tremaining: 1.79s\n",
      "368:\tlearn: 72.1672937\ttotal: 1.04s\tremaining: 1.79s\n",
      "369:\tlearn: 71.9070276\ttotal: 1.05s\tremaining: 1.78s\n",
      "370:\tlearn: 71.5496196\ttotal: 1.05s\tremaining: 1.78s\n",
      "371:\tlearn: 71.3161902\ttotal: 1.05s\tremaining: 1.78s\n",
      "372:\tlearn: 71.1259191\ttotal: 1.06s\tremaining: 1.78s\n",
      "373:\tlearn: 70.9889962\ttotal: 1.06s\tremaining: 1.78s\n",
      "374:\tlearn: 70.7417966\ttotal: 1.06s\tremaining: 1.77s\n",
      "375:\tlearn: 70.4931174\ttotal: 1.07s\tremaining: 1.77s\n",
      "376:\tlearn: 70.3300576\ttotal: 1.08s\tremaining: 1.78s\n",
      "377:\tlearn: 69.9233248\ttotal: 1.08s\tremaining: 1.77s\n",
      "378:\tlearn: 69.6261005\ttotal: 1.08s\tremaining: 1.77s\n",
      "379:\tlearn: 69.3989708\ttotal: 1.09s\tremaining: 1.77s\n",
      "380:\tlearn: 69.0085387\ttotal: 1.09s\tremaining: 1.77s\n",
      "381:\tlearn: 68.7604153\ttotal: 1.09s\tremaining: 1.77s\n",
      "382:\tlearn: 68.4602767\ttotal: 1.09s\tremaining: 1.76s\n",
      "383:\tlearn: 68.1005452\ttotal: 1.1s\tremaining: 1.76s\n",
      "384:\tlearn: 68.0540467\ttotal: 1.1s\tremaining: 1.76s\n",
      "385:\tlearn: 67.8972753\ttotal: 1.1s\tremaining: 1.76s\n",
      "386:\tlearn: 67.5389629\ttotal: 1.11s\tremaining: 1.75s\n",
      "387:\tlearn: 67.2390178\ttotal: 1.11s\tremaining: 1.75s\n",
      "388:\tlearn: 67.0279888\ttotal: 1.11s\tremaining: 1.75s\n",
      "389:\tlearn: 66.8375919\ttotal: 1.11s\tremaining: 1.74s\n",
      "390:\tlearn: 66.4118315\ttotal: 1.12s\tremaining: 1.74s\n",
      "391:\tlearn: 66.3642690\ttotal: 1.12s\tremaining: 1.74s\n",
      "392:\tlearn: 66.1673138\ttotal: 1.12s\tremaining: 1.73s\n",
      "393:\tlearn: 66.0177482\ttotal: 1.12s\tremaining: 1.73s\n",
      "394:\tlearn: 65.8018038\ttotal: 1.13s\tremaining: 1.73s\n",
      "395:\tlearn: 65.6886505\ttotal: 1.13s\tremaining: 1.73s\n",
      "396:\tlearn: 65.6120185\ttotal: 1.13s\tremaining: 1.72s\n",
      "397:\tlearn: 65.5746662\ttotal: 1.14s\tremaining: 1.72s\n",
      "398:\tlearn: 65.2974851\ttotal: 1.14s\tremaining: 1.72s\n",
      "399:\tlearn: 65.2464764\ttotal: 1.14s\tremaining: 1.71s\n",
      "400:\tlearn: 65.1241314\ttotal: 1.14s\tremaining: 1.71s\n",
      "401:\tlearn: 65.0515740\ttotal: 1.15s\tremaining: 1.71s\n",
      "402:\tlearn: 64.8089636\ttotal: 1.15s\tremaining: 1.7s\n",
      "403:\tlearn: 64.5992230\ttotal: 1.15s\tremaining: 1.7s\n",
      "404:\tlearn: 64.2907010\ttotal: 1.16s\tremaining: 1.7s\n",
      "405:\tlearn: 64.1568642\ttotal: 1.16s\tremaining: 1.69s\n",
      "406:\tlearn: 63.8279106\ttotal: 1.16s\tremaining: 1.69s\n",
      "407:\tlearn: 63.5558565\ttotal: 1.16s\tremaining: 1.69s\n",
      "408:\tlearn: 63.3865445\ttotal: 1.17s\tremaining: 1.68s\n",
      "409:\tlearn: 63.2752408\ttotal: 1.17s\tremaining: 1.68s\n",
      "410:\tlearn: 63.1070190\ttotal: 1.17s\tremaining: 1.68s\n",
      "411:\tlearn: 62.7868376\ttotal: 1.17s\tremaining: 1.68s\n",
      "412:\tlearn: 62.5345803\ttotal: 1.18s\tremaining: 1.67s\n",
      "413:\tlearn: 62.2729058\ttotal: 1.18s\tremaining: 1.67s\n",
      "414:\tlearn: 61.9850985\ttotal: 1.18s\tremaining: 1.67s\n",
      "415:\tlearn: 61.7784164\ttotal: 1.18s\tremaining: 1.66s\n",
      "416:\tlearn: 61.7431976\ttotal: 1.19s\tremaining: 1.66s\n",
      "417:\tlearn: 61.4309964\ttotal: 1.19s\tremaining: 1.66s\n",
      "418:\tlearn: 61.3513660\ttotal: 1.2s\tremaining: 1.66s\n",
      "419:\tlearn: 61.1253739\ttotal: 1.2s\tremaining: 1.65s\n",
      "420:\tlearn: 61.0742571\ttotal: 1.2s\tremaining: 1.65s\n",
      "421:\tlearn: 61.0390980\ttotal: 1.2s\tremaining: 1.65s\n",
      "422:\tlearn: 61.0095757\ttotal: 1.21s\tremaining: 1.64s\n",
      "423:\tlearn: 60.6843255\ttotal: 1.21s\tremaining: 1.64s\n",
      "424:\tlearn: 60.4045551\ttotal: 1.21s\tremaining: 1.64s\n",
      "425:\tlearn: 60.3649587\ttotal: 1.21s\tremaining: 1.64s\n",
      "426:\tlearn: 60.3315828\ttotal: 1.22s\tremaining: 1.63s\n",
      "427:\tlearn: 60.1047027\ttotal: 1.22s\tremaining: 1.63s\n",
      "428:\tlearn: 59.9170736\ttotal: 1.22s\tremaining: 1.63s\n",
      "429:\tlearn: 59.6875648\ttotal: 1.23s\tremaining: 1.63s\n",
      "430:\tlearn: 59.6662150\ttotal: 1.23s\tremaining: 1.62s\n",
      "431:\tlearn: 59.4208112\ttotal: 1.23s\tremaining: 1.62s\n",
      "432:\tlearn: 59.2358034\ttotal: 1.24s\tremaining: 1.62s\n",
      "433:\tlearn: 58.9818868\ttotal: 1.24s\tremaining: 1.62s\n",
      "434:\tlearn: 58.7089433\ttotal: 1.24s\tremaining: 1.61s\n",
      "435:\tlearn: 58.5898817\ttotal: 1.25s\tremaining: 1.61s\n",
      "436:\tlearn: 58.5425342\ttotal: 1.25s\tremaining: 1.61s\n",
      "437:\tlearn: 58.2884605\ttotal: 1.25s\tremaining: 1.61s\n",
      "438:\tlearn: 58.2643873\ttotal: 1.26s\tremaining: 1.61s\n",
      "439:\tlearn: 58.2330868\ttotal: 1.26s\tremaining: 1.6s\n",
      "440:\tlearn: 57.9676592\ttotal: 1.26s\tremaining: 1.6s\n",
      "441:\tlearn: 57.7670212\ttotal: 1.27s\tremaining: 1.6s\n",
      "442:\tlearn: 57.5322464\ttotal: 1.27s\tremaining: 1.6s\n",
      "443:\tlearn: 57.2771620\ttotal: 1.27s\tremaining: 1.6s\n",
      "444:\tlearn: 57.0227885\ttotal: 1.28s\tremaining: 1.59s\n",
      "445:\tlearn: 56.7616770\ttotal: 1.28s\tremaining: 1.59s\n",
      "446:\tlearn: 56.7367450\ttotal: 1.28s\tremaining: 1.59s\n",
      "447:\tlearn: 56.6715001\ttotal: 1.29s\tremaining: 1.59s\n",
      "448:\tlearn: 56.4881346\ttotal: 1.29s\tremaining: 1.58s\n",
      "449:\tlearn: 56.3749776\ttotal: 1.29s\tremaining: 1.58s\n",
      "450:\tlearn: 56.2172319\ttotal: 1.3s\tremaining: 1.58s\n",
      "451:\tlearn: 55.9461925\ttotal: 1.3s\tremaining: 1.58s\n",
      "452:\tlearn: 55.8884270\ttotal: 1.3s\tremaining: 1.57s\n",
      "453:\tlearn: 55.7987432\ttotal: 1.31s\tremaining: 1.57s\n",
      "454:\tlearn: 55.7376337\ttotal: 1.31s\tremaining: 1.57s\n",
      "455:\tlearn: 55.5150595\ttotal: 1.31s\tremaining: 1.57s\n",
      "456:\tlearn: 55.4819680\ttotal: 1.32s\tremaining: 1.56s\n",
      "457:\tlearn: 55.1719919\ttotal: 1.32s\tremaining: 1.56s\n",
      "458:\tlearn: 55.1295759\ttotal: 1.32s\tremaining: 1.56s\n",
      "459:\tlearn: 55.0856302\ttotal: 1.33s\tremaining: 1.56s\n",
      "460:\tlearn: 54.8056235\ttotal: 1.33s\tremaining: 1.55s\n",
      "461:\tlearn: 54.4030407\ttotal: 1.33s\tremaining: 1.55s\n",
      "462:\tlearn: 54.3308204\ttotal: 1.34s\tremaining: 1.55s\n",
      "463:\tlearn: 54.0283724\ttotal: 1.34s\tremaining: 1.55s\n",
      "464:\tlearn: 53.9962714\ttotal: 1.34s\tremaining: 1.54s\n",
      "465:\tlearn: 53.8149476\ttotal: 1.34s\tremaining: 1.54s\n",
      "466:\tlearn: 53.7806209\ttotal: 1.35s\tremaining: 1.54s\n",
      "467:\tlearn: 53.7585727\ttotal: 1.35s\tremaining: 1.54s\n",
      "468:\tlearn: 53.5042777\ttotal: 1.36s\tremaining: 1.53s\n",
      "469:\tlearn: 53.3257034\ttotal: 1.36s\tremaining: 1.53s\n",
      "470:\tlearn: 53.0801119\ttotal: 1.36s\tremaining: 1.53s\n",
      "471:\tlearn: 53.0136550\ttotal: 1.37s\tremaining: 1.53s\n",
      "472:\tlearn: 52.9408930\ttotal: 1.37s\tremaining: 1.53s\n",
      "473:\tlearn: 52.7089062\ttotal: 1.37s\tremaining: 1.52s\n",
      "474:\tlearn: 52.6819781\ttotal: 1.38s\tremaining: 1.52s\n",
      "475:\tlearn: 52.5065568\ttotal: 1.38s\tremaining: 1.52s\n",
      "476:\tlearn: 52.3688770\ttotal: 1.38s\tremaining: 1.52s\n",
      "477:\tlearn: 52.2402473\ttotal: 1.39s\tremaining: 1.51s\n",
      "478:\tlearn: 52.1406517\ttotal: 1.39s\tremaining: 1.51s\n",
      "479:\tlearn: 52.1107144\ttotal: 1.39s\tremaining: 1.51s\n",
      "480:\tlearn: 51.9239449\ttotal: 1.4s\tremaining: 1.5s\n",
      "481:\tlearn: 51.7096820\ttotal: 1.4s\tremaining: 1.5s\n",
      "482:\tlearn: 51.6266918\ttotal: 1.4s\tremaining: 1.5s\n",
      "483:\tlearn: 51.5969797\ttotal: 1.41s\tremaining: 1.5s\n",
      "484:\tlearn: 51.4480162\ttotal: 1.41s\tremaining: 1.5s\n",
      "485:\tlearn: 51.2269261\ttotal: 1.41s\tremaining: 1.49s\n",
      "486:\tlearn: 50.9904632\ttotal: 1.42s\tremaining: 1.49s\n",
      "487:\tlearn: 50.9342043\ttotal: 1.42s\tremaining: 1.49s\n",
      "488:\tlearn: 50.8423680\ttotal: 1.42s\tremaining: 1.49s\n",
      "489:\tlearn: 50.7269788\ttotal: 1.43s\tremaining: 1.48s\n",
      "490:\tlearn: 50.5384699\ttotal: 1.43s\tremaining: 1.48s\n",
      "491:\tlearn: 50.5047793\ttotal: 1.44s\tremaining: 1.48s\n",
      "492:\tlearn: 50.3234448\ttotal: 1.44s\tremaining: 1.48s\n",
      "493:\tlearn: 50.1653421\ttotal: 1.44s\tremaining: 1.48s\n",
      "494:\tlearn: 49.9835558\ttotal: 1.45s\tremaining: 1.48s\n",
      "495:\tlearn: 49.8884283\ttotal: 1.46s\tremaining: 1.48s\n",
      "496:\tlearn: 49.6217364\ttotal: 1.46s\tremaining: 1.48s\n",
      "497:\tlearn: 49.5268562\ttotal: 1.46s\tremaining: 1.47s\n",
      "498:\tlearn: 49.3078402\ttotal: 1.47s\tremaining: 1.47s\n",
      "499:\tlearn: 49.2571676\ttotal: 1.47s\tremaining: 1.47s\n",
      "500:\tlearn: 49.2173141\ttotal: 1.47s\tremaining: 1.47s\n",
      "501:\tlearn: 48.9813103\ttotal: 1.48s\tremaining: 1.46s\n",
      "502:\tlearn: 48.8304542\ttotal: 1.48s\tremaining: 1.46s\n",
      "503:\tlearn: 48.7430936\ttotal: 1.48s\tremaining: 1.46s\n",
      "504:\tlearn: 48.5493989\ttotal: 1.49s\tremaining: 1.46s\n",
      "505:\tlearn: 48.5134839\ttotal: 1.49s\tremaining: 1.46s\n",
      "506:\tlearn: 48.3516141\ttotal: 1.5s\tremaining: 1.45s\n",
      "507:\tlearn: 48.0631542\ttotal: 1.5s\tremaining: 1.45s\n",
      "508:\tlearn: 47.8591880\ttotal: 1.5s\tremaining: 1.45s\n",
      "509:\tlearn: 47.7182444\ttotal: 1.51s\tremaining: 1.45s\n",
      "510:\tlearn: 47.6301870\ttotal: 1.51s\tremaining: 1.45s\n",
      "511:\tlearn: 47.4767324\ttotal: 1.52s\tremaining: 1.45s\n",
      "512:\tlearn: 47.2822625\ttotal: 1.52s\tremaining: 1.44s\n",
      "513:\tlearn: 47.1022658\ttotal: 1.52s\tremaining: 1.44s\n",
      "514:\tlearn: 47.0536181\ttotal: 1.53s\tremaining: 1.44s\n",
      "515:\tlearn: 47.0249559\ttotal: 1.53s\tremaining: 1.44s\n",
      "516:\tlearn: 46.8789720\ttotal: 1.54s\tremaining: 1.44s\n",
      "517:\tlearn: 46.7133769\ttotal: 1.54s\tremaining: 1.44s\n",
      "518:\tlearn: 46.5157986\ttotal: 1.55s\tremaining: 1.43s\n",
      "519:\tlearn: 46.3630405\ttotal: 1.55s\tremaining: 1.43s\n",
      "520:\tlearn: 46.1730188\ttotal: 1.56s\tremaining: 1.43s\n",
      "521:\tlearn: 46.1360908\ttotal: 1.56s\tremaining: 1.43s\n",
      "522:\tlearn: 45.9652487\ttotal: 1.56s\tremaining: 1.43s\n",
      "523:\tlearn: 45.8122703\ttotal: 1.57s\tremaining: 1.42s\n",
      "524:\tlearn: 45.4984451\ttotal: 1.57s\tremaining: 1.42s\n",
      "525:\tlearn: 45.3161076\ttotal: 1.57s\tremaining: 1.42s\n",
      "526:\tlearn: 45.2802854\ttotal: 1.58s\tremaining: 1.42s\n",
      "527:\tlearn: 45.2448275\ttotal: 1.58s\tremaining: 1.41s\n",
      "528:\tlearn: 45.0816321\ttotal: 1.58s\tremaining: 1.41s\n",
      "529:\tlearn: 44.9794319\ttotal: 1.59s\tremaining: 1.41s\n",
      "530:\tlearn: 44.6832140\ttotal: 1.59s\tremaining: 1.41s\n",
      "531:\tlearn: 44.4460046\ttotal: 1.59s\tremaining: 1.4s\n",
      "532:\tlearn: 44.2118287\ttotal: 1.6s\tremaining: 1.4s\n",
      "533:\tlearn: 44.0693524\ttotal: 1.6s\tremaining: 1.4s\n",
      "534:\tlearn: 43.7781614\ttotal: 1.6s\tremaining: 1.39s\n",
      "535:\tlearn: 43.5541731\ttotal: 1.61s\tremaining: 1.39s\n",
      "536:\tlearn: 43.5134866\ttotal: 1.61s\tremaining: 1.39s\n",
      "537:\tlearn: 43.3609810\ttotal: 1.61s\tremaining: 1.39s\n",
      "538:\tlearn: 43.1828364\ttotal: 1.62s\tremaining: 1.38s\n",
      "539:\tlearn: 43.1681810\ttotal: 1.62s\tremaining: 1.38s\n",
      "540:\tlearn: 43.0597548\ttotal: 1.62s\tremaining: 1.38s\n",
      "541:\tlearn: 43.0399237\ttotal: 1.63s\tremaining: 1.37s\n",
      "542:\tlearn: 42.7955247\ttotal: 1.63s\tremaining: 1.37s\n",
      "543:\tlearn: 42.5339065\ttotal: 1.63s\tremaining: 1.37s\n",
      "544:\tlearn: 42.4295635\ttotal: 1.64s\tremaining: 1.37s\n",
      "545:\tlearn: 42.2338376\ttotal: 1.64s\tremaining: 1.36s\n",
      "546:\tlearn: 42.0124060\ttotal: 1.64s\tremaining: 1.36s\n",
      "547:\tlearn: 41.8255183\ttotal: 1.65s\tremaining: 1.36s\n",
      "548:\tlearn: 41.6388681\ttotal: 1.65s\tremaining: 1.36s\n",
      "549:\tlearn: 41.4001270\ttotal: 1.65s\tremaining: 1.35s\n",
      "550:\tlearn: 41.1013528\ttotal: 1.66s\tremaining: 1.35s\n",
      "551:\tlearn: 41.0100295\ttotal: 1.66s\tremaining: 1.35s\n",
      "552:\tlearn: 40.9906076\ttotal: 1.66s\tremaining: 1.34s\n",
      "553:\tlearn: 40.8809109\ttotal: 1.67s\tremaining: 1.34s\n",
      "554:\tlearn: 40.7831302\ttotal: 1.67s\tremaining: 1.34s\n",
      "555:\tlearn: 40.7317763\ttotal: 1.67s\tremaining: 1.33s\n",
      "556:\tlearn: 40.6321710\ttotal: 1.68s\tremaining: 1.33s\n",
      "557:\tlearn: 40.4475073\ttotal: 1.68s\tremaining: 1.33s\n",
      "558:\tlearn: 40.2859957\ttotal: 1.68s\tremaining: 1.33s\n",
      "559:\tlearn: 40.0262057\ttotal: 1.69s\tremaining: 1.32s\n",
      "560:\tlearn: 39.9326350\ttotal: 1.69s\tremaining: 1.32s\n",
      "561:\tlearn: 39.8735956\ttotal: 1.69s\tremaining: 1.32s\n",
      "562:\tlearn: 39.7083019\ttotal: 1.69s\tremaining: 1.31s\n",
      "563:\tlearn: 39.5379855\ttotal: 1.7s\tremaining: 1.31s\n",
      "564:\tlearn: 39.3451301\ttotal: 1.7s\tremaining: 1.31s\n",
      "565:\tlearn: 39.2041273\ttotal: 1.7s\tremaining: 1.3s\n",
      "566:\tlearn: 38.9870162\ttotal: 1.7s\tremaining: 1.3s\n",
      "567:\tlearn: 38.8638040\ttotal: 1.71s\tremaining: 1.3s\n",
      "568:\tlearn: 38.7752116\ttotal: 1.71s\tremaining: 1.3s\n",
      "569:\tlearn: 38.6530297\ttotal: 1.72s\tremaining: 1.29s\n",
      "570:\tlearn: 38.5505372\ttotal: 1.72s\tremaining: 1.29s\n",
      "571:\tlearn: 38.5134486\ttotal: 1.72s\tremaining: 1.29s\n",
      "572:\tlearn: 38.3680902\ttotal: 1.73s\tremaining: 1.28s\n",
      "573:\tlearn: 38.1897295\ttotal: 1.73s\tremaining: 1.28s\n",
      "574:\tlearn: 38.1083536\ttotal: 1.73s\tremaining: 1.28s\n",
      "575:\tlearn: 37.9229216\ttotal: 1.74s\tremaining: 1.28s\n",
      "576:\tlearn: 37.8377087\ttotal: 1.74s\tremaining: 1.28s\n",
      "577:\tlearn: 37.7966900\ttotal: 1.75s\tremaining: 1.27s\n",
      "578:\tlearn: 37.6700761\ttotal: 1.75s\tremaining: 1.27s\n",
      "579:\tlearn: 37.6355177\ttotal: 1.75s\tremaining: 1.27s\n",
      "580:\tlearn: 37.4648199\ttotal: 1.75s\tremaining: 1.26s\n",
      "581:\tlearn: 37.2959505\ttotal: 1.76s\tremaining: 1.26s\n",
      "582:\tlearn: 37.1423961\ttotal: 1.76s\tremaining: 1.26s\n",
      "583:\tlearn: 36.9297315\ttotal: 1.76s\tremaining: 1.26s\n",
      "584:\tlearn: 36.8850382\ttotal: 1.77s\tremaining: 1.25s\n",
      "585:\tlearn: 36.7546519\ttotal: 1.77s\tremaining: 1.25s\n",
      "586:\tlearn: 36.7377554\ttotal: 1.77s\tremaining: 1.25s\n",
      "587:\tlearn: 36.6899102\ttotal: 1.78s\tremaining: 1.25s\n",
      "588:\tlearn: 36.5617094\ttotal: 1.78s\tremaining: 1.24s\n",
      "589:\tlearn: 36.4272921\ttotal: 1.79s\tremaining: 1.24s\n",
      "590:\tlearn: 36.2657889\ttotal: 1.79s\tremaining: 1.24s\n",
      "591:\tlearn: 36.2539345\ttotal: 1.79s\tremaining: 1.23s\n",
      "592:\tlearn: 36.2314399\ttotal: 1.79s\tremaining: 1.23s\n",
      "593:\tlearn: 36.0683824\ttotal: 1.8s\tremaining: 1.23s\n",
      "594:\tlearn: 35.9283095\ttotal: 1.8s\tremaining: 1.23s\n",
      "595:\tlearn: 35.7968288\ttotal: 1.81s\tremaining: 1.23s\n",
      "596:\tlearn: 35.7223423\ttotal: 1.81s\tremaining: 1.22s\n",
      "597:\tlearn: 35.5848854\ttotal: 1.81s\tremaining: 1.22s\n",
      "598:\tlearn: 35.4754344\ttotal: 1.81s\tremaining: 1.22s\n",
      "599:\tlearn: 35.3533890\ttotal: 1.82s\tremaining: 1.21s\n",
      "600:\tlearn: 35.2201505\ttotal: 1.82s\tremaining: 1.21s\n",
      "601:\tlearn: 35.0873272\ttotal: 1.82s\tremaining: 1.21s\n",
      "602:\tlearn: 35.0461873\ttotal: 1.83s\tremaining: 1.2s\n",
      "603:\tlearn: 34.9273071\ttotal: 1.83s\tremaining: 1.2s\n",
      "604:\tlearn: 34.8162855\ttotal: 1.83s\tremaining: 1.2s\n",
      "605:\tlearn: 34.7130059\ttotal: 1.83s\tremaining: 1.19s\n",
      "606:\tlearn: 34.5585617\ttotal: 1.84s\tremaining: 1.19s\n",
      "607:\tlearn: 34.4611907\ttotal: 1.84s\tremaining: 1.19s\n",
      "608:\tlearn: 34.4326546\ttotal: 1.84s\tremaining: 1.18s\n",
      "609:\tlearn: 34.2846979\ttotal: 1.84s\tremaining: 1.18s\n",
      "610:\tlearn: 34.1734501\ttotal: 1.85s\tremaining: 1.18s\n",
      "611:\tlearn: 34.0230965\ttotal: 1.85s\tremaining: 1.17s\n",
      "612:\tlearn: 33.8282501\ttotal: 1.85s\tremaining: 1.17s\n",
      "613:\tlearn: 33.7746747\ttotal: 1.86s\tremaining: 1.17s\n",
      "614:\tlearn: 33.7068386\ttotal: 1.86s\tremaining: 1.16s\n",
      "615:\tlearn: 33.5780800\ttotal: 1.86s\tremaining: 1.16s\n",
      "616:\tlearn: 33.4695325\ttotal: 1.86s\tremaining: 1.16s\n",
      "617:\tlearn: 33.3463443\ttotal: 1.87s\tremaining: 1.15s\n",
      "618:\tlearn: 33.2877395\ttotal: 1.87s\tremaining: 1.15s\n",
      "619:\tlearn: 33.2418826\ttotal: 1.87s\tremaining: 1.15s\n",
      "620:\tlearn: 33.1045465\ttotal: 1.87s\tremaining: 1.14s\n",
      "621:\tlearn: 32.9400639\ttotal: 1.88s\tremaining: 1.14s\n",
      "622:\tlearn: 32.8996970\ttotal: 1.88s\tremaining: 1.14s\n",
      "623:\tlearn: 32.7429487\ttotal: 1.88s\tremaining: 1.13s\n",
      "624:\tlearn: 32.6132355\ttotal: 1.89s\tremaining: 1.13s\n",
      "625:\tlearn: 32.4714976\ttotal: 1.89s\tremaining: 1.13s\n",
      "626:\tlearn: 32.4320448\ttotal: 1.89s\tremaining: 1.13s\n",
      "627:\tlearn: 32.2628258\ttotal: 1.9s\tremaining: 1.12s\n",
      "628:\tlearn: 32.2038569\ttotal: 1.9s\tremaining: 1.12s\n",
      "629:\tlearn: 32.0940738\ttotal: 1.9s\tremaining: 1.12s\n",
      "630:\tlearn: 32.0068495\ttotal: 1.91s\tremaining: 1.11s\n",
      "631:\tlearn: 31.9053748\ttotal: 1.91s\tremaining: 1.11s\n",
      "632:\tlearn: 31.7715772\ttotal: 1.91s\tremaining: 1.11s\n",
      "633:\tlearn: 31.6687835\ttotal: 1.92s\tremaining: 1.1s\n",
      "634:\tlearn: 31.6368050\ttotal: 1.92s\tremaining: 1.1s\n",
      "635:\tlearn: 31.5709628\ttotal: 1.92s\tremaining: 1.1s\n",
      "636:\tlearn: 31.4052213\ttotal: 1.93s\tremaining: 1.1s\n",
      "637:\tlearn: 31.2452229\ttotal: 1.93s\tremaining: 1.09s\n",
      "638:\tlearn: 31.1221828\ttotal: 1.93s\tremaining: 1.09s\n",
      "639:\tlearn: 31.0853500\ttotal: 1.93s\tremaining: 1.09s\n",
      "640:\tlearn: 30.9167355\ttotal: 1.94s\tremaining: 1.08s\n",
      "641:\tlearn: 30.8667253\ttotal: 1.94s\tremaining: 1.08s\n",
      "642:\tlearn: 30.7427129\ttotal: 1.95s\tremaining: 1.08s\n",
      "643:\tlearn: 30.5748228\ttotal: 1.95s\tremaining: 1.08s\n",
      "644:\tlearn: 30.5080592\ttotal: 1.95s\tremaining: 1.07s\n",
      "645:\tlearn: 30.3444228\ttotal: 1.96s\tremaining: 1.07s\n",
      "646:\tlearn: 30.1858385\ttotal: 1.96s\tremaining: 1.07s\n",
      "647:\tlearn: 30.1481951\ttotal: 1.96s\tremaining: 1.07s\n",
      "648:\tlearn: 30.1139150\ttotal: 1.97s\tremaining: 1.06s\n",
      "649:\tlearn: 30.0147177\ttotal: 1.97s\tremaining: 1.06s\n",
      "650:\tlearn: 29.8610501\ttotal: 1.97s\tremaining: 1.06s\n",
      "651:\tlearn: 29.7793561\ttotal: 1.98s\tremaining: 1.05s\n",
      "652:\tlearn: 29.6870188\ttotal: 1.98s\tremaining: 1.05s\n",
      "653:\tlearn: 29.6229921\ttotal: 1.98s\tremaining: 1.05s\n",
      "654:\tlearn: 29.5806823\ttotal: 1.98s\tremaining: 1.04s\n",
      "655:\tlearn: 29.4903496\ttotal: 1.99s\tremaining: 1.04s\n",
      "656:\tlearn: 29.4011642\ttotal: 1.99s\tremaining: 1.04s\n",
      "657:\tlearn: 29.3880977\ttotal: 1.99s\tremaining: 1.03s\n",
      "658:\tlearn: 29.2615919\ttotal: 1.99s\tremaining: 1.03s\n",
      "659:\tlearn: 29.1004727\ttotal: 2s\tremaining: 1.03s\n",
      "660:\tlearn: 29.0530692\ttotal: 2s\tremaining: 1.02s\n",
      "661:\tlearn: 28.9863628\ttotal: 2s\tremaining: 1.02s\n",
      "662:\tlearn: 28.8714304\ttotal: 2s\tremaining: 1.02s\n",
      "663:\tlearn: 28.7331979\ttotal: 2.01s\tremaining: 1.01s\n",
      "664:\tlearn: 28.6366801\ttotal: 2.01s\tremaining: 1.01s\n",
      "665:\tlearn: 28.5716341\ttotal: 2.01s\tremaining: 1.01s\n",
      "666:\tlearn: 28.4974876\ttotal: 2.01s\tremaining: 1s\n",
      "667:\tlearn: 28.4112710\ttotal: 2.02s\tremaining: 1s\n",
      "668:\tlearn: 28.2984651\ttotal: 2.02s\tremaining: 999ms\n",
      "669:\tlearn: 28.1339510\ttotal: 2.02s\tremaining: 996ms\n",
      "670:\tlearn: 28.1075789\ttotal: 2.02s\tremaining: 992ms\n",
      "671:\tlearn: 28.0922293\ttotal: 2.03s\tremaining: 989ms\n",
      "672:\tlearn: 27.9723760\ttotal: 2.03s\tremaining: 986ms\n",
      "673:\tlearn: 27.9055283\ttotal: 2.03s\tremaining: 983ms\n",
      "674:\tlearn: 27.8205243\ttotal: 2.03s\tremaining: 979ms\n",
      "675:\tlearn: 27.8084834\ttotal: 2.04s\tremaining: 976ms\n",
      "676:\tlearn: 27.7891840\ttotal: 2.04s\tremaining: 973ms\n",
      "677:\tlearn: 27.6730952\ttotal: 2.04s\tremaining: 970ms\n",
      "678:\tlearn: 27.6094279\ttotal: 2.04s\tremaining: 966ms\n",
      "679:\tlearn: 27.5709406\ttotal: 2.05s\tremaining: 963ms\n",
      "680:\tlearn: 27.5062932\ttotal: 2.05s\tremaining: 960ms\n",
      "681:\tlearn: 27.4149358\ttotal: 2.05s\tremaining: 957ms\n",
      "682:\tlearn: 27.3480578\ttotal: 2.06s\tremaining: 954ms\n",
      "683:\tlearn: 27.2546632\ttotal: 2.06s\tremaining: 951ms\n",
      "684:\tlearn: 27.1581242\ttotal: 2.06s\tremaining: 948ms\n",
      "685:\tlearn: 27.1291330\ttotal: 2.06s\tremaining: 945ms\n",
      "686:\tlearn: 27.0589760\ttotal: 2.07s\tremaining: 942ms\n",
      "687:\tlearn: 26.9207571\ttotal: 2.07s\tremaining: 939ms\n",
      "688:\tlearn: 26.8046340\ttotal: 2.07s\tremaining: 937ms\n",
      "689:\tlearn: 26.7346039\ttotal: 2.08s\tremaining: 934ms\n",
      "690:\tlearn: 26.6359238\ttotal: 2.08s\tremaining: 931ms\n",
      "691:\tlearn: 26.5458163\ttotal: 2.08s\tremaining: 928ms\n",
      "692:\tlearn: 26.5287024\ttotal: 2.09s\tremaining: 925ms\n",
      "693:\tlearn: 26.4436127\ttotal: 2.09s\tremaining: 922ms\n",
      "694:\tlearn: 26.3860996\ttotal: 2.09s\tremaining: 919ms\n",
      "695:\tlearn: 26.3271824\ttotal: 2.1s\tremaining: 916ms\n",
      "696:\tlearn: 26.1929180\ttotal: 2.1s\tremaining: 912ms\n",
      "697:\tlearn: 26.0989501\ttotal: 2.1s\tremaining: 909ms\n",
      "698:\tlearn: 26.0348052\ttotal: 2.1s\tremaining: 906ms\n",
      "699:\tlearn: 25.9715846\ttotal: 2.11s\tremaining: 903ms\n",
      "700:\tlearn: 25.8624783\ttotal: 2.11s\tremaining: 900ms\n",
      "701:\tlearn: 25.8020332\ttotal: 2.11s\tremaining: 897ms\n",
      "702:\tlearn: 25.7940141\ttotal: 2.11s\tremaining: 893ms\n",
      "703:\tlearn: 25.6937173\ttotal: 2.12s\tremaining: 890ms\n",
      "704:\tlearn: 25.6133995\ttotal: 2.12s\tremaining: 887ms\n",
      "705:\tlearn: 25.5272559\ttotal: 2.12s\tremaining: 885ms\n",
      "706:\tlearn: 25.5087600\ttotal: 2.13s\tremaining: 881ms\n",
      "707:\tlearn: 25.3506858\ttotal: 2.13s\tremaining: 878ms\n",
      "708:\tlearn: 25.3314352\ttotal: 2.13s\tremaining: 875ms\n",
      "709:\tlearn: 25.3263712\ttotal: 2.13s\tremaining: 871ms\n",
      "710:\tlearn: 25.2377772\ttotal: 2.13s\tremaining: 868ms\n",
      "711:\tlearn: 25.1296003\ttotal: 2.14s\tremaining: 864ms\n",
      "712:\tlearn: 25.1138661\ttotal: 2.14s\tremaining: 862ms\n",
      "713:\tlearn: 25.0606164\ttotal: 2.14s\tremaining: 858ms\n",
      "714:\tlearn: 24.9701122\ttotal: 2.15s\tremaining: 855ms\n",
      "715:\tlearn: 24.9266980\ttotal: 2.15s\tremaining: 852ms\n",
      "716:\tlearn: 24.8355245\ttotal: 2.15s\tremaining: 848ms\n",
      "717:\tlearn: 24.7892595\ttotal: 2.15s\tremaining: 845ms\n",
      "718:\tlearn: 24.7784156\ttotal: 2.15s\tremaining: 842ms\n",
      "719:\tlearn: 24.7204068\ttotal: 2.15s\tremaining: 838ms\n",
      "720:\tlearn: 24.6868946\ttotal: 2.16s\tremaining: 835ms\n",
      "721:\tlearn: 24.5835248\ttotal: 2.16s\tremaining: 832ms\n",
      "722:\tlearn: 24.4605667\ttotal: 2.16s\tremaining: 829ms\n",
      "723:\tlearn: 24.3780491\ttotal: 2.16s\tremaining: 825ms\n",
      "724:\tlearn: 24.3695387\ttotal: 2.17s\tremaining: 822ms\n",
      "725:\tlearn: 24.2713928\ttotal: 2.17s\tremaining: 819ms\n",
      "726:\tlearn: 24.2564573\ttotal: 2.17s\tremaining: 816ms\n",
      "727:\tlearn: 24.1259045\ttotal: 2.17s\tremaining: 812ms\n",
      "728:\tlearn: 24.0410925\ttotal: 2.18s\tremaining: 809ms\n",
      "729:\tlearn: 23.9454740\ttotal: 2.18s\tremaining: 806ms\n",
      "730:\tlearn: 23.9293944\ttotal: 2.18s\tremaining: 803ms\n",
      "731:\tlearn: 23.8408373\ttotal: 2.18s\tremaining: 800ms\n",
      "732:\tlearn: 23.7301307\ttotal: 2.19s\tremaining: 797ms\n",
      "733:\tlearn: 23.6751178\ttotal: 2.19s\tremaining: 793ms\n",
      "734:\tlearn: 23.5518474\ttotal: 2.19s\tremaining: 790ms\n",
      "735:\tlearn: 23.5054838\ttotal: 2.19s\tremaining: 787ms\n",
      "736:\tlearn: 23.4781040\ttotal: 2.19s\tremaining: 783ms\n",
      "737:\tlearn: 23.3774725\ttotal: 2.2s\tremaining: 780ms\n",
      "738:\tlearn: 23.3081022\ttotal: 2.2s\tremaining: 777ms\n",
      "739:\tlearn: 23.2915892\ttotal: 2.2s\tremaining: 774ms\n",
      "740:\tlearn: 23.2095735\ttotal: 2.21s\tremaining: 771ms\n",
      "741:\tlearn: 23.1588315\ttotal: 2.21s\tremaining: 768ms\n",
      "742:\tlearn: 23.1197993\ttotal: 2.21s\tremaining: 764ms\n",
      "743:\tlearn: 23.0327780\ttotal: 2.21s\tremaining: 761ms\n",
      "744:\tlearn: 22.9759480\ttotal: 2.21s\tremaining: 758ms\n",
      "745:\tlearn: 22.8751423\ttotal: 2.22s\tremaining: 755ms\n",
      "746:\tlearn: 22.7768127\ttotal: 2.22s\tremaining: 751ms\n",
      "747:\tlearn: 22.6474970\ttotal: 2.22s\tremaining: 748ms\n",
      "748:\tlearn: 22.5780525\ttotal: 2.22s\tremaining: 745ms\n",
      "749:\tlearn: 22.5338308\ttotal: 2.23s\tremaining: 742ms\n",
      "750:\tlearn: 22.4330276\ttotal: 2.23s\tremaining: 739ms\n",
      "751:\tlearn: 22.4193891\ttotal: 2.23s\tremaining: 736ms\n",
      "752:\tlearn: 22.4093040\ttotal: 2.23s\tremaining: 733ms\n",
      "753:\tlearn: 22.3758979\ttotal: 2.24s\tremaining: 730ms\n",
      "754:\tlearn: 22.3560173\ttotal: 2.24s\tremaining: 727ms\n",
      "755:\tlearn: 22.3264261\ttotal: 2.24s\tremaining: 724ms\n",
      "756:\tlearn: 22.2796605\ttotal: 2.25s\tremaining: 721ms\n",
      "757:\tlearn: 22.2253439\ttotal: 2.25s\tremaining: 718ms\n",
      "758:\tlearn: 22.1636409\ttotal: 2.25s\tremaining: 715ms\n",
      "759:\tlearn: 22.1078491\ttotal: 2.25s\tremaining: 711ms\n",
      "760:\tlearn: 22.0275756\ttotal: 2.25s\tremaining: 708ms\n",
      "761:\tlearn: 22.0174143\ttotal: 2.26s\tremaining: 705ms\n",
      "762:\tlearn: 21.9887391\ttotal: 2.26s\tremaining: 702ms\n",
      "763:\tlearn: 21.9746733\ttotal: 2.26s\tremaining: 699ms\n",
      "764:\tlearn: 21.9529216\ttotal: 2.27s\tremaining: 696ms\n",
      "765:\tlearn: 21.8767644\ttotal: 2.27s\tremaining: 693ms\n",
      "766:\tlearn: 21.8668039\ttotal: 2.27s\tremaining: 690ms\n",
      "767:\tlearn: 21.8008688\ttotal: 2.27s\tremaining: 687ms\n",
      "768:\tlearn: 21.7612208\ttotal: 2.28s\tremaining: 684ms\n",
      "769:\tlearn: 21.6977978\ttotal: 2.28s\tremaining: 681ms\n",
      "770:\tlearn: 21.6870461\ttotal: 2.28s\tremaining: 678ms\n",
      "771:\tlearn: 21.6599780\ttotal: 2.29s\tremaining: 675ms\n",
      "772:\tlearn: 21.5522064\ttotal: 2.29s\tremaining: 672ms\n",
      "773:\tlearn: 21.5426327\ttotal: 2.29s\tremaining: 669ms\n",
      "774:\tlearn: 21.4391089\ttotal: 2.3s\tremaining: 667ms\n",
      "775:\tlearn: 21.4042993\ttotal: 2.3s\tremaining: 664ms\n",
      "776:\tlearn: 21.3284836\ttotal: 2.3s\tremaining: 661ms\n",
      "777:\tlearn: 21.3163774\ttotal: 2.3s\tremaining: 657ms\n",
      "778:\tlearn: 21.2708416\ttotal: 2.31s\tremaining: 655ms\n",
      "779:\tlearn: 21.2056943\ttotal: 2.31s\tremaining: 651ms\n",
      "780:\tlearn: 21.1434774\ttotal: 2.31s\tremaining: 648ms\n",
      "781:\tlearn: 21.0672473\ttotal: 2.31s\tremaining: 645ms\n",
      "782:\tlearn: 20.9629645\ttotal: 2.31s\tremaining: 642ms\n",
      "783:\tlearn: 20.9522537\ttotal: 2.32s\tremaining: 639ms\n",
      "784:\tlearn: 20.9252425\ttotal: 2.32s\tremaining: 636ms\n",
      "785:\tlearn: 20.8576799\ttotal: 2.32s\tremaining: 633ms\n",
      "786:\tlearn: 20.7922970\ttotal: 2.33s\tremaining: 630ms\n",
      "787:\tlearn: 20.7802134\ttotal: 2.33s\tremaining: 626ms\n",
      "788:\tlearn: 20.7125213\ttotal: 2.33s\tremaining: 623ms\n",
      "789:\tlearn: 20.7000005\ttotal: 2.33s\tremaining: 620ms\n",
      "790:\tlearn: 20.6366378\ttotal: 2.33s\tremaining: 617ms\n",
      "791:\tlearn: 20.6170923\ttotal: 2.34s\tremaining: 614ms\n",
      "792:\tlearn: 20.5485950\ttotal: 2.34s\tremaining: 611ms\n",
      "793:\tlearn: 20.5212323\ttotal: 2.34s\tremaining: 608ms\n",
      "794:\tlearn: 20.5004347\ttotal: 2.35s\tremaining: 605ms\n",
      "795:\tlearn: 20.4884649\ttotal: 2.35s\tremaining: 602ms\n",
      "796:\tlearn: 20.3727007\ttotal: 2.35s\tremaining: 599ms\n",
      "797:\tlearn: 20.2776166\ttotal: 2.36s\tremaining: 596ms\n",
      "798:\tlearn: 20.2690965\ttotal: 2.36s\tremaining: 594ms\n",
      "799:\tlearn: 20.2166634\ttotal: 2.37s\tremaining: 591ms\n",
      "800:\tlearn: 20.1160179\ttotal: 2.37s\tremaining: 589ms\n",
      "801:\tlearn: 20.0642268\ttotal: 2.37s\tremaining: 586ms\n",
      "802:\tlearn: 20.0323601\ttotal: 2.38s\tremaining: 584ms\n",
      "803:\tlearn: 19.9485334\ttotal: 2.38s\tremaining: 581ms\n",
      "804:\tlearn: 19.9071725\ttotal: 2.39s\tremaining: 578ms\n",
      "805:\tlearn: 19.8943564\ttotal: 2.39s\tremaining: 575ms\n",
      "806:\tlearn: 19.7804687\ttotal: 2.39s\tremaining: 572ms\n",
      "807:\tlearn: 19.7343406\ttotal: 2.4s\tremaining: 570ms\n",
      "808:\tlearn: 19.6963930\ttotal: 2.4s\tremaining: 567ms\n",
      "809:\tlearn: 19.6705675\ttotal: 2.4s\tremaining: 564ms\n",
      "810:\tlearn: 19.6382933\ttotal: 2.41s\tremaining: 562ms\n",
      "811:\tlearn: 19.5889191\ttotal: 2.41s\tremaining: 559ms\n",
      "812:\tlearn: 19.5638487\ttotal: 2.42s\tremaining: 556ms\n",
      "813:\tlearn: 19.4926424\ttotal: 2.42s\tremaining: 553ms\n",
      "814:\tlearn: 19.3961396\ttotal: 2.42s\tremaining: 551ms\n",
      "815:\tlearn: 19.3880242\ttotal: 2.43s\tremaining: 548ms\n",
      "816:\tlearn: 19.2808372\ttotal: 2.43s\tremaining: 545ms\n",
      "817:\tlearn: 19.1712815\ttotal: 2.44s\tremaining: 542ms\n",
      "818:\tlearn: 19.0909823\ttotal: 2.44s\tremaining: 539ms\n",
      "819:\tlearn: 18.9993504\ttotal: 2.44s\tremaining: 537ms\n",
      "820:\tlearn: 18.9773399\ttotal: 2.45s\tremaining: 534ms\n",
      "821:\tlearn: 18.8989735\ttotal: 2.45s\tremaining: 531ms\n",
      "822:\tlearn: 18.8275176\ttotal: 2.46s\tremaining: 528ms\n",
      "823:\tlearn: 18.8092278\ttotal: 2.46s\tremaining: 525ms\n",
      "824:\tlearn: 18.7938447\ttotal: 2.46s\tremaining: 522ms\n",
      "825:\tlearn: 18.7871267\ttotal: 2.46s\tremaining: 519ms\n",
      "826:\tlearn: 18.7299674\ttotal: 2.47s\tremaining: 516ms\n",
      "827:\tlearn: 18.6808264\ttotal: 2.47s\tremaining: 514ms\n",
      "828:\tlearn: 18.5984875\ttotal: 2.48s\tremaining: 511ms\n",
      "829:\tlearn: 18.5170088\ttotal: 2.48s\tremaining: 508ms\n",
      "830:\tlearn: 18.4707382\ttotal: 2.48s\tremaining: 505ms\n",
      "831:\tlearn: 18.4368619\ttotal: 2.49s\tremaining: 503ms\n",
      "832:\tlearn: 18.3683191\ttotal: 2.49s\tremaining: 500ms\n",
      "833:\tlearn: 18.3295058\ttotal: 2.49s\tremaining: 496ms\n",
      "834:\tlearn: 18.2587263\ttotal: 2.5s\tremaining: 493ms\n",
      "835:\tlearn: 18.2103679\ttotal: 2.5s\tremaining: 490ms\n",
      "836:\tlearn: 18.1781032\ttotal: 2.5s\tremaining: 487ms\n",
      "837:\tlearn: 18.0746921\ttotal: 2.5s\tremaining: 484ms\n",
      "838:\tlearn: 18.0131984\ttotal: 2.51s\tremaining: 481ms\n",
      "839:\tlearn: 17.9510877\ttotal: 2.51s\tremaining: 478ms\n",
      "840:\tlearn: 17.8893536\ttotal: 2.51s\tremaining: 475ms\n",
      "841:\tlearn: 17.8813583\ttotal: 2.52s\tremaining: 472ms\n",
      "842:\tlearn: 17.8129857\ttotal: 2.52s\tremaining: 469ms\n",
      "843:\tlearn: 17.7981202\ttotal: 2.52s\tremaining: 466ms\n",
      "844:\tlearn: 17.7414627\ttotal: 2.52s\tremaining: 463ms\n",
      "845:\tlearn: 17.7255534\ttotal: 2.53s\tremaining: 460ms\n",
      "846:\tlearn: 17.6965545\ttotal: 2.53s\tremaining: 457ms\n",
      "847:\tlearn: 17.6499397\ttotal: 2.53s\tremaining: 454ms\n",
      "848:\tlearn: 17.6133852\ttotal: 2.54s\tremaining: 451ms\n",
      "849:\tlearn: 17.5621620\ttotal: 2.54s\tremaining: 448ms\n",
      "850:\tlearn: 17.5064049\ttotal: 2.54s\tremaining: 445ms\n",
      "851:\tlearn: 17.4643467\ttotal: 2.54s\tremaining: 442ms\n",
      "852:\tlearn: 17.4569544\ttotal: 2.55s\tremaining: 439ms\n",
      "853:\tlearn: 17.3731897\ttotal: 2.55s\tremaining: 436ms\n",
      "854:\tlearn: 17.3313609\ttotal: 2.55s\tremaining: 433ms\n",
      "855:\tlearn: 17.2781582\ttotal: 2.56s\tremaining: 430ms\n",
      "856:\tlearn: 17.2283433\ttotal: 2.56s\tremaining: 427ms\n",
      "857:\tlearn: 17.1944614\ttotal: 2.56s\tremaining: 424ms\n",
      "858:\tlearn: 17.1573393\ttotal: 2.57s\tremaining: 421ms\n",
      "859:\tlearn: 17.0975067\ttotal: 2.57s\tremaining: 419ms\n",
      "860:\tlearn: 17.0462043\ttotal: 2.57s\tremaining: 416ms\n",
      "861:\tlearn: 17.0118805\ttotal: 2.58s\tremaining: 413ms\n",
      "862:\tlearn: 17.0045195\ttotal: 2.58s\tremaining: 410ms\n",
      "863:\tlearn: 16.9528999\ttotal: 2.58s\tremaining: 407ms\n",
      "864:\tlearn: 16.9270632\ttotal: 2.59s\tremaining: 404ms\n",
      "865:\tlearn: 16.8915252\ttotal: 2.59s\tremaining: 401ms\n",
      "866:\tlearn: 16.7946576\ttotal: 2.6s\tremaining: 399ms\n",
      "867:\tlearn: 16.7737222\ttotal: 2.6s\tremaining: 396ms\n",
      "868:\tlearn: 16.7192509\ttotal: 2.6s\tremaining: 393ms\n",
      "869:\tlearn: 16.7138388\ttotal: 2.61s\tremaining: 390ms\n",
      "870:\tlearn: 16.6877768\ttotal: 2.61s\tremaining: 387ms\n",
      "871:\tlearn: 16.6265748\ttotal: 2.62s\tremaining: 384ms\n",
      "872:\tlearn: 16.5641199\ttotal: 2.62s\tremaining: 381ms\n",
      "873:\tlearn: 16.4935111\ttotal: 2.62s\tremaining: 378ms\n",
      "874:\tlearn: 16.4250863\ttotal: 2.63s\tremaining: 375ms\n",
      "875:\tlearn: 16.3566947\ttotal: 2.63s\tremaining: 372ms\n",
      "876:\tlearn: 16.2731185\ttotal: 2.63s\tremaining: 369ms\n",
      "877:\tlearn: 16.2207923\ttotal: 2.64s\tremaining: 366ms\n",
      "878:\tlearn: 16.2073108\ttotal: 2.64s\tremaining: 363ms\n",
      "879:\tlearn: 16.1336576\ttotal: 2.64s\tremaining: 360ms\n",
      "880:\tlearn: 16.0994139\ttotal: 2.65s\tremaining: 357ms\n",
      "881:\tlearn: 16.0720217\ttotal: 2.65s\tremaining: 354ms\n",
      "882:\tlearn: 16.0192163\ttotal: 2.65s\tremaining: 351ms\n",
      "883:\tlearn: 16.0021989\ttotal: 2.65s\tremaining: 348ms\n",
      "884:\tlearn: 15.9003005\ttotal: 2.66s\tremaining: 346ms\n",
      "885:\tlearn: 15.8685768\ttotal: 2.66s\tremaining: 342ms\n",
      "886:\tlearn: 15.7757199\ttotal: 2.66s\tremaining: 339ms\n",
      "887:\tlearn: 15.7280015\ttotal: 2.67s\tremaining: 336ms\n",
      "888:\tlearn: 15.7037867\ttotal: 2.67s\tremaining: 333ms\n",
      "889:\tlearn: 15.6876254\ttotal: 2.67s\tremaining: 330ms\n",
      "890:\tlearn: 15.6002589\ttotal: 2.67s\tremaining: 327ms\n",
      "891:\tlearn: 15.5663914\ttotal: 2.67s\tremaining: 324ms\n",
      "892:\tlearn: 15.4827503\ttotal: 2.68s\tremaining: 321ms\n",
      "893:\tlearn: 15.4422647\ttotal: 2.68s\tremaining: 318ms\n",
      "894:\tlearn: 15.4230904\ttotal: 2.68s\tremaining: 314ms\n",
      "895:\tlearn: 15.3907978\ttotal: 2.68s\tremaining: 311ms\n",
      "896:\tlearn: 15.3022423\ttotal: 2.68s\tremaining: 308ms\n",
      "897:\tlearn: 15.2770800\ttotal: 2.69s\tremaining: 305ms\n",
      "898:\tlearn: 15.2708396\ttotal: 2.69s\tremaining: 302ms\n",
      "899:\tlearn: 15.2217814\ttotal: 2.69s\tremaining: 299ms\n",
      "900:\tlearn: 15.2150872\ttotal: 2.69s\tremaining: 296ms\n",
      "901:\tlearn: 15.1938758\ttotal: 2.69s\tremaining: 293ms\n",
      "902:\tlearn: 15.1087389\ttotal: 2.7s\tremaining: 290ms\n",
      "903:\tlearn: 15.0270836\ttotal: 2.7s\tremaining: 287ms\n",
      "904:\tlearn: 14.9579009\ttotal: 2.7s\tremaining: 284ms\n",
      "905:\tlearn: 14.9321713\ttotal: 2.7s\tremaining: 281ms\n",
      "906:\tlearn: 14.9254894\ttotal: 2.71s\tremaining: 278ms\n",
      "907:\tlearn: 14.8662999\ttotal: 2.71s\tremaining: 274ms\n",
      "908:\tlearn: 14.7969088\ttotal: 2.71s\tremaining: 271ms\n",
      "909:\tlearn: 14.7187437\ttotal: 2.71s\tremaining: 268ms\n",
      "910:\tlearn: 14.6594229\ttotal: 2.71s\tremaining: 265ms\n",
      "911:\tlearn: 14.6109629\ttotal: 2.72s\tremaining: 262ms\n",
      "912:\tlearn: 14.5833869\ttotal: 2.72s\tremaining: 259ms\n",
      "913:\tlearn: 14.5677206\ttotal: 2.72s\tremaining: 256ms\n",
      "914:\tlearn: 14.5260964\ttotal: 2.72s\tremaining: 253ms\n",
      "915:\tlearn: 14.4838792\ttotal: 2.73s\tremaining: 250ms\n",
      "916:\tlearn: 14.4614097\ttotal: 2.73s\tremaining: 247ms\n",
      "917:\tlearn: 14.4432212\ttotal: 2.73s\tremaining: 244ms\n",
      "918:\tlearn: 14.4363977\ttotal: 2.73s\tremaining: 241ms\n",
      "919:\tlearn: 14.3740822\ttotal: 2.73s\tremaining: 238ms\n",
      "920:\tlearn: 14.3363459\ttotal: 2.74s\tremaining: 235ms\n",
      "921:\tlearn: 14.2862425\ttotal: 2.74s\tremaining: 232ms\n",
      "922:\tlearn: 14.2195191\ttotal: 2.74s\tremaining: 229ms\n",
      "923:\tlearn: 14.1752422\ttotal: 2.75s\tremaining: 226ms\n",
      "924:\tlearn: 14.1582897\ttotal: 2.75s\tremaining: 223ms\n",
      "925:\tlearn: 14.0892518\ttotal: 2.75s\tremaining: 220ms\n",
      "926:\tlearn: 14.0163904\ttotal: 2.76s\tremaining: 217ms\n",
      "927:\tlearn: 13.9674906\ttotal: 2.76s\tremaining: 214ms\n",
      "928:\tlearn: 13.9421041\ttotal: 2.76s\tremaining: 211ms\n",
      "929:\tlearn: 13.9264108\ttotal: 2.77s\tremaining: 208ms\n",
      "930:\tlearn: 13.8953443\ttotal: 2.77s\tremaining: 205ms\n",
      "931:\tlearn: 13.8514821\ttotal: 2.77s\tremaining: 202ms\n",
      "932:\tlearn: 13.8317730\ttotal: 2.78s\tremaining: 200ms\n",
      "933:\tlearn: 13.7980615\ttotal: 2.78s\tremaining: 197ms\n",
      "934:\tlearn: 13.7252551\ttotal: 2.78s\tremaining: 194ms\n",
      "935:\tlearn: 13.6867475\ttotal: 2.79s\tremaining: 191ms\n",
      "936:\tlearn: 13.6663164\ttotal: 2.79s\tremaining: 188ms\n",
      "937:\tlearn: 13.6108173\ttotal: 2.79s\tremaining: 185ms\n",
      "938:\tlearn: 13.5827380\ttotal: 2.8s\tremaining: 182ms\n",
      "939:\tlearn: 13.5211246\ttotal: 2.8s\tremaining: 179ms\n",
      "940:\tlearn: 13.4752089\ttotal: 2.8s\tremaining: 176ms\n",
      "941:\tlearn: 13.4283115\ttotal: 2.81s\tremaining: 173ms\n",
      "942:\tlearn: 13.3912327\ttotal: 2.81s\tremaining: 170ms\n",
      "943:\tlearn: 13.3593766\ttotal: 2.81s\tremaining: 167ms\n",
      "944:\tlearn: 13.3015250\ttotal: 2.82s\tremaining: 164ms\n",
      "945:\tlearn: 13.2587480\ttotal: 2.82s\tremaining: 161ms\n",
      "946:\tlearn: 13.1949436\ttotal: 2.82s\tremaining: 158ms\n",
      "947:\tlearn: 13.1552441\ttotal: 2.83s\tremaining: 155ms\n",
      "948:\tlearn: 13.0700947\ttotal: 2.83s\tremaining: 152ms\n",
      "949:\tlearn: 13.0460884\ttotal: 2.83s\tremaining: 149ms\n",
      "950:\tlearn: 13.0315972\ttotal: 2.83s\tremaining: 146ms\n",
      "951:\tlearn: 12.9964111\ttotal: 2.84s\tremaining: 143ms\n",
      "952:\tlearn: 12.9757139\ttotal: 2.85s\tremaining: 141ms\n",
      "953:\tlearn: 12.9120533\ttotal: 2.86s\tremaining: 138ms\n",
      "954:\tlearn: 12.8776679\ttotal: 2.86s\tremaining: 135ms\n",
      "955:\tlearn: 12.8703243\ttotal: 2.86s\tremaining: 132ms\n",
      "956:\tlearn: 12.8058615\ttotal: 2.86s\tremaining: 129ms\n",
      "957:\tlearn: 12.7637381\ttotal: 2.87s\tremaining: 126ms\n",
      "958:\tlearn: 12.7517063\ttotal: 2.87s\tremaining: 123ms\n",
      "959:\tlearn: 12.7382108\ttotal: 2.87s\tremaining: 120ms\n",
      "960:\tlearn: 12.6881713\ttotal: 2.88s\tremaining: 117ms\n",
      "961:\tlearn: 12.6728317\ttotal: 2.88s\tremaining: 114ms\n",
      "962:\tlearn: 12.6386609\ttotal: 2.88s\tremaining: 111ms\n",
      "963:\tlearn: 12.5837642\ttotal: 2.88s\tremaining: 108ms\n",
      "964:\tlearn: 12.5689789\ttotal: 2.88s\tremaining: 105ms\n",
      "965:\tlearn: 12.5362136\ttotal: 2.89s\tremaining: 102ms\n",
      "966:\tlearn: 12.5186020\ttotal: 2.89s\tremaining: 98.7ms\n",
      "967:\tlearn: 12.4787889\ttotal: 2.89s\tremaining: 95.7ms\n",
      "968:\tlearn: 12.4463866\ttotal: 2.9s\tremaining: 92.7ms\n",
      "969:\tlearn: 12.3919484\ttotal: 2.9s\tremaining: 89.7ms\n",
      "970:\tlearn: 12.3583173\ttotal: 2.9s\tremaining: 86.7ms\n",
      "971:\tlearn: 12.3430204\ttotal: 2.9s\tremaining: 83.7ms\n",
      "972:\tlearn: 12.3036135\ttotal: 2.91s\tremaining: 80.7ms\n",
      "973:\tlearn: 12.2785886\ttotal: 2.91s\tremaining: 77.7ms\n",
      "974:\tlearn: 12.2424148\ttotal: 2.91s\tremaining: 74.7ms\n",
      "975:\tlearn: 12.2287225\ttotal: 2.92s\tremaining: 71.7ms\n",
      "976:\tlearn: 12.1894056\ttotal: 2.92s\tremaining: 68.7ms\n",
      "977:\tlearn: 12.1399699\ttotal: 2.92s\tremaining: 65.7ms\n",
      "978:\tlearn: 12.1165698\ttotal: 2.92s\tremaining: 62.7ms\n",
      "979:\tlearn: 12.1084930\ttotal: 2.93s\tremaining: 59.8ms\n",
      "980:\tlearn: 12.1041455\ttotal: 2.93s\tremaining: 56.8ms\n",
      "981:\tlearn: 12.0749440\ttotal: 2.93s\tremaining: 53.8ms\n",
      "982:\tlearn: 12.0676323\ttotal: 2.94s\tremaining: 50.8ms\n",
      "983:\tlearn: 12.0253491\ttotal: 2.94s\tremaining: 47.8ms\n",
      "984:\tlearn: 11.9725269\ttotal: 2.94s\tremaining: 44.8ms\n",
      "985:\tlearn: 11.9344239\ttotal: 2.95s\tremaining: 41.8ms\n",
      "986:\tlearn: 11.8870660\ttotal: 2.95s\tremaining: 38.9ms\n",
      "987:\tlearn: 11.8411099\ttotal: 2.95s\tremaining: 35.9ms\n",
      "988:\tlearn: 11.7973602\ttotal: 2.96s\tremaining: 32.9ms\n",
      "989:\tlearn: 11.7514376\ttotal: 2.96s\tremaining: 29.9ms\n",
      "990:\tlearn: 11.7232746\ttotal: 2.96s\tremaining: 26.9ms\n",
      "991:\tlearn: 11.6852796\ttotal: 2.96s\tremaining: 23.9ms\n",
      "992:\tlearn: 11.6463794\ttotal: 2.97s\tremaining: 20.9ms\n",
      "993:\tlearn: 11.6106308\ttotal: 2.97s\tremaining: 17.9ms\n",
      "994:\tlearn: 11.5731961\ttotal: 2.98s\tremaining: 14.9ms\n",
      "995:\tlearn: 11.5417359\ttotal: 2.98s\tremaining: 12ms\n",
      "996:\tlearn: 11.5167117\ttotal: 2.98s\tremaining: 8.97ms\n",
      "997:\tlearn: 11.4745232\ttotal: 2.98s\tremaining: 5.98ms\n",
      "998:\tlearn: 11.4604481\ttotal: 2.99s\tremaining: 2.99ms\n",
      "999:\tlearn: 11.4510502\ttotal: 2.99s\tremaining: 0us\n"
     ]
    }
   ],
   "source": [
    "catb_model = CatBoostRegressor().fit(X_train,y_train)"
   ]
  },
  {
   "cell_type": "code",
   "execution_count": 291,
   "id": "6a870209-dd55-49a7-b9d0-23c8cb028c35",
   "metadata": {},
   "outputs": [],
   "source": [
    "y_pred = catb_model.predict(X_test)"
   ]
  },
  {
   "cell_type": "code",
   "execution_count": 292,
   "id": "19075d66-01dc-4aa7-86bb-a17f2934a5d4",
   "metadata": {},
   "outputs": [
    {
     "data": {
      "text/plain": [
       "351.194631344607"
      ]
     },
     "execution_count": 292,
     "metadata": {},
     "output_type": "execute_result"
    }
   ],
   "source": [
    "np.sqrt(mean_squared_error(y_test,y_pred))"
   ]
  },
  {
   "cell_type": "markdown",
   "id": "1bdcb350-cb98-4d58-85c1-a8c2bff100a8",
   "metadata": {},
   "source": [
    "### Model Tuning"
   ]
  },
  {
   "cell_type": "code",
   "execution_count": 293,
   "id": "b13a6ade-705f-424f-a65d-8ab75111af33",
   "metadata": {},
   "outputs": [],
   "source": [
    "catb_params = {\"iterations\":[200,500,100],\n",
    "               \"learning_rate\":[0.01,0.1],\n",
    "               \"depth\":[3,6,8]}"
   ]
  },
  {
   "cell_type": "code",
   "execution_count": 294,
   "id": "e655ad09-2ea0-47e4-aeb7-c1762560f4e2",
   "metadata": {
    "collapsed": true,
    "jupyter": {
     "outputs_hidden": true
    },
    "tags": []
   },
   "outputs": [
    {
     "name": "stdout",
     "output_type": "stream",
     "text": [
      "Fitting 5 folds for each of 18 candidates, totalling 90 fits\n",
      "0:\tlearn: 425.7900818\ttotal: 1.54ms\tremaining: 306ms\n",
      "1:\tlearn: 404.8723520\ttotal: 2.61ms\tremaining: 259ms\n",
      "2:\tlearn: 387.4057666\ttotal: 3.52ms\tremaining: 231ms\n",
      "3:\tlearn: 372.2801584\ttotal: 4.4ms\tremaining: 216ms\n",
      "4:\tlearn: 358.9204229\ttotal: 5.38ms\tremaining: 210ms\n",
      "5:\tlearn: 347.0083933\ttotal: 6.33ms\tremaining: 205ms\n",
      "6:\tlearn: 336.0130818\ttotal: 7.21ms\tremaining: 199ms\n",
      "7:\tlearn: 324.3923300\ttotal: 8.23ms\tremaining: 198ms\n",
      "8:\tlearn: 314.8690957\ttotal: 9.2ms\tremaining: 195ms\n",
      "9:\tlearn: 308.5075563\ttotal: 10.2ms\tremaining: 194ms\n",
      "10:\tlearn: 298.8587285\ttotal: 11.1ms\tremaining: 190ms\n",
      "11:\tlearn: 294.7655438\ttotal: 12.1ms\tremaining: 189ms\n",
      "12:\tlearn: 288.0697862\ttotal: 13ms\tremaining: 187ms\n",
      "13:\tlearn: 282.6697154\ttotal: 14.1ms\tremaining: 188ms\n",
      "14:\tlearn: 277.6121667\ttotal: 15.2ms\tremaining: 187ms\n",
      "15:\tlearn: 273.4383979\ttotal: 16.2ms\tremaining: 186ms\n",
      "16:\tlearn: 269.1556201\ttotal: 17.2ms\tremaining: 186ms\n",
      "17:\tlearn: 264.8098704\ttotal: 18.3ms\tremaining: 185ms\n",
      "18:\tlearn: 261.6700768\ttotal: 19.3ms\tremaining: 184ms\n",
      "19:\tlearn: 257.3961290\ttotal: 20.3ms\tremaining: 183ms\n",
      "20:\tlearn: 252.2691509\ttotal: 21.3ms\tremaining: 181ms\n",
      "21:\tlearn: 249.0686482\ttotal: 22.4ms\tremaining: 181ms\n",
      "22:\tlearn: 244.1881041\ttotal: 23.3ms\tremaining: 180ms\n",
      "23:\tlearn: 242.1696687\ttotal: 24.3ms\tremaining: 178ms\n",
      "24:\tlearn: 239.2131476\ttotal: 25.2ms\tremaining: 177ms\n",
      "25:\tlearn: 236.6883901\ttotal: 26.3ms\tremaining: 176ms\n",
      "26:\tlearn: 234.5295613\ttotal: 27.8ms\tremaining: 178ms\n",
      "27:\tlearn: 231.7788834\ttotal: 28.8ms\tremaining: 177ms\n",
      "28:\tlearn: 228.8020330\ttotal: 29.9ms\tremaining: 176ms\n",
      "29:\tlearn: 226.8420565\ttotal: 30.9ms\tremaining: 175ms\n",
      "30:\tlearn: 224.0686558\ttotal: 31.6ms\tremaining: 173ms\n",
      "31:\tlearn: 222.6644699\ttotal: 32.6ms\tremaining: 171ms\n",
      "32:\tlearn: 221.6889573\ttotal: 33.7ms\tremaining: 170ms\n",
      "33:\tlearn: 220.5171653\ttotal: 34.7ms\tremaining: 170ms\n",
      "34:\tlearn: 217.7686033\ttotal: 35.7ms\tremaining: 168ms\n",
      "35:\tlearn: 214.8462789\ttotal: 36.7ms\tremaining: 167ms\n",
      "36:\tlearn: 214.4799251\ttotal: 37.7ms\tremaining: 166ms\n",
      "37:\tlearn: 212.3480429\ttotal: 38.8ms\tremaining: 165ms\n",
      "38:\tlearn: 210.0040644\ttotal: 39.9ms\tremaining: 165ms\n",
      "39:\tlearn: 208.3086913\ttotal: 41.2ms\tremaining: 165ms\n",
      "40:\tlearn: 207.5469119\ttotal: 42.2ms\tremaining: 164ms\n",
      "41:\tlearn: 205.9351113\ttotal: 43.3ms\tremaining: 163ms\n",
      "42:\tlearn: 205.3580824\ttotal: 44.3ms\tremaining: 162ms\n",
      "43:\tlearn: 204.6204266\ttotal: 45.4ms\tremaining: 161ms\n",
      "44:\tlearn: 202.5023220\ttotal: 46.4ms\tremaining: 160ms\n",
      "45:\tlearn: 201.4347853\ttotal: 47.5ms\tremaining: 159ms\n",
      "46:\tlearn: 200.8752553\ttotal: 48.6ms\tremaining: 158ms\n",
      "47:\tlearn: 200.4047344\ttotal: 49.5ms\tremaining: 157ms\n",
      "48:\tlearn: 197.5433004\ttotal: 50.5ms\tremaining: 156ms\n",
      "49:\tlearn: 194.6943292\ttotal: 51.5ms\tremaining: 155ms\n",
      "50:\tlearn: 194.3011982\ttotal: 52.5ms\tremaining: 153ms\n",
      "51:\tlearn: 193.4011843\ttotal: 53.5ms\tremaining: 152ms\n",
      "52:\tlearn: 193.0109753\ttotal: 54.7ms\tremaining: 152ms\n",
      "53:\tlearn: 192.6071142\ttotal: 55.8ms\tremaining: 151ms\n",
      "54:\tlearn: 191.9666153\ttotal: 56.8ms\tremaining: 150ms\n",
      "55:\tlearn: 191.5789727\ttotal: 57.7ms\tremaining: 148ms\n",
      "56:\tlearn: 190.7186284\ttotal: 58.6ms\tremaining: 147ms\n",
      "57:\tlearn: 190.4543087\ttotal: 59.6ms\tremaining: 146ms\n",
      "58:\tlearn: 190.1336317\ttotal: 60.6ms\tremaining: 145ms\n",
      "59:\tlearn: 188.2286484\ttotal: 61.7ms\tremaining: 144ms\n",
      "60:\tlearn: 187.7652417\ttotal: 62.7ms\tremaining: 143ms\n",
      "61:\tlearn: 187.4227950\ttotal: 64ms\tremaining: 143ms\n",
      "62:\tlearn: 186.9289182\ttotal: 65.1ms\tremaining: 142ms\n",
      "63:\tlearn: 185.2993487\ttotal: 66ms\tremaining: 140ms\n",
      "64:\tlearn: 185.0349598\ttotal: 67.2ms\tremaining: 140ms\n",
      "65:\tlearn: 183.9773430\ttotal: 68.4ms\tremaining: 139ms\n",
      "66:\tlearn: 183.4463166\ttotal: 69.4ms\tremaining: 138ms\n",
      "67:\tlearn: 181.6627740\ttotal: 70.5ms\tremaining: 137ms\n",
      "68:\tlearn: 179.8785055\ttotal: 71.5ms\tremaining: 136ms\n",
      "69:\tlearn: 179.6737527\ttotal: 72.5ms\tremaining: 135ms\n",
      "70:\tlearn: 177.0830981\ttotal: 73.6ms\tremaining: 134ms\n",
      "71:\tlearn: 176.5917790\ttotal: 74.5ms\tremaining: 132ms\n",
      "72:\tlearn: 176.1240502\ttotal: 75.5ms\tremaining: 131ms\n",
      "73:\tlearn: 174.4828953\ttotal: 76.5ms\tremaining: 130ms\n",
      "74:\tlearn: 173.4220482\ttotal: 77.5ms\tremaining: 129ms\n",
      "75:\tlearn: 171.9903405\ttotal: 78.5ms\tremaining: 128ms\n",
      "76:\tlearn: 171.5803116\ttotal: 79.5ms\tremaining: 127ms\n",
      "77:\tlearn: 170.1411594\ttotal: 80.5ms\tremaining: 126ms\n",
      "78:\tlearn: 167.9868133\ttotal: 81.8ms\tremaining: 125ms\n",
      "79:\tlearn: 166.5304475\ttotal: 82.9ms\tremaining: 124ms\n",
      "80:\tlearn: 166.1741622\ttotal: 84ms\tremaining: 123ms\n",
      "81:\tlearn: 165.8411762\ttotal: 85ms\tremaining: 122ms\n",
      "82:\tlearn: 165.1041583\ttotal: 86.1ms\tremaining: 121ms\n",
      "83:\tlearn: 163.5641543\ttotal: 87.1ms\tremaining: 120ms\n",
      "84:\tlearn: 163.2003311\ttotal: 88.2ms\tremaining: 119ms\n",
      "85:\tlearn: 161.1781702\ttotal: 89.2ms\tremaining: 118ms\n",
      "86:\tlearn: 160.8727658\ttotal: 90.2ms\tremaining: 117ms\n",
      "87:\tlearn: 159.7954077\ttotal: 91.2ms\tremaining: 116ms\n",
      "88:\tlearn: 158.8759132\ttotal: 92.1ms\tremaining: 115ms\n",
      "89:\tlearn: 158.4831323\ttotal: 92.9ms\tremaining: 114ms\n",
      "90:\tlearn: 157.4808127\ttotal: 93.9ms\tremaining: 112ms\n",
      "91:\tlearn: 157.1703230\ttotal: 95.3ms\tremaining: 112ms\n",
      "92:\tlearn: 155.3184755\ttotal: 96.2ms\tremaining: 111ms\n",
      "93:\tlearn: 154.3988879\ttotal: 97.1ms\tremaining: 110ms\n",
      "94:\tlearn: 153.4591935\ttotal: 98.1ms\tremaining: 108ms\n",
      "95:\tlearn: 153.1206893\ttotal: 99ms\tremaining: 107ms\n",
      "96:\tlearn: 152.7897351\ttotal: 99.9ms\tremaining: 106ms\n",
      "97:\tlearn: 150.9293164\ttotal: 101ms\tremaining: 105ms\n",
      "98:\tlearn: 149.7127171\ttotal: 102ms\tremaining: 104ms\n",
      "99:\tlearn: 149.5089324\ttotal: 103ms\tremaining: 103ms\n",
      "100:\tlearn: 149.3156312\ttotal: 104ms\tremaining: 102ms\n",
      "101:\tlearn: 147.7226718\ttotal: 105ms\tremaining: 101ms\n",
      "102:\tlearn: 146.7692282\ttotal: 106ms\tremaining: 99.6ms\n",
      "103:\tlearn: 145.9084983\ttotal: 107ms\tremaining: 98.9ms\n",
      "104:\tlearn: 144.8780979\ttotal: 109ms\tremaining: 98.2ms\n",
      "105:\tlearn: 143.8090268\ttotal: 110ms\tremaining: 97.3ms\n",
      "106:\tlearn: 143.1272551\ttotal: 111ms\tremaining: 96.3ms\n",
      "107:\tlearn: 142.4863018\ttotal: 112ms\tremaining: 95.3ms\n",
      "108:\tlearn: 141.4861279\ttotal: 113ms\tremaining: 94.3ms\n",
      "109:\tlearn: 140.8689530\ttotal: 114ms\tremaining: 93.4ms\n",
      "110:\tlearn: 140.4009570\ttotal: 115ms\tremaining: 92.4ms\n",
      "111:\tlearn: 140.0344439\ttotal: 116ms\tremaining: 91.5ms\n",
      "112:\tlearn: 139.4290096\ttotal: 117ms\tremaining: 90.4ms\n",
      "113:\tlearn: 139.2008874\ttotal: 119ms\tremaining: 89.9ms\n",
      "114:\tlearn: 138.6000188\ttotal: 120ms\tremaining: 89ms\n",
      "115:\tlearn: 138.3962706\ttotal: 122ms\tremaining: 88.3ms\n",
      "116:\tlearn: 138.1737256\ttotal: 123ms\tremaining: 87.4ms\n",
      "117:\tlearn: 137.6342361\ttotal: 124ms\tremaining: 86.4ms\n",
      "118:\tlearn: 136.7119826\ttotal: 126ms\tremaining: 85.5ms\n",
      "119:\tlearn: 135.3057402\ttotal: 127ms\tremaining: 84.4ms\n",
      "120:\tlearn: 134.4797815\ttotal: 128ms\tremaining: 83.4ms\n",
      "121:\tlearn: 133.0774331\ttotal: 129ms\tremaining: 82.4ms\n",
      "122:\tlearn: 131.8739238\ttotal: 130ms\tremaining: 81.4ms\n",
      "123:\tlearn: 131.3203837\ttotal: 131ms\tremaining: 80.1ms\n",
      "124:\tlearn: 130.8294604\ttotal: 132ms\tremaining: 79ms\n",
      "125:\tlearn: 130.6107905\ttotal: 133ms\tremaining: 77.9ms\n",
      "126:\tlearn: 130.1614924\ttotal: 133ms\tremaining: 76.7ms\n",
      "127:\tlearn: 129.3166972\ttotal: 134ms\tremaining: 75.5ms\n",
      "128:\tlearn: 129.1038672\ttotal: 136ms\tremaining: 74.6ms\n",
      "129:\tlearn: 128.9594874\ttotal: 137ms\tremaining: 73.5ms\n",
      "130:\tlearn: 128.1849638\ttotal: 137ms\tremaining: 72.4ms\n",
      "131:\tlearn: 128.0307033\ttotal: 138ms\tremaining: 71.3ms\n",
      "132:\tlearn: 127.3373882\ttotal: 139ms\tremaining: 70.1ms\n",
      "133:\tlearn: 126.2856989\ttotal: 140ms\tremaining: 69.1ms\n",
      "134:\tlearn: 126.1379832\ttotal: 141ms\tremaining: 68ms\n",
      "135:\tlearn: 126.0180019\ttotal: 142ms\tremaining: 66.9ms\n",
      "136:\tlearn: 125.8843963\ttotal: 143ms\tremaining: 65.8ms\n",
      "137:\tlearn: 125.7576333\ttotal: 144ms\tremaining: 64.7ms\n",
      "138:\tlearn: 125.4794581\ttotal: 145ms\tremaining: 63.6ms\n",
      "139:\tlearn: 124.7920270\ttotal: 146ms\tremaining: 62.5ms\n",
      "140:\tlearn: 124.6530278\ttotal: 147ms\tremaining: 61.4ms\n",
      "141:\tlearn: 123.4539010\ttotal: 148ms\tremaining: 60.3ms\n",
      "142:\tlearn: 122.8980001\ttotal: 149ms\tremaining: 59.4ms\n",
      "143:\tlearn: 122.0911177\ttotal: 150ms\tremaining: 58.4ms\n",
      "144:\tlearn: 121.1209154\ttotal: 151ms\tremaining: 57.3ms\n",
      "145:\tlearn: 120.1613553\ttotal: 152ms\tremaining: 56.2ms\n",
      "146:\tlearn: 119.1894727\ttotal: 153ms\tremaining: 55.2ms\n",
      "147:\tlearn: 118.0325732\ttotal: 155ms\tremaining: 54.5ms\n",
      "148:\tlearn: 117.9138240\ttotal: 156ms\tremaining: 53.5ms\n",
      "149:\tlearn: 117.3831462\ttotal: 158ms\tremaining: 52.6ms\n",
      "150:\tlearn: 116.8475244\ttotal: 159ms\tremaining: 51.6ms\n",
      "151:\tlearn: 116.3821954\ttotal: 160ms\tremaining: 50.7ms\n",
      "152:\tlearn: 115.5293176\ttotal: 162ms\tremaining: 49.7ms\n",
      "153:\tlearn: 115.0975175\ttotal: 163ms\tremaining: 48.8ms\n",
      "154:\tlearn: 114.0649594\ttotal: 164ms\tremaining: 47.8ms\n",
      "155:\tlearn: 113.2562326\ttotal: 166ms\tremaining: 46.7ms\n",
      "156:\tlearn: 112.7557871\ttotal: 167ms\tremaining: 45.7ms\n",
      "157:\tlearn: 112.5657565\ttotal: 169ms\tremaining: 44.8ms\n",
      "158:\tlearn: 112.3541525\ttotal: 170ms\tremaining: 43.9ms\n",
      "159:\tlearn: 111.8527982\ttotal: 172ms\tremaining: 43ms\n",
      "160:\tlearn: 111.1619644\ttotal: 174ms\tremaining: 42.1ms\n",
      "161:\tlearn: 110.3588257\ttotal: 175ms\tremaining: 41.1ms\n",
      "162:\tlearn: 109.6664293\ttotal: 177ms\tremaining: 40.1ms\n",
      "163:\tlearn: 109.5577303\ttotal: 178ms\tremaining: 39.2ms\n",
      "164:\tlearn: 109.0570285\ttotal: 180ms\tremaining: 38.2ms\n",
      "165:\tlearn: 108.7601467\ttotal: 182ms\tremaining: 37.2ms\n",
      "166:\tlearn: 108.0448620\ttotal: 183ms\tremaining: 36.2ms\n",
      "167:\tlearn: 107.5593372\ttotal: 185ms\tremaining: 35.2ms\n",
      "168:\tlearn: 106.3862999\ttotal: 186ms\tremaining: 34.2ms\n",
      "169:\tlearn: 106.2180807\ttotal: 188ms\tremaining: 33.1ms\n",
      "170:\tlearn: 106.0695603\ttotal: 189ms\tremaining: 32.1ms\n",
      "171:\tlearn: 105.6940213\ttotal: 193ms\tremaining: 31.4ms\n",
      "172:\tlearn: 104.7598987\ttotal: 195ms\tremaining: 30.4ms\n",
      "173:\tlearn: 104.6589992\ttotal: 196ms\tremaining: 29.3ms\n",
      "174:\tlearn: 103.7203657\ttotal: 198ms\tremaining: 28.3ms\n",
      "175:\tlearn: 103.2660987\ttotal: 200ms\tremaining: 27.3ms\n",
      "176:\tlearn: 103.0926213\ttotal: 202ms\tremaining: 26.3ms\n",
      "177:\tlearn: 102.6925209\ttotal: 205ms\tremaining: 25.3ms\n",
      "178:\tlearn: 102.1655154\ttotal: 206ms\tremaining: 24.1ms\n",
      "179:\tlearn: 101.8273108\ttotal: 207ms\tremaining: 23ms\n",
      "180:\tlearn: 101.7264515\ttotal: 208ms\tremaining: 21.8ms\n",
      "181:\tlearn: 101.1102333\ttotal: 209ms\tremaining: 20.7ms\n",
      "182:\tlearn: 100.7880364\ttotal: 210ms\tremaining: 19.5ms\n",
      "183:\tlearn: 100.6673014\ttotal: 211ms\tremaining: 18.3ms\n",
      "184:\tlearn: 100.0153055\ttotal: 212ms\tremaining: 17.2ms\n",
      "185:\tlearn: 99.7667281\ttotal: 213ms\tremaining: 16ms\n",
      "186:\tlearn: 99.1860593\ttotal: 214ms\tremaining: 14.9ms\n",
      "187:\tlearn: 99.0408133\ttotal: 215ms\tremaining: 13.7ms\n",
      "188:\tlearn: 98.9030718\ttotal: 216ms\tremaining: 12.5ms\n",
      "189:\tlearn: 97.4513860\ttotal: 217ms\tremaining: 11.4ms\n",
      "190:\tlearn: 97.3322959\ttotal: 218ms\tremaining: 10.3ms\n",
      "191:\tlearn: 97.1950848\ttotal: 219ms\tremaining: 9.11ms\n",
      "192:\tlearn: 96.6789532\ttotal: 220ms\tremaining: 7.99ms\n",
      "193:\tlearn: 96.5506179\ttotal: 221ms\tremaining: 6.85ms\n",
      "194:\tlearn: 95.6635039\ttotal: 222ms\tremaining: 5.7ms\n",
      "195:\tlearn: 94.8850777\ttotal: 223ms\tremaining: 4.56ms\n",
      "196:\tlearn: 94.1624589\ttotal: 225ms\tremaining: 3.42ms\n",
      "197:\tlearn: 93.8220662\ttotal: 226ms\tremaining: 2.28ms\n",
      "198:\tlearn: 93.7300351\ttotal: 226ms\tremaining: 1.14ms\n",
      "199:\tlearn: 93.3339522\ttotal: 227ms\tremaining: 0us\n"
     ]
    }
   ],
   "source": [
    "catb_cv_model = GridSearchCV(catb_model,catb_params,cv=5,n_jobs=-1,verbose=2).fit(X_train,y_train)"
   ]
  },
  {
   "cell_type": "code",
   "execution_count": 295,
   "id": "f1edb50c-e1bc-4683-a0ae-7601879c76e4",
   "metadata": {},
   "outputs": [
    {
     "data": {
      "text/plain": [
       "{'depth': 3, 'iterations': 200, 'learning_rate': 0.1}"
      ]
     },
     "execution_count": 295,
     "metadata": {},
     "output_type": "execute_result"
    }
   ],
   "source": [
    "catb_cv_model.best_params_"
   ]
  },
  {
   "cell_type": "code",
   "execution_count": null,
   "id": "2d26eb68-28c3-4b6b-9463-89340b96447d",
   "metadata": {},
   "outputs": [],
   "source": []
  },
  {
   "cell_type": "code",
   "execution_count": 296,
   "id": "1a80322f-99d6-467d-85f7-17002e8b0370",
   "metadata": {
    "collapsed": true,
    "jupyter": {
     "outputs_hidden": true
    },
    "tags": []
   },
   "outputs": [
    {
     "name": "stdout",
     "output_type": "stream",
     "text": [
      "0:\tlearn: 425.7900818\ttotal: 1.7ms\tremaining: 339ms\n",
      "1:\tlearn: 404.8723520\ttotal: 3.69ms\tremaining: 365ms\n",
      "2:\tlearn: 387.4057666\ttotal: 5.29ms\tremaining: 348ms\n",
      "3:\tlearn: 372.2801584\ttotal: 6.78ms\tremaining: 332ms\n",
      "4:\tlearn: 358.9204229\ttotal: 8.21ms\tremaining: 320ms\n",
      "5:\tlearn: 347.0083933\ttotal: 9.73ms\tremaining: 315ms\n",
      "6:\tlearn: 336.0130818\ttotal: 10.5ms\tremaining: 291ms\n",
      "7:\tlearn: 324.3923300\ttotal: 11.4ms\tremaining: 273ms\n",
      "8:\tlearn: 314.8690957\ttotal: 12.2ms\tremaining: 259ms\n",
      "9:\tlearn: 308.5075563\ttotal: 13ms\tremaining: 248ms\n",
      "10:\tlearn: 298.8587285\ttotal: 13.8ms\tremaining: 238ms\n",
      "11:\tlearn: 294.7655438\ttotal: 14.5ms\tremaining: 227ms\n",
      "12:\tlearn: 288.0697862\ttotal: 15.3ms\tremaining: 221ms\n",
      "13:\tlearn: 282.6697154\ttotal: 16.1ms\tremaining: 214ms\n",
      "14:\tlearn: 277.6121667\ttotal: 16.9ms\tremaining: 208ms\n",
      "15:\tlearn: 273.4383979\ttotal: 17.6ms\tremaining: 202ms\n",
      "16:\tlearn: 269.1556201\ttotal: 19.2ms\tremaining: 206ms\n",
      "17:\tlearn: 264.8098704\ttotal: 20.9ms\tremaining: 211ms\n",
      "18:\tlearn: 261.6700768\ttotal: 21.8ms\tremaining: 207ms\n",
      "19:\tlearn: 257.3961290\ttotal: 22.6ms\tremaining: 204ms\n",
      "20:\tlearn: 252.2691509\ttotal: 23.5ms\tremaining: 200ms\n",
      "21:\tlearn: 249.0686482\ttotal: 24.3ms\tremaining: 197ms\n",
      "22:\tlearn: 244.1881041\ttotal: 26.1ms\tremaining: 201ms\n",
      "23:\tlearn: 242.1696687\ttotal: 27.4ms\tremaining: 201ms\n",
      "24:\tlearn: 239.2131476\ttotal: 28.3ms\tremaining: 198ms\n",
      "25:\tlearn: 236.6883901\ttotal: 29.5ms\tremaining: 197ms\n",
      "26:\tlearn: 234.5295613\ttotal: 31ms\tremaining: 199ms\n",
      "27:\tlearn: 231.7788834\ttotal: 32.4ms\tremaining: 199ms\n",
      "28:\tlearn: 228.8020330\ttotal: 33.5ms\tremaining: 197ms\n",
      "29:\tlearn: 226.8420565\ttotal: 34.4ms\tremaining: 195ms\n",
      "30:\tlearn: 224.0686558\ttotal: 35.1ms\tremaining: 192ms\n",
      "31:\tlearn: 222.6644699\ttotal: 35.9ms\tremaining: 188ms\n",
      "32:\tlearn: 221.6889573\ttotal: 36.7ms\tremaining: 186ms\n",
      "33:\tlearn: 220.5171653\ttotal: 37.6ms\tremaining: 184ms\n",
      "34:\tlearn: 217.7686033\ttotal: 38.4ms\tremaining: 181ms\n",
      "35:\tlearn: 214.8462789\ttotal: 41ms\tremaining: 187ms\n",
      "36:\tlearn: 214.4799251\ttotal: 43.8ms\tremaining: 193ms\n",
      "37:\tlearn: 212.3480429\ttotal: 45.7ms\tremaining: 195ms\n",
      "38:\tlearn: 210.0040644\ttotal: 46.9ms\tremaining: 194ms\n",
      "39:\tlearn: 208.3086913\ttotal: 47.7ms\tremaining: 191ms\n",
      "40:\tlearn: 207.5469119\ttotal: 48.5ms\tremaining: 188ms\n",
      "41:\tlearn: 205.9351113\ttotal: 49.2ms\tremaining: 185ms\n",
      "42:\tlearn: 205.3580824\ttotal: 49.9ms\tremaining: 182ms\n",
      "43:\tlearn: 204.6204266\ttotal: 50.7ms\tremaining: 180ms\n",
      "44:\tlearn: 202.5023220\ttotal: 51.4ms\tremaining: 177ms\n",
      "45:\tlearn: 201.4347853\ttotal: 52.1ms\tremaining: 174ms\n",
      "46:\tlearn: 200.8752553\ttotal: 52.7ms\tremaining: 172ms\n",
      "47:\tlearn: 200.4047344\ttotal: 53.4ms\tremaining: 169ms\n",
      "48:\tlearn: 197.5433004\ttotal: 54.1ms\tremaining: 167ms\n",
      "49:\tlearn: 194.6943292\ttotal: 54.7ms\tremaining: 164ms\n",
      "50:\tlearn: 194.3011982\ttotal: 55.3ms\tremaining: 162ms\n",
      "51:\tlearn: 193.4011843\ttotal: 56ms\tremaining: 159ms\n",
      "52:\tlearn: 193.0109753\ttotal: 56.6ms\tremaining: 157ms\n",
      "53:\tlearn: 192.6071142\ttotal: 57.5ms\tremaining: 155ms\n",
      "54:\tlearn: 191.9666153\ttotal: 58.5ms\tremaining: 154ms\n",
      "55:\tlearn: 191.5789727\ttotal: 59.2ms\tremaining: 152ms\n",
      "56:\tlearn: 190.7186284\ttotal: 59.9ms\tremaining: 150ms\n",
      "57:\tlearn: 190.4543087\ttotal: 60.5ms\tremaining: 148ms\n",
      "58:\tlearn: 190.1336317\ttotal: 61.1ms\tremaining: 146ms\n",
      "59:\tlearn: 188.2286484\ttotal: 61.8ms\tremaining: 144ms\n",
      "60:\tlearn: 187.7652417\ttotal: 62.4ms\tremaining: 142ms\n",
      "61:\tlearn: 187.4227950\ttotal: 63ms\tremaining: 140ms\n",
      "62:\tlearn: 186.9289182\ttotal: 63.7ms\tremaining: 138ms\n",
      "63:\tlearn: 185.2993487\ttotal: 64.3ms\tremaining: 137ms\n",
      "64:\tlearn: 185.0349598\ttotal: 65ms\tremaining: 135ms\n",
      "65:\tlearn: 183.9773430\ttotal: 65.6ms\tremaining: 133ms\n",
      "66:\tlearn: 183.4463166\ttotal: 66.2ms\tremaining: 131ms\n",
      "67:\tlearn: 181.6627740\ttotal: 66.9ms\tremaining: 130ms\n",
      "68:\tlearn: 179.8785055\ttotal: 67.6ms\tremaining: 128ms\n",
      "69:\tlearn: 179.6737527\ttotal: 68.3ms\tremaining: 127ms\n",
      "70:\tlearn: 177.0830981\ttotal: 68.9ms\tremaining: 125ms\n",
      "71:\tlearn: 176.5917790\ttotal: 69.5ms\tremaining: 124ms\n",
      "72:\tlearn: 176.1240502\ttotal: 70.2ms\tremaining: 122ms\n",
      "73:\tlearn: 174.4828953\ttotal: 71.2ms\tremaining: 121ms\n",
      "74:\tlearn: 173.4220482\ttotal: 72ms\tremaining: 120ms\n",
      "75:\tlearn: 171.9903405\ttotal: 72.6ms\tremaining: 118ms\n",
      "76:\tlearn: 171.5803116\ttotal: 73.2ms\tremaining: 117ms\n",
      "77:\tlearn: 170.1411594\ttotal: 73.8ms\tremaining: 115ms\n",
      "78:\tlearn: 167.9868133\ttotal: 74.5ms\tremaining: 114ms\n",
      "79:\tlearn: 166.5304475\ttotal: 75.1ms\tremaining: 113ms\n",
      "80:\tlearn: 166.1741622\ttotal: 75.7ms\tremaining: 111ms\n",
      "81:\tlearn: 165.8411762\ttotal: 76.3ms\tremaining: 110ms\n",
      "82:\tlearn: 165.1041583\ttotal: 77ms\tremaining: 109ms\n",
      "83:\tlearn: 163.5641543\ttotal: 77.6ms\tremaining: 107ms\n",
      "84:\tlearn: 163.2003311\ttotal: 78.2ms\tremaining: 106ms\n",
      "85:\tlearn: 161.1781702\ttotal: 78.9ms\tremaining: 105ms\n",
      "86:\tlearn: 160.8727658\ttotal: 79.5ms\tremaining: 103ms\n",
      "87:\tlearn: 159.7954077\ttotal: 80.2ms\tremaining: 102ms\n",
      "88:\tlearn: 158.8759132\ttotal: 80.9ms\tremaining: 101ms\n",
      "89:\tlearn: 158.4831323\ttotal: 81.5ms\tremaining: 99.6ms\n",
      "90:\tlearn: 157.4808127\ttotal: 82.2ms\tremaining: 98.4ms\n",
      "91:\tlearn: 157.1703230\ttotal: 82.8ms\tremaining: 97.2ms\n",
      "92:\tlearn: 155.3184755\ttotal: 83.5ms\tremaining: 96ms\n",
      "93:\tlearn: 154.3988879\ttotal: 84.2ms\tremaining: 95ms\n",
      "94:\tlearn: 153.4591935\ttotal: 85.1ms\tremaining: 94ms\n",
      "95:\tlearn: 153.1206893\ttotal: 85.7ms\tremaining: 92.9ms\n",
      "96:\tlearn: 152.7897351\ttotal: 86.4ms\tremaining: 91.7ms\n",
      "97:\tlearn: 150.9293164\ttotal: 87ms\tremaining: 90.6ms\n",
      "98:\tlearn: 149.7127171\ttotal: 87.6ms\tremaining: 89.4ms\n",
      "99:\tlearn: 149.5089324\ttotal: 88.3ms\tremaining: 88.3ms\n",
      "100:\tlearn: 149.3156312\ttotal: 88.9ms\tremaining: 87.1ms\n",
      "101:\tlearn: 147.7226718\ttotal: 89.5ms\tremaining: 86ms\n",
      "102:\tlearn: 146.7692282\ttotal: 90.1ms\tremaining: 84.9ms\n",
      "103:\tlearn: 145.9084983\ttotal: 90.7ms\tremaining: 83.8ms\n",
      "104:\tlearn: 144.8780979\ttotal: 91.3ms\tremaining: 82.7ms\n",
      "105:\tlearn: 143.8090268\ttotal: 92ms\tremaining: 81.6ms\n",
      "106:\tlearn: 143.1272551\ttotal: 92.6ms\tremaining: 80.5ms\n",
      "107:\tlearn: 142.4863018\ttotal: 93.2ms\tremaining: 79.4ms\n",
      "108:\tlearn: 141.4861279\ttotal: 93.9ms\tremaining: 78.4ms\n",
      "109:\tlearn: 140.8689530\ttotal: 94.5ms\tremaining: 77.3ms\n",
      "110:\tlearn: 140.4009570\ttotal: 95.1ms\tremaining: 76.3ms\n",
      "111:\tlearn: 140.0344439\ttotal: 95.8ms\tremaining: 75.3ms\n",
      "112:\tlearn: 139.4290096\ttotal: 96.4ms\tremaining: 74.2ms\n",
      "113:\tlearn: 139.2008874\ttotal: 97.1ms\tremaining: 73.2ms\n",
      "114:\tlearn: 138.6000188\ttotal: 97.7ms\tremaining: 72.2ms\n",
      "115:\tlearn: 138.3962706\ttotal: 98.3ms\tremaining: 71.2ms\n",
      "116:\tlearn: 138.1737256\ttotal: 99.1ms\tremaining: 70.3ms\n",
      "117:\tlearn: 137.6342361\ttotal: 99.7ms\tremaining: 69.3ms\n",
      "118:\tlearn: 136.7119826\ttotal: 100ms\tremaining: 68.3ms\n",
      "119:\tlearn: 135.3057402\ttotal: 101ms\tremaining: 67.3ms\n",
      "120:\tlearn: 134.4797815\ttotal: 102ms\tremaining: 66.3ms\n",
      "121:\tlearn: 133.0774331\ttotal: 102ms\tremaining: 65.3ms\n",
      "122:\tlearn: 131.8739238\ttotal: 103ms\tremaining: 64.3ms\n",
      "123:\tlearn: 131.3203837\ttotal: 103ms\tremaining: 63.4ms\n",
      "124:\tlearn: 130.8294604\ttotal: 104ms\tremaining: 62.4ms\n",
      "125:\tlearn: 130.6107905\ttotal: 105ms\tremaining: 61.4ms\n",
      "126:\tlearn: 130.1614924\ttotal: 105ms\tremaining: 60.5ms\n",
      "127:\tlearn: 129.3166972\ttotal: 106ms\tremaining: 59.5ms\n",
      "128:\tlearn: 129.1038672\ttotal: 106ms\tremaining: 58.6ms\n",
      "129:\tlearn: 128.9594874\ttotal: 107ms\tremaining: 57.7ms\n",
      "130:\tlearn: 128.1849638\ttotal: 108ms\tremaining: 56.7ms\n",
      "131:\tlearn: 128.0307033\ttotal: 108ms\tremaining: 55.8ms\n",
      "132:\tlearn: 127.3373882\ttotal: 109ms\tremaining: 54.9ms\n",
      "133:\tlearn: 126.2856989\ttotal: 110ms\tremaining: 54ms\n",
      "134:\tlearn: 126.1379832\ttotal: 110ms\tremaining: 53.1ms\n",
      "135:\tlearn: 126.0180019\ttotal: 111ms\tremaining: 52.2ms\n",
      "136:\tlearn: 125.8843963\ttotal: 112ms\tremaining: 51.3ms\n",
      "137:\tlearn: 125.7576333\ttotal: 112ms\tremaining: 50.4ms\n",
      "138:\tlearn: 125.4794581\ttotal: 113ms\tremaining: 49.6ms\n",
      "139:\tlearn: 124.7920270\ttotal: 114ms\tremaining: 48.7ms\n",
      "140:\tlearn: 124.6530278\ttotal: 114ms\tremaining: 47.8ms\n",
      "141:\tlearn: 123.4539010\ttotal: 115ms\tremaining: 46.9ms\n",
      "142:\tlearn: 122.8980001\ttotal: 116ms\tremaining: 46ms\n",
      "143:\tlearn: 122.0911177\ttotal: 116ms\tremaining: 45.2ms\n",
      "144:\tlearn: 121.1209154\ttotal: 117ms\tremaining: 44.3ms\n",
      "145:\tlearn: 120.1613553\ttotal: 117ms\tremaining: 43.4ms\n",
      "146:\tlearn: 119.1894727\ttotal: 118ms\tremaining: 42.6ms\n",
      "147:\tlearn: 118.0325732\ttotal: 119ms\tremaining: 41.7ms\n",
      "148:\tlearn: 117.9138240\ttotal: 119ms\tremaining: 40.8ms\n",
      "149:\tlearn: 117.3831462\ttotal: 120ms\tremaining: 40ms\n",
      "150:\tlearn: 116.8475244\ttotal: 121ms\tremaining: 39.1ms\n",
      "151:\tlearn: 116.3821954\ttotal: 121ms\tremaining: 38.3ms\n",
      "152:\tlearn: 115.5293176\ttotal: 122ms\tremaining: 37.4ms\n",
      "153:\tlearn: 115.0975175\ttotal: 122ms\tremaining: 36.6ms\n",
      "154:\tlearn: 114.0649594\ttotal: 123ms\tremaining: 35.8ms\n",
      "155:\tlearn: 113.2562326\ttotal: 124ms\tremaining: 34.9ms\n",
      "156:\tlearn: 112.7557871\ttotal: 124ms\tremaining: 34.1ms\n",
      "157:\tlearn: 112.5657565\ttotal: 125ms\tremaining: 33.2ms\n",
      "158:\tlearn: 112.3541525\ttotal: 126ms\tremaining: 32.4ms\n",
      "159:\tlearn: 111.8527982\ttotal: 126ms\tremaining: 31.6ms\n",
      "160:\tlearn: 111.1619644\ttotal: 127ms\tremaining: 30.8ms\n",
      "161:\tlearn: 110.3588257\ttotal: 128ms\tremaining: 30ms\n",
      "162:\tlearn: 109.6664293\ttotal: 128ms\tremaining: 29.2ms\n",
      "163:\tlearn: 109.5577303\ttotal: 129ms\tremaining: 28.3ms\n",
      "164:\tlearn: 109.0570285\ttotal: 130ms\tremaining: 27.5ms\n",
      "165:\tlearn: 108.7601467\ttotal: 130ms\tremaining: 26.7ms\n",
      "166:\tlearn: 108.0448620\ttotal: 131ms\tremaining: 25.9ms\n",
      "167:\tlearn: 107.5593372\ttotal: 132ms\tremaining: 25.1ms\n",
      "168:\tlearn: 106.3862999\ttotal: 132ms\tremaining: 24.3ms\n",
      "169:\tlearn: 106.2180807\ttotal: 133ms\tremaining: 23.5ms\n",
      "170:\tlearn: 106.0695603\ttotal: 134ms\tremaining: 22.7ms\n",
      "171:\tlearn: 105.6940213\ttotal: 134ms\tremaining: 21.9ms\n",
      "172:\tlearn: 104.7598987\ttotal: 135ms\tremaining: 21.1ms\n",
      "173:\tlearn: 104.6589992\ttotal: 136ms\tremaining: 20.3ms\n",
      "174:\tlearn: 103.7203657\ttotal: 136ms\tremaining: 19.5ms\n",
      "175:\tlearn: 103.2660987\ttotal: 137ms\tremaining: 18.7ms\n",
      "176:\tlearn: 103.0926213\ttotal: 137ms\tremaining: 17.9ms\n",
      "177:\tlearn: 102.6925209\ttotal: 138ms\tremaining: 17.1ms\n",
      "178:\tlearn: 102.1655154\ttotal: 139ms\tremaining: 16.3ms\n",
      "179:\tlearn: 101.8273108\ttotal: 139ms\tremaining: 15.5ms\n",
      "180:\tlearn: 101.7264515\ttotal: 140ms\tremaining: 14.7ms\n",
      "181:\tlearn: 101.1102333\ttotal: 141ms\tremaining: 13.9ms\n",
      "182:\tlearn: 100.7880364\ttotal: 141ms\tremaining: 13.1ms\n",
      "183:\tlearn: 100.6673014\ttotal: 142ms\tremaining: 12.3ms\n",
      "184:\tlearn: 100.0153055\ttotal: 143ms\tremaining: 11.6ms\n",
      "185:\tlearn: 99.7667281\ttotal: 143ms\tremaining: 10.8ms\n",
      "186:\tlearn: 99.1860593\ttotal: 144ms\tremaining: 10ms\n",
      "187:\tlearn: 99.0408133\ttotal: 145ms\tremaining: 9.22ms\n",
      "188:\tlearn: 98.9030718\ttotal: 145ms\tremaining: 8.45ms\n",
      "189:\tlearn: 97.4513860\ttotal: 146ms\tremaining: 7.67ms\n",
      "190:\tlearn: 97.3322959\ttotal: 146ms\tremaining: 6.9ms\n",
      "191:\tlearn: 97.1950848\ttotal: 147ms\tremaining: 6.12ms\n",
      "192:\tlearn: 96.6789532\ttotal: 148ms\tremaining: 5.35ms\n",
      "193:\tlearn: 96.5506179\ttotal: 148ms\tremaining: 4.58ms\n",
      "194:\tlearn: 95.6635039\ttotal: 149ms\tremaining: 3.82ms\n",
      "195:\tlearn: 94.8850777\ttotal: 150ms\tremaining: 3.07ms\n",
      "196:\tlearn: 94.1624589\ttotal: 151ms\tremaining: 2.3ms\n",
      "197:\tlearn: 93.8220662\ttotal: 152ms\tremaining: 1.54ms\n",
      "198:\tlearn: 93.7300351\ttotal: 153ms\tremaining: 769us\n",
      "199:\tlearn: 93.3339522\ttotal: 154ms\tremaining: 0us\n"
     ]
    }
   ],
   "source": [
    "catb_tuned = CatBoostRegressor(depth=3,iterations=200,learning_rate=0.1).fit(X_train,y_train)"
   ]
  },
  {
   "cell_type": "code",
   "execution_count": 297,
   "id": "143cbe37-9914-4247-b300-98da2e1f31d1",
   "metadata": {},
   "outputs": [],
   "source": [
    "y_pred = catb_tuned.predict(X_test)"
   ]
  },
  {
   "cell_type": "code",
   "execution_count": 298,
   "id": "322a5ed4-0f07-474f-83e0-11ad55c63087",
   "metadata": {},
   "outputs": [
    {
     "data": {
      "text/plain": [
       "344.3125832615482"
      ]
     },
     "execution_count": 298,
     "metadata": {},
     "output_type": "execute_result"
    }
   ],
   "source": [
    "np.sqrt(mean_squared_error(y_test,y_pred))"
   ]
  },
  {
   "cell_type": "markdown",
   "id": "a4d0ef66-5526-4e39-909c-d3b4450305c9",
   "metadata": {},
   "source": [
    "# MAKİNE ÖĞRENMESİ GÖREVLERİNİN OTOMATİKLEŞTİRİLMESİ"
   ]
  },
  {
   "cell_type": "code",
   "execution_count": 299,
   "id": "78f3f130-7601-4895-baac-0914df578965",
   "metadata": {},
   "outputs": [],
   "source": [
    "#her veri seti için incelenmeli\n",
    "df = pd.read_csv(\"Hitters.csv\")\n",
    "df = df.dropna()\n",
    "dms = pd.get_dummies(df[['League','Division','NewLeague']])"
   ]
  },
  {
   "cell_type": "code",
   "execution_count": 326,
   "id": "1a59929d-5d5d-4b64-a13d-62800e990b27",
   "metadata": {},
   "outputs": [],
   "source": [
    "def compML(df, y, alg):\n",
    "    #train-test ayrımı\n",
    "    y = df[y]\n",
    "    X_ = df.drop(['Salary','League','Division','NewLeague'],axis=1).astype('float64')\n",
    "    X = pd.concat([X_,dms[['League_N','Division_W','NewLeague_N']]],axis=1)\n",
    "    X_train,X_test,y_train,y_test = train_test_split(X,y,test_size=0.25,random_state=42)\n",
    "    #modelleme \n",
    "    model = alg().fit(X_train,y_train)\n",
    "    y_pred = model.predict(X_test)\n",
    "    RMSE = np.sqrt(mean_squared_error(y_test,y_pred))\n",
    "    model_ismi = alg.__name__\n",
    "    print(model_ismi,\"Modeli Test Hatası:\",RMSE)"
   ]
  },
  {
   "cell_type": "code",
   "execution_count": 327,
   "id": "3413708f-564f-49d7-98d9-72295efd275a",
   "metadata": {},
   "outputs": [
    {
     "name": "stdout",
     "output_type": "stream",
     "text": [
      "LGBMRegressor Modeli Test Hatası: 363.8712087611089\n"
     ]
    }
   ],
   "source": [
    "compML(df,\"Salary\",LGBMRegressor)\n",
    "\n",
    "\n"
   ]
  },
  {
   "cell_type": "code",
   "execution_count": 329,
   "id": "0d7c1227-1dc6-4772-b550-24f678ea1f96",
   "metadata": {},
   "outputs": [],
   "source": [
    "models = [LGBMRegressor,\n",
    "         XGBRegressor,\n",
    "         GradientBoostingRegressor,\n",
    "         RandomForestRegressor,\n",
    "         DecisionTreeRegressor,\n",
    "         MLPRegressor,\n",
    "         KNeighborsRegressor,\n",
    "         SVR]"
   ]
  },
  {
   "cell_type": "code",
   "execution_count": 331,
   "id": "d08945f2-e8fb-4eaa-910d-6f52bc5eea2d",
   "metadata": {},
   "outputs": [
    {
     "name": "stdout",
     "output_type": "stream",
     "text": [
      "LGBMRegressor Modeli Test Hatası: 363.8712087611089\n",
      "XGBRegressor Modeli Test Hatası: 355.46515176059927\n",
      "GradientBoostingRegressor Modeli Test Hatası: 351.05937053319957\n",
      "RandomForestRegressor Modeli Test Hatası: 346.5262002609608\n",
      "DecisionTreeRegressor Modeli Test Hatası: 489.03489483995025\n",
      "MLPRegressor Modeli Test Hatası: 363.57068183125784\n",
      "KNeighborsRegressor Modeli Test Hatası: 426.6570764525201\n",
      "SVR Modeli Test Hatası: 460.0032657244849\n"
     ]
    }
   ],
   "source": [
    "for i in models:\n",
    "    compML(df,\"Salary\",i)"
   ]
  },
  {
   "cell_type": "code",
   "execution_count": null,
   "id": "84eaf779-cbbe-49f9-b1d8-20765f200bbd",
   "metadata": {},
   "outputs": [],
   "source": []
  }
 ],
 "metadata": {
  "kernelspec": {
   "display_name": "Python 3",
   "language": "python",
   "name": "python3"
  },
  "language_info": {
   "codemirror_mode": {
    "name": "ipython",
    "version": 3
   },
   "file_extension": ".py",
   "mimetype": "text/x-python",
   "name": "python",
   "nbconvert_exporter": "python",
   "pygments_lexer": "ipython3",
   "version": "3.8.8"
  }
 },
 "nbformat": 4,
 "nbformat_minor": 5
}
