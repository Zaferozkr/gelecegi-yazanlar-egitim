{
 "cells": [
  {
   "cell_type": "markdown",
   "id": "f669d48d-0fe3-4519-b429-f991af107fbd",
   "metadata": {},
   "source": [
    "# Sınıflandırma Modelleri"
   ]
  },
  {
   "cell_type": "code",
   "execution_count": 44,
   "id": "4cd4c350-ea17-4e80-bdc6-e166e710aeda",
   "metadata": {},
   "outputs": [],
   "source": [
    "import numpy as np \n",
    "import pandas as pd\n",
    "import statsmodels.api as sm\n",
    "import seaborn as sns\n",
    "import matplotlib.pyplot as plt \n",
    "from sklearn.preprocessing import scale, StandardScaler\n",
    "from sklearn.model_selection import train_test_split, GridSearchCV,cross_val_score\n",
    "from sklearn.metrics import confusion_matrix, accuracy_score, mean_squared_error,r2_score, roc_auc_score, roc_curve,classification_report\n",
    "from sklearn.linear_model import LogisticRegression\n",
    "from sklearn.neighbors import KNeighborsClassifier\n",
    "from sklearn.svm import SVC\n",
    "from sklearn.neural_network import MLPClassifier\n",
    "from sklearn.tree import DecisionTreeClassifier\n",
    "from sklearn.ensemble import RandomForestClassifier\n",
    "from sklearn.ensemble import GradientBoostingClassifier"
   ]
  },
  {
   "cell_type": "code",
   "execution_count": 6,
   "id": "40c7edda-7b6b-4848-ad4a-2875e144559b",
   "metadata": {},
   "outputs": [],
   "source": [
    "import warnings\n",
    "warnings.filterwarnings(\"ignore\", category=DeprecationWarning)\n",
    "warnings.filterwarnings(\"ignore\", category=FutureWarning)"
   ]
  },
  {
   "cell_type": "code",
   "execution_count": 8,
   "id": "746d193a-e2a9-41f0-8cf7-f740b341f142",
   "metadata": {},
   "outputs": [],
   "source": [
    "df = pd.read_csv(\"./diabetes.csv\")"
   ]
  },
  {
   "cell_type": "code",
   "execution_count": 9,
   "id": "e0d3f58f-de60-4d1d-a302-f3937c8282ce",
   "metadata": {},
   "outputs": [
    {
     "data": {
      "text/html": [
       "<div>\n",
       "<style scoped>\n",
       "    .dataframe tbody tr th:only-of-type {\n",
       "        vertical-align: middle;\n",
       "    }\n",
       "\n",
       "    .dataframe tbody tr th {\n",
       "        vertical-align: top;\n",
       "    }\n",
       "\n",
       "    .dataframe thead th {\n",
       "        text-align: right;\n",
       "    }\n",
       "</style>\n",
       "<table border=\"1\" class=\"dataframe\">\n",
       "  <thead>\n",
       "    <tr style=\"text-align: right;\">\n",
       "      <th></th>\n",
       "      <th>Pregnancies</th>\n",
       "      <th>Glucose</th>\n",
       "      <th>BloodPressure</th>\n",
       "      <th>SkinThickness</th>\n",
       "      <th>Insulin</th>\n",
       "      <th>BMI</th>\n",
       "      <th>DiabetesPedigreeFunction</th>\n",
       "      <th>Age</th>\n",
       "      <th>Outcome</th>\n",
       "    </tr>\n",
       "  </thead>\n",
       "  <tbody>\n",
       "    <tr>\n",
       "      <th>0</th>\n",
       "      <td>6</td>\n",
       "      <td>148</td>\n",
       "      <td>72</td>\n",
       "      <td>35</td>\n",
       "      <td>0</td>\n",
       "      <td>33.6</td>\n",
       "      <td>0.627</td>\n",
       "      <td>50</td>\n",
       "      <td>1</td>\n",
       "    </tr>\n",
       "    <tr>\n",
       "      <th>1</th>\n",
       "      <td>1</td>\n",
       "      <td>85</td>\n",
       "      <td>66</td>\n",
       "      <td>29</td>\n",
       "      <td>0</td>\n",
       "      <td>26.6</td>\n",
       "      <td>0.351</td>\n",
       "      <td>31</td>\n",
       "      <td>0</td>\n",
       "    </tr>\n",
       "    <tr>\n",
       "      <th>2</th>\n",
       "      <td>8</td>\n",
       "      <td>183</td>\n",
       "      <td>64</td>\n",
       "      <td>0</td>\n",
       "      <td>0</td>\n",
       "      <td>23.3</td>\n",
       "      <td>0.672</td>\n",
       "      <td>32</td>\n",
       "      <td>1</td>\n",
       "    </tr>\n",
       "    <tr>\n",
       "      <th>3</th>\n",
       "      <td>1</td>\n",
       "      <td>89</td>\n",
       "      <td>66</td>\n",
       "      <td>23</td>\n",
       "      <td>94</td>\n",
       "      <td>28.1</td>\n",
       "      <td>0.167</td>\n",
       "      <td>21</td>\n",
       "      <td>0</td>\n",
       "    </tr>\n",
       "    <tr>\n",
       "      <th>4</th>\n",
       "      <td>0</td>\n",
       "      <td>137</td>\n",
       "      <td>40</td>\n",
       "      <td>35</td>\n",
       "      <td>168</td>\n",
       "      <td>43.1</td>\n",
       "      <td>2.288</td>\n",
       "      <td>33</td>\n",
       "      <td>1</td>\n",
       "    </tr>\n",
       "  </tbody>\n",
       "</table>\n",
       "</div>"
      ],
      "text/plain": [
       "   Pregnancies  Glucose  BloodPressure  SkinThickness  Insulin   BMI  \\\n",
       "0            6      148             72             35        0  33.6   \n",
       "1            1       85             66             29        0  26.6   \n",
       "2            8      183             64              0        0  23.3   \n",
       "3            1       89             66             23       94  28.1   \n",
       "4            0      137             40             35      168  43.1   \n",
       "\n",
       "   DiabetesPedigreeFunction  Age  Outcome  \n",
       "0                     0.627   50        1  \n",
       "1                     0.351   31        0  \n",
       "2                     0.672   32        1  \n",
       "3                     0.167   21        0  \n",
       "4                     2.288   33        1  "
      ]
     },
     "execution_count": 9,
     "metadata": {},
     "output_type": "execute_result"
    }
   ],
   "source": [
    "df.head()"
   ]
  },
  {
   "cell_type": "markdown",
   "id": "b0593448-47a8-49c0-9ba4-360b65ab7450",
   "metadata": {},
   "source": [
    "## Lojistik Regresyon(Logistic Regression) "
   ]
  },
  {
   "cell_type": "markdown",
   "id": "169b5010-87ce-4ab8-9b19-57791d740842",
   "metadata": {},
   "source": [
    "### Model & Tahmin"
   ]
  },
  {
   "cell_type": "code",
   "execution_count": 11,
   "id": "74b7dcf9-49d2-4143-a6a4-15b10a888821",
   "metadata": {},
   "outputs": [
    {
     "data": {
      "text/plain": [
       "0    500\n",
       "1    268\n",
       "Name: Outcome, dtype: int64"
      ]
     },
     "execution_count": 11,
     "metadata": {},
     "output_type": "execute_result"
    }
   ],
   "source": [
    "df[\"Outcome\"].value_counts()"
   ]
  },
  {
   "cell_type": "code",
   "execution_count": 14,
   "id": "9101ba6c-eb53-4f5e-840c-edea54551e99",
   "metadata": {},
   "outputs": [
    {
     "data": {
      "text/html": [
       "<div>\n",
       "<style scoped>\n",
       "    .dataframe tbody tr th:only-of-type {\n",
       "        vertical-align: middle;\n",
       "    }\n",
       "\n",
       "    .dataframe tbody tr th {\n",
       "        vertical-align: top;\n",
       "    }\n",
       "\n",
       "    .dataframe thead th {\n",
       "        text-align: right;\n",
       "    }\n",
       "</style>\n",
       "<table border=\"1\" class=\"dataframe\">\n",
       "  <thead>\n",
       "    <tr style=\"text-align: right;\">\n",
       "      <th></th>\n",
       "      <th>count</th>\n",
       "      <th>mean</th>\n",
       "      <th>std</th>\n",
       "      <th>min</th>\n",
       "      <th>25%</th>\n",
       "      <th>50%</th>\n",
       "      <th>75%</th>\n",
       "      <th>max</th>\n",
       "    </tr>\n",
       "  </thead>\n",
       "  <tbody>\n",
       "    <tr>\n",
       "      <th>Pregnancies</th>\n",
       "      <td>768.0</td>\n",
       "      <td>3.845052</td>\n",
       "      <td>3.369578</td>\n",
       "      <td>0.000</td>\n",
       "      <td>1.00000</td>\n",
       "      <td>3.0000</td>\n",
       "      <td>6.00000</td>\n",
       "      <td>17.00</td>\n",
       "    </tr>\n",
       "    <tr>\n",
       "      <th>Glucose</th>\n",
       "      <td>768.0</td>\n",
       "      <td>120.894531</td>\n",
       "      <td>31.972618</td>\n",
       "      <td>0.000</td>\n",
       "      <td>99.00000</td>\n",
       "      <td>117.0000</td>\n",
       "      <td>140.25000</td>\n",
       "      <td>199.00</td>\n",
       "    </tr>\n",
       "    <tr>\n",
       "      <th>BloodPressure</th>\n",
       "      <td>768.0</td>\n",
       "      <td>69.105469</td>\n",
       "      <td>19.355807</td>\n",
       "      <td>0.000</td>\n",
       "      <td>62.00000</td>\n",
       "      <td>72.0000</td>\n",
       "      <td>80.00000</td>\n",
       "      <td>122.00</td>\n",
       "    </tr>\n",
       "    <tr>\n",
       "      <th>SkinThickness</th>\n",
       "      <td>768.0</td>\n",
       "      <td>20.536458</td>\n",
       "      <td>15.952218</td>\n",
       "      <td>0.000</td>\n",
       "      <td>0.00000</td>\n",
       "      <td>23.0000</td>\n",
       "      <td>32.00000</td>\n",
       "      <td>99.00</td>\n",
       "    </tr>\n",
       "    <tr>\n",
       "      <th>Insulin</th>\n",
       "      <td>768.0</td>\n",
       "      <td>79.799479</td>\n",
       "      <td>115.244002</td>\n",
       "      <td>0.000</td>\n",
       "      <td>0.00000</td>\n",
       "      <td>30.5000</td>\n",
       "      <td>127.25000</td>\n",
       "      <td>846.00</td>\n",
       "    </tr>\n",
       "    <tr>\n",
       "      <th>BMI</th>\n",
       "      <td>768.0</td>\n",
       "      <td>31.992578</td>\n",
       "      <td>7.884160</td>\n",
       "      <td>0.000</td>\n",
       "      <td>27.30000</td>\n",
       "      <td>32.0000</td>\n",
       "      <td>36.60000</td>\n",
       "      <td>67.10</td>\n",
       "    </tr>\n",
       "    <tr>\n",
       "      <th>DiabetesPedigreeFunction</th>\n",
       "      <td>768.0</td>\n",
       "      <td>0.471876</td>\n",
       "      <td>0.331329</td>\n",
       "      <td>0.078</td>\n",
       "      <td>0.24375</td>\n",
       "      <td>0.3725</td>\n",
       "      <td>0.62625</td>\n",
       "      <td>2.42</td>\n",
       "    </tr>\n",
       "    <tr>\n",
       "      <th>Age</th>\n",
       "      <td>768.0</td>\n",
       "      <td>33.240885</td>\n",
       "      <td>11.760232</td>\n",
       "      <td>21.000</td>\n",
       "      <td>24.00000</td>\n",
       "      <td>29.0000</td>\n",
       "      <td>41.00000</td>\n",
       "      <td>81.00</td>\n",
       "    </tr>\n",
       "    <tr>\n",
       "      <th>Outcome</th>\n",
       "      <td>768.0</td>\n",
       "      <td>0.348958</td>\n",
       "      <td>0.476951</td>\n",
       "      <td>0.000</td>\n",
       "      <td>0.00000</td>\n",
       "      <td>0.0000</td>\n",
       "      <td>1.00000</td>\n",
       "      <td>1.00</td>\n",
       "    </tr>\n",
       "  </tbody>\n",
       "</table>\n",
       "</div>"
      ],
      "text/plain": [
       "                          count        mean         std     min       25%  \\\n",
       "Pregnancies               768.0    3.845052    3.369578   0.000   1.00000   \n",
       "Glucose                   768.0  120.894531   31.972618   0.000  99.00000   \n",
       "BloodPressure             768.0   69.105469   19.355807   0.000  62.00000   \n",
       "SkinThickness             768.0   20.536458   15.952218   0.000   0.00000   \n",
       "Insulin                   768.0   79.799479  115.244002   0.000   0.00000   \n",
       "BMI                       768.0   31.992578    7.884160   0.000  27.30000   \n",
       "DiabetesPedigreeFunction  768.0    0.471876    0.331329   0.078   0.24375   \n",
       "Age                       768.0   33.240885   11.760232  21.000  24.00000   \n",
       "Outcome                   768.0    0.348958    0.476951   0.000   0.00000   \n",
       "\n",
       "                               50%        75%     max  \n",
       "Pregnancies                 3.0000    6.00000   17.00  \n",
       "Glucose                   117.0000  140.25000  199.00  \n",
       "BloodPressure              72.0000   80.00000  122.00  \n",
       "SkinThickness              23.0000   32.00000   99.00  \n",
       "Insulin                    30.5000  127.25000  846.00  \n",
       "BMI                        32.0000   36.60000   67.10  \n",
       "DiabetesPedigreeFunction    0.3725    0.62625    2.42  \n",
       "Age                        29.0000   41.00000   81.00  \n",
       "Outcome                     0.0000    1.00000    1.00  "
      ]
     },
     "execution_count": 14,
     "metadata": {},
     "output_type": "execute_result"
    }
   ],
   "source": [
    "df.describe().T"
   ]
  },
  {
   "cell_type": "code",
   "execution_count": 16,
   "id": "dfd1ee9d-8126-492a-bc60-425ec05b98c8",
   "metadata": {},
   "outputs": [],
   "source": [
    "y = df[\"Outcome\"]\n",
    "X = df.drop([\"Outcome\"], axis=1)"
   ]
  },
  {
   "cell_type": "code",
   "execution_count": 17,
   "id": "37b55359-f586-4173-bf3f-e1892f6fc503",
   "metadata": {},
   "outputs": [
    {
     "data": {
      "text/plain": [
       "0    1\n",
       "1    0\n",
       "2    1\n",
       "3    0\n",
       "4    1\n",
       "Name: Outcome, dtype: int64"
      ]
     },
     "execution_count": 17,
     "metadata": {},
     "output_type": "execute_result"
    }
   ],
   "source": [
    "y.head()"
   ]
  },
  {
   "cell_type": "code",
   "execution_count": 18,
   "id": "af4509d6-e148-48c0-977f-d250c84b2ab6",
   "metadata": {},
   "outputs": [
    {
     "data": {
      "text/html": [
       "<div>\n",
       "<style scoped>\n",
       "    .dataframe tbody tr th:only-of-type {\n",
       "        vertical-align: middle;\n",
       "    }\n",
       "\n",
       "    .dataframe tbody tr th {\n",
       "        vertical-align: top;\n",
       "    }\n",
       "\n",
       "    .dataframe thead th {\n",
       "        text-align: right;\n",
       "    }\n",
       "</style>\n",
       "<table border=\"1\" class=\"dataframe\">\n",
       "  <thead>\n",
       "    <tr style=\"text-align: right;\">\n",
       "      <th></th>\n",
       "      <th>Pregnancies</th>\n",
       "      <th>Glucose</th>\n",
       "      <th>BloodPressure</th>\n",
       "      <th>SkinThickness</th>\n",
       "      <th>Insulin</th>\n",
       "      <th>BMI</th>\n",
       "      <th>DiabetesPedigreeFunction</th>\n",
       "      <th>Age</th>\n",
       "    </tr>\n",
       "  </thead>\n",
       "  <tbody>\n",
       "    <tr>\n",
       "      <th>0</th>\n",
       "      <td>6</td>\n",
       "      <td>148</td>\n",
       "      <td>72</td>\n",
       "      <td>35</td>\n",
       "      <td>0</td>\n",
       "      <td>33.6</td>\n",
       "      <td>0.627</td>\n",
       "      <td>50</td>\n",
       "    </tr>\n",
       "    <tr>\n",
       "      <th>1</th>\n",
       "      <td>1</td>\n",
       "      <td>85</td>\n",
       "      <td>66</td>\n",
       "      <td>29</td>\n",
       "      <td>0</td>\n",
       "      <td>26.6</td>\n",
       "      <td>0.351</td>\n",
       "      <td>31</td>\n",
       "    </tr>\n",
       "    <tr>\n",
       "      <th>2</th>\n",
       "      <td>8</td>\n",
       "      <td>183</td>\n",
       "      <td>64</td>\n",
       "      <td>0</td>\n",
       "      <td>0</td>\n",
       "      <td>23.3</td>\n",
       "      <td>0.672</td>\n",
       "      <td>32</td>\n",
       "    </tr>\n",
       "    <tr>\n",
       "      <th>3</th>\n",
       "      <td>1</td>\n",
       "      <td>89</td>\n",
       "      <td>66</td>\n",
       "      <td>23</td>\n",
       "      <td>94</td>\n",
       "      <td>28.1</td>\n",
       "      <td>0.167</td>\n",
       "      <td>21</td>\n",
       "    </tr>\n",
       "    <tr>\n",
       "      <th>4</th>\n",
       "      <td>0</td>\n",
       "      <td>137</td>\n",
       "      <td>40</td>\n",
       "      <td>35</td>\n",
       "      <td>168</td>\n",
       "      <td>43.1</td>\n",
       "      <td>2.288</td>\n",
       "      <td>33</td>\n",
       "    </tr>\n",
       "  </tbody>\n",
       "</table>\n",
       "</div>"
      ],
      "text/plain": [
       "   Pregnancies  Glucose  BloodPressure  SkinThickness  Insulin   BMI  \\\n",
       "0            6      148             72             35        0  33.6   \n",
       "1            1       85             66             29        0  26.6   \n",
       "2            8      183             64              0        0  23.3   \n",
       "3            1       89             66             23       94  28.1   \n",
       "4            0      137             40             35      168  43.1   \n",
       "\n",
       "   DiabetesPedigreeFunction  Age  \n",
       "0                     0.627   50  \n",
       "1                     0.351   31  \n",
       "2                     0.672   32  \n",
       "3                     0.167   21  \n",
       "4                     2.288   33  "
      ]
     },
     "execution_count": 18,
     "metadata": {},
     "output_type": "execute_result"
    }
   ],
   "source": [
    "X.head()"
   ]
  },
  {
   "cell_type": "code",
   "execution_count": 20,
   "id": "251f92c7-61fb-491f-a13b-26d37b40410c",
   "metadata": {},
   "outputs": [],
   "source": [
    "loj_model = LogisticRegression(solver = \"liblinear\").fit(X,y)"
   ]
  },
  {
   "cell_type": "code",
   "execution_count": 21,
   "id": "69979a35-94b9-4b36-b610-09777bfb6000",
   "metadata": {},
   "outputs": [
    {
     "data": {
      "text/plain": [
       "array([-5.88679617])"
      ]
     },
     "execution_count": 21,
     "metadata": {},
     "output_type": "execute_result"
    }
   ],
   "source": [
    "loj_model.intercept_"
   ]
  },
  {
   "cell_type": "code",
   "execution_count": 22,
   "id": "03aac723-595f-43e8-a270-4e88bddaef1d",
   "metadata": {},
   "outputs": [
    {
     "data": {
      "text/plain": [
       "array([[ 1.16994476e-01,  2.83733435e-02, -1.68981359e-02,\n",
       "         7.55145090e-04, -6.41407258e-04,  5.97201268e-02,\n",
       "         6.76128123e-01,  7.23498971e-03]])"
      ]
     },
     "execution_count": 22,
     "metadata": {},
     "output_type": "execute_result"
    }
   ],
   "source": [
    "loj_model.coef_"
   ]
  },
  {
   "cell_type": "code",
   "execution_count": 23,
   "id": "f9b95a1a-6777-4b23-b4d0-cde4df745deb",
   "metadata": {},
   "outputs": [
    {
     "data": {
      "text/plain": [
       "array([1, 0, 1, 0, 1, 0, 0, 1, 1, 0], dtype=int64)"
      ]
     },
     "execution_count": 23,
     "metadata": {},
     "output_type": "execute_result"
    }
   ],
   "source": [
    "loj_model.predict(X)[0:10]"
   ]
  },
  {
   "cell_type": "code",
   "execution_count": 24,
   "id": "04bbd659-4bfe-412d-834e-235b6d54ce72",
   "metadata": {},
   "outputs": [
    {
     "data": {
      "text/plain": [
       "0    1\n",
       "1    0\n",
       "2    1\n",
       "3    0\n",
       "4    1\n",
       "5    0\n",
       "6    1\n",
       "7    0\n",
       "8    1\n",
       "9    1\n",
       "Name: Outcome, dtype: int64"
      ]
     },
     "execution_count": 24,
     "metadata": {},
     "output_type": "execute_result"
    }
   ],
   "source": [
    "y[0:10]"
   ]
  },
  {
   "cell_type": "code",
   "execution_count": 25,
   "id": "b3a5530c-40ae-451e-b550-41d4fbfbcb54",
   "metadata": {},
   "outputs": [],
   "source": [
    "y_pred = loj_model.predict(X)"
   ]
  },
  {
   "cell_type": "code",
   "execution_count": 26,
   "id": "f3802bb6-dd3d-4302-b9d5-aace279a7494",
   "metadata": {},
   "outputs": [
    {
     "data": {
      "text/plain": [
       "array([[448,  52],\n",
       "       [121, 147]], dtype=int64)"
      ]
     },
     "execution_count": 26,
     "metadata": {},
     "output_type": "execute_result"
    }
   ],
   "source": [
    "confusion_matrix(y,y_pred)"
   ]
  },
  {
   "cell_type": "code",
   "execution_count": 27,
   "id": "cd53213f-dc26-47cc-8471-ae2e1aac387b",
   "metadata": {},
   "outputs": [
    {
     "data": {
      "text/plain": [
       "0.7747395833333334"
      ]
     },
     "execution_count": 27,
     "metadata": {},
     "output_type": "execute_result"
    }
   ],
   "source": [
    "accuracy_score(y,y_pred)"
   ]
  },
  {
   "cell_type": "code",
   "execution_count": 31,
   "id": "02378278-7b9d-42fb-8fbd-df6f43d9cdd5",
   "metadata": {},
   "outputs": [
    {
     "name": "stdout",
     "output_type": "stream",
     "text": [
      "              precision    recall  f1-score   support\n",
      "\n",
      "           0       0.79      0.90      0.84       500\n",
      "           1       0.74      0.55      0.63       268\n",
      "\n",
      "    accuracy                           0.77       768\n",
      "   macro avg       0.76      0.72      0.73       768\n",
      "weighted avg       0.77      0.77      0.77       768\n",
      "\n"
     ]
    }
   ],
   "source": [
    "print(classification_report(y,y_pred))"
   ]
  },
  {
   "cell_type": "code",
   "execution_count": 33,
   "id": "66e8b9e1-913c-4922-8b3a-b3dfadafcd19",
   "metadata": {},
   "outputs": [
    {
     "data": {
      "text/plain": [
       "array([[0.3505852 , 0.6494148 ],\n",
       "       [0.91692518, 0.08307482],\n",
       "       [0.22489628, 0.77510372],\n",
       "       [0.92127453, 0.07872547],\n",
       "       [0.16759435, 0.83240565],\n",
       "       [0.79886109, 0.20113891],\n",
       "       [0.8800353 , 0.1199647 ],\n",
       "       [0.27795677, 0.72204323],\n",
       "       [0.32053464, 0.67946536],\n",
       "       [0.92264521, 0.07735479]])"
      ]
     },
     "execution_count": 33,
     "metadata": {},
     "output_type": "execute_result"
    }
   ],
   "source": [
    "loj_model.predict_proba(X)[0:10]  #ondalık olacak şekilde tahmin fonksiyonları"
   ]
  },
  {
   "cell_type": "code",
   "execution_count": 34,
   "id": "62fc3a5d-e431-4480-ac74-ccd7050f6518",
   "metadata": {},
   "outputs": [
    {
     "data": {
      "image/png": "[encoded data removed]",
      "text/plain": [
       "<Figure size 432x288 with 1 Axes>"
      ]
     },
     "metadata": {
      "needs_background": "light"
     },
     "output_type": "display_data"
    }
   ],
   "source": [
    "# roc eğrisi kontrol yöntemi \n",
    "logit_roc_auc = roc_auc_score(y, loj_model.predict(X))\n",
    "fpr, tpr, thresholds = roc_curve(y, loj_model.predict_proba(X)[:,1])\n",
    "plt.figure()\n",
    "plt.plot(fpr,tpr,label='AUC (area=&0.2f)'% logit_roc_auc)\n",
    "plt.plot([0,1],[0,1],'r--')\n",
    "plt.xlim([0.0, 1.0])\n",
    "plt.ylim([0.0, 1.05])\n",
    "plt.xlabel('False Positeve Rate')\n",
    "plt.ylabel('True Positive Rate')\n",
    "plt.title('Receiver operating characteristic')\n",
    "plt.legend(loc=\"lower right\")\n",
    "plt.savefig(\"Log_ROC\")\n",
    "plt.show()"
   ]
  },
  {
   "cell_type": "markdown",
   "id": "bdc207ea-6871-41ce-b979-90d66e5db0a4",
   "metadata": {},
   "source": [
    "### Model Tuning(Model Doğrulama)"
   ]
  },
  {
   "cell_type": "code",
   "execution_count": 37,
   "id": "d61512f7-e3c3-43fc-aee5-0670cf8c474f",
   "metadata": {},
   "outputs": [],
   "source": [
    "X_train, X_test, y_train, y_test = train_test_split(\n",
    "                                                    X,\n",
    "                                                    y,\n",
    "                                                    test_size=0.30,\n",
    "                                                    random_state=42)"
   ]
  },
  {
   "cell_type": "code",
   "execution_count": 268,
   "id": "5be4ae3b-945f-4a83-8f52-efbfe4b90415",
   "metadata": {},
   "outputs": [],
   "source": [
    "loj_model = LogisticRegression(solver=\"liblinear\").fit(X_train,y_train)"
   ]
  },
  {
   "cell_type": "code",
   "execution_count": 269,
   "id": "7c54b4d3-5175-4f42-b910-a2612bd93860",
   "metadata": {},
   "outputs": [],
   "source": [
    "y_pred = loj_model.predict(X_test)"
   ]
  },
  {
   "cell_type": "code",
   "execution_count": 270,
   "id": "4aaf37b9-43c4-4445-a26b-398ec781659c",
   "metadata": {},
   "outputs": [
    {
     "name": "stdout",
     "output_type": "stream",
     "text": [
      "0.7445887445887446\n"
     ]
    }
   ],
   "source": [
    "print(accuracy_score(y_test,y_pred))"
   ]
  },
  {
   "cell_type": "code",
   "execution_count": 48,
   "id": "cce18d50-4c85-4aed-a5e2-5a5bd8f9abce",
   "metadata": {},
   "outputs": [
    {
     "data": {
      "text/plain": [
       "0.7704710144927536"
      ]
     },
     "execution_count": 48,
     "metadata": {},
     "output_type": "execute_result"
    }
   ],
   "source": [
    "cross_val_score(loj_model, X_test,y_test,cv=10).mean()"
   ]
  },
  {
   "cell_type": "markdown",
   "id": "04a5d407-8f63-4826-9675-41f617853f0c",
   "metadata": {},
   "source": [
    "## K-En Yakın Komşu(KNN)"
   ]
  },
  {
   "cell_type": "code",
   "execution_count": 51,
   "id": "150a37c7-347a-4ad6-a454-c9c701815628",
   "metadata": {},
   "outputs": [],
   "source": [
    "y = df[\"Outcome\"]\n",
    "X = df.drop([\"Outcome\"], axis = 1)\n",
    "X_train, X_test, y_train, y_test = train_test_split(\n",
    "                                                    X,y,\n",
    "                                                    test_size = 0.30,\n",
    "                                                    random_state=42)"
   ]
  },
  {
   "cell_type": "code",
   "execution_count": 51,
   "id": "6db6e117-1f1b-4756-9daf-16ef9620fddd",
   "metadata": {},
   "outputs": [],
   "source": [
    "y = df[\"Outcome\"]\n",
    "X = df.drop([\"Outcome\"], axis = 1)\n",
    "X_train, X_test, y_train, y_test = train_test_split(\n",
    "                                                    X,y,\n",
    "                                                    test_size = 0.30,\n",
    "                                                    random_state=42)"
   ]
  },
  {
   "cell_type": "markdown",
   "id": "3e6722f7-0ee3-4de9-b68c-79e4765d7245",
   "metadata": {},
   "source": [
    "### Model & Tahmin"
   ]
  },
  {
   "cell_type": "code",
   "execution_count": 54,
   "id": "acf5ea6e-9b91-4699-a5c5-ea59f15b2aea",
   "metadata": {},
   "outputs": [],
   "source": [
    "knn_model = KNeighborsClassifier().fit(X_train,y_train)\n"
   ]
  },
  {
   "cell_type": "code",
   "execution_count": 56,
   "id": "6276794d-6dbb-41ee-8031-a9fe40d6e0f0",
   "metadata": {},
   "outputs": [
    {
     "data": {
      "text/plain": [
       "0.6883116883116883"
      ]
     },
     "execution_count": 56,
     "metadata": {},
     "output_type": "execute_result"
    }
   ],
   "source": [
    "y_pred = knn_model.predict(X_test)\n",
    "accuracy_score(y_test,y_pred)"
   ]
  },
  {
   "cell_type": "markdown",
   "id": "c8e8b51b-36d4-43b3-a84f-58e8d34af99a",
   "metadata": {},
   "source": [
    "### Model Tuning(Model Doğrulama)"
   ]
  },
  {
   "cell_type": "code",
   "execution_count": 57,
   "id": "111fcf44-e3c0-408d-ad68-d9107067bbd5",
   "metadata": {},
   "outputs": [],
   "source": [
    "knn = KNeighborsClassifier()"
   ]
  },
  {
   "cell_type": "code",
   "execution_count": 58,
   "id": "52dae48d-e800-4a07-a172-362a52a892ad",
   "metadata": {},
   "outputs": [],
   "source": [
    "knn_params = {\"n_neighbors\":np.arange(1,50)}"
   ]
  },
  {
   "cell_type": "code",
   "execution_count": 59,
   "id": "ea0dd317-75e5-481e-a9cf-7926e25d0a3d",
   "metadata": {},
   "outputs": [],
   "source": [
    "knn_cv_model = GridSearchCV(knn,knn_params,cv=10).fit(X_train,y_train)"
   ]
  },
  {
   "cell_type": "code",
   "execution_count": 62,
   "id": "842bce44-6fd1-4df5-90eb-076e666973ed",
   "metadata": {},
   "outputs": [
    {
     "data": {
      "text/plain": [
       "{'n_neighbors': 11}"
      ]
     },
     "execution_count": 62,
     "metadata": {},
     "output_type": "execute_result"
    }
   ],
   "source": [
    "knn_cv_model.best_params_"
   ]
  },
  {
   "cell_type": "code",
   "execution_count": 271,
   "id": "3b428de7-cb3b-4cc8-a489-81ede97805ea",
   "metadata": {},
   "outputs": [],
   "source": [
    "#final modeli\n",
    "knn_tuned = KNeighborsClassifier(n_neighbors= 11).fit(X_train,y_train)"
   ]
  },
  {
   "cell_type": "code",
   "execution_count": 272,
   "id": "969b5996-19ed-4694-9972-d9501778564d",
   "metadata": {},
   "outputs": [
    {
     "data": {
      "text/plain": [
       "0.7142857142857143"
      ]
     },
     "execution_count": 272,
     "metadata": {},
     "output_type": "execute_result"
    }
   ],
   "source": [
    "y_pred = knn_tuned.predict(X_test)\n",
    "accuracy_score(y_test,y_pred)"
   ]
  },
  {
   "cell_type": "code",
   "execution_count": 273,
   "id": "83480ff1-5f63-448f-b0ef-1280adf3a542",
   "metadata": {},
   "outputs": [
    {
     "data": {
      "text/plain": [
       "0.7142857142857143"
      ]
     },
     "execution_count": 273,
     "metadata": {},
     "output_type": "execute_result"
    }
   ],
   "source": [
    "knn_tuned.score(X_test,y_test) #daha pratik hesaplama"
   ]
  },
  {
   "cell_type": "markdown",
   "id": "dbfd473b-6df0-4166-96e0-48719a49762a",
   "metadata": {},
   "source": [
    "# Destek Vektör Makineleri(SVM)"
   ]
  },
  {
   "cell_type": "code",
   "execution_count": 70,
   "id": "e7f10841-7b89-43d4-8267-61a441c7990a",
   "metadata": {},
   "outputs": [
    {
     "data": {
      "text/html": [
       "<div>\n",
       "<style scoped>\n",
       "    .dataframe tbody tr th:only-of-type {\n",
       "        vertical-align: middle;\n",
       "    }\n",
       "\n",
       "    .dataframe tbody tr th {\n",
       "        vertical-align: top;\n",
       "    }\n",
       "\n",
       "    .dataframe thead th {\n",
       "        text-align: right;\n",
       "    }\n",
       "</style>\n",
       "<table border=\"1\" class=\"dataframe\">\n",
       "  <thead>\n",
       "    <tr style=\"text-align: right;\">\n",
       "      <th></th>\n",
       "      <th>Pregnancies</th>\n",
       "      <th>Glucose</th>\n",
       "      <th>BloodPressure</th>\n",
       "      <th>SkinThickness</th>\n",
       "      <th>Insulin</th>\n",
       "      <th>BMI</th>\n",
       "      <th>DiabetesPedigreeFunction</th>\n",
       "      <th>Age</th>\n",
       "      <th>Outcome</th>\n",
       "    </tr>\n",
       "  </thead>\n",
       "  <tbody>\n",
       "    <tr>\n",
       "      <th>0</th>\n",
       "      <td>6</td>\n",
       "      <td>148</td>\n",
       "      <td>72</td>\n",
       "      <td>35</td>\n",
       "      <td>0</td>\n",
       "      <td>33.6</td>\n",
       "      <td>0.627</td>\n",
       "      <td>50</td>\n",
       "      <td>1</td>\n",
       "    </tr>\n",
       "    <tr>\n",
       "      <th>1</th>\n",
       "      <td>1</td>\n",
       "      <td>85</td>\n",
       "      <td>66</td>\n",
       "      <td>29</td>\n",
       "      <td>0</td>\n",
       "      <td>26.6</td>\n",
       "      <td>0.351</td>\n",
       "      <td>31</td>\n",
       "      <td>0</td>\n",
       "    </tr>\n",
       "    <tr>\n",
       "      <th>2</th>\n",
       "      <td>8</td>\n",
       "      <td>183</td>\n",
       "      <td>64</td>\n",
       "      <td>0</td>\n",
       "      <td>0</td>\n",
       "      <td>23.3</td>\n",
       "      <td>0.672</td>\n",
       "      <td>32</td>\n",
       "      <td>1</td>\n",
       "    </tr>\n",
       "    <tr>\n",
       "      <th>3</th>\n",
       "      <td>1</td>\n",
       "      <td>89</td>\n",
       "      <td>66</td>\n",
       "      <td>23</td>\n",
       "      <td>94</td>\n",
       "      <td>28.1</td>\n",
       "      <td>0.167</td>\n",
       "      <td>21</td>\n",
       "      <td>0</td>\n",
       "    </tr>\n",
       "    <tr>\n",
       "      <th>4</th>\n",
       "      <td>0</td>\n",
       "      <td>137</td>\n",
       "      <td>40</td>\n",
       "      <td>35</td>\n",
       "      <td>168</td>\n",
       "      <td>43.1</td>\n",
       "      <td>2.288</td>\n",
       "      <td>33</td>\n",
       "      <td>1</td>\n",
       "    </tr>\n",
       "  </tbody>\n",
       "</table>\n",
       "</div>"
      ],
      "text/plain": [
       "   Pregnancies  Glucose  BloodPressure  SkinThickness  Insulin   BMI  \\\n",
       "0            6      148             72             35        0  33.6   \n",
       "1            1       85             66             29        0  26.6   \n",
       "2            8      183             64              0        0  23.3   \n",
       "3            1       89             66             23       94  28.1   \n",
       "4            0      137             40             35      168  43.1   \n",
       "\n",
       "   DiabetesPedigreeFunction  Age  Outcome  \n",
       "0                     0.627   50        1  \n",
       "1                     0.351   31        0  \n",
       "2                     0.672   32        1  \n",
       "3                     0.167   21        0  \n",
       "4                     2.288   33        1  "
      ]
     },
     "execution_count": 70,
     "metadata": {},
     "output_type": "execute_result"
    }
   ],
   "source": [
    "df.head()"
   ]
  },
  {
   "cell_type": "code",
   "execution_count": 71,
   "id": "7f17058b-1629-4362-ac6f-4d556fd5ca26",
   "metadata": {},
   "outputs": [],
   "source": [
    "X_train, X_test, y_train, y_test = train_test_split(\n",
    "                                                    X,\n",
    "                                                    y,\n",
    "                                                    test_size=0.30,\n",
    "                                                    random_state=42)"
   ]
  },
  {
   "cell_type": "markdown",
   "id": "addc2e43-2d25-4340-b2ca-444a133937cc",
   "metadata": {},
   "source": [
    "### Model & Tahmin"
   ]
  },
  {
   "cell_type": "code",
   "execution_count": 77,
   "id": "69df86bc-11a6-4833-9750-cbe9634f2d00",
   "metadata": {},
   "outputs": [],
   "source": [
    "svm_model = SVC(kernel=\"linear\").fit(X_train,y_train)"
   ]
  },
  {
   "cell_type": "code",
   "execution_count": 75,
   "id": "ff104edc-28c0-433c-84ef-10f64b49690e",
   "metadata": {},
   "outputs": [],
   "source": [
    "from sklearn import set_config\n",
    "set_config(print_changed_only=False)"
   ]
  },
  {
   "cell_type": "code",
   "execution_count": null,
   "id": "8cdebc1d-15bf-466e-bca9-b51fa75db149",
   "metadata": {},
   "outputs": [],
   "source": []
  },
  {
   "cell_type": "code",
   "execution_count": 78,
   "id": "3c126d58-f5be-42a6-92a3-912e8cb4d7a9",
   "metadata": {},
   "outputs": [
    {
     "data": {
      "text/plain": [
       "SVC(C=1.0, break_ties=False, cache_size=200, class_weight=None, coef0=0.0,\n",
       "    decision_function_shape='ovr', degree=3, gamma='scale', kernel='linear',\n",
       "    max_iter=-1, probability=False, random_state=None, shrinking=True,\n",
       "    tol=0.001, verbose=False)"
      ]
     },
     "execution_count": 78,
     "metadata": {},
     "output_type": "execute_result"
    }
   ],
   "source": [
    "svm_model"
   ]
  },
  {
   "cell_type": "code",
   "execution_count": 79,
   "id": "0bf92cf4-61de-411b-b7ee-9d2aa1e61c33",
   "metadata": {},
   "outputs": [],
   "source": [
    "y_pred = svm_model.predict(X_test)"
   ]
  },
  {
   "cell_type": "code",
   "execution_count": 80,
   "id": "4b745f7d-7b8d-481b-a236-ebb33fc057f0",
   "metadata": {},
   "outputs": [
    {
     "data": {
      "text/plain": [
       "0.7445887445887446"
      ]
     },
     "execution_count": 80,
     "metadata": {},
     "output_type": "execute_result"
    }
   ],
   "source": [
    "accuracy_score(y_test,y_pred)"
   ]
  },
  {
   "cell_type": "markdown",
   "id": "1257fd63-7408-421b-9365-06fe558490b0",
   "metadata": {},
   "source": [
    "### Model Tuning"
   ]
  },
  {
   "cell_type": "code",
   "execution_count": 83,
   "id": "737b6363-e953-4941-8203-6ad26c6f98cb",
   "metadata": {},
   "outputs": [],
   "source": [
    "svm = SVC()"
   ]
  },
  {
   "cell_type": "code",
   "execution_count": 81,
   "id": "5a4d7f8d-65e7-4ffb-b8ef-e23070d398ba",
   "metadata": {},
   "outputs": [],
   "source": [
    "svm_params = {\"C\":np.arange(1,10),\n",
    "             \"kernel\":[\"linear\",\"rbf\"]}"
   ]
  },
  {
   "cell_type": "code",
   "execution_count": 85,
   "id": "eed5a19f-49ca-4387-a900-5ed0d7a9d934",
   "metadata": {},
   "outputs": [
    {
     "name": "stdout",
     "output_type": "stream",
     "text": [
      "Fitting 10 folds for each of 18 candidates, totalling 180 fits\n"
     ]
    }
   ],
   "source": [
    "svm_cv_model = GridSearchCV(svm,svm_params,cv=10,n_jobs=-1,verbose=2).fit(X_train,y_train)"
   ]
  },
  {
   "cell_type": "code",
   "execution_count": 87,
   "id": "62cc2cfc-dbdd-4ae0-9876-338b39163915",
   "metadata": {},
   "outputs": [
    {
     "data": {
      "text/plain": [
       "{'C': 5, 'kernel': 'linear'}"
      ]
     },
     "execution_count": 87,
     "metadata": {},
     "output_type": "execute_result"
    }
   ],
   "source": [
    "svm_cv_model.best_params_"
   ]
  },
  {
   "cell_type": "code",
   "execution_count": 89,
   "id": "c34cf253-dc57-49a6-892d-6e577e6ca8fe",
   "metadata": {},
   "outputs": [
    {
     "data": {
      "text/plain": [
       "0.7765199161425576"
      ]
     },
     "execution_count": 89,
     "metadata": {},
     "output_type": "execute_result"
    }
   ],
   "source": [
    "svm_cv_model.best_score_"
   ]
  },
  {
   "cell_type": "code",
   "execution_count": 274,
   "id": "fde5666c-9eb4-4b03-a92c-0e9c898704bd",
   "metadata": {},
   "outputs": [],
   "source": [
    "#final modeli\n",
    "svm_tuned = SVC(C = 5,kernel=\"linear\").fit(X_train,y_train)"
   ]
  },
  {
   "cell_type": "code",
   "execution_count": 275,
   "id": "9d7758e2-16f0-44a7-8055-ce506007110c",
   "metadata": {},
   "outputs": [
    {
     "data": {
      "text/plain": [
       "0.7532467532467533"
      ]
     },
     "execution_count": 275,
     "metadata": {},
     "output_type": "execute_result"
    }
   ],
   "source": [
    "y_pred = svm_tuned.predict(X_test)\n",
    "accuracy_score(y_test,y_pred)"
   ]
  },
  {
   "cell_type": "markdown",
   "id": "3d96ac75-ef9d-4293-b6ac-30ccbc5ddd6c",
   "metadata": {},
   "source": [
    "## Yapay Sinir Ağları(Çok Katmanlı Algılayıcılar)"
   ]
  },
  {
   "cell_type": "code",
   "execution_count": 92,
   "id": "690c9861-106a-47b9-9710-2e5c0db231aa",
   "metadata": {},
   "outputs": [
    {
     "data": {
      "text/html": [
       "<div>\n",
       "<style scoped>\n",
       "    .dataframe tbody tr th:only-of-type {\n",
       "        vertical-align: middle;\n",
       "    }\n",
       "\n",
       "    .dataframe tbody tr th {\n",
       "        vertical-align: top;\n",
       "    }\n",
       "\n",
       "    .dataframe thead th {\n",
       "        text-align: right;\n",
       "    }\n",
       "</style>\n",
       "<table border=\"1\" class=\"dataframe\">\n",
       "  <thead>\n",
       "    <tr style=\"text-align: right;\">\n",
       "      <th></th>\n",
       "      <th>Pregnancies</th>\n",
       "      <th>Glucose</th>\n",
       "      <th>BloodPressure</th>\n",
       "      <th>SkinThickness</th>\n",
       "      <th>Insulin</th>\n",
       "      <th>BMI</th>\n",
       "      <th>DiabetesPedigreeFunction</th>\n",
       "      <th>Age</th>\n",
       "      <th>Outcome</th>\n",
       "    </tr>\n",
       "  </thead>\n",
       "  <tbody>\n",
       "    <tr>\n",
       "      <th>0</th>\n",
       "      <td>6</td>\n",
       "      <td>148</td>\n",
       "      <td>72</td>\n",
       "      <td>35</td>\n",
       "      <td>0</td>\n",
       "      <td>33.6</td>\n",
       "      <td>0.627</td>\n",
       "      <td>50</td>\n",
       "      <td>1</td>\n",
       "    </tr>\n",
       "    <tr>\n",
       "      <th>1</th>\n",
       "      <td>1</td>\n",
       "      <td>85</td>\n",
       "      <td>66</td>\n",
       "      <td>29</td>\n",
       "      <td>0</td>\n",
       "      <td>26.6</td>\n",
       "      <td>0.351</td>\n",
       "      <td>31</td>\n",
       "      <td>0</td>\n",
       "    </tr>\n",
       "    <tr>\n",
       "      <th>2</th>\n",
       "      <td>8</td>\n",
       "      <td>183</td>\n",
       "      <td>64</td>\n",
       "      <td>0</td>\n",
       "      <td>0</td>\n",
       "      <td>23.3</td>\n",
       "      <td>0.672</td>\n",
       "      <td>32</td>\n",
       "      <td>1</td>\n",
       "    </tr>\n",
       "    <tr>\n",
       "      <th>3</th>\n",
       "      <td>1</td>\n",
       "      <td>89</td>\n",
       "      <td>66</td>\n",
       "      <td>23</td>\n",
       "      <td>94</td>\n",
       "      <td>28.1</td>\n",
       "      <td>0.167</td>\n",
       "      <td>21</td>\n",
       "      <td>0</td>\n",
       "    </tr>\n",
       "    <tr>\n",
       "      <th>4</th>\n",
       "      <td>0</td>\n",
       "      <td>137</td>\n",
       "      <td>40</td>\n",
       "      <td>35</td>\n",
       "      <td>168</td>\n",
       "      <td>43.1</td>\n",
       "      <td>2.288</td>\n",
       "      <td>33</td>\n",
       "      <td>1</td>\n",
       "    </tr>\n",
       "  </tbody>\n",
       "</table>\n",
       "</div>"
      ],
      "text/plain": [
       "   Pregnancies  Glucose  BloodPressure  SkinThickness  Insulin   BMI  \\\n",
       "0            6      148             72             35        0  33.6   \n",
       "1            1       85             66             29        0  26.6   \n",
       "2            8      183             64              0        0  23.3   \n",
       "3            1       89             66             23       94  28.1   \n",
       "4            0      137             40             35      168  43.1   \n",
       "\n",
       "   DiabetesPedigreeFunction  Age  Outcome  \n",
       "0                     0.627   50        1  \n",
       "1                     0.351   31        0  \n",
       "2                     0.672   32        1  \n",
       "3                     0.167   21        0  \n",
       "4                     2.288   33        1  "
      ]
     },
     "execution_count": 92,
     "metadata": {},
     "output_type": "execute_result"
    }
   ],
   "source": [
    "df.head()"
   ]
  },
  {
   "cell_type": "code",
   "execution_count": 93,
   "id": "7c7b025f-e504-4821-98e0-3d1df2fe1dbc",
   "metadata": {},
   "outputs": [],
   "source": [
    "X_train, X_test, y_train, y_test = train_test_split(\n",
    "                                                    X,\n",
    "                                                    y,\n",
    "                                                    test_size=0.30,\n",
    "                                                    random_state=42)"
   ]
  },
  {
   "cell_type": "code",
   "execution_count": 258,
   "id": "607a0a81-5ece-4514-a2d0-eae308d57d97",
   "metadata": {},
   "outputs": [],
   "source": [
    "scaler = StandardScaler()"
   ]
  },
  {
   "cell_type": "code",
   "execution_count": 259,
   "id": "b728e15b-698d-4093-a28c-107df3565131",
   "metadata": {},
   "outputs": [],
   "source": [
    "scaler.fit(X_test)\n",
    "X_test = scaler.transform(X_test)"
   ]
  },
  {
   "cell_type": "code",
   "execution_count": 260,
   "id": "7878404c-6aaa-4503-bc42-a35072671e35",
   "metadata": {},
   "outputs": [],
   "source": [
    "scaler.fit(X_train)\n",
    "X_train = scaler.transform(X_train)"
   ]
  },
  {
   "cell_type": "markdown",
   "id": "f86932dd-4ff3-4ddb-84ad-4c7f52a7fe94",
   "metadata": {},
   "source": [
    "### Model & Tahmin"
   ]
  },
  {
   "cell_type": "code",
   "execution_count": 94,
   "id": "b5df57c1-beab-48eb-b594-f5669f7828a7",
   "metadata": {},
   "outputs": [],
   "source": [
    "mlpc_model = MLPClassifier().fit(X_train,y_train)"
   ]
  },
  {
   "cell_type": "code",
   "execution_count": 96,
   "id": "07050c3b-147f-44ac-8cb2-8c56a33c0b6f",
   "metadata": {
    "collapsed": true,
    "jupyter": {
     "outputs_hidden": true
    },
    "tags": []
   },
   "outputs": [
    {
     "data": {
      "text/plain": [
       "[array([[ 5.42355354e-02, -5.25820514e-02,  1.97742722e-02,\n",
       "          1.03509637e-01,  1.49831096e-01,  1.22257293e-01,\n",
       "         -2.41522845e-01,  1.94805718e-01, -2.32947757e-01,\n",
       "          5.71673635e-02,  1.10396251e-01, -2.01577764e-01,\n",
       "         -1.59838133e-01,  6.02702472e-02, -2.55818069e-01,\n",
       "          3.91829264e-02,  1.84379734e-01,  1.41749334e-01,\n",
       "         -2.27267086e-01, -4.12555750e-02, -1.54483516e-01,\n",
       "         -6.89532247e-02,  2.04994483e-01, -1.41706463e-02,\n",
       "         -9.28836369e-02, -9.72379862e-02, -1.03217363e-01,\n",
       "          1.21756342e-01,  1.51319489e-01,  1.71046302e-02,\n",
       "         -1.79515378e-02, -1.67909830e-01,  1.01729445e-01,\n",
       "          1.26624357e-01, -4.96565820e-02, -1.00240091e-02,\n",
       "         -1.40044099e-01,  2.99278880e-02, -5.88632724e-02,\n",
       "          3.87535857e-02,  1.04739148e-01,  1.37460060e-01,\n",
       "         -8.55587913e-02,  4.19287555e-02, -1.64837644e-01,\n",
       "          7.55861075e-02,  5.58321297e-02, -1.90089997e-01,\n",
       "         -2.14636691e-01,  1.31241265e-01,  1.25727047e-02,\n",
       "         -4.16333143e-03, -1.58923745e-01,  5.80443541e-03,\n",
       "          1.68442408e-01,  3.29749060e-02, -2.35979613e-01,\n",
       "          4.21879388e-02,  1.04220021e-01,  1.15742302e-01,\n",
       "         -5.24885901e-02,  6.14673025e-02,  1.50336709e-01,\n",
       "         -4.34054351e-02, -3.95837351e-02, -4.23501029e-02,\n",
       "         -2.10847789e-01,  5.70243522e-02, -1.63834669e-02,\n",
       "          6.63110123e-02, -1.97371307e-01, -2.26782905e-01,\n",
       "         -2.26027964e-01,  2.13406483e-01, -9.18454572e-03,\n",
       "         -3.53913788e-02, -3.94293799e-03, -2.59510975e-05,\n",
       "         -2.24181437e-01,  1.46233751e-01, -3.18426865e-02,\n",
       "         -3.47981626e-02,  6.47179419e-02,  3.63008253e-02,\n",
       "          9.26414952e-02,  1.38521708e-01,  1.10355164e-01,\n",
       "          7.22526166e-02, -1.03495547e-01,  3.16831875e-03,\n",
       "         -2.44291684e-01,  1.53218079e-01, -6.82378904e-02,\n",
       "         -2.13175521e-01,  2.34567025e-01,  8.93824894e-02,\n",
       "          1.95681071e-01, -7.90298016e-02,  3.25601337e-03,\n",
       "         -4.96492190e-02],\n",
       "        [-8.69841374e-02,  1.77907678e-01, -1.14477441e-02,\n",
       "         -8.36029051e-02, -2.41370910e-02, -8.18127291e-02,\n",
       "          2.00278627e-01,  1.06348777e-01,  1.32764813e-01,\n",
       "          2.19373160e-01, -9.13208697e-02,  2.10053028e-01,\n",
       "         -2.33911026e-01, -1.83713367e-01, -6.88447331e-03,\n",
       "         -1.50974018e-01,  2.59698480e-02, -1.57772909e-01,\n",
       "         -4.28879616e-02,  7.23764717e-02, -1.21196806e-01,\n",
       "         -9.66465795e-02,  1.69402961e-01,  1.53667522e-01,\n",
       "          6.82374965e-02, -3.17217773e-02, -9.97496776e-02,\n",
       "          5.44785270e-02, -1.85882970e-01,  3.59189382e-02,\n",
       "         -2.29739289e-01, -1.69336829e-01,  9.91560064e-02,\n",
       "          2.18041262e-01, -2.83395808e-02, -9.39056978e-03,\n",
       "          1.50620402e-01, -6.67232031e-02,  2.23101967e-01,\n",
       "          1.01726977e-01, -5.62997528e-02, -1.89438151e-01,\n",
       "          1.98105668e-01,  3.10882653e-02,  1.25600087e-01,\n",
       "         -1.44369079e-01,  2.37510771e-02, -7.87326619e-02,\n",
       "         -3.70033991e-03,  9.29063459e-02, -4.15764555e-02,\n",
       "          5.65357413e-02, -1.87604104e-01,  1.02842250e-01,\n",
       "         -1.99807726e-01, -1.76947315e-01,  2.64452919e-04,\n",
       "          2.35196431e-01,  1.70249289e-01, -6.29391075e-03,\n",
       "          3.86214822e-02, -1.60151917e-01, -1.22623650e-01,\n",
       "         -1.60662819e-01,  2.16030564e-01, -1.18175727e-02,\n",
       "         -1.11556185e-02,  2.12231263e-02,  1.48364717e-01,\n",
       "          1.75511853e-01, -1.93790024e-01,  2.26526231e-01,\n",
       "          2.73358676e-03,  3.84480862e-03, -1.33150849e-02,\n",
       "         -9.88723787e-02, -8.55574840e-02, -2.52472563e-02,\n",
       "          6.86142354e-02, -3.59937100e-03, -4.48810228e-02,\n",
       "         -1.38322216e-02, -1.81151664e-01,  2.34242074e-01,\n",
       "          1.56420803e-01,  2.33462031e-01,  1.41659812e-01,\n",
       "         -7.21628523e-02,  1.54780597e-01,  1.15379639e-01,\n",
       "         -2.15459115e-01,  8.67345375e-02, -2.00383089e-02,\n",
       "          1.97396532e-01,  1.37752357e-01,  1.34195674e-02,\n",
       "         -1.40948997e-01,  3.38802060e-02, -2.24838847e-01,\n",
       "         -1.05754917e-01],\n",
       "        [ 2.83780466e-02, -1.66055270e-01,  1.52763577e-01,\n",
       "          1.35194624e-01,  1.85273403e-02, -2.13422266e-01,\n",
       "         -7.68357925e-02,  7.40546622e-03, -6.68635729e-03,\n",
       "          9.46528378e-02,  2.01598475e-01, -1.21648213e-01,\n",
       "          2.48586438e-02,  2.15723263e-01,  1.56084346e-01,\n",
       "          1.28746782e-01,  1.14608389e-01, -1.97049182e-02,\n",
       "         -1.05263900e-02, -1.43949351e-01,  7.17873060e-02,\n",
       "         -4.84837487e-02,  1.10743158e-01,  4.10955715e-02,\n",
       "         -2.17164225e-02, -6.64042930e-02,  1.74265878e-01,\n",
       "         -9.73675625e-02,  9.66138925e-02,  2.11830523e-02,\n",
       "          1.64539981e-01,  2.48980647e-01, -2.39221828e-01,\n",
       "          2.10052107e-01,  3.74160615e-02,  1.69724000e-01,\n",
       "         -6.16710807e-02,  5.87651039e-02, -1.88303039e-01,\n",
       "          6.59273984e-03, -1.68688078e-01,  7.17094077e-02,\n",
       "          2.21960711e-01, -2.13493637e-01,  2.42430651e-01,\n",
       "          1.29235515e-01,  1.71812794e-01, -8.70725777e-02,\n",
       "         -2.21833602e-01, -8.23994569e-02, -9.15416504e-02,\n",
       "          1.51464064e-01,  1.29666066e-01,  6.51806889e-02,\n",
       "          1.03006433e-01,  2.04306395e-01,  1.11473209e-01,\n",
       "          2.04767550e-01, -1.74883482e-01,  5.50336626e-02,\n",
       "         -4.21066517e-02,  2.81216269e-01, -1.50585971e-01,\n",
       "         -1.91227843e-01,  1.18387233e-01, -6.80504049e-02,\n",
       "          1.90804676e-01, -1.13366496e-02,  1.59228659e-01,\n",
       "          1.47382033e-01,  2.31544462e-02, -1.18906246e-01,\n",
       "          1.54116707e-01,  2.33414136e-01, -3.34220581e-03,\n",
       "         -9.28043754e-02, -1.16705129e-02, -9.34581429e-02,\n",
       "         -3.80298490e-02,  4.01003659e-02, -1.77149025e-01,\n",
       "         -2.00169916e-02,  1.61439957e-01,  4.84488422e-02,\n",
       "          5.06722341e-02, -2.70981729e-02,  1.43808416e-01,\n",
       "          2.30015772e-02, -1.98455616e-01,  5.98124932e-02,\n",
       "         -1.35119956e-02,  1.52619931e-01, -9.19744914e-02,\n",
       "         -3.83784027e-02, -8.55512618e-02,  3.76279357e-02,\n",
       "          1.91402915e-01,  6.41911018e-02, -9.26045931e-03,\n",
       "          1.32845375e-01],\n",
       "        [-1.21885870e-01, -1.85032880e-01, -9.06679552e-02,\n",
       "          2.37872029e-01,  7.06195087e-02,  9.17201729e-02,\n",
       "         -1.62553557e-01,  1.36666682e-02,  8.02986158e-02,\n",
       "          2.10308648e-01,  1.67391532e-01, -1.65512099e-01,\n",
       "          2.09196025e-01, -1.40419446e-01,  2.39320311e-02,\n",
       "          2.16000925e-01, -4.48751118e-02,  1.84950068e-01,\n",
       "          1.04506096e-01,  2.33279412e-01, -6.38171996e-02,\n",
       "         -2.21546446e-01,  6.92924087e-02, -2.83117945e-02,\n",
       "         -6.81197494e-02, -9.83408745e-02,  1.59862290e-01,\n",
       "         -1.25731476e-01, -1.55696121e-02, -2.38297532e-01,\n",
       "          1.61604054e-01,  1.87004584e-01,  2.37157035e-01,\n",
       "          1.32491540e-01, -1.42280671e-01, -8.10570140e-02,\n",
       "         -2.07512506e-01, -8.96936868e-02, -9.00881852e-02,\n",
       "         -8.99441025e-02, -2.24171445e-01,  2.21733200e-01,\n",
       "         -1.07561495e-01,  1.39671107e-01,  1.96341377e-01,\n",
       "         -4.75269269e-03,  1.15009155e-01,  2.08380389e-01,\n",
       "         -1.52259493e-02, -1.92499275e-01,  1.14930123e-03,\n",
       "          1.80598680e-01,  9.50981319e-02,  1.51839058e-01,\n",
       "         -6.05355492e-02, -2.43247092e-02, -2.01795338e-01,\n",
       "         -1.18866782e-01, -4.45219411e-03, -2.08969271e-02,\n",
       "          9.86602125e-02, -2.11822867e-02, -1.85057914e-01,\n",
       "          2.23210968e-01, -8.37931463e-02,  1.39702693e-02,\n",
       "          4.30161660e-02, -2.07832743e-01,  1.60457587e-01,\n",
       "          1.35893307e-02,  5.18893408e-02, -2.05247356e-01,\n",
       "          6.47451708e-02,  2.27797232e-01,  7.84598187e-05,\n",
       "          1.03826110e-01, -1.15786339e-02, -2.79946332e-03,\n",
       "         -2.16607115e-01, -1.60871954e-02,  2.89419652e-02,\n",
       "         -7.84358049e-02,  1.53225595e-01,  1.75716365e-01,\n",
       "          1.13993633e-01, -1.83243802e-01,  1.33586666e-01,\n",
       "          7.45025719e-02,  3.03933701e-02,  1.80397224e-01,\n",
       "         -1.44017485e-01,  4.54902535e-02, -7.64272564e-02,\n",
       "         -2.15678860e-01, -7.27737161e-02,  8.19963439e-02,\n",
       "          6.10768933e-02, -7.71188251e-02,  2.26388930e-02,\n",
       "         -8.70132971e-03],\n",
       "        [ 3.03281151e-03, -6.29474419e-02,  2.16058211e-01,\n",
       "          1.80351124e-01,  2.65142283e-03,  2.12398596e-01,\n",
       "         -2.51601221e-01,  7.33181035e-02,  6.22906355e-02,\n",
       "         -2.01314878e-01, -2.93606109e-01, -2.30354815e-01,\n",
       "          1.96451842e-01, -4.68306780e-02, -1.88444163e-02,\n",
       "         -1.72019201e-01,  1.39619022e-01,  2.00644500e-01,\n",
       "         -7.89779868e-02, -3.45914651e-01,  1.80880197e-01,\n",
       "          1.65494082e-01,  1.31225487e-01,  1.33402554e-01,\n",
       "          8.52408630e-02, -2.49929115e-02,  5.55420350e-02,\n",
       "          1.84047045e-01, -1.42899766e-01, -1.75683030e-01,\n",
       "          1.78251997e-01,  1.61375054e-01, -6.87638854e-02,\n",
       "         -4.21783323e-02,  1.25124965e-01,  1.54444351e-01,\n",
       "          1.75383089e-01,  1.32004162e-01, -1.13682679e-01,\n",
       "         -2.09519846e-02,  1.13926772e-01,  1.37534662e-01,\n",
       "          2.15303542e-01,  5.01008768e-02, -2.12891855e-01,\n",
       "          1.56883105e-01, -2.64886082e-01,  7.70174653e-02,\n",
       "          1.85923779e-01,  1.58570242e-01, -3.19340505e-02,\n",
       "          1.98456005e-01,  2.18641077e-01, -4.75191121e-03,\n",
       "          6.29814810e-02, -1.12869346e-02, -8.42269177e-02,\n",
       "         -7.89032125e-02,  2.39579706e-01,  3.05603669e-03,\n",
       "          9.17834422e-03, -1.07318870e-01,  1.77022311e-01,\n",
       "          2.00932665e-01,  1.96569258e-01,  1.75365500e-04,\n",
       "         -6.84978003e-02, -6.63617110e-02, -1.21514014e-01,\n",
       "          1.83309720e-01,  1.58589002e-01,  1.85041955e-01,\n",
       "          1.80362830e-01, -1.71082069e-01, -3.26691119e-02,\n",
       "          3.37955763e-04, -7.44185187e-02, -2.37764478e-02,\n",
       "          7.07560026e-02, -8.16337612e-02,  1.08861445e-01,\n",
       "         -6.20038638e-02,  2.37487901e-01, -1.88725064e-01,\n",
       "          2.18960864e-01, -1.38482312e-01, -1.39553840e-01,\n",
       "          8.67070890e-02,  8.19386101e-02,  4.48614037e-02,\n",
       "          4.68245311e-02,  1.50814178e-01, -2.77737581e-03,\n",
       "         -2.51262088e-01, -7.67396153e-02,  9.95061560e-02,\n",
       "          1.60626421e-01,  1.09906294e-01,  1.20037717e-01,\n",
       "          5.39401346e-02],\n",
       "        [ 1.16616399e-01, -1.62126664e-01,  1.55109557e-01,\n",
       "          2.77312045e-02, -1.66854986e-01, -2.08465986e-03,\n",
       "         -1.43865031e-01, -2.42152786e-01,  7.07835008e-02,\n",
       "         -5.53551222e-02,  6.98630852e-02, -1.33221549e-01,\n",
       "         -1.60782414e-01,  2.01328274e-01, -1.80459538e-01,\n",
       "         -1.45061632e-01,  4.76921548e-02,  4.56523839e-03,\n",
       "          7.52075798e-02, -3.20685867e-02, -1.61662346e-01,\n",
       "         -1.21349744e-01, -2.34254931e-01, -4.16773054e-02,\n",
       "         -5.54322320e-02, -7.02817757e-02, -1.17048653e-01,\n",
       "          3.93877051e-02, -5.16918262e-02, -4.49305052e-02,\n",
       "         -1.42384684e-01,  8.87538545e-02, -1.86951668e-01,\n",
       "          2.59676482e-01,  2.13459547e-02, -2.56154701e-01,\n",
       "          1.55576209e-01,  1.23216207e-01,  6.46643904e-02,\n",
       "         -1.74130946e-01,  3.06557914e-02,  1.86721499e-01,\n",
       "         -1.43276971e-01,  4.84437687e-02,  2.29696611e-01,\n",
       "         -1.90482060e-01, -1.60741745e-01, -2.30709889e-01,\n",
       "         -1.63552286e-01, -6.68985694e-02, -6.54235091e-02,\n",
       "          1.40295730e-01,  2.00709745e-01, -1.63035638e-01,\n",
       "          1.28020358e-01, -2.44060277e-01, -3.88530373e-02,\n",
       "          1.45304477e-01, -2.17654742e-02,  8.20592292e-02,\n",
       "         -2.64592457e-02, -1.05365641e-01,  9.79921550e-02,\n",
       "          4.55799411e-02,  1.47774003e-01,  2.53975438e-02,\n",
       "         -1.34498846e-01,  1.45927174e-01,  3.32541711e-02,\n",
       "          1.20241179e-01,  1.78143487e-01,  1.10572400e-01,\n",
       "         -1.93413491e-01,  1.18553077e-01, -1.16426548e-02,\n",
       "          1.47412947e-01, -8.62086357e-04,  1.09722728e-02,\n",
       "         -4.51460795e-02,  3.40017865e-03, -7.33040572e-02,\n",
       "         -9.19685377e-03,  2.23051786e-01,  5.24405568e-02,\n",
       "         -1.96572550e-01,  1.81504845e-01, -1.21972755e-01,\n",
       "          1.50975368e-02,  1.21814281e-01,  5.96379843e-02,\n",
       "          1.80993462e-01,  8.86659256e-02, -1.90599316e-02,\n",
       "         -7.67535588e-02, -2.03066451e-01, -1.46844034e-01,\n",
       "         -2.02322645e-01, -4.11133735e-02, -1.89602657e-01,\n",
       "         -1.50766806e-01],\n",
       "        [ 1.59046877e-01, -1.06679547e-01, -2.35259392e-01,\n",
       "         -1.21341063e-01, -1.59960487e-01,  4.02531227e-02,\n",
       "          1.08864055e-01,  2.00121185e-01,  6.14384529e-02,\n",
       "         -7.20475820e-02, -1.13787208e-01,  6.88218468e-02,\n",
       "          7.31680351e-02, -1.54409677e-01, -4.52673820e-02,\n",
       "         -9.04737466e-02,  1.82974449e-01, -1.93431830e-02,\n",
       "         -1.81858474e-01,  1.56625076e-01,  1.88254220e-01,\n",
       "          2.31920336e-01, -1.58198396e-01, -9.04087924e-02,\n",
       "          1.85814423e-01, -5.00363245e-02, -7.59878994e-02,\n",
       "         -2.05679423e-01, -2.05078731e-01, -2.05811112e-01,\n",
       "          2.02419831e-02,  1.02642319e-01, -2.90603271e-02,\n",
       "          1.52708526e-01,  8.13930274e-02,  9.42950916e-02,\n",
       "          4.26673244e-02,  5.31975478e-02, -7.92327249e-02,\n",
       "         -1.25029936e-01,  7.14337494e-02, -1.95070979e-01,\n",
       "          1.54846596e-01,  1.30716496e-01,  1.01775272e-01,\n",
       "         -7.05654860e-02, -2.08619466e-01, -2.25267338e-01,\n",
       "         -1.83699037e-01, -1.96642459e-01, -6.45010228e-03,\n",
       "          1.67076039e-01,  3.59827478e-02, -7.08410759e-02,\n",
       "          1.95646995e-01, -1.99020270e-01,  1.73871765e-01,\n",
       "          1.09404164e-01,  6.66908159e-02,  1.95735856e-01,\n",
       "         -1.92659462e-01, -1.18311720e-01,  7.70552627e-02,\n",
       "         -1.41606556e-01, -1.15795763e-01,  3.05172438e-02,\n",
       "          2.63379417e-02, -9.59421990e-02, -1.68739611e-02,\n",
       "         -1.09264876e-01, -8.44427672e-02, -2.01223124e-01,\n",
       "         -1.13205459e-01, -1.83313637e-01, -2.02418527e-03,\n",
       "          3.40388346e-02, -5.31076704e-02,  8.08889928e-02,\n",
       "          9.95770443e-02,  1.44584009e-01,  2.16239330e-01,\n",
       "         -7.93969237e-02,  2.31382801e-01, -1.04367676e-01,\n",
       "         -2.68466979e-02,  9.56981982e-02,  1.75166259e-01,\n",
       "          1.11063384e-01, -1.01969786e-01,  1.42047656e-01,\n",
       "         -2.69298190e-02,  2.83420449e-02,  6.13202140e-02,\n",
       "          2.15857179e-01, -6.87015325e-02,  6.44542922e-02,\n",
       "          2.27327003e-01,  4.99404088e-02, -1.35183798e-01,\n",
       "          2.06732453e-01],\n",
       "        [ 8.16923316e-02,  1.72961555e-01, -1.56480456e-01,\n",
       "          1.72306681e-01, -6.31470243e-02,  7.87345604e-02,\n",
       "         -1.41781149e-01,  1.76954805e-01, -1.51629378e-01,\n",
       "         -2.05918409e-01,  2.08088742e-01,  1.65185924e-01,\n",
       "         -2.05562271e-01,  5.32884822e-02, -1.30387544e-01,\n",
       "         -5.89853483e-02, -1.03600039e-01,  4.92357566e-02,\n",
       "         -1.13693306e-01, -9.23759947e-02, -2.08509514e-01,\n",
       "          1.75733793e-01,  1.22894241e-01,  2.30632620e-01,\n",
       "          2.14255984e-01, -5.04794126e-02, -1.17021893e-01,\n",
       "          1.98496553e-01,  1.18680871e-01,  3.44536056e-02,\n",
       "         -2.02576745e-01, -4.20943947e-02,  1.55678079e-01,\n",
       "          1.32952847e-02,  2.60605239e-02, -1.58279180e-01,\n",
       "         -1.75788965e-01,  9.50194037e-02,  2.67966910e-02,\n",
       "          2.26975661e-01, -1.41798168e-01, -9.68399114e-02,\n",
       "         -1.23018472e-01, -1.41253552e-01,  1.75514952e-01,\n",
       "          1.19369120e-01, -1.69723895e-01,  5.01593517e-02,\n",
       "          1.75855571e-01,  1.19389600e-01, -1.51721507e-02,\n",
       "          1.49503031e-01,  6.85465409e-02, -1.91931367e-01,\n",
       "          1.63576068e-01, -1.30014667e-02, -6.39019471e-02,\n",
       "         -8.75024866e-02,  1.61417109e-01,  8.35018956e-03,\n",
       "          3.44520168e-02, -1.39328839e-01, -2.01734290e-01,\n",
       "         -1.97724204e-01, -2.24779774e-01, -6.40130736e-04,\n",
       "         -1.53541974e-01,  1.58761847e-01, -1.00518765e-01,\n",
       "          1.76516648e-01,  5.67860336e-02,  2.11762253e-01,\n",
       "          1.43275138e-01, -1.50826589e-01,  4.74853998e-03,\n",
       "          8.24377192e-02, -1.18377471e-02, -4.14898573e-04,\n",
       "         -2.13455150e-01, -2.16058194e-01, -1.79344489e-01,\n",
       "         -4.17591008e-03, -1.74840932e-01, -2.35362267e-02,\n",
       "          2.00302799e-01, -7.18441126e-02, -2.06192169e-01,\n",
       "          1.72119870e-02, -1.44585299e-01, -2.14538987e-01,\n",
       "         -1.37334334e-02, -9.50420840e-02,  2.78097547e-02,\n",
       "         -5.81657828e-02, -6.23141610e-02, -6.13047896e-04,\n",
       "          1.15932159e-01,  9.51923255e-02, -1.71011722e-01,\n",
       "          1.61795934e-01]]),\n",
       " array([[-0.26770184],\n",
       "        [-0.14297482],\n",
       "        [-0.07260625],\n",
       "        [-0.15933408],\n",
       "        [-0.18888865],\n",
       "        [-0.16420081],\n",
       "        [ 0.09700961],\n",
       "        [ 0.01356935],\n",
       "        [ 0.07656138],\n",
       "        [-0.07264475],\n",
       "        [ 0.0578327 ],\n",
       "        [-0.08895292],\n",
       "        [-0.24913202],\n",
       "        [ 0.17260468],\n",
       "        [-0.12738844],\n",
       "        [-0.12418463],\n",
       "        [-0.14232357],\n",
       "        [-0.1026656 ],\n",
       "        [-0.14511881],\n",
       "        [-0.04810054],\n",
       "        [-0.14815202],\n",
       "        [ 0.03271507],\n",
       "        [ 0.00860954],\n",
       "        [-0.05042421],\n",
       "        [ 0.07640099],\n",
       "        [-0.0639059 ],\n",
       "        [-0.13767382],\n",
       "        [-0.00907015],\n",
       "        [ 0.02830125],\n",
       "        [ 0.21325384],\n",
       "        [ 0.20469585],\n",
       "        [-0.14906526],\n",
       "        [-0.21698659],\n",
       "        [-0.04350504],\n",
       "        [ 0.20655672],\n",
       "        [ 0.04924399],\n",
       "        [-0.10253272],\n",
       "        [ 0.15937255],\n",
       "        [ 0.14231882],\n",
       "        [ 0.1987358 ],\n",
       "        [-0.2337773 ],\n",
       "        [ 0.13168615],\n",
       "        [-0.15611906],\n",
       "        [ 0.17138895],\n",
       "        [-0.11882415],\n",
       "        [-0.00819618],\n",
       "        [ 0.04519773],\n",
       "        [ 0.09175999],\n",
       "        [ 0.22728303],\n",
       "        [ 0.07349724],\n",
       "        [-0.0103241 ],\n",
       "        [ 0.1332542 ],\n",
       "        [ 0.15557379],\n",
       "        [ 0.15820532],\n",
       "        [ 0.08160935],\n",
       "        [ 0.05416512],\n",
       "        [ 0.18729014],\n",
       "        [ 0.03696452],\n",
       "        [ 0.22826261],\n",
       "        [ 0.10165032],\n",
       "        [ 0.12630943],\n",
       "        [-0.08843485],\n",
       "        [-0.12326561],\n",
       "        [ 0.11459842],\n",
       "        [-0.08729252],\n",
       "        [-0.03719269],\n",
       "        [-0.29606837],\n",
       "        [-0.22097746],\n",
       "        [ 0.21998228],\n",
       "        [ 0.00350825],\n",
       "        [ 0.11978654],\n",
       "        [-0.02482352],\n",
       "        [-0.05632874],\n",
       "        [-0.21256483],\n",
       "        [ 0.02841869],\n",
       "        [ 0.201019  ],\n",
       "        [-0.0305588 ],\n",
       "        [ 0.0030465 ],\n",
       "        [ 0.14268173],\n",
       "        [ 0.1313516 ],\n",
       "        [ 0.05653729],\n",
       "        [ 0.01550928],\n",
       "        [ 0.09208959],\n",
       "        [ 0.15819998],\n",
       "        [-0.2272455 ],\n",
       "        [ 0.06841202],\n",
       "        [ 0.17015051],\n",
       "        [-0.0709495 ],\n",
       "        [-0.16772764],\n",
       "        [ 0.05886519],\n",
       "        [-0.18189664],\n",
       "        [ 0.1206471 ],\n",
       "        [ 0.10204793],\n",
       "        [-0.01494255],\n",
       "        [-0.23696366],\n",
       "        [ 0.12051311],\n",
       "        [ 0.20655949],\n",
       "        [-0.09233336],\n",
       "        [ 0.00742044],\n",
       "        [-0.18363907]])]"
      ]
     },
     "execution_count": 96,
     "metadata": {},
     "output_type": "execute_result"
    }
   ],
   "source": [
    "mlpc_model.coefs_"
   ]
  },
  {
   "cell_type": "code",
   "execution_count": 97,
   "id": "743bd3a1-1824-471a-9efa-0fd12466b565",
   "metadata": {
    "collapsed": true,
    "jupyter": {
     "outputs_hidden": true
    },
    "tags": []
   },
   "outputs": [
    {
     "data": {
      "text/plain": [
       "\u001b[1;31mType:\u001b[0m        MLPClassifier\n",
       "\u001b[1;31mString form:\u001b[0m\n",
       "MLPClassifier(activation='relu', alpha=0.0001, batch_size='auto', beta_1=0.9,\n",
       "           beta_ <...>               tol=0.0001, validation_fraction=0.1, verbose=False,\n",
       "           warm_start=False)\n",
       "\u001b[1;31mFile:\u001b[0m        c:\\users\\lenovo\\anaconda3\\lib\\site-packages\\sklearn\\neural_network\\_multilayer_perceptron.py\n",
       "\u001b[1;31mDocstring:\u001b[0m  \n",
       "Multi-layer Perceptron classifier.\n",
       "\n",
       "This model optimizes the log-loss function using LBFGS or stochastic\n",
       "gradient descent.\n",
       "\n",
       ".. versionadded:: 0.18\n",
       "\n",
       "Parameters\n",
       "----------\n",
       "hidden_layer_sizes : tuple, length = n_layers - 2, default=(100,)\n",
       "    The ith element represents the number of neurons in the ith\n",
       "    hidden layer.\n",
       "\n",
       "activation : {'identity', 'logistic', 'tanh', 'relu'}, default='relu'\n",
       "    Activation function for the hidden layer.\n",
       "\n",
       "    - 'identity', no-op activation, useful to implement linear bottleneck,\n",
       "      returns f(x) = x\n",
       "\n",
       "    - 'logistic', the logistic sigmoid function,\n",
       "      returns f(x) = 1 / (1 + exp(-x)).\n",
       "\n",
       "    - 'tanh', the hyperbolic tan function,\n",
       "      returns f(x) = tanh(x).\n",
       "\n",
       "    - 'relu', the rectified linear unit function,\n",
       "      returns f(x) = max(0, x)\n",
       "\n",
       "solver : {'lbfgs', 'sgd', 'adam'}, default='adam'\n",
       "    The solver for weight optimization.\n",
       "\n",
       "    - 'lbfgs' is an optimizer in the family of quasi-Newton methods.\n",
       "\n",
       "    - 'sgd' refers to stochastic gradient descent.\n",
       "\n",
       "    - 'adam' refers to a stochastic gradient-based optimizer proposed\n",
       "      by Kingma, Diederik, and Jimmy Ba\n",
       "\n",
       "    Note: The default solver 'adam' works pretty well on relatively\n",
       "    large datasets (with thousands of training samples or more) in terms of\n",
       "    both training time and validation score.\n",
       "    For small datasets, however, 'lbfgs' can converge faster and perform\n",
       "    better.\n",
       "\n",
       "alpha : float, default=0.0001\n",
       "    L2 penalty (regularization term) parameter.\n",
       "\n",
       "batch_size : int, default='auto'\n",
       "    Size of minibatches for stochastic optimizers.\n",
       "    If the solver is 'lbfgs', the classifier will not use minibatch.\n",
       "    When set to \"auto\", `batch_size=min(200, n_samples)`\n",
       "\n",
       "learning_rate : {'constant', 'invscaling', 'adaptive'}, default='constant'\n",
       "    Learning rate schedule for weight updates.\n",
       "\n",
       "    - 'constant' is a constant learning rate given by\n",
       "      'learning_rate_init'.\n",
       "\n",
       "    - 'invscaling' gradually decreases the learning rate at each\n",
       "      time step 't' using an inverse scaling exponent of 'power_t'.\n",
       "      effective_learning_rate = learning_rate_init / pow(t, power_t)\n",
       "\n",
       "    - 'adaptive' keeps the learning rate constant to\n",
       "      'learning_rate_init' as long as training loss keeps decreasing.\n",
       "      Each time two consecutive epochs fail to decrease training loss by at\n",
       "      least tol, or fail to increase validation score by at least tol if\n",
       "      'early_stopping' is on, the current learning rate is divided by 5.\n",
       "\n",
       "    Only used when ``solver='sgd'``.\n",
       "\n",
       "learning_rate_init : double, default=0.001\n",
       "    The initial learning rate used. It controls the step-size\n",
       "    in updating the weights. Only used when solver='sgd' or 'adam'.\n",
       "\n",
       "power_t : double, default=0.5\n",
       "    The exponent for inverse scaling learning rate.\n",
       "    It is used in updating effective learning rate when the learning_rate\n",
       "    is set to 'invscaling'. Only used when solver='sgd'.\n",
       "\n",
       "max_iter : int, default=200\n",
       "    Maximum number of iterations. The solver iterates until convergence\n",
       "    (determined by 'tol') or this number of iterations. For stochastic\n",
       "    solvers ('sgd', 'adam'), note that this determines the number of epochs\n",
       "    (how many times each data point will be used), not the number of\n",
       "    gradient steps.\n",
       "\n",
       "shuffle : bool, default=True\n",
       "    Whether to shuffle samples in each iteration. Only used when\n",
       "    solver='sgd' or 'adam'.\n",
       "\n",
       "random_state : int, RandomState instance, default=None\n",
       "    Determines random number generation for weights and bias\n",
       "    initialization, train-test split if early stopping is used, and batch\n",
       "    sampling when solver='sgd' or 'adam'.\n",
       "    Pass an int for reproducible results across multiple function calls.\n",
       "    See :term:`Glossary <random_state>`.\n",
       "\n",
       "tol : float, default=1e-4\n",
       "    Tolerance for the optimization. When the loss or score is not improving\n",
       "    by at least ``tol`` for ``n_iter_no_change`` consecutive iterations,\n",
       "    unless ``learning_rate`` is set to 'adaptive', convergence is\n",
       "    considered to be reached and training stops.\n",
       "\n",
       "verbose : bool, default=False\n",
       "    Whether to print progress messages to stdout.\n",
       "\n",
       "warm_start : bool, default=False\n",
       "    When set to True, reuse the solution of the previous\n",
       "    call to fit as initialization, otherwise, just erase the\n",
       "    previous solution. See :term:`the Glossary <warm_start>`.\n",
       "\n",
       "momentum : float, default=0.9\n",
       "    Momentum for gradient descent update. Should be between 0 and 1. Only\n",
       "    used when solver='sgd'.\n",
       "\n",
       "nesterovs_momentum : bool, default=True\n",
       "    Whether to use Nesterov's momentum. Only used when solver='sgd' and\n",
       "    momentum > 0.\n",
       "\n",
       "early_stopping : bool, default=False\n",
       "    Whether to use early stopping to terminate training when validation\n",
       "    score is not improving. If set to true, it will automatically set\n",
       "    aside 10% of training data as validation and terminate training when\n",
       "    validation score is not improving by at least tol for\n",
       "    ``n_iter_no_change`` consecutive epochs. The split is stratified,\n",
       "    except in a multilabel setting.\n",
       "    Only effective when solver='sgd' or 'adam'\n",
       "\n",
       "validation_fraction : float, default=0.1\n",
       "    The proportion of training data to set aside as validation set for\n",
       "    early stopping. Must be between 0 and 1.\n",
       "    Only used if early_stopping is True\n",
       "\n",
       "beta_1 : float, default=0.9\n",
       "    Exponential decay rate for estimates of first moment vector in adam,\n",
       "    should be in [0, 1). Only used when solver='adam'\n",
       "\n",
       "beta_2 : float, default=0.999\n",
       "    Exponential decay rate for estimates of second moment vector in adam,\n",
       "    should be in [0, 1). Only used when solver='adam'\n",
       "\n",
       "epsilon : float, default=1e-8\n",
       "    Value for numerical stability in adam. Only used when solver='adam'\n",
       "\n",
       "n_iter_no_change : int, default=10\n",
       "    Maximum number of epochs to not meet ``tol`` improvement.\n",
       "    Only effective when solver='sgd' or 'adam'\n",
       "\n",
       "    .. versionadded:: 0.20\n",
       "\n",
       "max_fun : int, default=15000\n",
       "    Only used when solver='lbfgs'. Maximum number of loss function calls.\n",
       "    The solver iterates until convergence (determined by 'tol'), number\n",
       "    of iterations reaches max_iter, or this number of loss function calls.\n",
       "    Note that number of loss function calls will be greater than or equal\n",
       "    to the number of iterations for the `MLPClassifier`.\n",
       "\n",
       "    .. versionadded:: 0.22\n",
       "\n",
       "Attributes\n",
       "----------\n",
       "classes_ : ndarray or list of ndarray of shape (n_classes,)\n",
       "    Class labels for each output.\n",
       "\n",
       "loss_ : float\n",
       "    The current loss computed with the loss function.\n",
       "\n",
       "best_loss_ : float\n",
       "    The minimum loss reached by the solver throughout fitting.\n",
       "\n",
       "loss_curve_ : list of shape (`n_iter_`,)\n",
       "    The ith element in the list represents the loss at the ith iteration.\n",
       "\n",
       "t_ : int\n",
       "    The number of training samples seen by the solver during fitting.\n",
       "\n",
       "coefs_ : list of shape (n_layers - 1,)\n",
       "    The ith element in the list represents the weight matrix corresponding\n",
       "    to layer i.\n",
       "\n",
       "intercepts_ : list of shape (n_layers - 1,)\n",
       "    The ith element in the list represents the bias vector corresponding to\n",
       "    layer i + 1.\n",
       "\n",
       "n_iter_ : int\n",
       "    The number of iterations the solver has ran.\n",
       "\n",
       "n_layers_ : int\n",
       "    Number of layers.\n",
       "\n",
       "n_outputs_ : int\n",
       "    Number of outputs.\n",
       "\n",
       "out_activation_ : str\n",
       "    Name of the output activation function.\n",
       "\n",
       "Examples\n",
       "--------\n",
       ">>> from sklearn.neural_network import MLPClassifier\n",
       ">>> from sklearn.datasets import make_classification\n",
       ">>> from sklearn.model_selection import train_test_split\n",
       ">>> X, y = make_classification(n_samples=100, random_state=1)\n",
       ">>> X_train, X_test, y_train, y_test = train_test_split(X, y, stratify=y,\n",
       "...                                                     random_state=1)\n",
       ">>> clf = MLPClassifier(random_state=1, max_iter=300).fit(X_train, y_train)\n",
       ">>> clf.predict_proba(X_test[:1])\n",
       "array([[0.038..., 0.961...]])\n",
       ">>> clf.predict(X_test[:5, :])\n",
       "array([1, 0, 1, 0, 1])\n",
       ">>> clf.score(X_test, y_test)\n",
       "0.8...\n",
       "\n",
       "Notes\n",
       "-----\n",
       "MLPClassifier trains iteratively since at each time step\n",
       "the partial derivatives of the loss function with respect to the model\n",
       "parameters are computed to update the parameters.\n",
       "\n",
       "It can also have a regularization term added to the loss function\n",
       "that shrinks model parameters to prevent overfitting.\n",
       "\n",
       "This implementation works with data represented as dense numpy arrays or\n",
       "sparse scipy arrays of floating point values.\n",
       "\n",
       "References\n",
       "----------\n",
       "Hinton, Geoffrey E.\n",
       "    \"Connectionist learning procedures.\" Artificial intelligence 40.1\n",
       "    (1989): 185-234.\n",
       "\n",
       "Glorot, Xavier, and Yoshua Bengio. \"Understanding the difficulty of\n",
       "    training deep feedforward neural networks.\" International Conference\n",
       "    on Artificial Intelligence and Statistics. 2010.\n",
       "\n",
       "He, Kaiming, et al. \"Delving deep into rectifiers: Surpassing human-level\n",
       "    performance on imagenet classification.\" arXiv preprint\n",
       "    arXiv:1502.01852 (2015).\n",
       "\n",
       "Kingma, Diederik, and Jimmy Ba. \"Adam: A method for stochastic\n",
       "    optimization.\" arXiv preprint arXiv:1412.6980 (2014).\n"
      ]
     },
     "metadata": {},
     "output_type": "display_data"
    }
   ],
   "source": [
    "?mlpc_model"
   ]
  },
  {
   "cell_type": "code",
   "execution_count": 98,
   "id": "a384b29b-6287-4769-947b-82f582b290d7",
   "metadata": {},
   "outputs": [],
   "source": [
    "y_pred = mlpc_model.predict(X_test)"
   ]
  },
  {
   "cell_type": "code",
   "execution_count": 99,
   "id": "47706e72-6807-421e-b0f4-8546c70313dd",
   "metadata": {},
   "outputs": [
    {
     "data": {
      "text/plain": [
       "0.7056277056277056"
      ]
     },
     "execution_count": 99,
     "metadata": {},
     "output_type": "execute_result"
    }
   ],
   "source": [
    "accuracy_score(y_test,y_pred)"
   ]
  },
  {
   "cell_type": "markdown",
   "id": "c19b4282-a1f6-4ad2-978c-241fb0dbb72e",
   "metadata": {},
   "source": [
    "### Model Tuning"
   ]
  },
  {
   "cell_type": "code",
   "execution_count": 261,
   "id": "dc8b649e-dd65-44aa-b0f6-037bb582340c",
   "metadata": {},
   "outputs": [],
   "source": [
    "mlpc = MLPClassifier(solver=\"lbfgs\",activation=\"logistic\",max_iter=500)"
   ]
  },
  {
   "cell_type": "code",
   "execution_count": 262,
   "id": "c758b238-8a02-43e9-9cf5-735dd921cf99",
   "metadata": {},
   "outputs": [],
   "source": [
    "mlpc_params = {\"alpha\":[1,5,0.0001],\n",
    "              \"hidden_layer_sizes\":[(100,100),(3,5)]}"
   ]
  },
  {
   "cell_type": "code",
   "execution_count": 133,
   "id": "5e693f5e-8f7d-4c3f-bde2-c01a0acfe4ea",
   "metadata": {
    "tags": []
   },
   "outputs": [
    {
     "name": "stdout",
     "output_type": "stream",
     "text": [
      "Fitting 10 folds for each of 6 candidates, totalling 60 fits\n"
     ]
    }
   ],
   "source": [
    "mlpc_cv_model = GridSearchCV(mlpc,mlpc_params,cv=10,n_jobs=-1,verbose=2).fit(X_train,y_train)"
   ]
  },
  {
   "cell_type": "code",
   "execution_count": 134,
   "id": "a8b37247-b94e-4a0c-815d-9fa319c1cb76",
   "metadata": {},
   "outputs": [
    {
     "data": {
      "text/plain": [
       "0.7747030048916842"
      ]
     },
     "execution_count": 134,
     "metadata": {},
     "output_type": "execute_result"
    }
   ],
   "source": [
    "mlpc_cv_model.best_score_"
   ]
  },
  {
   "cell_type": "code",
   "execution_count": 135,
   "id": "8917800b-285a-4328-9463-23b18fd1def7",
   "metadata": {},
   "outputs": [
    {
     "data": {
      "text/plain": [
       "{'alpha': 1, 'hidden_layer_sizes': (3, 5)}"
      ]
     },
     "execution_count": 135,
     "metadata": {},
     "output_type": "execute_result"
    }
   ],
   "source": [
    "mlpc_cv_model.best_params_"
   ]
  },
  {
   "cell_type": "code",
   "execution_count": 276,
   "id": "2e310756-6f62-4152-a3d8-194fabdfb313",
   "metadata": {
    "tags": []
   },
   "outputs": [],
   "source": [
    "mlpc_tuned = MLPClassifier(solver=\"lbfgs\",activation=\"logistic\",alpha=1,hidden_layer_sizes=(3,5)).fit(X_train,y_train)"
   ]
  },
  {
   "cell_type": "code",
   "execution_count": 277,
   "id": "a33d512c-2141-42c1-8c00-d62c6b8b39c6",
   "metadata": {},
   "outputs": [
    {
     "data": {
      "text/plain": [
       "0.7532467532467533"
      ]
     },
     "execution_count": 277,
     "metadata": {},
     "output_type": "execute_result"
    }
   ],
   "source": [
    "mlpc_tuned.score(X_test,y_test)"
   ]
  },
  {
   "cell_type": "markdown",
   "id": "812271b2-8c92-4945-8f46-96158e4ec7b9",
   "metadata": {},
   "source": [
    "## CART (Classification and Regression Tree)"
   ]
  },
  {
   "cell_type": "code",
   "execution_count": 138,
   "id": "07f5841e-28b6-484c-b182-1c57b485a19c",
   "metadata": {},
   "outputs": [
    {
     "data": {
      "text/html": [
       "<div>\n",
       "<style scoped>\n",
       "    .dataframe tbody tr th:only-of-type {\n",
       "        vertical-align: middle;\n",
       "    }\n",
       "\n",
       "    .dataframe tbody tr th {\n",
       "        vertical-align: top;\n",
       "    }\n",
       "\n",
       "    .dataframe thead th {\n",
       "        text-align: right;\n",
       "    }\n",
       "</style>\n",
       "<table border=\"1\" class=\"dataframe\">\n",
       "  <thead>\n",
       "    <tr style=\"text-align: right;\">\n",
       "      <th></th>\n",
       "      <th>Pregnancies</th>\n",
       "      <th>Glucose</th>\n",
       "      <th>BloodPressure</th>\n",
       "      <th>SkinThickness</th>\n",
       "      <th>Insulin</th>\n",
       "      <th>BMI</th>\n",
       "      <th>DiabetesPedigreeFunction</th>\n",
       "      <th>Age</th>\n",
       "      <th>Outcome</th>\n",
       "    </tr>\n",
       "  </thead>\n",
       "  <tbody>\n",
       "    <tr>\n",
       "      <th>0</th>\n",
       "      <td>6</td>\n",
       "      <td>148</td>\n",
       "      <td>72</td>\n",
       "      <td>35</td>\n",
       "      <td>0</td>\n",
       "      <td>33.6</td>\n",
       "      <td>0.627</td>\n",
       "      <td>50</td>\n",
       "      <td>1</td>\n",
       "    </tr>\n",
       "    <tr>\n",
       "      <th>1</th>\n",
       "      <td>1</td>\n",
       "      <td>85</td>\n",
       "      <td>66</td>\n",
       "      <td>29</td>\n",
       "      <td>0</td>\n",
       "      <td>26.6</td>\n",
       "      <td>0.351</td>\n",
       "      <td>31</td>\n",
       "      <td>0</td>\n",
       "    </tr>\n",
       "    <tr>\n",
       "      <th>2</th>\n",
       "      <td>8</td>\n",
       "      <td>183</td>\n",
       "      <td>64</td>\n",
       "      <td>0</td>\n",
       "      <td>0</td>\n",
       "      <td>23.3</td>\n",
       "      <td>0.672</td>\n",
       "      <td>32</td>\n",
       "      <td>1</td>\n",
       "    </tr>\n",
       "    <tr>\n",
       "      <th>3</th>\n",
       "      <td>1</td>\n",
       "      <td>89</td>\n",
       "      <td>66</td>\n",
       "      <td>23</td>\n",
       "      <td>94</td>\n",
       "      <td>28.1</td>\n",
       "      <td>0.167</td>\n",
       "      <td>21</td>\n",
       "      <td>0</td>\n",
       "    </tr>\n",
       "    <tr>\n",
       "      <th>4</th>\n",
       "      <td>0</td>\n",
       "      <td>137</td>\n",
       "      <td>40</td>\n",
       "      <td>35</td>\n",
       "      <td>168</td>\n",
       "      <td>43.1</td>\n",
       "      <td>2.288</td>\n",
       "      <td>33</td>\n",
       "      <td>1</td>\n",
       "    </tr>\n",
       "  </tbody>\n",
       "</table>\n",
       "</div>"
      ],
      "text/plain": [
       "   Pregnancies  Glucose  BloodPressure  SkinThickness  Insulin   BMI  \\\n",
       "0            6      148             72             35        0  33.6   \n",
       "1            1       85             66             29        0  26.6   \n",
       "2            8      183             64              0        0  23.3   \n",
       "3            1       89             66             23       94  28.1   \n",
       "4            0      137             40             35      168  43.1   \n",
       "\n",
       "   DiabetesPedigreeFunction  Age  Outcome  \n",
       "0                     0.627   50        1  \n",
       "1                     0.351   31        0  \n",
       "2                     0.672   32        1  \n",
       "3                     0.167   21        0  \n",
       "4                     2.288   33        1  "
      ]
     },
     "execution_count": 138,
     "metadata": {},
     "output_type": "execute_result"
    }
   ],
   "source": [
    "df.head()"
   ]
  },
  {
   "cell_type": "code",
   "execution_count": 139,
   "id": "e8855f64-2b7f-4ae0-8d5a-bd0f6393300f",
   "metadata": {},
   "outputs": [],
   "source": [
    "X_train, X_test, y_train, y_test = train_test_split(\n",
    "                                                    X,\n",
    "                                                    y,\n",
    "                                                    test_size=0.30,\n",
    "                                                    random_state=42)"
   ]
  },
  {
   "cell_type": "markdown",
   "id": "d4e2363c-35bc-4eee-a966-338b251791a9",
   "metadata": {},
   "source": [
    "### Model & Tahmin"
   ]
  },
  {
   "cell_type": "code",
   "execution_count": 140,
   "id": "e4025532-44e7-4a69-af2b-4fce1fa755fd",
   "metadata": {},
   "outputs": [],
   "source": [
    "cart_model = DecisionTreeClassifier().fit(X_train,y_train)"
   ]
  },
  {
   "cell_type": "code",
   "execution_count": 141,
   "id": "c1594cdc-b47b-46b3-9104-aa33dab2f8f3",
   "metadata": {},
   "outputs": [
    {
     "data": {
      "text/plain": [
       "DecisionTreeClassifier(ccp_alpha=0.0, class_weight=None, criterion='gini',\n",
       "                       max_depth=None, max_features=None, max_leaf_nodes=None,\n",
       "                       min_impurity_decrease=0.0, min_impurity_split=None,\n",
       "                       min_samples_leaf=1, min_samples_split=2,\n",
       "                       min_weight_fraction_leaf=0.0, random_state=None,\n",
       "                       splitter='best')"
      ]
     },
     "execution_count": 141,
     "metadata": {},
     "output_type": "execute_result"
    }
   ],
   "source": [
    "cart_model"
   ]
  },
  {
   "cell_type": "code",
   "execution_count": 142,
   "id": "a8268cde-9e2d-4495-9020-33214320f260",
   "metadata": {},
   "outputs": [
    {
     "data": {
      "text/plain": [
       "0.70995670995671"
      ]
     },
     "execution_count": 142,
     "metadata": {},
     "output_type": "execute_result"
    }
   ],
   "source": [
    "cart_model.score(X_test,y_test)"
   ]
  },
  {
   "cell_type": "markdown",
   "id": "f736bd09-c60f-4f0d-a0f5-c44d93bd3d32",
   "metadata": {},
   "source": [
    "### Model Tuning"
   ]
  },
  {
   "cell_type": "code",
   "execution_count": 144,
   "id": "64e2db8f-100c-4918-bc51-c58c4c89205d",
   "metadata": {},
   "outputs": [],
   "source": [
    "cart = DecisionTreeClassifier()"
   ]
  },
  {
   "cell_type": "code",
   "execution_count": 148,
   "id": "3f17ad96-e7e2-43f3-8fbf-47ca0488bed3",
   "metadata": {},
   "outputs": [],
   "source": [
    "cart_params = {\"max_depth\":[1,3,5,8,10],\n",
    "              \"min_samples_split\":[2,3,5,10,20]}"
   ]
  },
  {
   "cell_type": "code",
   "execution_count": 149,
   "id": "649bdb57-363d-411c-af16-1054db6d8eaf",
   "metadata": {},
   "outputs": [
    {
     "name": "stdout",
     "output_type": "stream",
     "text": [
      "Fitting 10 folds for each of 25 candidates, totalling 250 fits\n"
     ]
    }
   ],
   "source": [
    "cart_cv_model = GridSearchCV(cart,cart_params,cv=10,n_jobs=-1,verbose=2).fit(X_train,y_train)"
   ]
  },
  {
   "cell_type": "code",
   "execution_count": 150,
   "id": "a0915a1c-0109-4a50-8c89-68cef86ef584",
   "metadata": {},
   "outputs": [
    {
     "data": {
      "text/plain": [
       "0.763487071977638"
      ]
     },
     "execution_count": 150,
     "metadata": {},
     "output_type": "execute_result"
    }
   ],
   "source": [
    "cart_cv_model.best_score_"
   ]
  },
  {
   "cell_type": "code",
   "execution_count": 151,
   "id": "110b3a16-f03f-4ad3-a79b-6fb84887153f",
   "metadata": {},
   "outputs": [
    {
     "data": {
      "text/plain": [
       "{'max_depth': 5, 'min_samples_split': 20}"
      ]
     },
     "execution_count": 151,
     "metadata": {},
     "output_type": "execute_result"
    }
   ],
   "source": [
    "cart_cv_model.best_params_"
   ]
  },
  {
   "cell_type": "code",
   "execution_count": 278,
   "id": "d4d30800-afef-459e-b3ea-621558c13624",
   "metadata": {},
   "outputs": [],
   "source": [
    "#final modeli\n",
    "cart_tuned = DecisionTreeClassifier(max_depth=5, min_samples_split=20).fit(X_train,y_train)"
   ]
  },
  {
   "cell_type": "code",
   "execution_count": 279,
   "id": "f8764267-16e3-466b-9e4c-dcf4caa89169",
   "metadata": {},
   "outputs": [],
   "source": [
    "y_pred =cart_tuned.predict(X_test)"
   ]
  },
  {
   "cell_type": "code",
   "execution_count": 280,
   "id": "6054c147-4adb-402c-8511-1ddadeda5989",
   "metadata": {},
   "outputs": [
    {
     "data": {
      "text/plain": [
       "0.7532467532467533"
      ]
     },
     "execution_count": 280,
     "metadata": {},
     "output_type": "execute_result"
    }
   ],
   "source": [
    "accuracy_score(y_test,y_pred)"
   ]
  },
  {
   "cell_type": "markdown",
   "id": "8ed79d88-e0b2-4d17-939c-a9ed56c9a3c6",
   "metadata": {},
   "source": [
    "## Random Forest"
   ]
  },
  {
   "cell_type": "code",
   "execution_count": 157,
   "id": "9df81d50-877a-4248-8489-11944d07f3d3",
   "metadata": {},
   "outputs": [
    {
     "data": {
      "text/html": [
       "<div>\n",
       "<style scoped>\n",
       "    .dataframe tbody tr th:only-of-type {\n",
       "        vertical-align: middle;\n",
       "    }\n",
       "\n",
       "    .dataframe tbody tr th {\n",
       "        vertical-align: top;\n",
       "    }\n",
       "\n",
       "    .dataframe thead th {\n",
       "        text-align: right;\n",
       "    }\n",
       "</style>\n",
       "<table border=\"1\" class=\"dataframe\">\n",
       "  <thead>\n",
       "    <tr style=\"text-align: right;\">\n",
       "      <th></th>\n",
       "      <th>Pregnancies</th>\n",
       "      <th>Glucose</th>\n",
       "      <th>BloodPressure</th>\n",
       "      <th>SkinThickness</th>\n",
       "      <th>Insulin</th>\n",
       "      <th>BMI</th>\n",
       "      <th>DiabetesPedigreeFunction</th>\n",
       "      <th>Age</th>\n",
       "      <th>Outcome</th>\n",
       "    </tr>\n",
       "  </thead>\n",
       "  <tbody>\n",
       "    <tr>\n",
       "      <th>0</th>\n",
       "      <td>6</td>\n",
       "      <td>148</td>\n",
       "      <td>72</td>\n",
       "      <td>35</td>\n",
       "      <td>0</td>\n",
       "      <td>33.6</td>\n",
       "      <td>0.627</td>\n",
       "      <td>50</td>\n",
       "      <td>1</td>\n",
       "    </tr>\n",
       "    <tr>\n",
       "      <th>1</th>\n",
       "      <td>1</td>\n",
       "      <td>85</td>\n",
       "      <td>66</td>\n",
       "      <td>29</td>\n",
       "      <td>0</td>\n",
       "      <td>26.6</td>\n",
       "      <td>0.351</td>\n",
       "      <td>31</td>\n",
       "      <td>0</td>\n",
       "    </tr>\n",
       "    <tr>\n",
       "      <th>2</th>\n",
       "      <td>8</td>\n",
       "      <td>183</td>\n",
       "      <td>64</td>\n",
       "      <td>0</td>\n",
       "      <td>0</td>\n",
       "      <td>23.3</td>\n",
       "      <td>0.672</td>\n",
       "      <td>32</td>\n",
       "      <td>1</td>\n",
       "    </tr>\n",
       "    <tr>\n",
       "      <th>3</th>\n",
       "      <td>1</td>\n",
       "      <td>89</td>\n",
       "      <td>66</td>\n",
       "      <td>23</td>\n",
       "      <td>94</td>\n",
       "      <td>28.1</td>\n",
       "      <td>0.167</td>\n",
       "      <td>21</td>\n",
       "      <td>0</td>\n",
       "    </tr>\n",
       "    <tr>\n",
       "      <th>4</th>\n",
       "      <td>0</td>\n",
       "      <td>137</td>\n",
       "      <td>40</td>\n",
       "      <td>35</td>\n",
       "      <td>168</td>\n",
       "      <td>43.1</td>\n",
       "      <td>2.288</td>\n",
       "      <td>33</td>\n",
       "      <td>1</td>\n",
       "    </tr>\n",
       "  </tbody>\n",
       "</table>\n",
       "</div>"
      ],
      "text/plain": [
       "   Pregnancies  Glucose  BloodPressure  SkinThickness  Insulin   BMI  \\\n",
       "0            6      148             72             35        0  33.6   \n",
       "1            1       85             66             29        0  26.6   \n",
       "2            8      183             64              0        0  23.3   \n",
       "3            1       89             66             23       94  28.1   \n",
       "4            0      137             40             35      168  43.1   \n",
       "\n",
       "   DiabetesPedigreeFunction  Age  Outcome  \n",
       "0                     0.627   50        1  \n",
       "1                     0.351   31        0  \n",
       "2                     0.672   32        1  \n",
       "3                     0.167   21        0  \n",
       "4                     2.288   33        1  "
      ]
     },
     "execution_count": 157,
     "metadata": {},
     "output_type": "execute_result"
    }
   ],
   "source": [
    "df.head()"
   ]
  },
  {
   "cell_type": "code",
   "execution_count": 158,
   "id": "0d804c6f-90c8-4324-8b7a-6456df803f0a",
   "metadata": {},
   "outputs": [],
   "source": [
    "X_train, X_test, y_train, y_test = train_test_split(\n",
    "                                                    X,\n",
    "                                                    y,\n",
    "                                                    test_size=0.30,\n",
    "                                                    random_state=42)"
   ]
  },
  {
   "cell_type": "markdown",
   "id": "f32134ac-7053-4504-bc55-54d5ba31690f",
   "metadata": {},
   "source": [
    "### Model & Tahmin"
   ]
  },
  {
   "cell_type": "code",
   "execution_count": 159,
   "id": "b7f9d3be-9921-49d1-9311-d02cd27d48ad",
   "metadata": {},
   "outputs": [],
   "source": [
    "rf_model = RandomForestClassifier().fit(X_train,y_train)"
   ]
  },
  {
   "cell_type": "code",
   "execution_count": 160,
   "id": "5aa41093-9aef-4353-93a3-310cb3c4cb3a",
   "metadata": {},
   "outputs": [
    {
     "data": {
      "text/plain": [
       "RandomForestClassifier(bootstrap=True, ccp_alpha=0.0, class_weight=None,\n",
       "                       criterion='gini', max_depth=None, max_features='auto',\n",
       "                       max_leaf_nodes=None, max_samples=None,\n",
       "                       min_impurity_decrease=0.0, min_impurity_split=None,\n",
       "                       min_samples_leaf=1, min_samples_split=2,\n",
       "                       min_weight_fraction_leaf=0.0, n_estimators=100,\n",
       "                       n_jobs=None, oob_score=False, random_state=None,\n",
       "                       verbose=0, warm_start=False)"
      ]
     },
     "execution_count": 160,
     "metadata": {},
     "output_type": "execute_result"
    }
   ],
   "source": [
    "rf_model"
   ]
  },
  {
   "cell_type": "code",
   "execution_count": 161,
   "id": "7dff55a2-7459-4f43-9128-f400ecc9db56",
   "metadata": {},
   "outputs": [],
   "source": [
    "y_pred = rf_model.predict(X_test)"
   ]
  },
  {
   "cell_type": "code",
   "execution_count": 162,
   "id": "3895fb6d-cdb7-4948-9948-c9cc077bb913",
   "metadata": {},
   "outputs": [
    {
     "data": {
      "text/plain": [
       "0.7359307359307359"
      ]
     },
     "execution_count": 162,
     "metadata": {},
     "output_type": "execute_result"
    }
   ],
   "source": [
    "accuracy_score(y_test,y_pred)"
   ]
  },
  {
   "cell_type": "markdown",
   "id": "af66e6ac-017c-492c-881c-aa26971f2d35",
   "metadata": {},
   "source": [
    "### Model Tuning"
   ]
  },
  {
   "cell_type": "code",
   "execution_count": 163,
   "id": "2537d035-7458-4f3a-9a84-6ae23140b98c",
   "metadata": {},
   "outputs": [],
   "source": [
    "rf = RandomForestClassifier()"
   ]
  },
  {
   "cell_type": "code",
   "execution_count": 164,
   "id": "2ec9d5dc-2a1f-440e-8306-5a8b1d539cf4",
   "metadata": {},
   "outputs": [],
   "source": [
    "rf_params = {\"n_estimators\":[100,200,500,1000],\n",
    "            \"max_features\":[3,5,7,8],\n",
    "            \"min_samples_split\":[2,5,10,20]}"
   ]
  },
  {
   "cell_type": "code",
   "execution_count": 165,
   "id": "9050cf53-9fc2-49e8-864c-280c7b4ba0a5",
   "metadata": {},
   "outputs": [
    {
     "name": "stdout",
     "output_type": "stream",
     "text": [
      "Fitting 10 folds for each of 64 candidates, totalling 640 fits\n"
     ]
    }
   ],
   "source": [
    "rf_cv_model = GridSearchCV(rf,rf_params,cv=10,n_jobs=-1,verbose=2).fit(X_train,y_train)"
   ]
  },
  {
   "cell_type": "code",
   "execution_count": 166,
   "id": "7d8c47c4-e74d-474f-a6b6-088212e9808d",
   "metadata": {},
   "outputs": [
    {
     "data": {
      "text/plain": [
       "0.7875960866526904"
      ]
     },
     "execution_count": 166,
     "metadata": {},
     "output_type": "execute_result"
    }
   ],
   "source": [
    "rf_cv_model.best_score_"
   ]
  },
  {
   "cell_type": "code",
   "execution_count": 167,
   "id": "6b837154-a7bc-4ecc-a040-e577f65d3dee",
   "metadata": {},
   "outputs": [
    {
     "data": {
      "text/plain": [
       "{'max_features': 8, 'min_samples_split': 5, 'n_estimators': 1000}"
      ]
     },
     "execution_count": 167,
     "metadata": {},
     "output_type": "execute_result"
    }
   ],
   "source": [
    "rf_cv_model.best_params_"
   ]
  },
  {
   "cell_type": "code",
   "execution_count": 281,
   "id": "9f40392d-b64f-43b8-a16f-f731834b8c14",
   "metadata": {},
   "outputs": [],
   "source": [
    "rf_tuned = RandomForestClassifier(max_features=8,min_samples_split=5,n_estimators=1000).fit(X_train,y_train)"
   ]
  },
  {
   "cell_type": "code",
   "execution_count": 282,
   "id": "50f44a50-b75c-499f-8ed2-a6c257ab4e03",
   "metadata": {},
   "outputs": [],
   "source": [
    "y_pred = rf_tuned.predict(X_test)"
   ]
  },
  {
   "cell_type": "code",
   "execution_count": 283,
   "id": "b6261f0b-d103-4357-a295-62e67c34502a",
   "metadata": {},
   "outputs": [
    {
     "data": {
      "text/plain": [
       "0.7619047619047619"
      ]
     },
     "execution_count": 283,
     "metadata": {},
     "output_type": "execute_result"
    }
   ],
   "source": [
    "accuracy_score(y_test,y_pred)"
   ]
  },
  {
   "cell_type": "code",
   "execution_count": 171,
   "id": "0ba85f6f-612f-4844-9fc1-be7aa5bb4ec9",
   "metadata": {},
   "outputs": [],
   "source": [
    "#değişken önem düzeyi"
   ]
  },
  {
   "cell_type": "code",
   "execution_count": 172,
   "id": "bb7fb254-197b-4557-8525-b2f0db121f18",
   "metadata": {},
   "outputs": [
    {
     "data": {
      "image/png": "[encoded data removed]",
      "text/plain": [
       "<Figure size 432x288 with 1 Axes>"
      ]
     },
     "metadata": {
      "needs_background": "light"
     },
     "output_type": "display_data"
    }
   ],
   "source": [
    "feature_imp = pd.Series(rf_tuned.feature_importances_,\n",
    "                       index=X_train.columns).sort_values(ascending=False)\n",
    "\n",
    "sns.barplot(x=feature_imp, y=feature_imp.index)\n",
    "plt.xlabel(\"değişken önem skorları\")\n",
    "plt.ylabel(\"değişkenler\")\n",
    "plt.title(\"değişken önem düzeyleri\")\n",
    "plt.show()"
   ]
  },
  {
   "cell_type": "markdown",
   "id": "6c00d24f-724b-44b2-bd9b-6e8780ffc255",
   "metadata": {},
   "source": [
    "## Gradient Boosting Machines "
   ]
  },
  {
   "cell_type": "markdown",
   "id": "09f49801-9cd2-428b-85a8-071a36af3649",
   "metadata": {},
   "source": [
    "### Model & Tahmin"
   ]
  },
  {
   "cell_type": "code",
   "execution_count": 174,
   "id": "55e36183-96e6-4775-bc06-5756786cf954",
   "metadata": {},
   "outputs": [],
   "source": [
    "gbm_model = GradientBoostingClassifier().fit(X_train,y_train)"
   ]
  },
  {
   "cell_type": "code",
   "execution_count": 175,
   "id": "679e7eb9-9efd-4e21-9c7d-1cf403324593",
   "metadata": {},
   "outputs": [
    {
     "data": {
      "text/plain": [
       "0.7445887445887446"
      ]
     },
     "execution_count": 175,
     "metadata": {},
     "output_type": "execute_result"
    }
   ],
   "source": [
    "gbm_model.score(X_test,y_test)"
   ]
  },
  {
   "cell_type": "markdown",
   "id": "6e8b9d4f-4b09-4955-a203-85b6ea2d4745",
   "metadata": {},
   "source": [
    "### Model Tuning"
   ]
  },
  {
   "cell_type": "code",
   "execution_count": 176,
   "id": "e0fc6489-8427-46ed-9150-bef72950a688",
   "metadata": {},
   "outputs": [],
   "source": [
    "gbm = GradientBoostingClassifier()"
   ]
  },
  {
   "cell_type": "code",
   "execution_count": 177,
   "id": "86ae8b08-92e2-4541-a8cf-b4f0de547b61",
   "metadata": {},
   "outputs": [],
   "source": [
    "gbm_params = {\"learning_rate\":[0.1,0.01,0.001,0.05],\n",
    "             \"n_estimators\":[100,300,500,1000],\n",
    "             \"max_depth\":[2,3,5,8]}"
   ]
  },
  {
   "cell_type": "code",
   "execution_count": 178,
   "id": "c8d453ce-05d7-485e-93de-c2f1a3523f2a",
   "metadata": {},
   "outputs": [],
   "source": [
    "gbm_cv_model = GridSearchCV(gbm,gbm_params,cv=10,n_jobs=-1).fit(X_train,y_train)"
   ]
  },
  {
   "cell_type": "code",
   "execution_count": 179,
   "id": "027475bd-415a-4b91-99f1-1d6bad188595",
   "metadata": {},
   "outputs": [
    {
     "data": {
      "text/plain": [
       "{'learning_rate': 0.01, 'max_depth': 5, 'n_estimators': 300}"
      ]
     },
     "execution_count": 179,
     "metadata": {},
     "output_type": "execute_result"
    }
   ],
   "source": [
    "gbm_cv_model.best_params_"
   ]
  },
  {
   "cell_type": "code",
   "execution_count": 284,
   "id": "2523deca-8ec0-4719-b654-b683a706c533",
   "metadata": {},
   "outputs": [],
   "source": [
    "#final modei\n",
    "gbm_tuned = GradientBoostingClassifier(learning_rate= 0.01,n_estimators=300,max_depth=5).fit(X_train,y_train)"
   ]
  },
  {
   "cell_type": "code",
   "execution_count": 285,
   "id": "95396209-a085-475b-b725-ed8a15e80348",
   "metadata": {},
   "outputs": [],
   "source": [
    "y_pred = gbm_tuned.predict(X_test)"
   ]
  },
  {
   "cell_type": "code",
   "execution_count": 286,
   "id": "e389dfcf-1859-4f27-b77e-57a7a992223d",
   "metadata": {},
   "outputs": [
    {
     "data": {
      "text/plain": [
       "0.7272727272727273"
      ]
     },
     "execution_count": 286,
     "metadata": {},
     "output_type": "execute_result"
    }
   ],
   "source": [
    "accuracy_score(y_test,y_pred)"
   ]
  },
  {
   "cell_type": "code",
   "execution_count": 190,
   "id": "b7e114fa-bfc2-463c-93ab-fcb602fc19a8",
   "metadata": {},
   "outputs": [
    {
     "data": {
      "image/png": "[encoded data removed]",
      "text/plain": [
       "<Figure size 432x288 with 1 Axes>"
      ]
     },
     "metadata": {
      "needs_background": "light"
     },
     "output_type": "display_data"
    }
   ],
   "source": [
    "feature_imp = pd.Series(gbm_tuned.feature_importances_,\n",
    "                       index=X_train.columns).sort_values(ascending=False)\n",
    "\n",
    "sns.barplot(x=feature_imp, y=feature_imp.index)\n",
    "plt.xlabel(\"değişken önem skorları\")\n",
    "plt.ylabel(\"değişkenler\")\n",
    "plt.title(\"değişken önem düzeyleri\")\n",
    "plt.show()"
   ]
  },
  {
   "cell_type": "markdown",
   "id": "fe45bf44-b8c5-4a58-bbf6-e04debe8f512",
   "metadata": {},
   "source": [
    "## XGBoost"
   ]
  },
  {
   "cell_type": "markdown",
   "id": "353c50ab-52b8-454a-a622-ac9742151752",
   "metadata": {},
   "source": [
    "### Model & Tahmin"
   ]
  },
  {
   "cell_type": "code",
   "execution_count": 191,
   "id": "95ba97ba-25d5-4018-82c6-d7e6836cf309",
   "metadata": {},
   "outputs": [
    {
     "name": "stdout",
     "output_type": "stream",
     "text": [
      "Requirement already satisfied: xgboost in c:\\users\\lenovo\\anaconda3\\lib\\site-packages (1.5.0)\n",
      "Requirement already satisfied: scipy in c:\\users\\lenovo\\anaconda3\\lib\\site-packages (from xgboost) (1.6.2)\n",
      "Requirement already satisfied: numpy in c:\\users\\lenovo\\anaconda3\\lib\\site-packages (from xgboost) (1.20.1)\n"
     ]
    }
   ],
   "source": [
    "!pip install xgboost"
   ]
  },
  {
   "cell_type": "code",
   "execution_count": 192,
   "id": "39d91e52-6532-4b10-9386-99d63736d984",
   "metadata": {},
   "outputs": [],
   "source": [
    "from xgboost import XGBClassifier"
   ]
  },
  {
   "cell_type": "code",
   "execution_count": 197,
   "id": "154466cc-8118-4869-919e-584f566e3273",
   "metadata": {},
   "outputs": [
    {
     "name": "stdout",
     "output_type": "stream",
     "text": [
      "[00:06:26] WARNING: C:/Users/Administrator/workspace/xgboost-win64_release_1.5.0/src/learner.cc:1115: Starting in XGBoost 1.3.0, the default evaluation metric used with the objective 'binary:logistic' was changed from 'error' to 'logloss'. Explicitly set eval_metric if you'd like to restore the old behavior.\n"
     ]
    }
   ],
   "source": [
    "xgb_model = XGBClassifier().fit(X_train,y_train)"
   ]
  },
  {
   "cell_type": "code",
   "execution_count": 194,
   "id": "27a51592-9db8-4d58-87b4-099f83150850",
   "metadata": {},
   "outputs": [
    {
     "data": {
      "text/plain": [
       "XGBClassifier(base_score=0.5, booster='gbtree', colsample_bylevel=1,\n",
       "              colsample_bynode=1, colsample_bytree=1, enable_categorical=False,\n",
       "              gamma=0, gpu_id=-1, importance_type=None,\n",
       "              interaction_constraints='', learning_rate=0.300000012,\n",
       "              max_delta_step=0, max_depth=6, min_child_weight=1, missing=nan,\n",
       "              monotone_constraints='()', n_estimators=100, n_jobs=4,\n",
       "              num_parallel_tree=1, objective='binary:logistic',\n",
       "              predictor='auto', random_state=0, reg_alpha=0, reg_lambda=1,\n",
       "              scale_pos_weight=1, subsample=1, tree_method='exact',\n",
       "              use_label_encoder=True, validate_parameters=1, verbosity=None)"
      ]
     },
     "execution_count": 194,
     "metadata": {},
     "output_type": "execute_result"
    }
   ],
   "source": [
    "xgb_model"
   ]
  },
  {
   "cell_type": "code",
   "execution_count": 199,
   "id": "7f74c6f6-fbdc-483c-adf1-56f3a683513c",
   "metadata": {},
   "outputs": [],
   "source": [
    "y_pred = xgb_model.predict(X_test)"
   ]
  },
  {
   "cell_type": "code",
   "execution_count": 200,
   "id": "15ddbbb0-8699-4a02-975b-c42bf70d99c0",
   "metadata": {},
   "outputs": [
    {
     "data": {
      "text/plain": [
       "0.7359307359307359"
      ]
     },
     "execution_count": 200,
     "metadata": {},
     "output_type": "execute_result"
    }
   ],
   "source": [
    "accuracy_score(y_test,y_pred)"
   ]
  },
  {
   "cell_type": "markdown",
   "id": "e1c4a682-e5a0-409b-ac15-671986c71fc5",
   "metadata": {},
   "source": [
    "### Model Tuning"
   ]
  },
  {
   "cell_type": "code",
   "execution_count": 201,
   "id": "9fdde5d0-c3ba-4b21-80ca-8e13dafd5fe8",
   "metadata": {},
   "outputs": [],
   "source": [
    "xgb = XGBClassifier()"
   ]
  },
  {
   "cell_type": "code",
   "execution_count": 202,
   "id": "aff508b6-e977-4e83-a2ea-944daa62396b",
   "metadata": {},
   "outputs": [],
   "source": [
    "xgb_params = {\"n_estimators\":[100,500,1000],\n",
    "             \"subsample\":[0.6,0.8,1],\n",
    "             \"max_depth\":[3,5,7],\n",
    "             \"learning_rate\":[0.1,0.001,0.01]}"
   ]
  },
  {
   "cell_type": "code",
   "execution_count": 203,
   "id": "8386b843-7654-4154-a2c5-ea856c50763c",
   "metadata": {},
   "outputs": [
    {
     "name": "stdout",
     "output_type": "stream",
     "text": [
      "Fitting 5 folds for each of 81 candidates, totalling 405 fits\n"
     ]
    },
    {
     "name": "stderr",
     "output_type": "stream",
     "text": [
      "C:\\Users\\Lenovo\\anaconda3\\lib\\site-packages\\xgboost\\sklearn.py:1224: UserWarning: The use of label encoder in XGBClassifier is deprecated and will be removed in a future release. To remove this warning, do the following: 1) Pass option use_label_encoder=False when constructing XGBClassifier object; and 2) Encode your labels (y) as integers starting with 0, i.e. 0, 1, 2, ..., [num_class - 1].\n",
      "  warnings.warn(label_encoder_deprecation_msg, UserWarning)\n"
     ]
    },
    {
     "name": "stdout",
     "output_type": "stream",
     "text": [
      "[00:14:42] WARNING: C:/Users/Administrator/workspace/xgboost-win64_release_1.5.0/src/learner.cc:1115: Starting in XGBoost 1.3.0, the default evaluation metric used with the objective 'binary:logistic' was changed from 'error' to 'logloss'. Explicitly set eval_metric if you'd like to restore the old behavior.\n"
     ]
    }
   ],
   "source": [
    "xgb_cv_model = GridSearchCV(xgb,xgb_params,cv=5,n_jobs=-1,verbose=2).fit(X_train,y_train)"
   ]
  },
  {
   "cell_type": "code",
   "execution_count": 204,
   "id": "85aabf0f-4a51-4c39-a9fb-6f1f7d9744a6",
   "metadata": {},
   "outputs": [
    {
     "data": {
      "text/plain": [
       "{'learning_rate': 0.01, 'max_depth': 3, 'n_estimators': 500, 'subsample': 1}"
      ]
     },
     "execution_count": 204,
     "metadata": {},
     "output_type": "execute_result"
    }
   ],
   "source": [
    "xgb_cv_model.best_params_"
   ]
  },
  {
   "cell_type": "code",
   "execution_count": 287,
   "id": "09356b71-3083-4bb7-a472-fcfecdef2b5f",
   "metadata": {},
   "outputs": [
    {
     "name": "stderr",
     "output_type": "stream",
     "text": [
      "C:\\Users\\Lenovo\\anaconda3\\lib\\site-packages\\xgboost\\sklearn.py:1224: UserWarning: The use of label encoder in XGBClassifier is deprecated and will be removed in a future release. To remove this warning, do the following: 1) Pass option use_label_encoder=False when constructing XGBClassifier object; and 2) Encode your labels (y) as integers starting with 0, i.e. 0, 1, 2, ..., [num_class - 1].\n",
      "  warnings.warn(label_encoder_deprecation_msg, UserWarning)\n"
     ]
    },
    {
     "name": "stdout",
     "output_type": "stream",
     "text": [
      "[01:48:30] WARNING: C:/Users/Administrator/workspace/xgboost-win64_release_1.5.0/src/learner.cc:1115: Starting in XGBoost 1.3.0, the default evaluation metric used with the objective 'binary:logistic' was changed from 'error' to 'logloss'. Explicitly set eval_metric if you'd like to restore the old behavior.\n"
     ]
    }
   ],
   "source": [
    "xgb_tuned = XGBClassifier(learning_rate= 0.01, max_depth = 3, n_estimators = 500, subsample= 1).fit(X_train,y_train)"
   ]
  },
  {
   "cell_type": "code",
   "execution_count": 288,
   "id": "c6af12ad-05a7-4fca-a45b-ea26ef70050d",
   "metadata": {},
   "outputs": [
    {
     "data": {
      "text/plain": [
       "0.7359307359307359"
      ]
     },
     "execution_count": 288,
     "metadata": {},
     "output_type": "execute_result"
    }
   ],
   "source": [
    "xgb_tuned.score(X_test,y_test)"
   ]
  },
  {
   "cell_type": "code",
   "execution_count": 213,
   "id": "1eb1b609-1a76-43b8-a819-4089bd646988",
   "metadata": {},
   "outputs": [
    {
     "data": {
      "image/png": "[encoded data removed]",
      "text/plain": [
       "<Figure size 432x288 with 1 Axes>"
      ]
     },
     "metadata": {
      "needs_background": "light"
     },
     "output_type": "display_data"
    }
   ],
   "source": [
    "feature_imp = pd.Series(xgb_tuned.feature_importances_,\n",
    "                       index=X_train.columns).sort_values(ascending=False)\n",
    "\n",
    "sns.barplot(x=feature_imp, y=feature_imp.index)\n",
    "plt.xlabel(\"değişken önem skorları\")\n",
    "plt.ylabel(\"değişkenler\")\n",
    "plt.title(\"değişken önem düzeyleri\")\n",
    "plt.show()"
   ]
  },
  {
   "cell_type": "markdown",
   "id": "93172be9-41b4-45c3-a14c-9253dfa207dd",
   "metadata": {},
   "source": [
    "## Light GBM"
   ]
  },
  {
   "cell_type": "markdown",
   "id": "d851f380-7375-4f4d-8aa4-51748fe0f129",
   "metadata": {},
   "source": [
    "### Model & Tahmin"
   ]
  },
  {
   "cell_type": "code",
   "execution_count": 214,
   "id": "152d74ef-7d4a-4ec7-960b-b1604677d5fe",
   "metadata": {},
   "outputs": [
    {
     "name": "stdout",
     "output_type": "stream",
     "text": [
      "Requirement already satisfied: lightgbm in c:\\users\\lenovo\\anaconda3\\lib\\site-packages (3.3.1)\n",
      "Requirement already satisfied: wheel in c:\\users\\lenovo\\anaconda3\\lib\\site-packages (from lightgbm) (0.36.2)\n",
      "Requirement already satisfied: scipy in c:\\users\\lenovo\\anaconda3\\lib\\site-packages (from lightgbm) (1.6.2)\n",
      "Requirement already satisfied: numpy in c:\\users\\lenovo\\anaconda3\\lib\\site-packages (from lightgbm) (1.20.1)\n",
      "Requirement already satisfied: scikit-learn!=0.22.0 in c:\\users\\lenovo\\anaconda3\\lib\\site-packages (from lightgbm) (0.24.1)\n",
      "Requirement already satisfied: threadpoolctl>=2.0.0 in c:\\users\\lenovo\\anaconda3\\lib\\site-packages (from scikit-learn!=0.22.0->lightgbm) (2.1.0)\n",
      "Requirement already satisfied: joblib>=0.11 in c:\\users\\lenovo\\anaconda3\\lib\\site-packages (from scikit-learn!=0.22.0->lightgbm) (1.0.1)\n"
     ]
    }
   ],
   "source": [
    "!pip install lightgbm"
   ]
  },
  {
   "cell_type": "code",
   "execution_count": 216,
   "id": "5bbcb64c-c89c-48fc-8911-f9b473a441c1",
   "metadata": {},
   "outputs": [],
   "source": [
    "from lightgbm import LGBMClassifier"
   ]
  },
  {
   "cell_type": "code",
   "execution_count": 217,
   "id": "eed5b180-da55-48af-8260-c400dd22a8be",
   "metadata": {},
   "outputs": [],
   "source": [
    "lgbm_model = LGBMClassifier().fit(X_train,y_train)"
   ]
  },
  {
   "cell_type": "code",
   "execution_count": 218,
   "id": "fe6ceb7a-aa80-481f-941a-14bc1fcf9d42",
   "metadata": {},
   "outputs": [],
   "source": [
    "y_pred = lgbm_model.predict(X_test)"
   ]
  },
  {
   "cell_type": "code",
   "execution_count": 220,
   "id": "caf535b6-e2cf-4274-9ac8-2b941176002d",
   "metadata": {},
   "outputs": [
    {
     "data": {
      "text/plain": [
       "0.7229437229437229"
      ]
     },
     "execution_count": 220,
     "metadata": {},
     "output_type": "execute_result"
    }
   ],
   "source": [
    "accuracy_score(y_test,y_pred)"
   ]
  },
  {
   "cell_type": "markdown",
   "id": "701f2017-6e55-47f4-b942-239879c8a78c",
   "metadata": {},
   "source": [
    "### Model Tuning"
   ]
  },
  {
   "cell_type": "code",
   "execution_count": 221,
   "id": "d431579f-d6ab-444a-9fad-c8261c5773f4",
   "metadata": {},
   "outputs": [],
   "source": [
    "lgbm = LGBMClassifier()"
   ]
  },
  {
   "cell_type": "code",
   "execution_count": 222,
   "id": "ca13fa28-b766-4d71-84d1-8eb0ea9cee8c",
   "metadata": {},
   "outputs": [],
   "source": [
    "lgbm_params = {\"n_estimators\":[200,500,1000],\n",
    "             \"max_depth\":[1,2,3,5],\n",
    "             \"learning_rate\":[0.1,0.001,0.01]}"
   ]
  },
  {
   "cell_type": "code",
   "execution_count": 223,
   "id": "2b7d750f-a32f-4a33-b211-bc9a375ec111",
   "metadata": {},
   "outputs": [
    {
     "name": "stdout",
     "output_type": "stream",
     "text": [
      "Fitting 10 folds for each of 36 candidates, totalling 360 fits\n"
     ]
    }
   ],
   "source": [
    "lgbm_cv_model = GridSearchCV(lgbm,lgbm_params,cv=10,n_jobs=-1,verbose=2).fit(X_train,y_train)"
   ]
  },
  {
   "cell_type": "code",
   "execution_count": null,
   "id": "c836c25f-d879-4e17-bdc4-b32803572e1b",
   "metadata": {},
   "outputs": [],
   "source": []
  },
  {
   "cell_type": "code",
   "execution_count": 224,
   "id": "8a5b57f1-3c84-44ab-ae97-8bd9c304682a",
   "metadata": {},
   "outputs": [
    {
     "data": {
      "text/plain": [
       "{'learning_rate': 0.01, 'max_depth': 1, 'n_estimators': 500}"
      ]
     },
     "execution_count": 224,
     "metadata": {},
     "output_type": "execute_result"
    }
   ],
   "source": [
    "lgbm_cv_model.best_params_"
   ]
  },
  {
   "cell_type": "code",
   "execution_count": 289,
   "id": "d40cc3a2-4e8c-45a9-8c9c-b4d22d4223f4",
   "metadata": {},
   "outputs": [
    {
     "name": "stderr",
     "output_type": "stream",
     "text": [
      "C:\\Users\\Lenovo\\anaconda3\\lib\\site-packages\\xgboost\\sklearn.py:1224: UserWarning: The use of label encoder in XGBClassifier is deprecated and will be removed in a future release. To remove this warning, do the following: 1) Pass option use_label_encoder=False when constructing XGBClassifier object; and 2) Encode your labels (y) as integers starting with 0, i.e. 0, 1, 2, ..., [num_class - 1].\n",
      "  warnings.warn(label_encoder_deprecation_msg, UserWarning)\n"
     ]
    },
    {
     "name": "stdout",
     "output_type": "stream",
     "text": [
      "[01:48:38] WARNING: C:/Users/Administrator/workspace/xgboost-win64_release_1.5.0/src/learner.cc:1115: Starting in XGBoost 1.3.0, the default evaluation metric used with the objective 'binary:logistic' was changed from 'error' to 'logloss'. Explicitly set eval_metric if you'd like to restore the old behavior.\n"
     ]
    }
   ],
   "source": [
    "lgbm_tuned = XGBClassifier(learning_rate= 0.01, max_depth =1 , n_estimators = 500).fit(X_train,y_train)"
   ]
  },
  {
   "cell_type": "code",
   "execution_count": 290,
   "id": "5b9602e7-f8ce-4148-93db-59e2418fc75c",
   "metadata": {},
   "outputs": [
    {
     "data": {
      "text/plain": [
       "0.7575757575757576"
      ]
     },
     "execution_count": 290,
     "metadata": {},
     "output_type": "execute_result"
    }
   ],
   "source": [
    "lgbm_tuned.score(X_test,y_test)"
   ]
  },
  {
   "cell_type": "code",
   "execution_count": 228,
   "id": "9bf2d870-93bd-40c4-8404-1264056cce8d",
   "metadata": {},
   "outputs": [
    {
     "data": {
      "image/png": "[encoded data removed]",
      "text/plain": [
       "<Figure size 432x288 with 1 Axes>"
      ]
     },
     "metadata": {
      "needs_background": "light"
     },
     "output_type": "display_data"
    }
   ],
   "source": [
    "feature_imp = pd.Series(lgbm_tuned.feature_importances_,\n",
    "                       index=X_train.columns).sort_values(ascending=False)\n",
    "\n",
    "sns.barplot(x=feature_imp, y=feature_imp.index)\n",
    "plt.xlabel(\"değişken önem skorları\")\n",
    "plt.ylabel(\"değişkenler\")\n",
    "plt.title(\"değişken önem düzeyleri\")\n",
    "plt.show()"
   ]
  },
  {
   "cell_type": "markdown",
   "id": "9818ee12-edcc-4728-9c63-2054d5d09be5",
   "metadata": {},
   "source": [
    "## CatBoost "
   ]
  },
  {
   "cell_type": "markdown",
   "id": "6b9bdb0c-0eb6-4670-a028-3db950ad0a4a",
   "metadata": {},
   "source": [
    "### Model ve Tahmin"
   ]
  },
  {
   "cell_type": "code",
   "execution_count": 229,
   "id": "2be5ab0c-31d1-4360-9c2e-88e75d8247ce",
   "metadata": {},
   "outputs": [
    {
     "name": "stdout",
     "output_type": "stream",
     "text": [
      "Requirement already satisfied: catboost in c:\\users\\lenovo\\anaconda3\\lib\\site-packages (1.0.3)\n",
      "Requirement already satisfied: matplotlib in c:\\users\\lenovo\\anaconda3\\lib\\site-packages (from catboost) (3.3.4)\n",
      "Requirement already satisfied: six in c:\\users\\lenovo\\anaconda3\\lib\\site-packages (from catboost) (1.15.0)\n",
      "Requirement already satisfied: scipy in c:\\users\\lenovo\\anaconda3\\lib\\site-packages (from catboost) (1.6.2)\n",
      "Requirement already satisfied: graphviz in c:\\users\\lenovo\\anaconda3\\lib\\site-packages (from catboost) (0.18)\n",
      "Requirement already satisfied: numpy>=1.16.0 in c:\\users\\lenovo\\anaconda3\\lib\\site-packages (from catboost) (1.20.1)\n",
      "Requirement already satisfied: plotly in c:\\users\\lenovo\\anaconda3\\lib\\site-packages (from catboost) (5.3.1)\n",
      "Requirement already satisfied: pandas>=0.24.0 in c:\\users\\lenovo\\anaconda3\\lib\\site-packages (from catboost) (1.2.4)\n",
      "Requirement already satisfied: python-dateutil>=2.7.3 in c:\\users\\lenovo\\anaconda3\\lib\\site-packages (from pandas>=0.24.0->catboost) (2.8.1)\n",
      "Requirement already satisfied: pytz>=2017.3 in c:\\users\\lenovo\\anaconda3\\lib\\site-packages (from pandas>=0.24.0->catboost) (2021.1)\n",
      "Requirement already satisfied: pillow>=6.2.0 in c:\\users\\lenovo\\anaconda3\\lib\\site-packages (from matplotlib->catboost) (8.2.0)\n",
      "Requirement already satisfied: pyparsing!=2.0.4,!=2.1.2,!=2.1.6,>=2.0.3 in c:\\users\\lenovo\\anaconda3\\lib\\site-packages (from matplotlib->catboost) (2.4.7)\n",
      "Requirement already satisfied: kiwisolver>=1.0.1 in c:\\users\\lenovo\\anaconda3\\lib\\site-packages (from matplotlib->catboost) (1.3.1)\n",
      "Requirement already satisfied: cycler>=0.10 in c:\\users\\lenovo\\anaconda3\\lib\\site-packages (from matplotlib->catboost) (0.10.0)\n",
      "Requirement already satisfied: tenacity>=6.2.0 in c:\\users\\lenovo\\anaconda3\\lib\\site-packages (from plotly->catboost) (8.0.1)\n"
     ]
    }
   ],
   "source": [
    "!pip install catboost"
   ]
  },
  {
   "cell_type": "code",
   "execution_count": 230,
   "id": "31692265-199b-45f7-b59a-2501f2a07263",
   "metadata": {},
   "outputs": [],
   "source": [
    "from catboost import CatBoostClassifier"
   ]
  },
  {
   "cell_type": "code",
   "execution_count": 232,
   "id": "415d3f36-b977-4eab-8c2b-105c1a50f1ad",
   "metadata": {
    "tags": []
   },
   "outputs": [],
   "source": [
    "catb_model = CatBoostClassifier().fit(X_train,y_train,verbose=False)"
   ]
  },
  {
   "cell_type": "code",
   "execution_count": 233,
   "id": "08df8d5e-1771-4d60-98e7-1eddae553d18",
   "metadata": {},
   "outputs": [],
   "source": [
    "y_pred = catb_model.predict(X_test)"
   ]
  },
  {
   "cell_type": "code",
   "execution_count": 234,
   "id": "2af1ecab-2285-400d-9334-1aefa5f02d9b",
   "metadata": {},
   "outputs": [
    {
     "data": {
      "text/plain": [
       "0.7402597402597403"
      ]
     },
     "execution_count": 234,
     "metadata": {},
     "output_type": "execute_result"
    }
   ],
   "source": [
    "accuracy_score(y_test,y_pred)"
   ]
  },
  {
   "cell_type": "markdown",
   "id": "ab51e530-17ef-4ecf-b8f4-2ca4211bcea0",
   "metadata": {},
   "source": [
    "### Model Tuning"
   ]
  },
  {
   "cell_type": "code",
   "execution_count": 235,
   "id": "8c621fc8-769d-4dbe-8465-e3a69a222df8",
   "metadata": {},
   "outputs": [],
   "source": [
    "catb = CatBoostClassifier()"
   ]
  },
  {
   "cell_type": "code",
   "execution_count": 236,
   "id": "80dfa43d-27f0-4479-947d-754fa15d355f",
   "metadata": {},
   "outputs": [],
   "source": [
    "catb_params = {\"iterations\":[200,500,100],\n",
    "              \"learning_rate\":[0.01,0.03,0.1],\n",
    "              \"depth\":[4,5,8]}"
   ]
  },
  {
   "cell_type": "code",
   "execution_count": 237,
   "id": "7e24ba27-7844-4c21-a489-0cb3bf3c836f",
   "metadata": {
    "collapsed": true,
    "jupyter": {
     "outputs_hidden": true
    },
    "tags": []
   },
   "outputs": [
    {
     "name": "stdout",
     "output_type": "stream",
     "text": [
      "Fitting 10 folds for each of 27 candidates, totalling 270 fits\n",
      "0:\tlearn: 0.6863312\ttotal: 7.08ms\tremaining: 1.41s\n",
      "1:\tlearn: 0.6811157\ttotal: 13.5ms\tremaining: 1.33s\n",
      "2:\tlearn: 0.6752970\ttotal: 19.5ms\tremaining: 1.28s\n",
      "3:\tlearn: 0.6697432\ttotal: 25.5ms\tremaining: 1.25s\n",
      "4:\tlearn: 0.6641758\ttotal: 34.1ms\tremaining: 1.33s\n",
      "5:\tlearn: 0.6576656\ttotal: 40.3ms\tremaining: 1.3s\n",
      "6:\tlearn: 0.6521870\ttotal: 45.7ms\tremaining: 1.26s\n",
      "7:\tlearn: 0.6465564\ttotal: 51.2ms\tremaining: 1.23s\n",
      "8:\tlearn: 0.6407595\ttotal: 57.1ms\tremaining: 1.21s\n",
      "9:\tlearn: 0.6357725\ttotal: 63.6ms\tremaining: 1.21s\n",
      "10:\tlearn: 0.6299942\ttotal: 69.2ms\tremaining: 1.19s\n",
      "11:\tlearn: 0.6240480\ttotal: 75.3ms\tremaining: 1.18s\n",
      "12:\tlearn: 0.6196095\ttotal: 80.4ms\tremaining: 1.16s\n",
      "13:\tlearn: 0.6148715\ttotal: 85.5ms\tremaining: 1.14s\n",
      "14:\tlearn: 0.6092626\ttotal: 91.3ms\tremaining: 1.13s\n",
      "15:\tlearn: 0.6046764\ttotal: 96.6ms\tremaining: 1.11s\n",
      "16:\tlearn: 0.6012725\ttotal: 102ms\tremaining: 1.1s\n",
      "17:\tlearn: 0.5958121\ttotal: 108ms\tremaining: 1.09s\n",
      "18:\tlearn: 0.5903243\ttotal: 115ms\tremaining: 1.1s\n",
      "19:\tlearn: 0.5866024\ttotal: 125ms\tremaining: 1.12s\n",
      "20:\tlearn: 0.5831390\ttotal: 134ms\tremaining: 1.14s\n",
      "21:\tlearn: 0.5787381\ttotal: 142ms\tremaining: 1.15s\n",
      "22:\tlearn: 0.5749016\ttotal: 150ms\tremaining: 1.15s\n",
      "23:\tlearn: 0.5703199\ttotal: 159ms\tremaining: 1.17s\n",
      "24:\tlearn: 0.5662368\ttotal: 167ms\tremaining: 1.17s\n",
      "25:\tlearn: 0.5628682\ttotal: 179ms\tremaining: 1.2s\n",
      "26:\tlearn: 0.5589082\ttotal: 189ms\tremaining: 1.21s\n",
      "27:\tlearn: 0.5543910\ttotal: 200ms\tremaining: 1.23s\n",
      "28:\tlearn: 0.5503864\ttotal: 210ms\tremaining: 1.24s\n",
      "29:\tlearn: 0.5470574\ttotal: 219ms\tremaining: 1.24s\n",
      "30:\tlearn: 0.5441267\ttotal: 225ms\tremaining: 1.23s\n",
      "31:\tlearn: 0.5396280\ttotal: 231ms\tremaining: 1.21s\n",
      "32:\tlearn: 0.5356242\ttotal: 240ms\tremaining: 1.21s\n",
      "33:\tlearn: 0.5315397\ttotal: 247ms\tremaining: 1.21s\n",
      "34:\tlearn: 0.5279847\ttotal: 256ms\tremaining: 1.21s\n",
      "35:\tlearn: 0.5248380\ttotal: 261ms\tremaining: 1.19s\n",
      "36:\tlearn: 0.5223885\ttotal: 268ms\tremaining: 1.18s\n",
      "37:\tlearn: 0.5198269\ttotal: 273ms\tremaining: 1.16s\n",
      "38:\tlearn: 0.5167431\ttotal: 278ms\tremaining: 1.15s\n",
      "39:\tlearn: 0.5138833\ttotal: 284ms\tremaining: 1.14s\n",
      "40:\tlearn: 0.5101494\ttotal: 290ms\tremaining: 1.13s\n",
      "41:\tlearn: 0.5066102\ttotal: 295ms\tremaining: 1.11s\n",
      "42:\tlearn: 0.5033714\ttotal: 302ms\tremaining: 1.1s\n",
      "43:\tlearn: 0.5005898\ttotal: 308ms\tremaining: 1.09s\n",
      "44:\tlearn: 0.4980703\ttotal: 313ms\tremaining: 1.08s\n",
      "45:\tlearn: 0.4959251\ttotal: 318ms\tremaining: 1.07s\n",
      "46:\tlearn: 0.4933987\ttotal: 324ms\tremaining: 1.05s\n",
      "47:\tlearn: 0.4906194\ttotal: 330ms\tremaining: 1.04s\n",
      "48:\tlearn: 0.4878359\ttotal: 336ms\tremaining: 1.03s\n",
      "49:\tlearn: 0.4850755\ttotal: 341ms\tremaining: 1.02s\n",
      "50:\tlearn: 0.4825927\ttotal: 347ms\tremaining: 1.01s\n",
      "51:\tlearn: 0.4798298\ttotal: 353ms\tremaining: 1s\n",
      "52:\tlearn: 0.4776108\ttotal: 358ms\tremaining: 994ms\n",
      "53:\tlearn: 0.4754405\ttotal: 367ms\tremaining: 992ms\n",
      "54:\tlearn: 0.4733501\ttotal: 373ms\tremaining: 984ms\n",
      "55:\tlearn: 0.4706076\ttotal: 380ms\tremaining: 977ms\n",
      "56:\tlearn: 0.4677355\ttotal: 385ms\tremaining: 967ms\n",
      "57:\tlearn: 0.4656740\ttotal: 393ms\tremaining: 961ms\n",
      "58:\tlearn: 0.4637413\ttotal: 398ms\tremaining: 951ms\n",
      "59:\tlearn: 0.4615248\ttotal: 404ms\tremaining: 943ms\n",
      "60:\tlearn: 0.4599759\ttotal: 413ms\tremaining: 941ms\n",
      "61:\tlearn: 0.4583985\ttotal: 415ms\tremaining: 923ms\n",
      "62:\tlearn: 0.4567064\ttotal: 421ms\tremaining: 915ms\n",
      "63:\tlearn: 0.4540942\ttotal: 428ms\tremaining: 910ms\n",
      "64:\tlearn: 0.4529822\ttotal: 430ms\tremaining: 893ms\n",
      "65:\tlearn: 0.4512090\ttotal: 436ms\tremaining: 884ms\n",
      "66:\tlearn: 0.4486739\ttotal: 442ms\tremaining: 877ms\n",
      "67:\tlearn: 0.4467865\ttotal: 448ms\tremaining: 869ms\n",
      "68:\tlearn: 0.4449614\ttotal: 453ms\tremaining: 860ms\n",
      "69:\tlearn: 0.4426120\ttotal: 459ms\tremaining: 853ms\n",
      "70:\tlearn: 0.4401612\ttotal: 465ms\tremaining: 845ms\n",
      "71:\tlearn: 0.4380696\ttotal: 470ms\tremaining: 836ms\n",
      "72:\tlearn: 0.4367153\ttotal: 477ms\tremaining: 829ms\n",
      "73:\tlearn: 0.4353223\ttotal: 482ms\tremaining: 821ms\n",
      "74:\tlearn: 0.4339943\ttotal: 488ms\tremaining: 814ms\n",
      "75:\tlearn: 0.4315641\ttotal: 494ms\tremaining: 806ms\n",
      "76:\tlearn: 0.4298680\ttotal: 500ms\tremaining: 798ms\n",
      "77:\tlearn: 0.4285275\ttotal: 506ms\tremaining: 791ms\n",
      "78:\tlearn: 0.4265791\ttotal: 512ms\tremaining: 784ms\n",
      "79:\tlearn: 0.4244024\ttotal: 517ms\tremaining: 775ms\n",
      "80:\tlearn: 0.4228361\ttotal: 524ms\tremaining: 769ms\n",
      "81:\tlearn: 0.4214212\ttotal: 529ms\tremaining: 761ms\n",
      "82:\tlearn: 0.4200602\ttotal: 534ms\tremaining: 753ms\n",
      "83:\tlearn: 0.4184320\ttotal: 540ms\tremaining: 746ms\n",
      "84:\tlearn: 0.4167986\ttotal: 548ms\tremaining: 741ms\n",
      "85:\tlearn: 0.4156404\ttotal: 554ms\tremaining: 734ms\n",
      "86:\tlearn: 0.4140656\ttotal: 560ms\tremaining: 727ms\n",
      "87:\tlearn: 0.4124223\ttotal: 566ms\tremaining: 721ms\n",
      "88:\tlearn: 0.4107329\ttotal: 572ms\tremaining: 713ms\n",
      "89:\tlearn: 0.4090922\ttotal: 578ms\tremaining: 706ms\n",
      "90:\tlearn: 0.4075416\ttotal: 588ms\tremaining: 705ms\n",
      "91:\tlearn: 0.4062399\ttotal: 594ms\tremaining: 697ms\n",
      "92:\tlearn: 0.4044658\ttotal: 601ms\tremaining: 692ms\n",
      "93:\tlearn: 0.4030179\ttotal: 607ms\tremaining: 685ms\n",
      "94:\tlearn: 0.4012034\ttotal: 613ms\tremaining: 677ms\n",
      "95:\tlearn: 0.3994677\ttotal: 619ms\tremaining: 671ms\n",
      "96:\tlearn: 0.3983236\ttotal: 625ms\tremaining: 664ms\n",
      "97:\tlearn: 0.3969830\ttotal: 632ms\tremaining: 658ms\n",
      "98:\tlearn: 0.3955620\ttotal: 638ms\tremaining: 651ms\n",
      "99:\tlearn: 0.3946122\ttotal: 644ms\tremaining: 644ms\n",
      "100:\tlearn: 0.3932345\ttotal: 650ms\tremaining: 637ms\n",
      "101:\tlearn: 0.3920746\ttotal: 656ms\tremaining: 630ms\n",
      "102:\tlearn: 0.3911707\ttotal: 662ms\tremaining: 623ms\n",
      "103:\tlearn: 0.3895752\ttotal: 667ms\tremaining: 616ms\n",
      "104:\tlearn: 0.3880976\ttotal: 673ms\tremaining: 609ms\n",
      "105:\tlearn: 0.3867508\ttotal: 679ms\tremaining: 602ms\n",
      "106:\tlearn: 0.3855281\ttotal: 685ms\tremaining: 595ms\n",
      "107:\tlearn: 0.3841015\ttotal: 691ms\tremaining: 588ms\n",
      "108:\tlearn: 0.3829276\ttotal: 696ms\tremaining: 581ms\n",
      "109:\tlearn: 0.3818795\ttotal: 702ms\tremaining: 574ms\n",
      "110:\tlearn: 0.3809667\ttotal: 711ms\tremaining: 570ms\n",
      "111:\tlearn: 0.3790017\ttotal: 719ms\tremaining: 565ms\n",
      "112:\tlearn: 0.3774333\ttotal: 726ms\tremaining: 559ms\n",
      "113:\tlearn: 0.3762372\ttotal: 732ms\tremaining: 552ms\n",
      "114:\tlearn: 0.3750418\ttotal: 738ms\tremaining: 546ms\n",
      "115:\tlearn: 0.3735203\ttotal: 744ms\tremaining: 539ms\n",
      "116:\tlearn: 0.3727671\ttotal: 751ms\tremaining: 533ms\n",
      "117:\tlearn: 0.3713847\ttotal: 756ms\tremaining: 526ms\n",
      "118:\tlearn: 0.3705588\ttotal: 762ms\tremaining: 519ms\n",
      "119:\tlearn: 0.3694386\ttotal: 791ms\tremaining: 527ms\n",
      "120:\tlearn: 0.3687438\ttotal: 800ms\tremaining: 523ms\n",
      "121:\tlearn: 0.3679429\ttotal: 814ms\tremaining: 520ms\n",
      "122:\tlearn: 0.3666192\ttotal: 840ms\tremaining: 526ms\n",
      "123:\tlearn: 0.3654787\ttotal: 851ms\tremaining: 521ms\n",
      "124:\tlearn: 0.3643185\ttotal: 861ms\tremaining: 517ms\n",
      "125:\tlearn: 0.3636195\ttotal: 870ms\tremaining: 511ms\n",
      "126:\tlearn: 0.3625184\ttotal: 876ms\tremaining: 504ms\n",
      "127:\tlearn: 0.3609778\ttotal: 887ms\tremaining: 499ms\n",
      "128:\tlearn: 0.3595979\ttotal: 893ms\tremaining: 492ms\n",
      "129:\tlearn: 0.3583702\ttotal: 901ms\tremaining: 485ms\n",
      "130:\tlearn: 0.3569225\ttotal: 909ms\tremaining: 479ms\n",
      "131:\tlearn: 0.3558535\ttotal: 915ms\tremaining: 472ms\n",
      "132:\tlearn: 0.3548312\ttotal: 922ms\tremaining: 464ms\n",
      "133:\tlearn: 0.3533459\ttotal: 947ms\tremaining: 466ms\n",
      "134:\tlearn: 0.3524239\ttotal: 954ms\tremaining: 459ms\n",
      "135:\tlearn: 0.3517958\ttotal: 960ms\tremaining: 452ms\n",
      "136:\tlearn: 0.3504984\ttotal: 967ms\tremaining: 445ms\n",
      "137:\tlearn: 0.3497339\ttotal: 976ms\tremaining: 438ms\n",
      "138:\tlearn: 0.3488643\ttotal: 984ms\tremaining: 432ms\n",
      "139:\tlearn: 0.3482265\ttotal: 990ms\tremaining: 424ms\n",
      "140:\tlearn: 0.3470774\ttotal: 995ms\tremaining: 416ms\n",
      "141:\tlearn: 0.3458237\ttotal: 1s\tremaining: 409ms\n",
      "142:\tlearn: 0.3445470\ttotal: 1.01s\tremaining: 402ms\n",
      "143:\tlearn: 0.3436377\ttotal: 1.01s\tremaining: 394ms\n",
      "144:\tlearn: 0.3426585\ttotal: 1.02s\tremaining: 386ms\n",
      "145:\tlearn: 0.3417233\ttotal: 1.02s\tremaining: 379ms\n",
      "146:\tlearn: 0.3407541\ttotal: 1.03s\tremaining: 372ms\n",
      "147:\tlearn: 0.3397798\ttotal: 1.04s\tremaining: 364ms\n",
      "148:\tlearn: 0.3390128\ttotal: 1.04s\tremaining: 357ms\n",
      "149:\tlearn: 0.3381272\ttotal: 1.05s\tremaining: 350ms\n",
      "150:\tlearn: 0.3374740\ttotal: 1.05s\tremaining: 342ms\n",
      "151:\tlearn: 0.3365500\ttotal: 1.06s\tremaining: 335ms\n",
      "152:\tlearn: 0.3358489\ttotal: 1.07s\tremaining: 327ms\n",
      "153:\tlearn: 0.3346096\ttotal: 1.07s\tremaining: 320ms\n",
      "154:\tlearn: 0.3335622\ttotal: 1.08s\tremaining: 313ms\n",
      "155:\tlearn: 0.3330435\ttotal: 1.09s\tremaining: 307ms\n",
      "156:\tlearn: 0.3323843\ttotal: 1.1s\tremaining: 301ms\n",
      "157:\tlearn: 0.3312172\ttotal: 1.1s\tremaining: 294ms\n",
      "158:\tlearn: 0.3299437\ttotal: 1.12s\tremaining: 288ms\n",
      "159:\tlearn: 0.3286515\ttotal: 1.12s\tremaining: 280ms\n",
      "160:\tlearn: 0.3275885\ttotal: 1.13s\tremaining: 273ms\n",
      "161:\tlearn: 0.3266739\ttotal: 1.14s\tremaining: 267ms\n",
      "162:\tlearn: 0.3258986\ttotal: 1.14s\tremaining: 260ms\n",
      "163:\tlearn: 0.3249133\ttotal: 1.15s\tremaining: 252ms\n",
      "164:\tlearn: 0.3241480\ttotal: 1.16s\tremaining: 245ms\n",
      "165:\tlearn: 0.3237404\ttotal: 1.16s\tremaining: 238ms\n",
      "166:\tlearn: 0.3228217\ttotal: 1.17s\tremaining: 231ms\n",
      "167:\tlearn: 0.3218088\ttotal: 1.17s\tremaining: 224ms\n",
      "168:\tlearn: 0.3209179\ttotal: 1.18s\tremaining: 216ms\n",
      "169:\tlearn: 0.3200101\ttotal: 1.19s\tremaining: 209ms\n",
      "170:\tlearn: 0.3188984\ttotal: 1.19s\tremaining: 202ms\n",
      "171:\tlearn: 0.3178642\ttotal: 1.2s\tremaining: 195ms\n",
      "172:\tlearn: 0.3172455\ttotal: 1.2s\tremaining: 188ms\n",
      "173:\tlearn: 0.3166261\ttotal: 1.21s\tremaining: 181ms\n",
      "174:\tlearn: 0.3157320\ttotal: 1.22s\tremaining: 174ms\n",
      "175:\tlearn: 0.3149761\ttotal: 1.22s\tremaining: 167ms\n",
      "176:\tlearn: 0.3142430\ttotal: 1.23s\tremaining: 160ms\n",
      "177:\tlearn: 0.3138263\ttotal: 1.23s\tremaining: 153ms\n",
      "178:\tlearn: 0.3133229\ttotal: 1.24s\tremaining: 146ms\n",
      "179:\tlearn: 0.3124656\ttotal: 1.25s\tremaining: 139ms\n",
      "180:\tlearn: 0.3114844\ttotal: 1.25s\tremaining: 131ms\n",
      "181:\tlearn: 0.3109799\ttotal: 1.26s\tremaining: 125ms\n",
      "182:\tlearn: 0.3105137\ttotal: 1.27s\tremaining: 118ms\n",
      "183:\tlearn: 0.3094123\ttotal: 1.27s\tremaining: 111ms\n",
      "184:\tlearn: 0.3087045\ttotal: 1.28s\tremaining: 104ms\n",
      "185:\tlearn: 0.3079423\ttotal: 1.29s\tremaining: 96.9ms\n",
      "186:\tlearn: 0.3071831\ttotal: 1.29s\tremaining: 89.9ms\n",
      "187:\tlearn: 0.3061123\ttotal: 1.3s\tremaining: 82.9ms\n",
      "188:\tlearn: 0.3054302\ttotal: 1.3s\tremaining: 76ms\n",
      "189:\tlearn: 0.3048047\ttotal: 1.31s\tremaining: 69.1ms\n",
      "190:\tlearn: 0.3042241\ttotal: 1.32s\tremaining: 62.2ms\n",
      "191:\tlearn: 0.3036602\ttotal: 1.32s\tremaining: 55.2ms\n",
      "192:\tlearn: 0.3028507\ttotal: 1.33s\tremaining: 48.3ms\n",
      "193:\tlearn: 0.3019733\ttotal: 1.34s\tremaining: 41.4ms\n",
      "194:\tlearn: 0.3009586\ttotal: 1.34s\tremaining: 34.4ms\n",
      "195:\tlearn: 0.3001835\ttotal: 1.35s\tremaining: 27.5ms\n",
      "196:\tlearn: 0.2999266\ttotal: 1.35s\tremaining: 20.6ms\n",
      "197:\tlearn: 0.2993811\ttotal: 1.36s\tremaining: 13.7ms\n",
      "198:\tlearn: 0.2986293\ttotal: 1.36s\tremaining: 6.86ms\n",
      "199:\tlearn: 0.2980044\ttotal: 1.37s\tremaining: 0us\n"
     ]
    }
   ],
   "source": [
    "catb_cv_model = GridSearchCV(catb,catb_params,cv=10,n_jobs=-1,verbose=2).fit(X_train,y_train)"
   ]
  },
  {
   "cell_type": "code",
   "execution_count": 238,
   "id": "b396833a-2b42-4f95-9ba3-52db0550128a",
   "metadata": {},
   "outputs": [
    {
     "data": {
      "text/plain": [
       "{'depth': 8, 'iterations': 200, 'learning_rate': 0.01}"
      ]
     },
     "execution_count": 238,
     "metadata": {},
     "output_type": "execute_result"
    }
   ],
   "source": [
    "catb_cv_model.best_params_"
   ]
  },
  {
   "cell_type": "code",
   "execution_count": 291,
   "id": "1a81a43e-c746-49c2-915b-5815c86fe8e7",
   "metadata": {},
   "outputs": [],
   "source": [
    "catb_tuned = CatBoostClassifier(iterations=200,learning_rate=0.01,depth=8).fit(X_train,y_train,verbose=False)"
   ]
  },
  {
   "cell_type": "code",
   "execution_count": 292,
   "id": "4edb18f7-3983-4120-bbec-66ef59b78e8e",
   "metadata": {},
   "outputs": [],
   "source": [
    "y_pred = catb_tuned.predict(X_test)"
   ]
  },
  {
   "cell_type": "code",
   "execution_count": 293,
   "id": "5167aa46-987b-4d7a-9c6e-f09c17dc23c1",
   "metadata": {},
   "outputs": [
    {
     "data": {
      "text/plain": [
       "0.7575757575757576"
      ]
     },
     "execution_count": 293,
     "metadata": {},
     "output_type": "execute_result"
    }
   ],
   "source": [
    "accuracy_score(y_test,y_pred)"
   ]
  },
  {
   "cell_type": "code",
   "execution_count": 242,
   "id": "4fb68471-8ce7-40ec-9107-abfe7a0fca8b",
   "metadata": {},
   "outputs": [
    {
     "data": {
      "image/png": "[encoded data removed]",
      "text/plain": [
       "<Figure size 432x288 with 1 Axes>"
      ]
     },
     "metadata": {
      "needs_background": "light"
     },
     "output_type": "display_data"
    }
   ],
   "source": [
    "feature_imp = pd.Series(catb_tuned.feature_importances_,\n",
    "                       index=X_train.columns).sort_values(ascending=False)\n",
    "\n",
    "sns.barplot(x=feature_imp, y=feature_imp.index)\n",
    "plt.xlabel(\"değişken önem skorları\")\n",
    "plt.ylabel(\"değişkenler\")\n",
    "plt.title(\"değişken önem düzeyleri\")\n",
    "plt.show()"
   ]
  },
  {
   "cell_type": "markdown",
   "id": "dd2b1d33-ec09-4da5-807c-4252eeb12098",
   "metadata": {},
   "source": [
    "# Tüm Modellerin Karşılaştırılması "
   ]
  },
  {
   "cell_type": "code",
   "execution_count": 294,
   "id": "b036a68d-048e-480f-8bcd-4664d9732659",
   "metadata": {},
   "outputs": [],
   "source": [
    "Modeller = [\n",
    "    knn_tuned,\n",
    "    loj_model,\n",
    "    svm_tuned,\n",
    "    mlpc_tuned,\n",
    "    cart_tuned,\n",
    "    rf_tuned,\n",
    "    gbm_tuned,\n",
    "    catb_tuned,\n",
    "    lgbm_tuned,\n",
    "    xgb_tuned\n",
    "]\n",
    "sonuc = []\n",
    "sonuclar = pd.DataFrame(columns = [\"Modeller\",\"Accuracy\"])\n",
    "\n",
    "for model in Modeller:\n",
    "    isimler = model.__class__.__name__\n",
    "    y_pred = model.predict(X_test)\n",
    "    dogruluk = accuracy_score(y_test,y_pred)\n",
    "    sonuc = pd.DataFrame([[isimler,dogruluk*100]],columns = [\"Modeller\",\"Accuracy\"])\n",
    "    sonuclar = sonuclar.append(sonuc)"
   ]
  },
  {
   "cell_type": "code",
   "execution_count": 295,
   "id": "99c6ef0a-4d1a-420d-adfa-751ad15d92ac",
   "metadata": {},
   "outputs": [
    {
     "data": {
      "image/png": "[encoded data removed]",
      "text/plain": [
       "<Figure size 432x288 with 1 Axes>"
      ]
     },
     "metadata": {
      "needs_background": "light"
     },
     "output_type": "display_data"
    }
   ],
   "source": [
    "sns.barplot(x ='Accuracy', y ='Modeller',data=sonuclar,color=\"r\")\n",
    "plt.xlabel('Accuracy %')\n",
    "plt.title('Modellerin Doğruluk Oranı');"
   ]
  },
  {
   "cell_type": "code",
   "execution_count": 296,
   "id": "065a3489-d139-4853-83c5-4b0cdf71ba72",
   "metadata": {},
   "outputs": [
    {
     "data": {
      "text/html": [
       "<div>\n",
       "<style scoped>\n",
       "    .dataframe tbody tr th:only-of-type {\n",
       "        vertical-align: middle;\n",
       "    }\n",
       "\n",
       "    .dataframe tbody tr th {\n",
       "        vertical-align: top;\n",
       "    }\n",
       "\n",
       "    .dataframe thead th {\n",
       "        text-align: right;\n",
       "    }\n",
       "</style>\n",
       "<table border=\"1\" class=\"dataframe\">\n",
       "  <thead>\n",
       "    <tr style=\"text-align: right;\">\n",
       "      <th></th>\n",
       "      <th>Modeller</th>\n",
       "      <th>Accuracy</th>\n",
       "    </tr>\n",
       "  </thead>\n",
       "  <tbody>\n",
       "    <tr>\n",
       "      <th>0</th>\n",
       "      <td>KNeighborsClassifier</td>\n",
       "      <td>71.428571</td>\n",
       "    </tr>\n",
       "    <tr>\n",
       "      <th>0</th>\n",
       "      <td>LogisticRegression</td>\n",
       "      <td>74.458874</td>\n",
       "    </tr>\n",
       "    <tr>\n",
       "      <th>0</th>\n",
       "      <td>SVC</td>\n",
       "      <td>75.324675</td>\n",
       "    </tr>\n",
       "    <tr>\n",
       "      <th>0</th>\n",
       "      <td>MLPClassifier</td>\n",
       "      <td>75.324675</td>\n",
       "    </tr>\n",
       "    <tr>\n",
       "      <th>0</th>\n",
       "      <td>DecisionTreeClassifier</td>\n",
       "      <td>75.324675</td>\n",
       "    </tr>\n",
       "    <tr>\n",
       "      <th>0</th>\n",
       "      <td>RandomForestClassifier</td>\n",
       "      <td>76.190476</td>\n",
       "    </tr>\n",
       "    <tr>\n",
       "      <th>0</th>\n",
       "      <td>GradientBoostingClassifier</td>\n",
       "      <td>72.727273</td>\n",
       "    </tr>\n",
       "    <tr>\n",
       "      <th>0</th>\n",
       "      <td>CatBoostClassifier</td>\n",
       "      <td>75.757576</td>\n",
       "    </tr>\n",
       "    <tr>\n",
       "      <th>0</th>\n",
       "      <td>XGBClassifier</td>\n",
       "      <td>75.757576</td>\n",
       "    </tr>\n",
       "    <tr>\n",
       "      <th>0</th>\n",
       "      <td>XGBClassifier</td>\n",
       "      <td>73.593074</td>\n",
       "    </tr>\n",
       "  </tbody>\n",
       "</table>\n",
       "</div>"
      ],
      "text/plain": [
       "                     Modeller   Accuracy\n",
       "0        KNeighborsClassifier  71.428571\n",
       "0          LogisticRegression  74.458874\n",
       "0                         SVC  75.324675\n",
       "0               MLPClassifier  75.324675\n",
       "0      DecisionTreeClassifier  75.324675\n",
       "0      RandomForestClassifier  76.190476\n",
       "0  GradientBoostingClassifier  72.727273\n",
       "0          CatBoostClassifier  75.757576\n",
       "0               XGBClassifier  75.757576\n",
       "0               XGBClassifier  73.593074"
      ]
     },
     "execution_count": 296,
     "metadata": {},
     "output_type": "execute_result"
    }
   ],
   "source": [
    "sonuclar"
   ]
  },
  {
   "cell_type": "markdown",
   "id": "a77f8547-9672-4cae-998d-bdc0569b822d",
   "metadata": {},
   "source": [
    "### Daha başka neler yapabiliriz"
   ]
  },
  {
   "cell_type": "markdown",
   "id": "f6e359ce-aa98-41dd-ad9d-c04276b83df2",
   "metadata": {},
   "source": [
    "1. Değişken türetme/değişken mühendisliği \n",
    "2. Değişken seçme(daha az değişken daha iyidir)\n",
    "3. Otomatik ML \n",
    "4. Model deploymant()"
   ]
  },
  {
   "cell_type": "code",
   "execution_count": 298,
   "id": "25fa63cc-3198-4b3e-8729-237dd1686438",
   "metadata": {},
   "outputs": [],
   "source": [
    "a = np.arange(1,50)"
   ]
  },
  {
   "cell_type": "code",
   "execution_count": 299,
   "id": "b86c425e-560c-4c47-ade6-14ddbb7130df",
   "metadata": {},
   "outputs": [
    {
     "data": {
      "text/plain": [
       "numpy.ndarray"
      ]
     },
     "execution_count": 299,
     "metadata": {},
     "output_type": "execute_result"
    }
   ],
   "source": [
    "type(a)"
   ]
  },
  {
   "cell_type": "code",
   "execution_count": null,
   "id": "5fcbabef-df3d-4d32-802f-a5b05a7ce09a",
   "metadata": {},
   "outputs": [],
   "source": []
  }
 ],
 "metadata": {
  "kernelspec": {
   "display_name": "Python 3",
   "language": "python",
   "name": "python3"
  },
  "language_info": {
   "codemirror_mode": {
    "name": "ipython",
    "version": 3
   },
   "file_extension": ".py",
   "mimetype": "text/x-python",
   "name": "python",
   "nbconvert_exporter": "python",
   "pygments_lexer": "ipython3",
   "version": "3.8.8"
  }
 },
 "nbformat": 4,
 "nbformat_minor": 5
}
