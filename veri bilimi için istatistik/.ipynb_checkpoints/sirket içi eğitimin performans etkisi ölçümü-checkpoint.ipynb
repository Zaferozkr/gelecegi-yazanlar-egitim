{
 "cells": [
  {
   "cell_type": "markdown",
   "id": "710bc11f-fce1-44b3-8d1c-1bbccd0d6cf2",
   "metadata": {},
   "source": [
    "**Problem:** \n",
    "* Belirli uğraşmalar sonucunda alınan bir eğitimin katma değer sağlanıp sağlanmadığı ölçülmek isteniyor.\n",
    "\n",
    "**Detaylar:** \n",
    "* Bir departman bir konuda eğitim talep ediyor.\n",
    "* Gerekli/gereksiz değerlendirmeleri neticesinde eğitim alınıyor.\n",
    "* Eğitim önce ve sonra olacak şekilde gerekli ölçümler yapılıyor.\n",
    "* Eğitim sonrasında eğitimin sağladığı katma değer test ediliyor. "
   ]
  },
  {
   "cell_type": "code",
   "execution_count": 6,
   "id": "3a94283a-a28d-401a-98b9-a71e0376299c",
   "metadata": {},
   "outputs": [],
   "source": [
    "import pandas as pd\n",
    "import numpy as np"
   ]
  },
  {
   "cell_type": "markdown",
   "id": "e258c417-6662-4533-8ea9-79a2484c098a",
   "metadata": {},
   "source": [
    "* H0 : Uö = Us\n",
    "* H1 : Uö =! Us"
   ]
  },
  {
   "cell_type": "code",
   "execution_count": 2,
   "id": "a9d51169-f334-4d0f-a7fe-6a8c7e9433fb",
   "metadata": {},
   "outputs": [],
   "source": [
    "oncesi=pd.DataFrame( [123, 119, 119,116, 123, 123, 121, 120, 117,118, 121, 121, 123, 119, \n",
    "121, 118, 124, 121, 125, 115, 115, 119, 118, 121, 117 , 117 , 120 , 120 , \n",
    "121, 117 , 118, 117 , 123, 118, 124, 121, 115, 118, 125, 115] ) \n",
    "sonrasi=pd.DataFrame( [118, 127, 122, 132, 129, 123, 129, 132, 128, 130, 128, 138, 140, 130, \n",
    "134, 134, 124, 140, 134, 129, 129, 138, 134, 124, 122, 126 , 133, 127 , \n",
    "130, 130, 130, 132, 117 , 130, 125, 129, 133, 120, 127 , 123] ) \n"
   ]
  },
  {
   "cell_type": "code",
   "execution_count": 3,
   "id": "26e60709-5459-4928-ae8d-14cfc7d93c23",
   "metadata": {},
   "outputs": [
    {
     "data": {
      "text/html": [
       "<div>\n",
       "<style scoped>\n",
       "    .dataframe tbody tr th:only-of-type {\n",
       "        vertical-align: middle;\n",
       "    }\n",
       "\n",
       "    .dataframe tbody tr th {\n",
       "        vertical-align: top;\n",
       "    }\n",
       "\n",
       "    .dataframe thead th {\n",
       "        text-align: right;\n",
       "    }\n",
       "</style>\n",
       "<table border=\"1\" class=\"dataframe\">\n",
       "  <thead>\n",
       "    <tr style=\"text-align: right;\">\n",
       "      <th></th>\n",
       "      <th>0</th>\n",
       "    </tr>\n",
       "  </thead>\n",
       "  <tbody>\n",
       "    <tr>\n",
       "      <th>0</th>\n",
       "      <td>123</td>\n",
       "    </tr>\n",
       "    <tr>\n",
       "      <th>1</th>\n",
       "      <td>119</td>\n",
       "    </tr>\n",
       "    <tr>\n",
       "      <th>2</th>\n",
       "      <td>119</td>\n",
       "    </tr>\n",
       "    <tr>\n",
       "      <th>3</th>\n",
       "      <td>116</td>\n",
       "    </tr>\n",
       "    <tr>\n",
       "      <th>4</th>\n",
       "      <td>123</td>\n",
       "    </tr>\n",
       "  </tbody>\n",
       "</table>\n",
       "</div>"
      ],
      "text/plain": [
       "     0\n",
       "0  123\n",
       "1  119\n",
       "2  119\n",
       "3  116\n",
       "4  123"
      ]
     },
     "execution_count": 3,
     "metadata": {},
     "output_type": "execute_result"
    }
   ],
   "source": [
    "oncesi[0:5]"
   ]
  },
  {
   "cell_type": "code",
   "execution_count": 5,
   "id": "98d81826-87f6-4e5d-a7fb-422a9f3e67dd",
   "metadata": {},
   "outputs": [
    {
     "data": {
      "text/html": [
       "<div>\n",
       "<style scoped>\n",
       "    .dataframe tbody tr th:only-of-type {\n",
       "        vertical-align: middle;\n",
       "    }\n",
       "\n",
       "    .dataframe tbody tr th {\n",
       "        vertical-align: top;\n",
       "    }\n",
       "\n",
       "    .dataframe thead th {\n",
       "        text-align: right;\n",
       "    }\n",
       "</style>\n",
       "<table border=\"1\" class=\"dataframe\">\n",
       "  <thead>\n",
       "    <tr style=\"text-align: right;\">\n",
       "      <th></th>\n",
       "      <th>0</th>\n",
       "    </tr>\n",
       "  </thead>\n",
       "  <tbody>\n",
       "    <tr>\n",
       "      <th>0</th>\n",
       "      <td>118</td>\n",
       "    </tr>\n",
       "    <tr>\n",
       "      <th>1</th>\n",
       "      <td>127</td>\n",
       "    </tr>\n",
       "    <tr>\n",
       "      <th>2</th>\n",
       "      <td>122</td>\n",
       "    </tr>\n",
       "    <tr>\n",
       "      <th>3</th>\n",
       "      <td>132</td>\n",
       "    </tr>\n",
       "    <tr>\n",
       "      <th>4</th>\n",
       "      <td>129</td>\n",
       "    </tr>\n",
       "  </tbody>\n",
       "</table>\n",
       "</div>"
      ],
      "text/plain": [
       "     0\n",
       "0  118\n",
       "1  127\n",
       "2  122\n",
       "3  132\n",
       "4  129"
      ]
     },
     "execution_count": 5,
     "metadata": {},
     "output_type": "execute_result"
    }
   ],
   "source": [
    "sonrasi[0:5]"
   ]
  },
  {
   "cell_type": "code",
   "execution_count": 12,
   "id": "5fcb907c-a80f-40e0-bb76-10cf304a54b9",
   "metadata": {},
   "outputs": [
    {
     "name": "stdout",
     "output_type": "stream",
     "text": [
      "'AYRIK' Veri Seti:\n",
      "\n",
      "    ONCESI  SONRASI\n",
      "0     123      118\n",
      "1     119      127\n",
      "2     119      122\n",
      "3     116      132\n",
      "4     123      129 \n",
      "\n",
      "\n",
      "'BIRLIKTE' Veri Seti:\n",
      "\n",
      "    PERFORMANS ONCESİ_SONRASI\n",
      "0         123         ONCESI\n",
      "1         119         ONCESI\n",
      "2         119         ONCESI\n",
      "3         116         ONCESI\n",
      "4         123         ONCESI \n",
      "\n"
     ]
    }
   ],
   "source": [
    "#BIRINCI VERİ SETİ\n",
    "AYRIK = pd.concat([oncesi, sonrasi],axis=1)\n",
    "AYRIK.columns = [\"ONCESI\",\"SONRASI\"]\n",
    "print(\"'AYRIK' Veri Seti:\\n\\n\",AYRIK.head(),\"\\n\\n\")\n",
    "\n",
    "#IKINCİ VERİ SETİ \n",
    "#ONCESI FLAG/TAG'INI OLUŞTURMA\n",
    "GRUP_ONCESI=np.arange(len(oncesi))\n",
    "GRUP_ONCESI=pd.DataFrame(GRUP_ONCESI)\n",
    "GRUP_ONCESI[:]=\"ONCESI\"\n",
    "#FLAG VE ONCESI DEGERLERINI BİR ARAYA GETİRME\n",
    "A = pd.concat([oncesi,GRUP_ONCESI],axis=1)\n",
    "#SONRASI FLAG/TAG'INI OLUŞTURMA \n",
    "GRUP_SONRASI=np.arange(len(sonrasi))\n",
    "GRUP_SONRASI=pd.DataFrame(GRUP_SONRASI)\n",
    "GRUP_SONRASI[:]=\"SONRASI\"\n",
    "\n",
    "#FLAG VE ONCESI DEGERLERINI BİR ARAYA GETİRME\n",
    "B = pd.concat([sonrasi,GRUP_SONRASI],axis=1)\n",
    "\n",
    "#TUM VERİLERİ BİR ARAYA GETİRME\n",
    "BIRLIKTE = pd.concat([A,B])\n",
    "BIRLIKTE\n",
    "\n",
    "#İSİMLENDİRME\n",
    "BIRLIKTE.columns= [\"PERFORMANS\", \"ONCESİ_SONRASI\"]\n",
    "print(\"'BIRLIKTE' Veri Seti:\\n\\n\",BIRLIKTE.head(),\"\\n\")\n"
   ]
  },
  {
   "cell_type": "code",
   "execution_count": 14,
   "id": "62e1bb5f-1f2f-4d5b-892c-6264a94bde6b",
   "metadata": {},
   "outputs": [
    {
     "data": {
      "text/plain": [
       "<AxesSubplot:xlabel='ONCESİ_SONRASI', ylabel='PERFORMANS'>"
      ]
     },
     "execution_count": 14,
     "metadata": {},
     "output_type": "execute_result"
    },
    {
     "data": {
      "image/png": "[encoded data removed]",
      "text/plain": [
       "<Figure size 432x288 with 1 Axes>"
      ]
     },
     "metadata": {
      "needs_background": "light"
     },
     "output_type": "display_data"
    }
   ],
   "source": [
    "import seaborn as sns\n",
    "sns.boxplot(x=\"ONCESİ_SONRASI\",y=\"PERFORMANS\",data=BIRLIKTE)"
   ]
  },
  {
   "cell_type": "markdown",
   "id": "597ce6c0-fb05-4651-891b-91848722387b",
   "metadata": {},
   "source": [
    "**Varsayım Kontrolleri**"
   ]
  },
  {
   "cell_type": "code",
   "execution_count": 16,
   "id": "36a2fb4d-d459-4829-887c-d9880ddb0d5f",
   "metadata": {},
   "outputs": [],
   "source": [
    "from scipy.stats import shapiro"
   ]
  },
  {
   "cell_type": "code",
   "execution_count": 20,
   "id": "37e9e270-6595-4d7a-bc7d-1e5b37275d15",
   "metadata": {},
   "outputs": [
    {
     "data": {
      "text/plain": [
       "ShapiroResult(statistic=0.9543656706809998, pvalue=0.10722451657056808)"
      ]
     },
     "execution_count": 20,
     "metadata": {},
     "output_type": "execute_result"
    }
   ],
   "source": [
    "shapiro(AYRIK.ONCESI)"
   ]
  },
  {
   "cell_type": "code",
   "execution_count": 24,
   "id": "f37539ea-80b3-4246-9aa6-cb849f314a4e",
   "metadata": {},
   "outputs": [],
   "source": [
    "# HOhipotezi reddedemiyoruz (0.05 den büyük)"
   ]
  },
  {
   "cell_type": "code",
   "execution_count": 25,
   "id": "59891939-902d-4d60-b896-f0302828d4e4",
   "metadata": {},
   "outputs": [
    {
     "data": {
      "text/plain": [
       "ShapiroResult(statistic=0.9780089259147644, pvalue=0.6159515380859375)"
      ]
     },
     "execution_count": 25,
     "metadata": {},
     "output_type": "execute_result"
    }
   ],
   "source": [
    "shapiro(AYRIK.SONRASI)"
   ]
  },
  {
   "cell_type": "code",
   "execution_count": 26,
   "id": "5941d520-8d4d-4901-ad69-120e678ff53e",
   "metadata": {},
   "outputs": [],
   "source": [
    "# HOhipotezi reddedemiyoruz (0.05 den büyük)"
   ]
  },
  {
   "cell_type": "code",
   "execution_count": 28,
   "id": "a258883c-7df2-401b-b9d6-0e64c0a51520",
   "metadata": {},
   "outputs": [
    {
     "data": {
      "text/plain": [
       "LeveneResult(statistic=8.31303288672351, pvalue=0.0050844511807370246)"
      ]
     },
     "execution_count": 28,
     "metadata": {},
     "output_type": "execute_result"
    }
   ],
   "source": [
    "import scipy.stats as stats\n",
    "stats.levene(AYRIK.ONCESI,AYRIK.SONRASI)"
   ]
  },
  {
   "cell_type": "code",
   "execution_count": 29,
   "id": "e6adf17e-3173-4587-9458-5420106094b1",
   "metadata": {},
   "outputs": [],
   "source": [
    "#varyansların homojenliği durumu sağlanmamaktadır.\n"
   ]
  },
  {
   "cell_type": "markdown",
   "id": "df4cb1f8-8a36-4173-b428-47866b2c2ade",
   "metadata": {},
   "source": [
    "**Hipotez Testi**"
   ]
  },
  {
   "cell_type": "code",
   "execution_count": 30,
   "id": "e21fef96-6208-45b3-ae29-59b047f84357",
   "metadata": {},
   "outputs": [
    {
     "data": {
      "text/plain": [
       "Ttest_relResult(statistic=-9.281533480429937, pvalue=2.0235251764440722e-11)"
      ]
     },
     "execution_count": 30,
     "metadata": {},
     "output_type": "execute_result"
    }
   ],
   "source": [
    "stats.ttest_rel(AYRIK.ONCESI,AYRIK.SONRASI)"
   ]
  },
  {
   "cell_type": "code",
   "execution_count": 31,
   "id": "c02b63fb-f738-4e6e-9f5c-838469919d46",
   "metadata": {},
   "outputs": [
    {
     "name": "stdout",
     "output_type": "stream",
     "text": [
      "Test İstatistiği= -9.2815, p2-değeri = 0.000000\n"
     ]
    }
   ],
   "source": [
    "test_istatistiği, pvalue = stats.ttest_rel(AYRIK[\"ONCESI\"],AYRIK[\"SONRASI\"])\n",
    "print('Test İstatistiği= %.4f, p2-değeri = %4f' % (test_istatistiği, pvalue))"
   ]
  },
  {
   "cell_type": "code",
   "execution_count": 32,
   "id": "c4b4744f-5ea9-489d-aae5-2b53f4777a95",
   "metadata": {},
   "outputs": [],
   "source": [
    "#H0 hipotezi reddedilir. Eğitim işe yaramıştır"
   ]
  },
  {
   "cell_type": "markdown",
   "id": "a0559be6-5f05-446b-a355-5fa447d5ee00",
   "metadata": {},
   "source": [
    "**Nonparametrik Bağımlı İki Örneklem Testi**"
   ]
  },
  {
   "cell_type": "code",
   "execution_count": 33,
   "id": "53e5c028-fa0e-4712-87de-a2b17782245f",
   "metadata": {},
   "outputs": [
    {
     "data": {
      "text/plain": [
       "WilcoxonResult(statistic=15.0, pvalue=2.491492033374464e-07)"
      ]
     },
     "execution_count": 33,
     "metadata": {},
     "output_type": "execute_result"
    }
   ],
   "source": [
    "stats.wilcoxon(AYRIK.ONCESI, AYRIK.SONRASI)"
   ]
  },
  {
   "cell_type": "code",
   "execution_count": 34,
   "id": "31cd87af-0e0f-4791-9a73-2addc33743aa",
   "metadata": {},
   "outputs": [
    {
     "name": "stdout",
     "output_type": "stream",
     "text": [
      "Test İstatistiği= 15.0000, p2-değeri = 0.000000\n"
     ]
    }
   ],
   "source": [
    "test_istatistiği, pvalue = stats.wilcoxon(AYRIK[\"ONCESI\"],AYRIK[\"SONRASI\"])\n",
    "print('Test İstatistiği= %.4f, p2-değeri = %4f' % (test_istatistiği, pvalue))"
   ]
  },
  {
   "cell_type": "code",
   "execution_count": null,
   "id": "ade4bb8c-2750-4850-af0a-5e01b415dd40",
   "metadata": {},
   "outputs": [],
   "source": []
  },
  {
   "cell_type": "code",
   "execution_count": null,
   "id": "490d9805-f22f-455b-8390-694c58329e5b",
   "metadata": {},
   "outputs": [],
   "source": []
  },
  {
   "cell_type": "code",
   "execution_count": null,
   "id": "bcfb69f5-cd1e-4cab-a858-845b83c1109a",
   "metadata": {},
   "outputs": [],
   "source": []
  }
 ],
 "metadata": {
  "kernelspec": {
   "display_name": "Python 3",
   "language": "python",
   "name": "python3"
  },
  "language_info": {
   "codemirror_mode": {
    "name": "ipython",
    "version": 3
   },
   "file_extension": ".py",
   "mimetype": "text/x-python",
   "name": "python",
   "nbconvert_exporter": "python",
   "pygments_lexer": "ipython3",
   "version": "3.8.8"
  }
 },
 "nbformat": 4,
 "nbformat_minor": 5
}
