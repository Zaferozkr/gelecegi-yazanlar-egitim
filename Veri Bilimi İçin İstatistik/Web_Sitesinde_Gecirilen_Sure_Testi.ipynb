{
 "cells": [
  {
   "cell_type": "markdown",
   "id": "37b2ed53-7946-453e-ad90-4433dcef8e17",
   "metadata": {},
   "source": [
    "**Problem**\n",
    "* Web sitesinde geçirilen süre gerçekten 170 sn mi?\n",
    "\n",
    "**Detaylar** \n",
    "* Yazılımlardan elde edilen web sitesinde geçirilen ort. süreler var.\n",
    "* Bu veriler incelendiğinde bir yönetici ya da çalışanımız bu değerlerin böyle olmadığına yönelik düşünceler taşıyor ve bu durumu test etmek istiyorlar.\n"
   ]
  },
  {
   "cell_type": "code",
   "execution_count": 10,
   "id": "8dbf4b22-db05-411b-b861-a586ab7e42a3",
   "metadata": {},
   "outputs": [],
   "source": [
    "import numpy as np \n",
    "import pandas as pd\n",
    "\n",
    "olcumler = np.array([17,160,234,149,145,107,197,75,201,225,211,119,157,\n",
    "                    145,127,244,163,114,145,64,112,185,185,202,146,203])"
   ]
  },
  {
   "cell_type": "code",
   "execution_count": 5,
   "id": "e014e96a-a78c-4f4a-9d21-7f04f1a4c395",
   "metadata": {},
   "outputs": [],
   "source": [
    "import scipy.stats as stats "
   ]
  },
  {
   "cell_type": "code",
   "execution_count": 7,
   "id": "69697298-964b-4a29-9ec5-8b1a0bc62ba6",
   "metadata": {},
   "outputs": [
    {
     "data": {
      "text/plain": [
       "DescribeResult(nobs=26, minmax=(17, 244), mean=155.07692307692307, variance=2981.5938461538462, skewness=-0.5224857626218646, kurtosis=0.0026818175308749304)"
      ]
     },
     "execution_count": 7,
     "metadata": {},
     "output_type": "execute_result"
    }
   ],
   "source": [
    "stats.describe(olcumler)"
   ]
  },
  {
   "cell_type": "code",
   "execution_count": 8,
   "id": "afd02a18-2a31-4f25-9e5d-906f3219947f",
   "metadata": {},
   "outputs": [],
   "source": [
    "#varsayımlar\n",
    "#normallik varsayımı"
   ]
  },
  {
   "cell_type": "code",
   "execution_count": 12,
   "id": "5ce30495-e8fc-4218-bb40-fa170cfcb682",
   "metadata": {},
   "outputs": [
    {
     "data": {
      "text/plain": [
       "<AxesSubplot:ylabel='Frequency'>"
      ]
     },
     "execution_count": 12,
     "metadata": {},
     "output_type": "execute_result"
    },
    {
     "data": {
      "image/png": "[encoded data removed]",
      "text/plain": [
       "<Figure size 432x288 with 1 Axes>"
      ]
     },
     "metadata": {
      "needs_background": "light"
     },
     "output_type": "display_data"
    }
   ],
   "source": [
    "#histogram\n",
    "pd.DataFrame(olcumler).plot.hist()"
   ]
  },
  {
   "cell_type": "code",
   "execution_count": 13,
   "id": "6b0f7262-e56b-454f-88a9-f0757ae543dd",
   "metadata": {},
   "outputs": [
    {
     "data": {
      "text/plain": [
       "<function matplotlib.pyplot.show(close=None, block=None)>"
      ]
     },
     "execution_count": 13,
     "metadata": {},
     "output_type": "execute_result"
    },
    {
     "data": {
      "image/png": "[encoded data removed]",
      "text/plain": [
       "<Figure size 432x288 with 1 Axes>"
      ]
     },
     "metadata": {
      "needs_background": "light"
     },
     "output_type": "display_data"
    }
   ],
   "source": [
    "#qqplot\n",
    "import pylab \n",
    "stats.probplot(olcumler, dist=\"norm\",plot=pylab)\n",
    "pylab.show"
   ]
  },
  {
   "cell_type": "code",
   "execution_count": 16,
   "id": "cb98e96e-8f0a-414b-beaf-d32bfde1dfe2",
   "metadata": {},
   "outputs": [],
   "source": [
    "#Shapiro-Wilks Testi\n",
    "#örneğimizin ortalamasının belirli bir değere eşit olduğunu sınamak"
   ]
  },
  {
   "cell_type": "markdown",
   "id": "eac1002b-39e6-423e-aad9-a9c32d6a32fa",
   "metadata": {},
   "source": [
    "H0: Örnek dağılımı ile teorik normal dağılım arasında istatiksel olarak anlmalı bir farklılık yoktur\n",
    "    \n",
    "H1: ... fark vardır    "
   ]
  },
  {
   "cell_type": "code",
   "execution_count": 17,
   "id": "7636c86d-5223-4c23-9cec-94399d71b6dc",
   "metadata": {},
   "outputs": [],
   "source": [
    "from scipy.stats import shapiro "
   ]
  },
  {
   "cell_type": "code",
   "execution_count": 18,
   "id": "629b56a8-60d9-4fdb-911c-2d0f775c91d6",
   "metadata": {},
   "outputs": [
    {
     "data": {
      "text/plain": [
       "ShapiroResult(statistic=0.9680595397949219, pvalue=0.5736920833587646)"
      ]
     },
     "execution_count": 18,
     "metadata": {},
     "output_type": "execute_result"
    }
   ],
   "source": [
    "shapiro(olcumler)"
   ]
  },
  {
   "cell_type": "code",
   "execution_count": 19,
   "id": "fd755523-a16f-432b-8b06-8360459b7500",
   "metadata": {},
   "outputs": [],
   "source": [
    "# hipotez testinin uygulanması"
   ]
  },
  {
   "cell_type": "code",
   "execution_count": 23,
   "id": "67b73aa4-1196-4b0d-8520-b2477ed23107",
   "metadata": {},
   "outputs": [
    {
     "data": {
      "text/plain": [
       "Ttest_1sampResult(statistic=-1.3935443983999376, pvalue=0.17572145994834948)"
      ]
     },
     "execution_count": 23,
     "metadata": {},
     "output_type": "execute_result"
    }
   ],
   "source": [
    "stats.ttest_1samp(olcumler,popmean=170)"
   ]
  },
  {
   "cell_type": "markdown",
   "id": "e505ed8f-af55-4b5d-b0e2-8b6a062b15d8",
   "metadata": {},
   "source": [
    "H0: web sitemizde geçirilen ort süre 170'tir\n",
    "\n",
    "H1: ..değildir."
   ]
  },
  {
   "cell_type": "markdown",
   "id": "1674ce5d-7c66-4a33-983d-f293631b978b",
   "metadata": {},
   "source": [
    "**Nonparametrik Tek Örneklem Testi**"
   ]
  },
  {
   "cell_type": "code",
   "execution_count": 24,
   "id": "5c33e748-6111-448f-80a6-e93839016626",
   "metadata": {},
   "outputs": [],
   "source": [
    "from statsmodels.stats.descriptivestats import sign_test"
   ]
  },
  {
   "cell_type": "code",
   "execution_count": 26,
   "id": "b739895a-2a63-44b9-81ec-b0c49c932ed7",
   "metadata": {},
   "outputs": [
    {
     "data": {
      "text/plain": [
       "(-3.0, 0.32693958282470703)"
      ]
     },
     "execution_count": 26,
     "metadata": {},
     "output_type": "execute_result"
    }
   ],
   "source": [
    "sign_test(olcumler,170)   #sol taraf test istatistiği sağ p-value"
   ]
  },
  {
   "cell_type": "code",
   "execution_count": null,
   "id": "a2e35f1d-2de1-4a2f-8e08-77627f895641",
   "metadata": {},
   "outputs": [],
   "source": []
  }
 ],
 "metadata": {
  "kernelspec": {
   "display_name": "Python 3",
   "language": "python",
   "name": "python3"
  },
  "language_info": {
   "codemirror_mode": {
    "name": "ipython",
    "version": 3
   },
   "file_extension": ".py",
   "mimetype": "text/x-python",
   "name": "python",
   "nbconvert_exporter": "python",
   "pygments_lexer": "ipython3",
   "version": "3.8.8"
  }
 },
 "nbformat": 4,
 "nbformat_minor": 5
}
