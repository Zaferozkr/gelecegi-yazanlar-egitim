{
 "cells": [
  {
   "cell_type": "markdown",
   "id": "951daef6-c452-4742-a162-c42292812d0b",
   "metadata": {},
   "source": [
    "- **Problem**\n",
    "- Hatalı ila girişi olasılıkları hesaplanmak isteniyor \n",
    "\n",
    "- **Detaylar**\n",
    "- bir yıl süresince ölçümler yapılıypr\n",
    "- dağılım biliniyor(Poisson) ve Lambda 0.1(ortalama hata sayıı)\n",
    "- **Soru**\n",
    "- Hiç hata olmaması, 3 hata olması ve 5 hata olması olasılıkları nedir?"
   ]
  },
  {
   "cell_type": "code",
   "execution_count": 1,
   "id": "71aa938b-381b-43a1-b7d3-7d597a3d8fc1",
   "metadata": {},
   "outputs": [],
   "source": [
    "from scipy.stats import poisson"
   ]
  },
  {
   "cell_type": "code",
   "execution_count": 4,
   "id": "1c7656f4-9f81-4be8-83f0-3ce773fc3ce9",
   "metadata": {},
   "outputs": [],
   "source": [
    "lambda_ =0.1"
   ]
  },
  {
   "cell_type": "code",
   "execution_count": 6,
   "id": "ea067e2f-892a-4995-9a88-34766d3fae91",
   "metadata": {},
   "outputs": [
    {
     "name": "stdout",
     "output_type": "stream",
     "text": [
      "0.9048374180359595\n"
     ]
    }
   ],
   "source": [
    "rv = poisson(mu = lambda_ )\n"
   ]
  },
  {
   "cell_type": "code",
   "execution_count": 7,
   "id": "84cd4296-242e-4a03-85c9-86136cd3d29f",
   "metadata": {},
   "outputs": [
    {
     "name": "stdout",
     "output_type": "stream",
     "text": [
      "0.9048374180359595\n",
      "0.00015080623633932676\n",
      "7.54031181696634e-08\n"
     ]
    }
   ],
   "source": [
    "print(rv.pmf(k = 0))\n",
    "print(rv.pmf(k = 3))\n",
    "print(rv.pmf(k = 5))"
   ]
  },
  {
   "cell_type": "code",
   "execution_count": null,
   "id": "2e202ca9-7bb1-4285-a2d3-8bab36331e28",
   "metadata": {},
   "outputs": [],
   "source": []
  }
 ],
 "metadata": {
  "kernelspec": {
   "display_name": "Python 3",
   "language": "python",
   "name": "python3"
  },
  "language_info": {
   "codemirror_mode": {
    "name": "ipython",
    "version": 3
   },
   "file_extension": ".py",
   "mimetype": "text/x-python",
   "name": "python",
   "nbconvert_exporter": "python",
   "pygments_lexer": "ipython3",
   "version": "3.8.8"
  }
 },
 "nbformat": 4,
 "nbformat_minor": 5
}
