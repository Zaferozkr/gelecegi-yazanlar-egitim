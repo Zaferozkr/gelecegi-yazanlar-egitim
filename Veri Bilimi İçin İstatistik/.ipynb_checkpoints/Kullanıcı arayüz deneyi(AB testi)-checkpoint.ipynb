{
 "cells": [
  {
   "cell_type": "markdown",
   "id": "79b23faa-b470-4af9-9611-161af04b2eda",
   "metadata": {},
   "source": [
    "**İki Örneklem Oran Testi**"
   ]
  },
  {
   "cell_type": "code",
   "execution_count": 2,
   "id": "107307e9-6c05-41c5-81a2-25e8bdec2e51",
   "metadata": {},
   "outputs": [],
   "source": [
    "#kırmızı buton mu yeşil buton mu "
   ]
  },
  {
   "cell_type": "markdown",
   "id": "d6d41c7b-599a-4d95-93d6-04709a46005a",
   "metadata": {},
   "source": [
    "* H0 : P1<=P2\n",
    "* H1 : P1>P2"
   ]
  },
  {
   "cell_type": "markdown",
   "id": "29bfb476-141a-4bec-8ee9-69c3ed04ef90",
   "metadata": {},
   "source": [
    "* Yeşil buton -1000 görüntüleme  -300 tıklama\n",
    "* Kırmızı buton -1100 görüntüleme -250 tıklama"
   ]
  },
  {
   "cell_type": "code",
   "execution_count": 3,
   "id": "1efafcde-efde-40d6-8df3-f90cd513c797",
   "metadata": {},
   "outputs": [],
   "source": [
    "from statsmodels.stats.proportion import proportions_ztest"
   ]
  },
  {
   "cell_type": "code",
   "execution_count": 6,
   "id": "b32c8ddc-daff-4628-a753-1e7eb20baef6",
   "metadata": {},
   "outputs": [],
   "source": [
    "import numpy as np\n",
    "basari_sayisi = np.array([300,250])\n",
    "gozlem_sayilari = np.array([1000,1100])"
   ]
  },
  {
   "cell_type": "code",
   "execution_count": 7,
   "id": "250c0db0-b5e3-4a9b-a117-819657965ac7",
   "metadata": {},
   "outputs": [
    {
     "data": {
      "text/plain": [
       "(3.7857863233209255, 0.0001532232957772221)"
      ]
     },
     "execution_count": 7,
     "metadata": {},
     "output_type": "execute_result"
    }
   ],
   "source": [
    "proportions_ztest(count = basari_sayisi, nobs = gozlem_sayilari)"
   ]
  },
  {
   "cell_type": "code",
   "execution_count": 8,
   "id": "f62c9097-ad29-4a44-962e-5f3a1f074e9a",
   "metadata": {},
   "outputs": [],
   "source": [
    "#p value 0.05 den küçüktür(H0 hipozeti reddedilir)"
   ]
  },
  {
   "cell_type": "code",
   "execution_count": 9,
   "id": "64879d14-bfa2-4d88-aa9f-a80c958c35ee",
   "metadata": {},
   "outputs": [],
   "source": [
    "#yeşil buton seçilir"
   ]
  },
  {
   "cell_type": "code",
   "execution_count": null,
   "id": "bb85f4f0-b5b9-408c-b6a5-2ea37601505f",
   "metadata": {},
   "outputs": [],
   "source": []
  }
 ],
 "metadata": {
  "kernelspec": {
   "display_name": "Python 3",
   "language": "python",
   "name": "python3"
  },
  "language_info": {
   "codemirror_mode": {
    "name": "ipython",
    "version": 3
   },
   "file_extension": ".py",
   "mimetype": "text/x-python",
   "name": "python",
   "nbconvert_exporter": "python",
   "pygments_lexer": "ipython3",
   "version": "3.8.8"
  }
 },
 "nbformat": 4,
 "nbformat_minor": 5
}
