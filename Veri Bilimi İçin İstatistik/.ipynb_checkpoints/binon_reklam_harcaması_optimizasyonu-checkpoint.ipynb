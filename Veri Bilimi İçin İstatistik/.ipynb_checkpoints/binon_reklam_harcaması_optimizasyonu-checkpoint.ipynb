{
 "cells": [
  {
   "cell_type": "markdown",
   "id": "83965140-292d-4559-bca7-15b4c0295fd5",
   "metadata": {},
   "source": [
    "- **Problem**\n",
    "- Çeşitli mecralarda reklam veriliyor, reklamların tıklanma ve geri dönüşüm oranları optimize edilmeye çalışıyor. Buna yönelik olarak belirli bir mecrada çeşitli senaryolara göre reklam tıklama olasılıkları hesaplanmak isteniyor. \n",
    "- **Detaylar**\n",
    "- bir mecrada reklam verilecek \n",
    "- Dağılım ve reklama tıklama olasılığı biliniyor(0,01)\n",
    "- **Soru**\n",
    "- Reklamı 100 kişi gördüğünde 1,5,10 tıklama olasılığı nedir?"
   ]
  },
  {
   "cell_type": "code",
   "execution_count": 1,
   "id": "cacedde3-82f8-4594-b3ab-47878319fea4",
   "metadata": {},
   "outputs": [],
   "source": [
    "from scipy.stats import binom"
   ]
  },
  {
   "cell_type": "code",
   "execution_count": 2,
   "id": "c434473d-c82a-43a4-933b-31957b9e82ba",
   "metadata": {},
   "outputs": [
    {
     "name": "stdout",
     "output_type": "stream",
     "text": [
      "0.36972963764971983\n",
      "0.0028977871237616114\n",
      "7.006035693977161e-08\n"
     ]
    }
   ],
   "source": [
    "p = 0.01 \n",
    "n = 100\n",
    "rv = binom(n,p)\n",
    "print(rv.pmf(1))\n",
    "print(rv.pmf(5))\n",
    "print(rv.pmf(10))"
   ]
  },
  {
   "cell_type": "code",
   "execution_count": null,
   "id": "45ddace2-f95d-4856-ac23-3ed625e7f563",
   "metadata": {},
   "outputs": [],
   "source": []
  }
 ],
 "metadata": {
  "kernelspec": {
   "display_name": "Python 3",
   "language": "python",
   "name": "python3"
  },
  "language_info": {
   "codemirror_mode": {
    "name": "ipython",
    "version": 3
   },
   "file_extension": ".py",
   "mimetype": "text/x-python",
   "name": "python",
   "nbconvert_exporter": "python",
   "pygments_lexer": "ipython3",
   "version": "3.8.8"
  }
 },
 "nbformat": 4,
 "nbformat_minor": 5
}
