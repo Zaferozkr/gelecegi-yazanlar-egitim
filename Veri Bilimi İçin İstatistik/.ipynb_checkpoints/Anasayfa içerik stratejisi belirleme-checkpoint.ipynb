{
 "cells": [
  {
   "cell_type": "markdown",
   "id": "865fbd02-7be5-4df4-8325-09067afbe0b6",
   "metadata": {},
   "source": [
    "**Varyans analizi**"
   ]
  },
  {
   "cell_type": "markdown",
   "id": "cd1613e3-b2c3-4364-933d-8047b3eb29cf",
   "metadata": {},
   "source": [
    "**Problem:**\n",
    "* Anasayfada geçirilen süre artırılmak isteniyor\n",
    "\n",
    "**Detaylar** \n",
    "* Bir web sistesi için başarı kriterleri:ortalama ziyarat süresi, hemen çıkış oranı vb \n",
    "* Uzun zaman geçiren kullanıcıların reklamlara daha fazla tıkladığı ve markaya olan bağlılıkları arttığı biliniyor. \n",
    "* Buna yönelik olarak benzer haberler farklı resimler ya da farklı formatlarda hazırlanarak oluşturulan test gruplara gösteriliyor\n",
    "* A: Doğal şekilde, B:Yönlendirici, C:İlgi çekici"
   ]
  },
  {
   "cell_type": "code",
   "execution_count": 1,
   "id": "96358bf1-1d44-4723-be0e-70bd448de474",
   "metadata": {},
   "outputs": [],
   "source": [
    "import pandas as pd"
   ]
  },
  {
   "cell_type": "code",
   "execution_count": 11,
   "id": "114ee0ac-f287-4c40-aba7-28e946d1cc76",
   "metadata": {},
   "outputs": [
    {
     "data": {
      "text/html": [
       "<div>\n",
       "<style scoped>\n",
       "    .dataframe tbody tr th:only-of-type {\n",
       "        vertical-align: middle;\n",
       "    }\n",
       "\n",
       "    .dataframe tbody tr th {\n",
       "        vertical-align: top;\n",
       "    }\n",
       "\n",
       "    .dataframe thead th {\n",
       "        text-align: right;\n",
       "    }\n",
       "</style>\n",
       "<table border=\"1\" class=\"dataframe\">\n",
       "  <thead>\n",
       "    <tr style=\"text-align: right;\">\n",
       "      <th></th>\n",
       "      <th>GRUP_A</th>\n",
       "      <th>GRUP_B</th>\n",
       "      <th>GRUP_C</th>\n",
       "    </tr>\n",
       "  </thead>\n",
       "  <tbody>\n",
       "    <tr>\n",
       "      <th>0</th>\n",
       "      <td>28</td>\n",
       "      <td>31</td>\n",
       "      <td>40</td>\n",
       "    </tr>\n",
       "    <tr>\n",
       "      <th>1</th>\n",
       "      <td>33</td>\n",
       "      <td>32</td>\n",
       "      <td>33</td>\n",
       "    </tr>\n",
       "    <tr>\n",
       "      <th>2</th>\n",
       "      <td>30</td>\n",
       "      <td>30</td>\n",
       "      <td>38</td>\n",
       "    </tr>\n",
       "    <tr>\n",
       "      <th>3</th>\n",
       "      <td>29</td>\n",
       "      <td>33</td>\n",
       "      <td>41</td>\n",
       "    </tr>\n",
       "    <tr>\n",
       "      <th>4</th>\n",
       "      <td>29</td>\n",
       "      <td>32</td>\n",
       "      <td>42</td>\n",
       "    </tr>\n",
       "  </tbody>\n",
       "</table>\n",
       "</div>"
      ],
      "text/plain": [
       "   GRUP_A  GRUP_B  GRUP_C\n",
       "0      28      31      40\n",
       "1      33      32      33\n",
       "2      30      30      38\n",
       "3      29      33      41\n",
       "4      29      32      42"
      ]
     },
     "execution_count": 11,
     "metadata": {},
     "output_type": "execute_result"
    }
   ],
   "source": [
    "A= pd.DataFrame([28,33,30,29,29,27,31,32,30,25,27])\n",
    "B= pd.DataFrame([31,32,30,33,32,27,36,30,31,30,38])\n",
    "C= pd.DataFrame([40,33,38,41,42,23,21,28,31,39,36])\n",
    "\n",
    "dfs= [A,B,C]\n",
    "\n",
    "ABC=pd.concat(dfs,axis=1)\n",
    "ABC.columns=[\"GRUP_A\",\"GRUP_B\",\"GRUP_C\"]\n",
    "ABC.head()"
   ]
  },
  {
   "cell_type": "markdown",
   "id": "46252b0b-fab9-4a5e-9d38-1504275d1834",
   "metadata": {},
   "source": [
    "**Varsayım Kontrolü**"
   ]
  },
  {
   "cell_type": "code",
   "execution_count": 3,
   "id": "aa92b7ed-9fa5-4c40-806c-c890ffe286a0",
   "metadata": {},
   "outputs": [],
   "source": [
    "#gruplar bağımsız"
   ]
  },
  {
   "cell_type": "code",
   "execution_count": 4,
   "id": "d24458b1-9bbb-4ecf-9140-18ed56d28dcd",
   "metadata": {},
   "outputs": [],
   "source": [
    "#normallik varsayımı (shapiro testi)"
   ]
  },
  {
   "cell_type": "code",
   "execution_count": 15,
   "id": "b6a18871-7417-4782-9dec-594b6c32f48a",
   "metadata": {},
   "outputs": [],
   "source": [
    "from scipy.stats import shapiro\n",
    "import scipy.stats as stats"
   ]
  },
  {
   "cell_type": "code",
   "execution_count": 6,
   "id": "55cc6834-5a18-4edf-805e-9eb55b52c396",
   "metadata": {},
   "outputs": [
    {
     "data": {
      "text/plain": [
       "ShapiroResult(statistic=0.9837393164634705, pvalue=0.9833640456199646)"
      ]
     },
     "execution_count": 6,
     "metadata": {},
     "output_type": "execute_result"
    }
   ],
   "source": [
    "shapiro(ABC[\"GRUP_A\"])"
   ]
  },
  {
   "cell_type": "code",
   "execution_count": 7,
   "id": "e1cf7278-3fd2-4495-a467-bd4c0cd588c8",
   "metadata": {},
   "outputs": [
    {
     "data": {
      "text/plain": [
       "ShapiroResult(statistic=0.9203706979751587, pvalue=0.3217405378818512)"
      ]
     },
     "execution_count": 7,
     "metadata": {},
     "output_type": "execute_result"
    }
   ],
   "source": [
    "shapiro(ABC[\"GRUP_B\"])"
   ]
  },
  {
   "cell_type": "code",
   "execution_count": 12,
   "id": "f5abef4b-0ae2-4bc3-8207-97140e79a167",
   "metadata": {},
   "outputs": [
    {
     "data": {
      "text/plain": [
       "ShapiroResult(statistic=0.9084248542785645, pvalue=0.2336110770702362)"
      ]
     },
     "execution_count": 12,
     "metadata": {},
     "output_type": "execute_result"
    }
   ],
   "source": [
    "shapiro(ABC[\"GRUP_C\"])"
   ]
  },
  {
   "cell_type": "code",
   "execution_count": 17,
   "id": "b1151a8e-d5e4-4170-9591-8d37c2920c88",
   "metadata": {},
   "outputs": [],
   "source": [
    "#homojenlik varsayımı  "
   ]
  },
  {
   "cell_type": "code",
   "execution_count": 16,
   "id": "757beb27-7f99-4be4-b616-72624611b4e1",
   "metadata": {},
   "outputs": [
    {
     "data": {
      "text/plain": [
       "LeveneResult(statistic=5.882543802725503, pvalue=0.006992264853363218)"
      ]
     },
     "execution_count": 16,
     "metadata": {},
     "output_type": "execute_result"
    }
   ],
   "source": [
    "stats.levene(ABC[\"GRUP_A\"],ABC[\"GRUP_B\"],ABC[\"GRUP_C\"])"
   ]
  },
  {
   "cell_type": "markdown",
   "id": "78a6b219-949c-41a7-8ff7-69d92582c995",
   "metadata": {},
   "source": [
    "**Hipotez Testi**"
   ]
  },
  {
   "cell_type": "code",
   "execution_count": 18,
   "id": "0faf6297-dbdc-401d-84ff-29696a0355ac",
   "metadata": {},
   "outputs": [],
   "source": [
    "from scipy.stats import f_oneway\n"
   ]
  },
  {
   "cell_type": "code",
   "execution_count": 19,
   "id": "fdc2354a-adae-41b7-8e86-093da6e50f87",
   "metadata": {},
   "outputs": [
    {
     "data": {
      "text/plain": [
       "F_onewayResult(statistic=2.63631479989256, pvalue=0.08815587353571062)"
      ]
     },
     "execution_count": 19,
     "metadata": {},
     "output_type": "execute_result"
    }
   ],
   "source": [
    "f_oneway(ABC[\"GRUP_A\"],ABC[\"GRUP_B\"],ABC[\"GRUP_C\"])"
   ]
  },
  {
   "cell_type": "code",
   "execution_count": 20,
   "id": "c177ab27-e416-45e1-a01b-d62521f88abf",
   "metadata": {},
   "outputs": [
    {
     "name": "stdout",
     "output_type": "stream",
     "text": [
      "0.08816\n"
     ]
    }
   ],
   "source": [
    "print('{:.5f}'.format(f_oneway(ABC[\"GRUP_A\"],ABC[\"GRUP_B\"],ABC[\"GRUP_C\"])[1]))"
   ]
  },
  {
   "cell_type": "code",
   "execution_count": 21,
   "id": "f88228a6-c9b2-49bc-9601-e4679b61f741",
   "metadata": {},
   "outputs": [
    {
     "data": {
      "text/html": [
       "<div>\n",
       "<style scoped>\n",
       "    .dataframe tbody tr th:only-of-type {\n",
       "        vertical-align: middle;\n",
       "    }\n",
       "\n",
       "    .dataframe tbody tr th {\n",
       "        vertical-align: top;\n",
       "    }\n",
       "\n",
       "    .dataframe thead th {\n",
       "        text-align: right;\n",
       "    }\n",
       "</style>\n",
       "<table border=\"1\" class=\"dataframe\">\n",
       "  <thead>\n",
       "    <tr style=\"text-align: right;\">\n",
       "      <th></th>\n",
       "      <th>count</th>\n",
       "      <th>mean</th>\n",
       "      <th>std</th>\n",
       "      <th>min</th>\n",
       "      <th>25%</th>\n",
       "      <th>50%</th>\n",
       "      <th>75%</th>\n",
       "      <th>max</th>\n",
       "    </tr>\n",
       "  </thead>\n",
       "  <tbody>\n",
       "    <tr>\n",
       "      <th>GRUP_A</th>\n",
       "      <td>11.0</td>\n",
       "      <td>29.181818</td>\n",
       "      <td>2.358736</td>\n",
       "      <td>25.0</td>\n",
       "      <td>27.5</td>\n",
       "      <td>29.0</td>\n",
       "      <td>30.5</td>\n",
       "      <td>33.0</td>\n",
       "    </tr>\n",
       "    <tr>\n",
       "      <th>GRUP_B</th>\n",
       "      <td>11.0</td>\n",
       "      <td>31.818182</td>\n",
       "      <td>3.027150</td>\n",
       "      <td>27.0</td>\n",
       "      <td>30.0</td>\n",
       "      <td>31.0</td>\n",
       "      <td>32.5</td>\n",
       "      <td>38.0</td>\n",
       "    </tr>\n",
       "    <tr>\n",
       "      <th>GRUP_C</th>\n",
       "      <td>11.0</td>\n",
       "      <td>33.818182</td>\n",
       "      <td>7.277612</td>\n",
       "      <td>21.0</td>\n",
       "      <td>29.5</td>\n",
       "      <td>36.0</td>\n",
       "      <td>39.5</td>\n",
       "      <td>42.0</td>\n",
       "    </tr>\n",
       "  </tbody>\n",
       "</table>\n",
       "</div>"
      ],
      "text/plain": [
       "        count       mean       std   min   25%   50%   75%   max\n",
       "GRUP_A   11.0  29.181818  2.358736  25.0  27.5  29.0  30.5  33.0\n",
       "GRUP_B   11.0  31.818182  3.027150  27.0  30.0  31.0  32.5  38.0\n",
       "GRUP_C   11.0  33.818182  7.277612  21.0  29.5  36.0  39.5  42.0"
      ]
     },
     "execution_count": 21,
     "metadata": {},
     "output_type": "execute_result"
    }
   ],
   "source": [
    "ABC.describe().T"
   ]
  },
  {
   "cell_type": "markdown",
   "id": "d127423f-3329-4583-8928-d76d5c0d2204",
   "metadata": {},
   "source": [
    "**Nonparametrik hipotez testi**"
   ]
  },
  {
   "cell_type": "code",
   "execution_count": 22,
   "id": "1be76d0e-2039-499c-a690-8d8fc632e21a",
   "metadata": {},
   "outputs": [],
   "source": [
    "#varsayım ve hipotez testi sağlanmadığında kullanılacak yöntem"
   ]
  },
  {
   "cell_type": "code",
   "execution_count": 23,
   "id": "86521479-b6b4-4b3e-8f76-fd57d527ed1f",
   "metadata": {},
   "outputs": [],
   "source": [
    "from scipy.stats import kruskal"
   ]
  },
  {
   "cell_type": "code",
   "execution_count": 25,
   "id": "2183e51a-538f-4d40-bdd3-02921b3a9027",
   "metadata": {},
   "outputs": [
    {
     "data": {
      "text/plain": [
       "KruskalResult(statistic=5.6496524694571075, pvalue=0.05931896350973743)"
      ]
     },
     "execution_count": 25,
     "metadata": {},
     "output_type": "execute_result"
    }
   ],
   "source": [
    "kruskal(ABC[\"GRUP_A\"],ABC[\"GRUP_B\"],ABC[\"GRUP_C\"])"
   ]
  },
  {
   "cell_type": "code",
   "execution_count": null,
   "id": "e03d7708-6a62-47b5-9e9b-af8f06b82525",
   "metadata": {},
   "outputs": [],
   "source": []
  }
 ],
 "metadata": {
  "kernelspec": {
   "display_name": "Python 3",
   "language": "python",
   "name": "python3"
  },
  "language_info": {
   "codemirror_mode": {
    "name": "ipython",
    "version": 3
   },
   "file_extension": ".py",
   "mimetype": "text/x-python",
   "name": "python",
   "nbconvert_exporter": "python",
   "pygments_lexer": "ipython3",
   "version": "3.8.8"
  }
 },
 "nbformat": 4,
 "nbformat_minor": 5
}
