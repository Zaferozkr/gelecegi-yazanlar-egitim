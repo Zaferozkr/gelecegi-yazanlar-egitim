{
 "cells": [
  {
   "cell_type": "markdown",
   "id": "19d371ab-3ab8-44a5-80e5-af543d979166",
   "metadata": {},
   "source": [
    "**Problem** \n",
    "* bir ml projesine yatırım yapılmış. Ürettiği tahminler neticisinde oluşan gelir ile eski sistemin ürettiği gelirler karşılaştırıp anlamlı farkındalık olup olmadığı test edilmek isteniyor. \n",
    "\n",
    "**Detaylar**\n",
    "* Model geliştirilmiş ve web sitesine entegre edilmiş. \n",
    "* Site kullanıcıları belirli kurala göre ikiye bölünmüş olsun.\n",
    "* A grubu eski B grubu yeni sistem.\n",
    "* Gelir anlamında anlamlı bir iş yapılıp yapılmadığı test edilmek isteniyor. "
   ]
  },
  {
   "cell_type": "markdown",
   "id": "add41a4d-e461-4d50-b7c1-1c2dbe7715f4",
   "metadata": {},
   "source": [
    "**Bağımsız Örneklem T Testi**  \n",
    "H0: M1=M2  \n",
    "H1: M1!=M2"
   ]
  },
  {
   "cell_type": "code",
   "execution_count": 2,
   "id": "da399498-8663-47f7-b233-aee9dddadfb5",
   "metadata": {},
   "outputs": [],
   "source": [
    "#Veri Tipi I"
   ]
  },
  {
   "cell_type": "code",
   "execution_count": 3,
   "id": "c1ea5cef-e124-455b-b917-f2688856ff34",
   "metadata": {},
   "outputs": [],
   "source": [
    "import pandas as pd\n",
    "import numpy as np"
   ]
  },
  {
   "cell_type": "code",
   "execution_count": 32,
   "id": "ce0fdb48-a121-4947-9c6a-c100eff9ac58",
   "metadata": {},
   "outputs": [
    {
     "data": {
      "text/html": [
       "<div>\n",
       "<style scoped>\n",
       "    .dataframe tbody tr th:only-of-type {\n",
       "        vertical-align: middle;\n",
       "    }\n",
       "\n",
       "    .dataframe tbody tr th {\n",
       "        vertical-align: top;\n",
       "    }\n",
       "\n",
       "    .dataframe thead th {\n",
       "        text-align: right;\n",
       "    }\n",
       "</style>\n",
       "<table border=\"1\" class=\"dataframe\">\n",
       "  <thead>\n",
       "    <tr style=\"text-align: right;\">\n",
       "      <th></th>\n",
       "      <th>A</th>\n",
       "      <th>B</th>\n",
       "    </tr>\n",
       "  </thead>\n",
       "  <tbody>\n",
       "    <tr>\n",
       "      <th>0</th>\n",
       "      <td>30.0</td>\n",
       "      <td>37</td>\n",
       "    </tr>\n",
       "    <tr>\n",
       "      <th>1</th>\n",
       "      <td>27.0</td>\n",
       "      <td>39</td>\n",
       "    </tr>\n",
       "    <tr>\n",
       "      <th>2</th>\n",
       "      <td>21.0</td>\n",
       "      <td>31</td>\n",
       "    </tr>\n",
       "    <tr>\n",
       "      <th>3</th>\n",
       "      <td>27.0</td>\n",
       "      <td>31</td>\n",
       "    </tr>\n",
       "    <tr>\n",
       "      <th>4</th>\n",
       "      <td>29.0</td>\n",
       "      <td>34</td>\n",
       "    </tr>\n",
       "  </tbody>\n",
       "</table>\n",
       "</div>"
      ],
      "text/plain": [
       "      A   B\n",
       "0  30.0  37\n",
       "1  27.0  39\n",
       "2  21.0  31\n",
       "3  27.0  31\n",
       "4  29.0  34"
      ]
     },
     "execution_count": 32,
     "metadata": {},
     "output_type": "execute_result"
    }
   ],
   "source": [
    "A = pd.DataFrame([30,27,21,27,29,30,20,20,27,32,35,22,24,23,25,27,\n",
    "                  23,27,23,25,21,18,24,26,33,26,27,28,19,25])\n",
    "\n",
    "B = pd.DataFrame([37,39,31,31,34,38,30,36,29,28,38,28,38,28,37,\n",
    "                  37,30,32,31,31,27,32,33,33,33,31,32,33,26,32,33,29])\n",
    "\n",
    "A_B = pd.concat([A, B], axis = 1)\n",
    "A_B.columns = [\"A\", \"B\"]\n",
    "\n",
    "A_B.head()"
   ]
  },
  {
   "cell_type": "markdown",
   "id": "3a50abef-0d7b-40ac-b8aa-c81a86307351",
   "metadata": {},
   "source": []
  },
  {
   "cell_type": "code",
   "execution_count": 5,
   "id": "929af6e4-f31a-4052-a6f6-c0ecfe705ac8",
   "metadata": {},
   "outputs": [],
   "source": [
    "#Veri Tipi II"
   ]
  },
  {
   "cell_type": "code",
   "execution_count": null,
   "id": "130e9265-1532-4599-bbe1-c236a573ce1d",
   "metadata": {},
   "outputs": [],
   "source": []
  },
  {
   "cell_type": "code",
   "execution_count": 23,
   "id": "781e9711-e8be-41ce-bd56-72b94b8df4b7",
   "metadata": {},
   "outputs": [
    {
     "name": "stdout",
     "output_type": "stream",
     "text": [
      "   gelir GRUP\n",
      "0     30    A\n",
      "1     27    A\n",
      "2     21    A\n",
      "3     27    A\n",
      "4     29    A\n",
      "    gelir GRUP\n",
      "27     33    B\n",
      "28     26    B\n",
      "29     32    B\n",
      "30     33    B\n",
      "31     29    B\n"
     ]
    }
   ],
   "source": [
    "A = pd.DataFrame([30,27,21,27,29,30,20,20,27,32,35,22,24,23,25,27,\n",
    "                  23,27,23,25,21,18,24,26,33,26,27,28,19,25])\n",
    "B = pd.DataFrame([37,39,31,31,34,38,30,36,29,28,38,28,38,28,37,\n",
    "                  37,30,32,31,31,27,32,33,33,33,31,32,33,26,32,33,29])\n",
    "#A ve A'nın grubu \n",
    "GRUP_A = np.arange(len(A)) # A içerisindeki sayı kadar grup_a oluşturur \n",
    "GRUP_A = pd.DataFrame(GRUP_A) #grup_a dataframe dönüşür.\n",
    "GRUP_A[:] = \"A\" #grubun içerisindeki tüm değerler a olur.\n",
    "A = pd.concat([A,GRUP_A], axis=1)  #a ve grup yan yana gelir.\n",
    "\n",
    "#B VE B'nin grubu\n",
    "GRUP_B=np.arange(len(B))\n",
    "GRUP_B = pd.DataFrame(GRUP_B)\n",
    "GRUP_B[:] = \"B\"\n",
    "B = pd.concat([B,GRUP_B],axis=1)\n",
    "\n",
    "#tüm veri \n",
    "AB= pd.concat([A,B])\n",
    "AB.columns = [\"gelir\", \"GRUP\"]\n",
    "print(AB.head())\n",
    "print(AB.tail())"
   ]
  },
  {
   "cell_type": "code",
   "execution_count": 10,
   "id": "9f9b733e-8867-4043-9e98-8b43bb42a04c",
   "metadata": {},
   "outputs": [],
   "source": [
    "import seaborn as sns"
   ]
  },
  {
   "cell_type": "code",
   "execution_count": 11,
   "id": "4cf77658-d3b8-409c-b8a3-a52f4320a94a",
   "metadata": {},
   "outputs": [
    {
     "data": {
      "image/png": "[encoded data removed]",
      "text/plain": [
       "<Figure size 432x288 with 1 Axes>"
      ]
     },
     "metadata": {
      "needs_background": "light"
     },
     "output_type": "display_data"
    }
   ],
   "source": [
    "sns.boxplot(x=\"GRUP\", y=\"gelir\",data=AB);"
   ]
  },
  {
   "cell_type": "markdown",
   "id": "7f633321-4bb0-46ad-bf5f-95229554a488",
   "metadata": {},
   "source": [
    "**Varsayım Kontrolü**"
   ]
  },
  {
   "cell_type": "code",
   "execution_count": 12,
   "id": "dd0ea333-944b-456f-9c21-671bb50cb979",
   "metadata": {},
   "outputs": [
    {
     "data": {
      "text/html": [
       "<div>\n",
       "<style scoped>\n",
       "    .dataframe tbody tr th:only-of-type {\n",
       "        vertical-align: middle;\n",
       "    }\n",
       "\n",
       "    .dataframe tbody tr th {\n",
       "        vertical-align: top;\n",
       "    }\n",
       "\n",
       "    .dataframe thead th {\n",
       "        text-align: right;\n",
       "    }\n",
       "</style>\n",
       "<table border=\"1\" class=\"dataframe\">\n",
       "  <thead>\n",
       "    <tr style=\"text-align: right;\">\n",
       "      <th></th>\n",
       "      <th>A</th>\n",
       "      <th>B</th>\n",
       "    </tr>\n",
       "  </thead>\n",
       "  <tbody>\n",
       "    <tr>\n",
       "      <th>0</th>\n",
       "      <td>30.0</td>\n",
       "      <td>37</td>\n",
       "    </tr>\n",
       "    <tr>\n",
       "      <th>1</th>\n",
       "      <td>27.0</td>\n",
       "      <td>39</td>\n",
       "    </tr>\n",
       "    <tr>\n",
       "      <th>2</th>\n",
       "      <td>21.0</td>\n",
       "      <td>31</td>\n",
       "    </tr>\n",
       "    <tr>\n",
       "      <th>3</th>\n",
       "      <td>27.0</td>\n",
       "      <td>31</td>\n",
       "    </tr>\n",
       "    <tr>\n",
       "      <th>4</th>\n",
       "      <td>29.0</td>\n",
       "      <td>34</td>\n",
       "    </tr>\n",
       "  </tbody>\n",
       "</table>\n",
       "</div>"
      ],
      "text/plain": [
       "      A   B\n",
       "0  30.0  37\n",
       "1  27.0  39\n",
       "2  21.0  31\n",
       "3  27.0  31\n",
       "4  29.0  34"
      ]
     },
     "execution_count": 12,
     "metadata": {},
     "output_type": "execute_result"
    }
   ],
   "source": [
    "A_B.head()"
   ]
  },
  {
   "cell_type": "code",
   "execution_count": 13,
   "id": "f1c0f277-cfff-465e-a368-e776f8a3275d",
   "metadata": {},
   "outputs": [
    {
     "data": {
      "text/html": [
       "<div>\n",
       "<style scoped>\n",
       "    .dataframe tbody tr th:only-of-type {\n",
       "        vertical-align: middle;\n",
       "    }\n",
       "\n",
       "    .dataframe tbody tr th {\n",
       "        vertical-align: top;\n",
       "    }\n",
       "\n",
       "    .dataframe thead th {\n",
       "        text-align: right;\n",
       "    }\n",
       "</style>\n",
       "<table border=\"1\" class=\"dataframe\">\n",
       "  <thead>\n",
       "    <tr style=\"text-align: right;\">\n",
       "      <th></th>\n",
       "      <th>gelir</th>\n",
       "      <th>GRUP</th>\n",
       "    </tr>\n",
       "  </thead>\n",
       "  <tbody>\n",
       "    <tr>\n",
       "      <th>0</th>\n",
       "      <td>30</td>\n",
       "      <td>A</td>\n",
       "    </tr>\n",
       "    <tr>\n",
       "      <th>1</th>\n",
       "      <td>27</td>\n",
       "      <td>A</td>\n",
       "    </tr>\n",
       "    <tr>\n",
       "      <th>2</th>\n",
       "      <td>21</td>\n",
       "      <td>A</td>\n",
       "    </tr>\n",
       "    <tr>\n",
       "      <th>3</th>\n",
       "      <td>27</td>\n",
       "      <td>A</td>\n",
       "    </tr>\n",
       "    <tr>\n",
       "      <th>4</th>\n",
       "      <td>29</td>\n",
       "      <td>A</td>\n",
       "    </tr>\n",
       "  </tbody>\n",
       "</table>\n",
       "</div>"
      ],
      "text/plain": [
       "   gelir GRUP\n",
       "0     30    A\n",
       "1     27    A\n",
       "2     21    A\n",
       "3     27    A\n",
       "4     29    A"
      ]
     },
     "execution_count": 13,
     "metadata": {},
     "output_type": "execute_result"
    }
   ],
   "source": [
    "AB.head()"
   ]
  },
  {
   "cell_type": "code",
   "execution_count": 25,
   "id": "0153f460-a7c1-47bb-a9ca-b67626c17010",
   "metadata": {},
   "outputs": [],
   "source": [
    "#normallik varsayımı"
   ]
  },
  {
   "cell_type": "code",
   "execution_count": 26,
   "id": "89f72993-7584-4106-a5eb-5af9ab5c6696",
   "metadata": {},
   "outputs": [],
   "source": [
    "from scipy.stats import shapiro\n",
    "from scipy import stats"
   ]
  },
  {
   "cell_type": "code",
   "execution_count": 27,
   "id": "4de19a20-c7f8-45e6-83b7-f7cafc38e23b",
   "metadata": {},
   "outputs": [
    {
     "data": {
      "text/plain": [
       "ShapiroResult(statistic=nan, pvalue=1.0)"
      ]
     },
     "execution_count": 27,
     "metadata": {},
     "output_type": "execute_result"
    }
   ],
   "source": [
    "shapiro(A_B.A)"
   ]
  },
  {
   "cell_type": "code",
   "execution_count": 28,
   "id": "2d18603e-39a1-4d6a-8444-06ff019657ba",
   "metadata": {},
   "outputs": [
    {
     "data": {
      "text/plain": [
       "ShapiroResult(statistic=0.9488063454627991, pvalue=0.13329429924488068)"
      ]
     },
     "execution_count": 28,
     "metadata": {},
     "output_type": "execute_result"
    }
   ],
   "source": [
    "shapiro(A_B.B)"
   ]
  },
  {
   "cell_type": "code",
   "execution_count": 29,
   "id": "c780ad2e-d4a6-4da2-8cd2-a326716465c3",
   "metadata": {},
   "outputs": [],
   "source": [
    "#varyans homojenliği varsayımı"
   ]
  },
  {
   "cell_type": "markdown",
   "id": "1533940c-ff74-4822-bda5-770a6bdbec9a",
   "metadata": {},
   "source": [
    "H0: varyanslar homojendir.  \n",
    "H1: varyanslar homojen değildir."
   ]
  },
  {
   "cell_type": "code",
   "execution_count": 30,
   "id": "0ad6e059-3583-48dd-bff2-e561a698fff4",
   "metadata": {},
   "outputs": [
    {
     "data": {
      "text/plain": [
       "LeveneResult(statistic=nan, pvalue=nan)"
      ]
     },
     "execution_count": 30,
     "metadata": {},
     "output_type": "execute_result"
    }
   ],
   "source": [
    "stats.levene(A_B.A, A_B.B)"
   ]
  },
  {
   "cell_type": "markdown",
   "id": "b8ccad22-cb75-4664-829e-a4b745f9a3d8",
   "metadata": {},
   "source": [
    "**Hipotez Testi**"
   ]
  },
  {
   "cell_type": "code",
   "execution_count": 33,
   "id": "fb121bfa-1d0b-4f89-b8d0-64243d5280d6",
   "metadata": {},
   "outputs": [
    {
     "data": {
      "text/plain": [
       "Ttest_indResult(statistic=nan, pvalue=nan)"
      ]
     },
     "execution_count": 33,
     "metadata": {},
     "output_type": "execute_result"
    }
   ],
   "source": [
    "stats.ttest_ind(A_B[\"A\"],A_B[\"B\"],equal_var=True)"
   ]
  },
  {
   "cell_type": "markdown",
   "id": "a29c94e6-414a-4c3e-919d-365fcd8316b7",
   "metadata": {},
   "source": [
    "**Nonparametrik Bağımsız İki Örneklem Testi**"
   ]
  },
  {
   "cell_type": "code",
   "execution_count": 35,
   "id": "29a0bfc9-1d5b-4582-9e9b-bb3494f05d35",
   "metadata": {},
   "outputs": [
    {
     "data": {
      "text/plain": [
       "MannwhitneyuResult(statistic=160.0, pvalue=1.1265286369034945e-06)"
      ]
     },
     "execution_count": 35,
     "metadata": {},
     "output_type": "execute_result"
    }
   ],
   "source": [
    "stats.mannwhitneyu(A_B[\"A\"],A_B[\"B\"])"
   ]
  },
  {
   "cell_type": "code",
   "execution_count": null,
   "id": "6d292410-8f1d-4d6a-ae71-70428756753d",
   "metadata": {},
   "outputs": [],
   "source": []
  }
 ],
 "metadata": {
  "kernelspec": {
   "display_name": "Python 3",
   "language": "python",
   "name": "python3"
  },
  "language_info": {
   "codemirror_mode": {
    "name": "ipython",
    "version": 3
   },
   "file_extension": ".py",
   "mimetype": "text/x-python",
   "name": "python",
   "nbconvert_exporter": "python",
   "pygments_lexer": "ipython3",
   "version": "3.8.8"
  }
 },
 "nbformat": 4,
 "nbformat_minor": 5
}
