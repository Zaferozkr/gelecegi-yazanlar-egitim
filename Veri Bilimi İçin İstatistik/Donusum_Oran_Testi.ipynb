{
 "cells": [
  {
   "cell_type": "markdown",
   "id": "13b41416-0ca6-4b9f-ae60-cf47de56ce6f",
   "metadata": {},
   "source": [
    "**Problem**\n",
    "* Bir yazılım ile bir mecrada reklam verilmiş ve bu reklama ilişkin yazılım tarafından 0.125 dönüşüm oranı elde edildiği ifade edilmiş. Fakat bu durum kontrol edilmek isteniyor. Çünkü bu yüksek bir oran ve gelirler incelendiğinde örtüşmüyor. \n",
    "\n",
    "**Detaylar**\n",
    "* 500 kişi dış mecrada reklama tıklamış, 40 tanesi sitemize gelip alışveriş yapmış\n",
    "* Örnek üzerinden elde edilen dönüşüm oranı: 40/500 = 0,08\n",
    "\n",
    "H0:p = 0.125\n",
    "\n",
    "H1:p != 0.125"
   ]
  },
  {
   "cell_type": "code",
   "execution_count": 2,
   "id": "c04ede54-9538-4256-9089-bd5a77770b15",
   "metadata": {},
   "outputs": [],
   "source": [
    "from statsmodels.stats.proportion import proportions_ztest"
   ]
  },
  {
   "cell_type": "code",
   "execution_count": 3,
   "id": "456a3fe4-78b7-4665-bc10-1a7217e0850c",
   "metadata": {},
   "outputs": [],
   "source": [
    "count = 40 \n",
    "nobs = 500\n",
    "value= 0.125 "
   ]
  },
  {
   "cell_type": "code",
   "execution_count": 5,
   "id": "7c9c45d1-87f7-4d94-8281-5443f15e14b7",
   "metadata": {},
   "outputs": [
    {
     "data": {
      "text/plain": [
       "(-3.7090151628513017, 0.0002080669689845979)"
      ]
     },
     "execution_count": 5,
     "metadata": {},
     "output_type": "execute_result"
    }
   ],
   "source": [
    "proportions_ztest(count,nobs,value)  #sağ p-value"
   ]
  },
  {
   "cell_type": "code",
   "execution_count": null,
   "id": "84da08c4-06e3-4395-a550-7c5f22a3ea3b",
   "metadata": {},
   "outputs": [],
   "source": []
  }
 ],
 "metadata": {
  "kernelspec": {
   "display_name": "Python 3",
   "language": "python",
   "name": "python3"
  },
  "language_info": {
   "codemirror_mode": {
    "name": "ipython",
    "version": 3
   },
   "file_extension": ".py",
   "mimetype": "text/x-python",
   "name": "python",
   "nbconvert_exporter": "python",
   "pygments_lexer": "ipython3",
   "version": "3.8.8"
  }
 },
 "nbformat": 4,
 "nbformat_minor": 5
}
