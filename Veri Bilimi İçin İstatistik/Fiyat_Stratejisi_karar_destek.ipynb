{
 "cells": [
  {
   "cell_type": "markdown",
   "id": "86a127f0-91ca-4f46-8d0f-bb9db6a6b954",
   "metadata": {},
   "source": [
    "- **Problem:**\n",
    "- Ceo fiyat belirleme konusunda bilimsel dayanak ve esneklik istiyor"
   ]
  },
  {
   "cell_type": "markdown",
   "id": "153f7390-921a-4dd1-b553-05f6c67a7af4",
   "metadata": {},
   "source": [
    "- **Detaylar:**\n",
    "- Satıcı, alıcı ve bir ürün var.\n",
    "- Alıcılara ürüne ne kadar ücret öderdiniz diye sorulur.\n",
    "- Optimum fiyat bilimsel ve esnek olarak bulunmak istiyor.\n"
   ]
  },
  {
   "cell_type": "code",
   "execution_count": 1,
   "id": "02c4bf72-5425-499f-8243-c3ab91c3be70",
   "metadata": {},
   "outputs": [],
   "source": [
    "import numpy as np"
   ]
  },
  {
   "cell_type": "code",
   "execution_count": 2,
   "id": "339c9ded-be32-4401-b02b-4945da38df9c",
   "metadata": {},
   "outputs": [],
   "source": [
    "fiyatlar=np.random.randint(10,110,1000)"
   ]
  },
  {
   "cell_type": "code",
   "execution_count": 3,
   "id": "928b7936-c42c-413b-9072-f35446f3491c",
   "metadata": {},
   "outputs": [
    {
     "data": {
      "text/plain": [
       "59.275"
      ]
     },
     "execution_count": 3,
     "metadata": {},
     "output_type": "execute_result"
    }
   ],
   "source": [
    "fiyatlar.mean()"
   ]
  },
  {
   "cell_type": "code",
   "execution_count": 4,
   "id": "0947b8f4-bd01-4847-983a-b3bc9e5770e2",
   "metadata": {},
   "outputs": [],
   "source": [
    "import statsmodels.stats.api as sms"
   ]
  },
  {
   "cell_type": "code",
   "execution_count": 5,
   "id": "b8de342d-783a-4e99-bf2b-934886e05875",
   "metadata": {},
   "outputs": [
    {
     "data": {
      "text/plain": [
       "(57.47737681925128, 61.072623180748714)"
      ]
     },
     "execution_count": 5,
     "metadata": {},
     "output_type": "execute_result"
    }
   ],
   "source": [
    "sms.DescrStatsW(fiyatlar).tconfint_mean()"
   ]
  },
  {
   "cell_type": "code",
   "execution_count": null,
   "id": "e9e039da-e631-4914-80b6-c4822ca36706",
   "metadata": {},
   "outputs": [],
   "source": []
  }
 ],
 "metadata": {
  "kernelspec": {
   "display_name": "Python 3",
   "language": "python",
   "name": "python3"
  },
  "language_info": {
   "codemirror_mode": {
    "name": "ipython",
    "version": 3
   },
   "file_extension": ".py",
   "mimetype": "text/x-python",
   "name": "python",
   "nbconvert_exporter": "python",
   "pygments_lexer": "ipython3",
   "version": "3.8.8"
  }
 },
 "nbformat": 4,
 "nbformat_minor": 5
}
